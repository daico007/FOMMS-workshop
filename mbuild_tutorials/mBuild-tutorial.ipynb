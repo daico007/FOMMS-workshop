{
 "cells": [
  {
   "cell_type": "markdown",
   "id": "a50434fa",
   "metadata": {},
   "source": [
    "## Basic mBuild tutorial\n",
    "\n",
    "The first of the MoSDeF tools we will explore is the [mBuild package](http://mosdef-hub.github.io/mbuild/), which utilizes a hierarchical, component-based approach to molecule construction, allowing complex systems to be built using a subset of re-usable parts, just like Legos! In this tutorial we will explore some of mBuild's basic functionality by constructing a linear alkane chain. We'll then examine how mBuild's component-based design approach allows components to be easily swapped to facilitate structural screening."
   ]
  },
  {
   "cell_type": "markdown",
   "id": "7f368535",
   "metadata": {},
   "source": [
    "### Hierarchical design approach\n",
    "\n",
    "mBuild uses a [composite design pattern](https://en.wikipedia.org/wiki/Composite_pattern) to approach the creation of complex molecular systems. This yields the following features:\n",
    "* Molecules feature a tree-like hierarchy (as shown in the figure below)\n",
    "* All components in the hierarchy feature a common data structure (an mBuild `Compound`)\n",
    "* The lowest level of the hierarchy (the 'leaves') are referred to as `Particles` and are typically individual atoms\n",
    "* Atomic positions are maintained only at the `Particle` level; higher level components can compute properties based on contained `Particles`\n",
    "\n",
    "Below is an example of an mBuild molecule hierarchy for an alkylsilane monolayer attached to a crystalline silica surface.\n",
    "<img src=\"../graphics/hierarchical_design_image.png\" alt=\"Drawing\" style=\"width: 700px;\"/>"
   ]
  },
  {
   "cell_type": "markdown",
   "id": "613be93f",
   "metadata": {},
   "source": [
    "### Importing mBuild\n",
    "\n",
    "To begin using mBuild we need to import the mBuild package, which is available through both the [Anaconda](https://anaconda.org/mosdef/mbuild) and [pip](https://pypi.python.org/pypi/mbuild/0.7.2) package managers. mBuild can also be downloaded from source, which is hosted on [Github](https://github.com/mosdef-hub/mbuild).\n",
    "\n",
    "Here, we'll import the mBuild package along with a `visualize` routine that will allow us to view our molecules along the way. The `%matplotlib notebook` routine is a Jupyter 'magic' command that allows us to interactively view matplotlib figures within a notebook."
   ]
  },
  {
   "cell_type": "code",
   "execution_count": 1,
   "id": "c010e297",
   "metadata": {},
   "outputs": [
    {
     "name": "stderr",
     "output_type": "stream",
     "text": [
      "Warning: importing 'simtk.openmm' is deprecated.  Import 'openmm' instead.\n",
      "/Users/quachcd/Documents/dev/env/mbuild/mbuild/utils/decorators.py:134: Warning: freud_generate_bonds is an experimental feature and is not subject to follow standard deprecation cycles. Use at your own risk! \n",
      "  warn(\n"
     ]
    }
   ],
   "source": [
    "import mbuild as mb\n",
    "from mbuild.lib.recipes.polymer import Polymer\n"
   ]
  },
  {
   "cell_type": "code",
   "execution_count": 36,
   "id": "89a24579",
   "metadata": {
    "scrolled": true
   },
   "outputs": [
    {
     "data": {
      "application/3dmoljs_load.v0": "<div id=\"3dmolviewer_1655743277178045\"  style=\"position: relative; width: 640px; height: 480px\">\n        <p id=\"3dmolwarning_1655743277178045\" style=\"background-color:#ffcccc;color:black\">You appear to be running in JupyterLab (or JavaScript failed to load for some other reason).  You need to install the 3dmol extension: <br>\n        <tt>jupyter labextension install jupyterlab_3dmol</tt></p>\n        </div>\n<script>\n\nvar loadScriptAsync = function(uri){\n  return new Promise((resolve, reject) => {\n    var tag = document.createElement('script');\n    tag.src = uri;\n    tag.async = true;\n    tag.onload = () => {\n      resolve();\n    };\n  var firstScriptTag = document.getElementsByTagName('script')[0];\n  firstScriptTag.parentNode.insertBefore(tag, firstScriptTag);\n});\n};\n\nif(typeof $3Dmolpromise === 'undefined') {\n$3Dmolpromise = null;\n  $3Dmolpromise = loadScriptAsync('https://3dmol.org/build/3Dmol.js');\n}\n\nvar viewer_1655743277178045 = null;\nvar warn = document.getElementById(\"3dmolwarning_1655743277178045\");\nif(warn) {\n    warn.parentNode.removeChild(warn);\n}\n$3Dmolpromise.then(function() {\nviewer_1655743277178045 = $3Dmol.createViewer($(\"#3dmolviewer_1655743277178045\"),{backgroundColor:\"white\"});\nviewer_1655743277178045.zoomTo();\n\tviewer_1655743277178045.addModel(\"@<TRIPOS>MOLECULE\\nRES\\n3 2 1 0 1\\nSMALL\\nNO_CHARGES\\n@<TRIPOS>CRYSIN\\n    7.0000    15.0000    15.0000    90.0000    90.0000    90.0000  1  1\\n@<TRIPOS>ATOM\\n       1 C            0.0000     0.0000     0.0000 C             1 RES     \\n       2 H            1.0000    -0.0000    -0.0000 H             1 RES     \\n       3 H           -1.0000    -0.0000    -0.0000 H             1 RES     \\n@<TRIPOS>BOND\\n       1        2        1 1\\n       2        3        1 1\\n@<TRIPOS>SUBSTRUCTURE\\n       1 RES             1 RESIDUE    0 **** ROOT      0\\n\",\"mol2\");\n\tviewer_1655743277178045.setStyle({\"stick\": {\"radius\": 0.2, \"color\": \"grey\"}, \"sphere\": {\"scale\": 0.3, \"colorscheme\": {}}});\n\tviewer_1655743277178045.zoomTo();\nviewer_1655743277178045.render();\n});\n</script>",
      "text/html": [
       "<div id=\"3dmolviewer_1655743277178045\"  style=\"position: relative; width: 640px; height: 480px\">\n",
       "        <p id=\"3dmolwarning_1655743277178045\" style=\"background-color:#ffcccc;color:black\">You appear to be running in JupyterLab (or JavaScript failed to load for some other reason).  You need to install the 3dmol extension: <br>\n",
       "        <tt>jupyter labextension install jupyterlab_3dmol</tt></p>\n",
       "        </div>\n",
       "<script>\n",
       "\n",
       "var loadScriptAsync = function(uri){\n",
       "  return new Promise((resolve, reject) => {\n",
       "    var tag = document.createElement('script');\n",
       "    tag.src = uri;\n",
       "    tag.async = true;\n",
       "    tag.onload = () => {\n",
       "      resolve();\n",
       "    };\n",
       "  var firstScriptTag = document.getElementsByTagName('script')[0];\n",
       "  firstScriptTag.parentNode.insertBefore(tag, firstScriptTag);\n",
       "});\n",
       "};\n",
       "\n",
       "if(typeof $3Dmolpromise === 'undefined') {\n",
       "$3Dmolpromise = null;\n",
       "  $3Dmolpromise = loadScriptAsync('https://3dmol.org/build/3Dmol.js');\n",
       "}\n",
       "\n",
       "var viewer_1655743277178045 = null;\n",
       "var warn = document.getElementById(\"3dmolwarning_1655743277178045\");\n",
       "if(warn) {\n",
       "    warn.parentNode.removeChild(warn);\n",
       "}\n",
       "$3Dmolpromise.then(function() {\n",
       "viewer_1655743277178045 = $3Dmol.createViewer($(\"#3dmolviewer_1655743277178045\"),{backgroundColor:\"white\"});\n",
       "viewer_1655743277178045.zoomTo();\n",
       "\tviewer_1655743277178045.addModel(\"@<TRIPOS>MOLECULE\\nRES\\n3 2 1 0 1\\nSMALL\\nNO_CHARGES\\n@<TRIPOS>CRYSIN\\n    7.0000    15.0000    15.0000    90.0000    90.0000    90.0000  1  1\\n@<TRIPOS>ATOM\\n       1 C            0.0000     0.0000     0.0000 C             1 RES     \\n       2 H            1.0000    -0.0000    -0.0000 H             1 RES     \\n       3 H           -1.0000    -0.0000    -0.0000 H             1 RES     \\n@<TRIPOS>BOND\\n       1        2        1 1\\n       2        3        1 1\\n@<TRIPOS>SUBSTRUCTURE\\n       1 RES             1 RESIDUE    0 **** ROOT      0\\n\",\"mol2\");\n",
       "\tviewer_1655743277178045.setStyle({\"stick\": {\"radius\": 0.2, \"color\": \"grey\"}, \"sphere\": {\"scale\": 0.3, \"colorscheme\": {}}});\n",
       "\tviewer_1655743277178045.zoomTo();\n",
       "viewer_1655743277178045.render();\n",
       "});\n",
       "</script>"
      ]
     },
     "metadata": {},
     "output_type": "display_data"
    },
    {
     "data": {
      "text/plain": [
       "<py3Dmol.view at 0x163ae6970>"
      ]
     },
     "execution_count": 36,
     "metadata": {},
     "output_type": "execute_result"
    }
   ],
   "source": [
    "ch2 = mb.Compound()\n",
    "carbon = mb.Compound(name=\"C\", pos=[0.0, 0.0, 0.0])\n",
    "hydrogen1 = mb.Compound(name=\"H\", pos=[1.0, 0.0, 0.0])\n",
    "hydrogen2 = mb.Compound(name=\"H\", pos=[2.0, 0.0, 0.0])\n",
    "\n",
    "ch2.add([carbon, hydrogen1, hydrogen2])\n",
    "\n",
    "port_c1 = mb.Port(anchor=carbon, orientation=[1, 0, 0], separation=0.05)\n",
    "port_c2 = mb.Port(anchor=carbon, orientation=[-1, 0, 0], separation=0.05)\n",
    "\n",
    "ch2.add(port_c1, label=\"right\")\n",
    "ch2.add(port_c2, label=\"left\")\n",
    "\n",
    "port_h1 = mb.Port(anchor=hydrogen1, orientation=[1, 0, 0], separation=0.05)\n",
    "port_h2 = mb.Port(anchor=hydrogen2, orientation=[1, 0, 0], separation=0.05)\n",
    "\n",
    "ch2.add(port_h1, label=\"H1\")\n",
    "ch2.add(port_h2, label=\"H2\")\n",
    "\n",
    "mb.force_overlap(move_this=hydrogen1, \n",
    "                 from_positions=ch2[\"H1\"], \n",
    "                 to_positions=ch2[\"right\"])\n",
    "\n",
    "mb.force_overlap(move_this=hydrogen2, \n",
    "                 from_positions=ch2[\"H2\"], \n",
    "                 to_positions=ch2[\"left\"])\n",
    "\n",
    "ch2.visualize(show_ports=True)"
   ]
  },
  {
   "cell_type": "code",
   "execution_count": 23,
   "id": "fe1b05cc",
   "metadata": {},
   "outputs": [],
   "source": [
    "class CH2(mb.Compound):\n",
    "    def __init__(self):\n",
    "        super().__init__()\n",
    "        carbon = mb.Compound(name=\"C\", pos=[0.0, 0.0, 0.0])\n",
    "        hydrogen1 = mb.Compound(name=\"H\", pos=[1.0, 0.0, 0.0])\n",
    "        hydrogen2 = mb.Compound(name=\"H\", pos=[2.0, 0.0, 0.0])\n",
    "\n",
    "        self.add([carbon, hydrogen1, hydrogen2])\n",
    "\n",
    "        port_c1 = mb.Port(anchor=carbon, orientation=[1, 0, 0], separation=0.05)\n",
    "        port_c2 = mb.Port(anchor=carbon, orientation=[-1, 0, 0], separation=0.05)\n",
    "\n",
    "        self.add(port_c1, label=\"right\")\n",
    "        self.add(port_c2, label=\"left\")\n",
    "\n",
    "        port_h1 = mb.Port(anchor=hydrogen1, orientation=[1, 0, 0], separation=0.05)\n",
    "        port_h2 = mb.Port(anchor=hydrogen2, orientation=[1, 0, 0], separation=0.05)\n",
    "\n",
    "        self.add(port_h1, label=\"H1\")\n",
    "        self.add(port_h2, label=\"H2\")\n",
    "\n",
    "        mb.force_overlap(move_this=hydrogen1, \n",
    "                         from_positions=self[\"H1\"], \n",
    "                         to_positions=self[\"right\"])\n",
    "\n",
    "        mb.force_overlap(move_this=hydrogen2, \n",
    "                         from_positions=self[\"H2\"], \n",
    "                         to_positions=self[\"left\"])\n",
    "        port_c3 = mb.Port(anchor=carbon, orientation=[0, 1, 0], separation=0.07)\n",
    "        port_c4 = mb.Port(anchor=carbon, orientation=[0, -1, 0], separation=0.07)\n",
    "        self.add(port_c3, \"up\")\n",
    "        self.add(port_c4, \"down\")\n",
    "        "
   ]
  },
  {
   "cell_type": "code",
   "execution_count": 35,
   "id": "e7a1a7b9",
   "metadata": {},
   "outputs": [],
   "source": [
    "class CH3(mb.Compound):\n",
    "    def __init__(self):\n",
    "        super().__init__()\n",
    "        mb.load(\"ch3.pdb\", compound=self)\n",
    "        self.translate(-self[0].pos)\n",
    "        port_c = mb.Port(anchor=self[0], orientation=[0, -1, 0], separation=0.07)\n",
    "        self.add(port_c, \"up\")\n",
    "        self[\"up\"].translate([0, -0.07, 0])\n",
    "\n",
    "        "
   ]
  },
  {
   "cell_type": "code",
   "execution_count": null,
   "id": "d6068eae",
   "metadata": {},
   "outputs": [],
   "source": []
  }
 ],
 "metadata": {
  "kernelspec": {
   "display_name": "Python 3 (ipykernel)",
   "language": "python",
   "name": "python3"
  },
  "language_info": {
   "codemirror_mode": {
    "name": "ipython",
    "version": 3
   },
   "file_extension": ".py",
   "mimetype": "text/x-python",
   "name": "python",
   "nbconvert_exporter": "python",
   "pygments_lexer": "ipython3",
   "version": "3.9.9"
  }
 },
 "nbformat": 4,
 "nbformat_minor": 5
}
