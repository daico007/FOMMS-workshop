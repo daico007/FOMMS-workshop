{
 "cells": [
  {
   "cell_type": "markdown",
   "metadata": {},
   "source": [
    "## Basic Foyer tutorial\n",
    "\n",
    "The second of the MoSDeF tools we will explore is the [Foyer package](https://github.com/mosdef-hub/foyer) which provides a means for the automated application and dissemination of forcefields. This tool can be used to take a molecular model featuring particle positions and bonds (such as an mBuild `Compound`) and automatically perform atomtyping (as well as parameterization) as directed by a user-specified forcefield. In this tutorial, we'll demonstrate how Foyer works by using it to perform atomtyping and parameterization of several alkane molecules."
   ]
  },
  {
   "cell_type": "markdown",
   "metadata": {},
   "source": [
    "### Classical Force fields\n",
    "Classical force fields, which describe the interaction between atoms, typically contain numerous fitting parameters, allowing them to be tuned to describe the behavior of atoms in various chemical environments.  For example, consider carbon in various local bonded environments: \n",
    "- As a terminal methyl group in an alkane, i.e., C-CH3\n",
    "- As a terminal fluorinated methyl group, i.e., C-CF3\n",
    "- As a terminal group in an alkene, i.e., C=CH2\n",
    "\n",
    "Even though the element does not change (i.e., we are dealing with carbon in each case), the force field fitting parameters (e.g., Lennard-Jones epsilon and partial charges) will be different in most force fields.  As such, force field databases may contain 10s or 100s of parameters for a given element, where each set of parameters is referred to as an 'atom-type', defining the element in a different chemical context.\n",
    "\n",
    "Properly determining the correct set of parameters for a given element (i.e., identifying which atom-type should be used), can be a difficult and error-prone task, but essential for the final results of a simulation to be correct.   \n",
    "\n",
    "Foyer has been developed as both a scheme to encode these rules for atom-typing along with a software that evaluates these rules. Here we will first focus on the scheme to encode rules and the associated file format. \n",
    "\n",
    "### Foyer XML format\n",
    "\n",
    "Foyer forcefields are defined within an XML file that contains both the 'rules' required for atomtyping as well as the forcefield parameters within a single file. The Foyer XML format is an extension of the [OpenMM forcefield XML format](http://docs.openmm.org/7.0.0/userguide/application.html#creating-force-fields), which you may already be familiar with. The only differences reside in the `AtomTypes` section, where several additional attributes are available (which we will examine in a moment) for each `Type` to allow for atomtyping.\n",
    "\n",
    "Let's take a look at the basic structure of a Foyer XML file."
   ]
  },
  {
   "cell_type": "markdown",
   "metadata": {},
   "source": [
    "#### AtomTypes"
   ]
  },
  {
   "cell_type": "code",
   "execution_count": null,
   "metadata": {},
   "outputs": [],
   "source": [
    "! sed -n 2,18p OPLSaa_alkanes.xml"
   ]
  },
  {
   "cell_type": "markdown",
   "metadata": {},
   "source": [
    "The `AtomTypes` section of the Foyer XML is similar to that used for OpenMM forcefield XMLs; however, each `Type` in Foyer XML supports four additional attributes not found in OpenMM:\n",
    "* `def` - SMARTS string describing the chemical substructure of this atomtype (Follow [this link](https://github.com/mosdef-hub/foyer/blob/master/docs/smarts.md) for more on SMARTS-based atomtyping using Foyer.)\n",
    "* `desc` - Brief description of the atomtype\n",
    "* `doi` - DOI reference for parameters associated with this atomtype\n",
    "* `overrides` - One or more atomtypes to 'override', providing precedence to this atomtype\n",
    "\n",
    "Atomtypes are defined using [SMARTS](http://www.daylight.com/dayhtml/doc/theory/theory.smarts.html), which provide a language for describing chemical structures and substructures."
   ]
  },
  {
   "cell_type": "markdown",
   "metadata": {},
   "source": [
    "#### Forcefield parameters\n",
    "\n",
    "The remaining sections of the Foyer XML are currently the same as defined in the OpenMM format and feature both bonded and nonbonded forcefield parameters."
   ]
  },
  {
   "cell_type": "code",
   "execution_count": null,
   "metadata": {},
   "outputs": [],
   "source": [
    "! sed -n 19,42p oplsaa_alkanes.xml"
   ]
  },
  {
   "cell_type": "markdown",
   "metadata": {},
   "source": [
    "### Defining [SMARTS](https://www.daylight.com/dayhtml/doc/theory/theory.smarts.html)\n",
    "Focusing first on atom type `opls_140`, the SMARTS string, `def=\"H[C;X4]\"`, states that this atom-type applies when:\n",
    "- The element is hydrogen, i.e., `H`\n",
    "- When that hydrogen is connected to a carbon that has 4 neighbors, i.e., `[C;X4]`\n",
    "\n",
    "Similarly, for atom type `opls_138`, the SMARTS string, `def=\"[C;X4](H)(H)(H)H\"`, states that this atom-type applies when:\n",
    "- The element is carbon, with 4 neighbors, i.e., `[C;X4]`\n",
    "- 4 of those neighbors are hydrogens, i.e., `(H)(H)(H)H`\n",
    "\n",
    "For atom type `opls_136`, the SMARTS string, `def=\"[C;X4](H)H\"`, states that this atom-type applies when:\n",
    "- The element is carbon, with 4 neighbors, i.e., `[C;X4]`\n",
    "- At least 2 of those neighbors are hydrogens, i.e., `(H)H`\n",
    "\n",
    "For atom type `opls_135`, the SMARTS string, `def=\"[C;X4](H)(H)H\"`, states that this atom-type applies when:\n",
    "- The element is carbon, with 4 neighbors, i.e., `[C;X4]`\n",
    "- At least 3 of those neighbors are hydrogens, i.e., `(H)(H)H`\n",
    "\n",
    "### Atomtyping using SMARTS\n",
    "Let us now consider using these rules to atom-type the carbon in methane (i.e., CH4).\n",
    "\n",
    "- `opls_138` would obviously evaluate to `True`, as it is defined for a carbon, with 4 hydrogen neighbors. \n",
    "- `opls_135` and `opls_136` would also evaulate to `True`.  In the case of opls_135, our definition only states that at least 3 of the neighbors are hydrogen, and have not made any specific claims about the identity of the 4th neighbor; similarly, for opls_136, we have only stated that 2 neighbors must be hydrogen and not specified the identity of the other 2 neighbors. \n",
    "\n",
    "This is an important feature of Foyer to take note of.  Foyer will evaluate all the rules in a forcefield file, rather than just stopping at the first rule that evaluates to `True`. This allows rules to be defined in any order.  Furthermore, Foyer iterates over the rules, which allows recursive definitions of usage, i.e., referring to specific atom-types in the SMARTS string. \n",
    "\n",
    "### Overrides\n",
    "We will discuss two ways to address this. One approach is to employ `overrides`.  `overrides` provide a means to dictate rule precedence (i.e., which rules are more specific than others).  In the force field file above, `opls_138` has defined: `overrides=\"opls_135,opls_136\"`.  That is, if `opls_138` evaluates to `True`, then it takes precedence over `opls_135` and `opls_136`, even if they evaluate to `True`. \n",
    "\n",
    "Similarly, if opls_136 evaluates to `True`, it `overrides=\"opls_136\"`, thus taking precedence. \n",
    "\n",
    "`overrides` are especially useful if the chemical context of two different atom-types are effectively the same.  E.g., the terminal methyl group in an alkane has the same first neighbor environment as the methyl group in toluene, however the parameters (and thus atom-type) are different. Thus `overrides` can be used to state that if the more specific toluene rule evaluates to `True` it should take precedences over the more general alkane rule (as shown below):\n",
    "\n",
    "<img src=\"../graphics/ch3-toluene.png\" alt=\"Drawing\" style=\"width: 700px;\"/>\n",
    "\n",
    "### Better SMARTS definitions\n",
    "In many cases, `overrides` can be avoided by simply providing more specific SMARTS strings.  For example, the rules for `opls_135`, `opls_136`, and `opls_138` above can be made more specific by stating the identify of the other neighbors besides carbon and thus eliminate the need for `overrides`, as shown below. "
   ]
  },
  {
   "cell_type": "code",
   "execution_count": null,
   "metadata": {},
   "outputs": [],
   "source": [
    "! sed -n 2,18p OPLSaa_alkanes2.xml"
   ]
  },
  {
   "cell_type": "markdown",
   "metadata": {},
   "source": [
    "### Applying a force field to atomtype a system\n",
    "With a force field file defined, we will apply it to an alkane system.  Here, we will use the routines previously discussed in the mBuild tutorial to construct a hexane, then perform atom-typing as part of saving our configuration to a desired file format.\n",
    "\n"
   ]
  },
  {
   "cell_type": "code",
   "execution_count": null,
   "metadata": {},
   "outputs": [],
   "source": [
    "import foyer \n",
    "from foyer import Forcefield\n",
    "\n",
    "import mbuild \n",
    "\n",
    "compound = mb.load(\"CCC\", smiles=True)\n",
    "oplsaa_alkane = foyer.Forcefield(\"oplsaa_alkanes.xml\")\n",
    "typed = oplsaa_alkane.apply(compound)\n",
    "\n",
    "# Or just call the save function"
   ]
  },
  {
   "cell_type": "markdown",
   "metadata": {},
   "source": [
    "## SMARTS for Non-Atomistic Systems\n"
   ]
  },
  {
   "cell_type": "markdown",
   "metadata": {},
   "source": [
    "Thus far, all of our tutorials for mBuild and Foyer have focused on fully atomistic systems, however, MoSDeF is not limited to such systems. \n",
    "\n",
    "First, we will demonstrate how to construct a generic coarse-grained polymer system using mBuild, then demonstrate how to define an associated forcefield file.\n",
    "\n",
    "As done previous in the mBuild tutorials, we will create `Compounds` to describe repeat units in our polymer. Here we will create two `Compounds`, one to describe the central beads (`_A`) and one for the terminal groups (`_B`).\n",
    "\n",
    "Note, to properly handle non-atomistic types, Foyer expects names to be prefaced by an underscore (e.g., `_A`,`_B`, `_CH2`, etc. )."
   ]
  },
  {
   "cell_type": "code",
   "execution_count": null,
   "metadata": {},
   "outputs": [],
   "source": [
    "class CentralBead(mb.Compound):\n",
    "    def __init__(self):\n",
    "        super(CentralBead, self).__init__()\n",
    "        \n",
    "        bead = mb.Particle(pos=[0.0, 0.0, 0.0], name='_A')\n",
    "        self.add(bead)\n",
    "        up_port = mb.Port(anchor=bead, orientation=[0, 0, 1], separation=0.05)\n",
    "        down_port = mb.Port(anchor=bead, orientation=[0, 0, -1], separation=0.05)\n",
    "        self.add(up_port, label='up')\n",
    "        self.add(down_port, label='down')\n",
    "        \n",
    "class TerminalBead(mb.Compound):\n",
    "    def __init__(self):\n",
    "        super(TerminalBead, self).__init__()\n",
    "        \n",
    "        bead = mb.Particle(pos=[0.0, 0.0, 0.0], name='_B')\n",
    "        self.add(bead)\n",
    "\n",
    "        cap_port = mb.Port(anchor=bead, orientation=[0, 0, 1], separation=0.05)\n",
    "        self.add(cap_port, label='cap')\n",
    "\n",
    "class CGPolymer(mb.Compound):\n",
    "    def __init__(self, chain_length):\n",
    "        super(CGPolymer, self).__init__()\n",
    "        \n",
    "        terminal_bead = TerminalBead()\n",
    "        last_unit = CentralBead()\n",
    "        mb.force_overlap(move_this=terminal_bead,\n",
    "                         from_positions=terminal_bead['cap'],\n",
    "                         to_positions=last_unit['up'])\n",
    "        self.add(last_unit, label='_A[$]')\n",
    "        self.add(terminal_bead, label='up-cap')   \n",
    "        for _ in range(chain_length - 3):\n",
    "            current_unit = CentralBead()\n",
    "            mb.force_overlap(move_this=current_unit,\n",
    "                             from_positions=current_unit['up'],\n",
    "                             to_positions=last_unit['down'])\n",
    "            self.add(current_unit, label='_A[$]')\n",
    "            last_unit=current_unit\n",
    "        terminal_bead = TerminalBead()\n",
    "        mb.force_overlap(move_this=terminal_bead,\n",
    "                         from_positions=terminal_bead['cap'],\n",
    "                         to_positions=last_unit['down'])\n",
    "        self.add(terminal_bead, label='down-cap')\n",
    "        if chain_length < 3:\n",
    "            print(\"Note, the shortest chain this function will make is 3\")\n",
    "cg_polymer = CGPolymer(chain_length=6)\n",
    "cg_polymer.visualize()"
   ]
  },
  {
   "cell_type": "markdown",
   "metadata": {},
   "source": [
    "With a simple mBuild code to create CG polymers, let us examine how to define a forcefield file.\n",
    "\n",
    "In this forcefield, we will assume all particles have the same bonds, angles, and Lennard-Jones sigma, regardless of type, however, we will modify Lennard-Jones epsilon based on chemical context. \n",
    "\n",
    "Here we will define the forcefield such that:\n",
    "- when bead `_A` has 2 bonded neighbors of type `_A`, epsilon = 1.0 \n",
    " - atom-type: `cg_A_AA`\n",
    " - SMARTS definition: `[_A;X2](_A)(_A)`\n",
    "- when bead `_A` has 1 bonded neighbor of type `_A` and one of type `_B`, epsilon = 1.25 \n",
    " - atom-type `cg_A_AB`\n",
    " - SMARTS definition: `[_A;X2](_A)(_B)`\n",
    "- when bead `_A` has 2 bonded neighbors of type `_B`  epsilon = 1.5\n",
    " - atom-type `cg_A_BB`\n",
    " - SMARTS definition: `[_A;X2](_B)(_B)`\n",
    "- when bead `_B` has any neighbor, epsilon = 2.0 regardless of who it is bonded \n",
    " - `atom-type cg_B`\n",
    " - SMARTS definition: `[_B;X1]`\n",
    "\n",
    "The xml forcefield file is shown below:"
   ]
  },
  {
   "cell_type": "code",
   "execution_count": null,
   "metadata": {},
   "outputs": [],
   "source": [
    "cat utils/CG_polymer.xml\n"
   ]
  },
  {
   "cell_type": "markdown",
   "metadata": {},
   "source": [
    "### Foyer + mBuild\n",
    "\n",
    "As we saw in the mBuild tutorial, Foyer has been designed to integrate seamlessly with mBuild, although it can also be used as a standalone package. To call Foyer from mBuild all a user needs to do is specify the forcefield XML file to use by passing either the `forcefield_name` or `forcefield_files` flag to `Compound.save()`. Internally this will perform parameterization of the mBuild `Compound` using Foyer.\n",
    "\n",
    "Additionally, the `references_file` flag can be used to output a file (in BibTeX format) containing the references for the parameters used for parameterization of this `Compound`.\n",
    "\n",
    "Here, we explore this functionality by loading a simple methane molecule into an mBuild `Compound` and save using the forcefield we've just defined."
   ]
  },
  {
   "cell_type": "code",
   "execution_count": null,
   "metadata": {},
   "outputs": [],
   "source": [
    "import mbuild as mb\n",
    "\n",
    "ch4 = mb.load(\"C\", smiles=True)\n",
    "ch4.save(\"CH4.top\", forcefield_files='oplsaa_alkanes.xml', foyer_kwargs={\"references_file\":\"ch4.bib\"}, overwrite=True)\n"
   ]
  },
  {
   "cell_type": "code",
   "execution_count": null,
   "metadata": {},
   "outputs": [],
   "source": [
    "help(mb.Compound.save)"
   ]
  },
  {
   "cell_type": "code",
   "execution_count": null,
   "metadata": {},
   "outputs": [],
   "source": [
    "! cat ch4.bib"
   ]
  },
  {
   "cell_type": "markdown",
   "metadata": {},
   "source": [
    "## Quick-start\n",
    "\n",
    "If you are interested in defining your existing forcefield(s) in the Foyer XML format, we currently have a forcefield template hosted on Github to help you get started - https://github.com/mosdef-hub/forcefield_template, that includes some basic scripts for validation and error checking. We also refer interested users to the [OpenMM documentation](http://docs.openmm.org/7.0.0/userguide/application.html#creating-force-fields) for detailed instructions on forcefield creation."
   ]
  },
  {
   "cell_type": "code",
   "execution_count": null,
   "metadata": {},
   "outputs": [],
   "source": []
  }
 ],
 "metadata": {
  "kernelspec": {
   "display_name": "Python 3 (ipykernel)",
   "language": "python",
   "name": "python3"
  },
  "language_info": {
   "codemirror_mode": {
    "name": "ipython",
    "version": 3
   },
   "file_extension": ".py",
   "mimetype": "text/x-python",
   "name": "python",
   "nbconvert_exporter": "python",
   "pygments_lexer": "ipython3",
   "version": "3.9.9"
  }
 },
 "nbformat": 4,
 "nbformat_minor": 2
}
