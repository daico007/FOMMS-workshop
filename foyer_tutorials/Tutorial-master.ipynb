{
 "cells": [
  {
   "cell_type": "markdown",
   "metadata": {},
   "source": [
    "# MoSDeF: A Molecular Simulation and Design Framework\n",
    "\n",
    "The Molecular Simulation and Design Framework (MoSDeF) is a collection of open-source tools ([hosted on Github](https://github.com/mosdef-hub)) aimed at facilitating the construction and simulation of complex molecular systems - with a particular focus on the automated screening of large structural parameter spaces. All tools are written as Python packages and feature a Python-based API."
   ]
  },
  {
   "cell_type": "markdown",
   "metadata": {},
   "source": [
    "## Basic Foyer tutorial\n",
    "\n",
    "The second of the MoSDeF tools we will explore is the [Foyer package](https://github.com/mosdef-hub/foyer) which provides a means for the automated application and dissemination of forcefields. This tool can be used to take a molecular model featuring particle positions and bonds (such as an mBuild `Compound`) and automatically perform atomtyping (as well as parameterization) as directed by a user-specified forcefield. In this tutorial, we'll demonstrate how Foyer works by using it to perform atomtyping and parameterization of several alkane molecules."
   ]
  },
  {
   "cell_type": "markdown",
   "metadata": {},
   "source": [
    "### Classical Force fields\n",
    "Classical force fields, which describe the interaction between atoms, typically contain numerous fitting parameters, allowing them to be tuned to describe the behavior of atoms in various chemical environments.  For example, consider carbon in various local bonded environments: \n",
    "- As a terminal methyl group in an alkane, i.e., C-CH3\n",
    "- As a terminal fluorinated methyl group, i.e., C-CF3\n",
    "- As a terminal group in an alkene, i.e., C=CH2\n",
    "\n",
    "Even though the element does not change (i.e., we are dealing with carbon in each case), the force field fitting parameters (e.g., Lennard-Jones epsilon and partial charges) will be different in most force fields.  As such, force field databases may contain 10s or 100s of parameters for a given element, where each set of parameters is referred to as an 'atom-type', defining the element in a different chemical context.\n",
    "\n",
    "Properly determining the correct set of parameters for a given element (i.e., identifying which atom-type should be used), can be a difficult and error-prone task, but essential for the final results of a simulation to be correct.   \n",
    "\n",
    "Foyer has been developed as both a scheme to encode these rules for atom-typing along with a software that evaluates these rules. Here we will first focus on the scheme to encode rules and the associated file format. \n",
    "\n",
    "### Foyer XML format\n",
    "\n",
    "Foyer forcefields are defined within an XML file that contains both the 'rules' required for atomtyping as well as the forcefield parameters within a single file. The Foyer XML format is an extension of the [OpenMM forcefield XML format](http://docs.openmm.org/7.0.0/userguide/application.html#creating-force-fields), which you may already be familiar with. The only differences reside in the `AtomTypes` section, where several additional attributes are available (which we will examine in a moment) for each `Type` to allow for atomtyping.\n",
    "\n",
    "Let's take a look at the basic structure of a Foyer XML file."
   ]
  },
  {
   "cell_type": "markdown",
   "metadata": {},
   "source": [
    "#### AtomTypes"
   ]
  },
  {
   "cell_type": "code",
   "execution_count": 3,
   "metadata": {},
   "outputs": [
    {
     "name": "stdout",
     "output_type": "stream",
     "text": [
      "    <AtomTypes>\r\n",
      "        <Type name=\"opls_135\" def=\"[C;X4](H)(H)H\"\r\n",
      "              class=\"CT\" element=\"C\" mass=\"12.01100\" desc=\"alkane CH3\"\r\n",
      "              doi=\"10.1021/ja9621760\" overrides=\"opls_136\"/>\r\n",
      "\r\n",
      "        <Type name=\"opls_136\" def=\"[C;X4](H)H\"\r\n",
      "              class=\"CT\" element=\"C\" mass=\"12.01100\" desc=\"alkane CH2\"\r\n",
      "              doi=\"10.1021/ja9621760\"/>\r\n",
      "\r\n",
      "        <Type name=\"opls_138\" def=\"[C;X4](H)(H)(H)H\"\r\n",
      "              class=\"CT\" element=\"C\" mass=\"12.01100\" desc=\"alkane CH4\"\r\n",
      "              doi=\"10.1021/ja9621760\" overrides=\"opls_135,opls_136\"/>\r\n",
      "\r\n",
      "        <Type name=\"opls_140\" def=\"H[C;X4]\"\r\n",
      "              class=\"HC\" element=\"H\" mass=\"1.00800\" desc=\"alkane H\"\r\n",
      "              doi=\"10.1021/ja9621760\"/>\r\n",
      "    </AtomTypes>\r\n"
     ]
    }
   ],
   "source": [
    "! sed -n 2,18p OPLSaa_alkanes.xml"
   ]
  },
  {
   "cell_type": "markdown",
   "metadata": {},
   "source": [
    "The `AtomTypes` section of the Foyer XML is similar to that used for OpenMM forcefield XMLs; however, each `Type` in Foyer XML supports four additional attributes not found in OpenMM:\n",
    "* `def` - SMARTS string describing the chemical substructure of this atomtype (Follow [this link](https://github.com/mosdef-hub/foyer/blob/master/docs/smarts.md) for more on SMARTS-based atomtyping using Foyer.)\n",
    "* `desc` - Brief description of the atomtype\n",
    "* `doi` - DOI reference for parameters associated with this atomtype\n",
    "* `overrides` - One or more atomtypes to 'override', providing precedence to this atomtype\n",
    "\n",
    "Atomtypes are defined using [SMARTS](http://www.daylight.com/dayhtml/doc/theory/theory.smarts.html), which provide a language for describing chemical structures and substructures."
   ]
  },
  {
   "cell_type": "markdown",
   "metadata": {},
   "source": [
    "#### Forcefield parameters\n",
    "\n",
    "The remaining sections of the Foyer XML are currently the same as defined in the OpenMM format and feature both bonded and nonbonded forcefield parameters."
   ]
  },
  {
   "cell_type": "code",
   "execution_count": 19,
   "metadata": {},
   "outputs": [
    {
     "name": "stdout",
     "output_type": "stream",
     "text": [
      "    <HarmonicBondForce>\r\n",
      "        <Bond class1=\"CT\" class2=\"CT\" length=\"0.1529\" k=\"224262.4\"/>\r\n",
      "        <Bond class1=\"CT\" class2=\"HC\" length=\"0.1090\" k=\"284512.0\"/>\r\n",
      "    </HarmonicBondForce>\r\n",
      "    <HarmonicAngleForce>\r\n",
      "        <Angle class1=\"CT\" class2=\"CT\" class3=\"CT\" angle=\"1.966986067\" k=\"488.273\"/>\r\n",
      "        <Angle class1=\"CT\" class2=\"CT\" class3=\"HC\" angle=\"1.932079482\" k=\"313.800\"/>\r\n",
      "        <Angle class1=\"HC\" class2=\"CT\" class3=\"HC\" angle=\"1.881464934\" k=\"276.144\"/>\r\n",
      "    </HarmonicAngleForce>\r\n",
      "    <RBTorsionForce>\r\n",
      "        <Proper class1=\"CT\" class2=\"CT\" class3=\"CT\" class4=\"CT\" c0=\"2.9288\"\r\n",
      "                c1=\"-1.4644\" c2=\"0.2092\" c3=\"-1.6736\" c4=\"0.0\" c5=\"0.0\"/>\r\n",
      "        <Proper class1=\"CT\" class2=\"CT\" class3=\"CT\" class4=\"HC\" c0=\"0.6276\"\r\n",
      "                c1=\"1.8828\" c2=\"0.0\" c3=\"-2.5104\" c4=\"0.0\" c5=\"0.0\"/>\r\n",
      "        <Proper class1=\"HC\" class2=\"CT\" class3=\"CT\" class4=\"HC\" c0=\"0.6276\"\r\n",
      "                c1=\"1.8828\" c2=\"0.0\" c3=\"-2.5104\" c4=\"0.0\" c5=\"0.0\"/>\r\n",
      "    </RBTorsionForce>\r\n",
      "    <NonbondedForce coulomb14scale=\"0.5\" lj14scale=\"0.5\">\r\n",
      "        <Atom type=\"opls_135\" charge=\"-0.18\" sigma=\"0.35\" epsilon=\"0.276144\"/>\r\n",
      "        <Atom type=\"opls_136\" charge=\"-0.12\" sigma=\"0.35\" epsilon=\"0.276144\"/>\r\n",
      "        <Atom type=\"opls_138\" charge=\"-0.24\" sigma=\"0.35\" epsilon=\"0.276144\"/>\r\n",
      "        <Atom type=\"opls_140\" charge=\"0.06\" sigma=\"0.25\" epsilon=\"0.12552\"/>\r\n",
      "    </NonbondedForce>\r\n",
      "</ForceField>\r\n"
     ]
    }
   ],
   "source": [
    "! sed -n 19,42p oplsaa_alkanes.xml"
   ]
  },
  {
   "cell_type": "markdown",
   "metadata": {},
   "source": [
    "### Defining [SMARTS](https://www.daylight.com/dayhtml/doc/theory/theory.smarts.html)\n",
    "Focusing first on atom type `opls_140`, the SMARTS string, `def=\"H[C;X4]\"`, states that this atom-type applies when:\n",
    "- The element is hydrogen, i.e., `H`\n",
    "- When that hydrogen is connected to a carbon that has 4 neighbors, i.e., `[C;X4]`\n",
    "\n",
    "Similarly, for atom type `opls_138`, the SMARTS string, `def=\"[C;X4](H)(H)(H)H\"`, states that this atom-type applies when:\n",
    "- The element is carbon, with 4 neighbors, i.e., `[C;X4]`\n",
    "- 4 of those neighbors are hydrogens, i.e., `(H)(H)(H)H`\n",
    "\n",
    "For atom type `opls_136`, the SMARTS string, `def=\"[C;X4](H)H\"`, states that this atom-type applies when:\n",
    "- The element is carbon, with 4 neighbors, i.e., `[C;X4]`\n",
    "- At least 2 of those neighbors are hydrogens, i.e., `(H)H`\n",
    "\n",
    "For atom type `opls_135`, the SMARTS string, `def=\"[C;X4](H)(H)H\"`, states that this atom-type applies when:\n",
    "- The element is carbon, with 4 neighbors, i.e., `[C;X4]`\n",
    "- At least 3 of those neighbors are hydrogens, i.e., `(H)(H)H`\n",
    "\n",
    "### Atomtyping using SMARTS\n",
    "Let us now consider using these rules to atom-type the carbon in methane (i.e., CH4).\n",
    "\n",
    "- `opls_138` would obviously evaluate to `True`, as it is defined for a carbon, with 4 hydrogen neighbors. \n",
    "- `opls_135` and `opls_136` would also evaulate to `True`.  In the case of opls_135, our definition only states that at least 3 of the neighbors are hydrogen, and have not made any specific claims about the identity of the 4th neighbor; similarly, for opls_136, we have only stated that 2 neighbors must be hydrogen and not specified the identity of the other 2 neighbors. \n",
    "\n",
    "This is an important feature of Foyer to take note of.  Foyer will evaluate all the rules in a forcefield file, rather than just stopping at the first rule that evaluates to `True`. This allows rules to be defined in any order.  Furthermore, Foyer iterates over the rules, which allows recursive definitions of usage, i.e., referring to specific atom-types in the SMARTS string. \n",
    "\n",
    "### Overrides\n",
    "We will discuss two ways to address this. One approach is to employ `overrides`.  `overrides` provide a means to dictate rule precedence (i.e., which rules are more specific than others).  In the force field file above, `opls_138` has defined: `overrides=\"opls_135,opls_136\"`.  That is, if `opls_138` evaluates to `True`, then it takes precedence over `opls_135` and `opls_136`, even if they evaluate to `True`. \n",
    "\n",
    "Similarly, if opls_136 evaluates to `True`, it `overrides=\"opls_136\"`, thus taking precedence. \n",
    "\n",
    "`overrides` are especially useful if the chemical context of two different atom-types are effectively the same.  E.g., the terminal methyl group in an alkane has the same first neighbor environment as the methyl group in toluene, however the parameters (and thus atom-type) are different. Thus `overrides` can be used to state that if the more specific toluene rule evaluates to `True` it should take precedences over the more general alkane rule (as shown below):\n",
    "\n",
    "<img src=\"../graphics/ch3-toluene.png\" alt=\"Drawing\" style=\"width: 700px;\"/>\n",
    "\n",
    "### Better SMARTS definitions\n",
    "In many cases, `overrides` can be avoided by simply providing more specific SMARTS strings.  For example, the rules for `opls_135`, `opls_136`, and `opls_138` above can be made more specific by stating the identify of the other neighbors besides carbon and thus eliminate the need for `overrides`, as shown below. "
   ]
  },
  {
   "cell_type": "code",
   "execution_count": 5,
   "metadata": {},
   "outputs": [
    {
     "name": "stdout",
     "output_type": "stream",
     "text": [
      "    <AtomTypes>\r\n",
      "        <Type name=\"opls_135\" def=\"[C;X4](H)(H)(H)C\"\r\n",
      "              class=\"CT\" element=\"C\" mass=\"12.01100\" desc=\"alkane CH3\"\r\n",
      "              doi=\"10.1021/ja9621760\"/>\r\n",
      "\r\n",
      "        <Type name=\"opls_136\" def=\"[C;X4](H)(H)(C)C\"\r\n",
      "              class=\"CT\" element=\"C\" mass=\"12.01100\" desc=\"alkane CH2\"\r\n",
      "              doi=\"10.1021/ja9621760\"/>\r\n",
      "\r\n",
      "        <Type name=\"opls_138\" def=\"[C;X4](H)(H)(H)H\"\r\n",
      "              class=\"CT\" element=\"C\" mass=\"12.01100\" desc=\"alkane CH4\"\r\n",
      "              doi=\"10.1021/ja9621760\"/>\r\n",
      "\r\n",
      "        <Type name=\"opls_140\" def=\"H[C;X4]\"\r\n",
      "              class=\"HC\" element=\"H\" mass=\"1.00800\" desc=\"alkane H\"\r\n",
      "              doi=\"10.1021/ja9621760\"/>\r\n",
      "    </AtomTypes>\r\n"
     ]
    }
   ],
   "source": [
    "! sed -n 2,18p OPLSaa_alkanes2.xml"
   ]
  },
  {
   "cell_type": "markdown",
   "metadata": {},
   "source": [
    "### Applying a force field to atomtype a system\n",
    "With a force field file defined, we will apply it to an alkane system.  Here, we will use the routines previously discussed in the mBuild tutorial to construct a hexane, then perform atom-typing as part of saving our configuration to a desired file format.\n",
    "\n"
   ]
  },
  {
   "cell_type": "code",
   "execution_count": 36,
   "metadata": {},
   "outputs": [],
   "source": [
    "import foyer \n",
    "from foyer import Forcefield\n",
    "\n",
    "import mbuild \n",
    "\n",
    "compound = mb.load(\"CCC\", smiles=True)\n",
    "oplsaa_alkane = foyer.Forcefield(\"oplsaa_alkanes.xml\")\n",
    "typed = oplsaa_alkane.apply(compound)\n",
    "\n",
    "# Or just call the save function"
   ]
  },
  {
   "cell_type": "markdown",
   "metadata": {},
   "source": [
    "## SMARTS for Non-Atomistic Systems\n"
   ]
  },
  {
   "cell_type": "markdown",
   "metadata": {},
   "source": [
    "Thus far, all of our tutorials for mBuild and Foyer have focused on fully atomistic systems, however, MoSDeF is not limited to such systems. \n",
    "\n",
    "First, we will demonstrate how to construct a generic coarse-grained polymer system using mBuild, then demonstrate how to define an associated forcefield file.\n",
    "\n",
    "As done previous in the mBuild tutorials, we will create `Compounds` to describe repeat units in our polymer. Here we will create two `Compounds`, one to describe the central beads (`_A`) and one for the terminal groups (`_B`).\n",
    "\n",
    "Note, to properly handle non-atomistic types, Foyer expects names to be prefaced by an underscore (e.g., `_A`,`_B`, `_CH2`, etc. )."
   ]
  },
  {
   "cell_type": "code",
   "execution_count": 32,
   "metadata": {},
   "outputs": [
    {
     "name": "stderr",
     "output_type": "stream",
     "text": [
      "/Users/quachcd/Documents/dev/env/mbuild/mbuild/conversion.py:1752: UserWarning: No element attribute associated with '<_A pos=([0. 0. 0.]), 2 bonds, id: 6130221120>'; and no matching elements found based upon the compound name. Setting atomic number to zero.\n",
      "  warn(warn_msg)\n",
      "/Users/quachcd/Documents/dev/env/mbuild/mbuild/conversion.py:1752: UserWarning: No element attribute associated with '<_B pos=([-8.9071e-18 -6.2221e-19  1.0000e-01]), 1 bonds, id: 6130224288>'; and no matching elements found based upon the compound name. Setting atomic number to zero.\n",
      "  warn(warn_msg)\n"
     ]
    },
    {
     "data": {
      "application/3dmoljs_load.v0": "<div id=\"3dmolviewer_1656005811407947\"  style=\"position: relative; width: 640px; height: 480px\">\n        <p id=\"3dmolwarning_1656005811407947\" style=\"background-color:#ffcccc;color:black\">You appear to be running in JupyterLab (or JavaScript failed to load for some other reason).  You need to install the 3dmol extension: <br>\n        <tt>jupyter labextension install jupyterlab_3dmol</tt></p>\n        </div>\n<script>\n\nvar loadScriptAsync = function(uri){\n  return new Promise((resolve, reject) => {\n    var tag = document.createElement('script');\n    tag.src = uri;\n    tag.async = true;\n    tag.onload = () => {\n      resolve();\n    };\n  var firstScriptTag = document.getElementsByTagName('script')[0];\n  firstScriptTag.parentNode.insertBefore(tag, firstScriptTag);\n});\n};\n\nif(typeof $3Dmolpromise === 'undefined') {\n$3Dmolpromise = null;\n  $3Dmolpromise = loadScriptAsync('https://3dmol.org/build/3Dmol.js');\n}\n\nvar viewer_1656005811407947 = null;\nvar warn = document.getElementById(\"3dmolwarning_1656005811407947\");\nif(warn) {\n    warn.parentNode.removeChild(warn);\n}\n$3Dmolpromise.then(function() {\nviewer_1656005811407947 = $3Dmol.createViewer($(\"#3dmolviewer_1656005811407947\"),{backgroundColor:\"white\"});\nviewer_1656005811407947.zoomTo();\n\tviewer_1656005811407947.addModel(\"@<TRIPOS>MOLECULE\\nRES\\n6 5 1 0 1\\nSMALL\\nNO_CHARGES\\n@<TRIPOS>CRYSIN\\n   15.0000    15.0000    10.0000    90.0000    90.0000    90.0000  1  1\\n@<TRIPOS>ATOM\\n       1 _A           0.0000     0.0000     0.0000 _A            1 RES     \\n       2 _B          -0.0000    -0.0000     1.0000 _B            1 RES     \\n       3 _A          -0.0000     0.0000    -1.0000 _A            1 RES     \\n       4 _A          -0.0000     0.0000    -2.0000 _A            1 RES     \\n       5 _A          -0.0000     0.0000    -3.0000 _A            1 RES     \\n       6 _B          -0.0000     0.0000    -4.0000 _B            1 RES     \\n@<TRIPOS>BOND\\n       1        2        1 1\\n       2        3        1 1\\n       3        4        3 1\\n       4        5        4 1\\n       5        6        5 1\\n@<TRIPOS>SUBSTRUCTURE\\n       1 RES             1 RESIDUE    0 **** ROOT      0\\n\",\"mol2\");\n\tviewer_1656005811407947.setStyle({\"stick\": {\"radius\": 0.2, \"color\": \"grey\"}, \"sphere\": {\"scale\": 0.3, \"colorscheme\": {}}});\n\tviewer_1656005811407947.zoomTo();\nviewer_1656005811407947.render();\n});\n</script>",
      "text/html": [
       "<div id=\"3dmolviewer_1656005811407947\"  style=\"position: relative; width: 640px; height: 480px\">\n",
       "        <p id=\"3dmolwarning_1656005811407947\" style=\"background-color:#ffcccc;color:black\">You appear to be running in JupyterLab (or JavaScript failed to load for some other reason).  You need to install the 3dmol extension: <br>\n",
       "        <tt>jupyter labextension install jupyterlab_3dmol</tt></p>\n",
       "        </div>\n",
       "<script>\n",
       "\n",
       "var loadScriptAsync = function(uri){\n",
       "  return new Promise((resolve, reject) => {\n",
       "    var tag = document.createElement('script');\n",
       "    tag.src = uri;\n",
       "    tag.async = true;\n",
       "    tag.onload = () => {\n",
       "      resolve();\n",
       "    };\n",
       "  var firstScriptTag = document.getElementsByTagName('script')[0];\n",
       "  firstScriptTag.parentNode.insertBefore(tag, firstScriptTag);\n",
       "});\n",
       "};\n",
       "\n",
       "if(typeof $3Dmolpromise === 'undefined') {\n",
       "$3Dmolpromise = null;\n",
       "  $3Dmolpromise = loadScriptAsync('https://3dmol.org/build/3Dmol.js');\n",
       "}\n",
       "\n",
       "var viewer_1656005811407947 = null;\n",
       "var warn = document.getElementById(\"3dmolwarning_1656005811407947\");\n",
       "if(warn) {\n",
       "    warn.parentNode.removeChild(warn);\n",
       "}\n",
       "$3Dmolpromise.then(function() {\n",
       "viewer_1656005811407947 = $3Dmol.createViewer($(\"#3dmolviewer_1656005811407947\"),{backgroundColor:\"white\"});\n",
       "viewer_1656005811407947.zoomTo();\n",
       "\tviewer_1656005811407947.addModel(\"@<TRIPOS>MOLECULE\\nRES\\n6 5 1 0 1\\nSMALL\\nNO_CHARGES\\n@<TRIPOS>CRYSIN\\n   15.0000    15.0000    10.0000    90.0000    90.0000    90.0000  1  1\\n@<TRIPOS>ATOM\\n       1 _A           0.0000     0.0000     0.0000 _A            1 RES     \\n       2 _B          -0.0000    -0.0000     1.0000 _B            1 RES     \\n       3 _A          -0.0000     0.0000    -1.0000 _A            1 RES     \\n       4 _A          -0.0000     0.0000    -2.0000 _A            1 RES     \\n       5 _A          -0.0000     0.0000    -3.0000 _A            1 RES     \\n       6 _B          -0.0000     0.0000    -4.0000 _B            1 RES     \\n@<TRIPOS>BOND\\n       1        2        1 1\\n       2        3        1 1\\n       3        4        3 1\\n       4        5        4 1\\n       5        6        5 1\\n@<TRIPOS>SUBSTRUCTURE\\n       1 RES             1 RESIDUE    0 **** ROOT      0\\n\",\"mol2\");\n",
       "\tviewer_1656005811407947.setStyle({\"stick\": {\"radius\": 0.2, \"color\": \"grey\"}, \"sphere\": {\"scale\": 0.3, \"colorscheme\": {}}});\n",
       "\tviewer_1656005811407947.zoomTo();\n",
       "viewer_1656005811407947.render();\n",
       "});\n",
       "</script>"
      ]
     },
     "metadata": {},
     "output_type": "display_data"
    },
    {
     "data": {
      "text/plain": [
       "<py3Dmol.view at 0x16d6f4640>"
      ]
     },
     "execution_count": 32,
     "metadata": {},
     "output_type": "execute_result"
    }
   ],
   "source": [
    "class CentralBead(mb.Compound):\n",
    "    def __init__(self):\n",
    "        super(CentralBead, self).__init__()\n",
    "        \n",
    "        bead = mb.Particle(pos=[0.0, 0.0, 0.0], name='_A')\n",
    "        self.add(bead)\n",
    "        up_port = mb.Port(anchor=bead, orientation=[0, 0, 1], separation=0.05)\n",
    "        down_port = mb.Port(anchor=bead, orientation=[0, 0, -1], separation=0.05)\n",
    "        self.add(up_port, label='up')\n",
    "        self.add(down_port, label='down')\n",
    "        \n",
    "class TerminalBead(mb.Compound):\n",
    "    def __init__(self):\n",
    "        super(TerminalBead, self).__init__()\n",
    "        \n",
    "        bead = mb.Particle(pos=[0.0, 0.0, 0.0], name='_B')\n",
    "        self.add(bead)\n",
    "\n",
    "        cap_port = mb.Port(anchor=bead, orientation=[0, 0, 1], separation=0.05)\n",
    "        self.add(cap_port, label='cap')\n",
    "\n",
    "class CGPolymer(mb.Compound):\n",
    "    def __init__(self, chain_length):\n",
    "        super(CGPolymer, self).__init__()\n",
    "        \n",
    "        terminal_bead = TerminalBead()\n",
    "        last_unit = CentralBead()\n",
    "        mb.force_overlap(move_this=terminal_bead,\n",
    "                         from_positions=terminal_bead['cap'],\n",
    "                         to_positions=last_unit['up'])\n",
    "        self.add(last_unit, label='_A[$]')\n",
    "        self.add(terminal_bead, label='up-cap')   \n",
    "        for _ in range(chain_length - 3):\n",
    "            current_unit = CentralBead()\n",
    "            mb.force_overlap(move_this=current_unit,\n",
    "                             from_positions=current_unit['up'],\n",
    "                             to_positions=last_unit['down'])\n",
    "            self.add(current_unit, label='_A[$]')\n",
    "            last_unit=current_unit\n",
    "        terminal_bead = TerminalBead()\n",
    "        mb.force_overlap(move_this=terminal_bead,\n",
    "                         from_positions=terminal_bead['cap'],\n",
    "                         to_positions=last_unit['down'])\n",
    "        self.add(terminal_bead, label='down-cap')\n",
    "        if chain_length < 3:\n",
    "            print(\"Note, the shortest chain this function will make is 3\")\n",
    "cg_polymer = CGPolymer(chain_length=6)\n",
    "cg_polymer.visualize()"
   ]
  },
  {
   "cell_type": "markdown",
   "metadata": {},
   "source": [
    "With a simple mBuild code to create CG polymers, let us examine how to define a forcefield file.\n",
    "\n",
    "In this forcefield, we will assume all particles have the same bonds, angles, and Lennard-Jones sigma, regardless of type, however, we will modify Lennard-Jones epsilon based on chemical context. \n",
    "\n",
    "Here we will define the forcefield such that:\n",
    "- when bead `_A` has 2 bonded neighbors of type `_A`, epsilon = 1.0 \n",
    " - atom-type: `cg_A_AA`\n",
    " - SMARTS definition: `[_A;X2](_A)(_A)`\n",
    "- when bead `_A` has 1 bonded neighbor of type `_A` and one of type `_B`, epsilon = 1.25 \n",
    " - atom-type `cg_A_AB`\n",
    " - SMARTS definition: `[_A;X2](_A)(_B)`\n",
    "- when bead `_A` has 2 bonded neighbors of type `_B`  epsilon = 1.5\n",
    " - atom-type `cg_A_BB`\n",
    " - SMARTS definition: `[_A;X2](_B)(_B)`\n",
    "- when bead `_B` has any neighbor, epsilon = 2.0 regardless of who it is bonded \n",
    " - `atom-type cg_B`\n",
    " - SMARTS definition: `[_B;X1]`\n",
    "\n",
    "The xml forcefield file is shown below:"
   ]
  },
  {
   "cell_type": "code",
   "execution_count": 35,
   "metadata": {},
   "outputs": [
    {
     "name": "stdout",
     "output_type": "stream",
     "text": [
      "cat: utils/CG_polymer.xml: No such file or directory\r\n"
     ]
    }
   ],
   "source": [
    "cat utils/CG_polymer.xml\n"
   ]
  },
  {
   "cell_type": "markdown",
   "metadata": {},
   "source": [
    "### Foyer + mBuild\n",
    "\n",
    "As we saw in the mBuild tutorial, Foyer has been designed to integrate seamlessly with mBuild, although it can also be used as a standalone package. To call Foyer from mBuild all a user needs to do is specify the forcefield XML file to use by passing either the `forcefield_name` or `forcefield_files` flag to `Compound.save()`. Internally this will perform parameterization of the mBuild `Compound` using Foyer.\n",
    "\n",
    "Additionally, the `references_file` flag can be used to output a file (in BibTeX format) containing the references for the parameters used for parameterization of this `Compound`.\n",
    "\n",
    "Here, we explore this functionality by loading a simple methane molecule into an mBuild `Compound` and save using the forcefield we've just defined."
   ]
  },
  {
   "cell_type": "code",
   "execution_count": 25,
   "metadata": {},
   "outputs": [
    {
     "name": "stderr",
     "output_type": "stream",
     "text": [
      "/Users/quachcd/mambaforge/envs/general/lib/python3.9/site-packages/foyer/forcefield.py:629: UserWarning: No force field version number found in force field XML file.\n",
      "  warnings.warn(\n",
      "/Users/quachcd/mambaforge/envs/general/lib/python3.9/site-packages/foyer/forcefield.py:641: UserWarning: No force field name found in force field XML file.\n",
      "  warnings.warn(\n",
      "/Users/quachcd/mambaforge/envs/general/lib/python3.9/site-packages/foyer/forcefield.py:653: UserWarning: No combining rule found in force field XML file.\n",
      "  warnings.warn(\n",
      "/Users/quachcd/mambaforge/envs/general/lib/python3.9/site-packages/foyer/forcefield.py:349: UserWarning: Parameters have not been assigned to all impropers. Total system impropers: 4, Parameterized impropers: 0. Note that if your system contains torsions of Ryckaert-Bellemans functional form, all of these torsions are processed as propers\n",
      "  warnings.warn(msg)\n"
     ]
    }
   ],
   "source": [
    "import mbuild as mb\n",
    "\n",
    "ch4 = mb.load(\"C\", smiles=True)\n",
    "ch4.save(\"CH4.top\", forcefield_files='oplsaa_alkanes.xml', foyer_kwargs={\"references_file\":\"ch4.bib\"}, overwrite=True)\n"
   ]
  },
  {
   "cell_type": "code",
   "execution_count": 26,
   "metadata": {},
   "outputs": [
    {
     "name": "stdout",
     "output_type": "stream",
     "text": [
      "Help on function save in module mbuild.compound:\n",
      "\n",
      "save(self, filename, show_ports=False, forcefield_name=None, forcefield_files=None, forcefield_debug=False, box=None, overwrite=False, residues=None, combining_rule='lorentz', foyer_kwargs=None, **kwargs)\n",
      "    Save the Compound to a file.\n",
      "    \n",
      "    Parameters\n",
      "    ----------\n",
      "    filename : str\n",
      "        Filesystem path in which to save the trajectory. The extension or\n",
      "        prefix will be parsed and control the format. Supported extensions:\n",
      "        'hoomdxml', 'gsd', 'gro', 'top', 'lammps', 'lmp', 'mcf'\n",
      "    show_ports : bool, optional, default=False\n",
      "        Save ports contained within the compound.\n",
      "    forcefield_files : str, optional, default=None\n",
      "        Apply a forcefield to the output file using a forcefield provided\n",
      "        by the `foyer` package.\n",
      "    forcefield_name : str, optional, default=None\n",
      "        Apply a named forcefield to the output file using the `foyer`\n",
      "        package, e.g. 'oplsaa'. `Foyer forcefields\n",
      "        <https://github.com/mosdef-hub/foyer/tree/master/foyer/forcefields>`_\n",
      "    forcefield_debug : bool, optional, default=False\n",
      "        Choose verbosity level when applying a forcefield through `foyer`.\n",
      "        Specifically, when missing atom types in the forcefield xml file,\n",
      "        determine if the warning is condensed or verbose.\n",
      "    box : mb.Box, optional, default=self.boundingbox (with buffer)\n",
      "        Box information to be written to the output file. If 'None', a\n",
      "        bounding box is used with 0.25nm buffers at each face to avoid\n",
      "        overlapping atoms.\n",
      "    overwrite : bool, optional, default=False\n",
      "        Overwrite if the filename already exists\n",
      "    residues : str of list of str\n",
      "        Labels of residues in the Compound. Residues are assigned by\n",
      "        checking against Compound.name.\n",
      "    combining_rule : str, optional, default='lorentz'\n",
      "        Specify the combining rule for nonbonded interactions. Only relevant\n",
      "        when the `foyer` package is used to apply a forcefield. Valid\n",
      "        options are 'lorentz' and 'geometric', specifying Lorentz-Berthelot\n",
      "        and geometric combining rules respectively.\n",
      "    foyer_kwargs : dict, optional, default=None\n",
      "        Keyword arguments to provide to `foyer.Forcefield.apply`.\n",
      "        Depending on the file extension these will be passed to either\n",
      "        `write_gsd`, `write_hoomdxml`, `write_lammpsdata`,\n",
      "        `write_mcf`, or `parmed.Structure.save`.\n",
      "        See `parmed structure documentation\n",
      "        <https://parmed.github.io/ParmEd/html/structobj/parmed.structure.Structure.html#parmed.structure.Structure.save>`_\n",
      "    \n",
      "    Other Parameters\n",
      "    ----------------\n",
      "    ref_distance : float, optional, default=1.0\n",
      "        Normalization factor used when saving to .gsd and .hoomdxml formats\n",
      "        for converting distance values to reduced units.\n",
      "    ref_energy : float, optional, default=1.0\n",
      "        Normalization factor used when saving to .gsd and .hoomdxml formats\n",
      "        for converting energy values to reduced units.\n",
      "    ref_mass : float, optional, default=1.0\n",
      "        Normalization factor used when saving to .gsd and .hoomdxml formats\n",
      "        for converting mass values to reduced units.\n",
      "    atom_style: str, default='full'\n",
      "        Defines the style of atoms to be saved in a LAMMPS data file. The\n",
      "        following atom styles are currently supported:\n",
      "        'full', 'atomic', 'charge', 'molecular'\n",
      "        See `LAMMPS atom style documentation\n",
      "        <https://lammps.sandia.gov/doc/atom_style.html>`_ for more\n",
      "        information.\n",
      "    unit_style: str, default='real'\n",
      "        Defines to unit style to be save in a LAMMPS data file.  Defaults\n",
      "        to 'real' units. Current styles are supported: 'real', 'lj'. See\n",
      "        `LAMMPS unit style documentation_\n",
      "        <https://lammps.sandia.gov/doc/units.html>`_ for more information.\n",
      "    \n",
      "    Notes\n",
      "    -----\n",
      "    When saving the compound as a json, only the following arguments are\n",
      "    used:\n",
      "    * filename\n",
      "    * show_ports\n",
      "    \n",
      "    See Also\n",
      "    --------\n",
      "    conversion.save : Main saver logic\n",
      "    formats.gsdwrite.write_gsd : Write to GSD format\n",
      "    formats.hoomdxml.write_hoomdxml : Write to Hoomd XML format\n",
      "    formats.xyzwriter.write_xyz : Write to XYZ format\n",
      "    formats.lammpsdata.write_lammpsdata : Write to LAMMPS data format\n",
      "    formats.cassandramcf.write_mcf : Write to Cassandra MCF format\n",
      "    formats.json_formats.compound_to_json : Write to a json file\n",
      "\n"
     ]
    }
   ],
   "source": [
    "help(mb.Compound.save)"
   ]
  },
  {
   "cell_type": "code",
   "execution_count": 27,
   "metadata": {},
   "outputs": [
    {
     "name": "stdout",
     "output_type": "stream",
     "text": [
      "@article{Jorgensen_1996,\r\n",
      "\tdoi = {10.1021/ja9621760},\r\n",
      "\turl = {https://doi.org/10.1021%2Fja9621760},\r\n",
      "\tyear = 1996,\r\n",
      "\tmonth = {nov},\r\n",
      "\tpublisher = {American Chemical Society ({ACS})},\r\n",
      "\tvolume = {118},\r\n",
      "\tnumber = {45},\r\n",
      "\tpages = {11225--11236},\r\n",
      "\tauthor = {William L. Jorgensen and David S. Maxwell and Julian Tirado-Rives},\r\n",
      "\ttitle = {Development and Testing of the {OPLS} All-Atom Force Field on Conformational Energetics and Properties of Organic Liquids},\r\n",
      "\tjournal = {Journal of the American Chemical Society},\r\n",
      "\tnote = {Parameters for atom types: opls_138, opls_140}\r\n",
      "}\r\n"
     ]
    }
   ],
   "source": [
    "! cat ch4.bib"
   ]
  },
  {
   "cell_type": "markdown",
   "metadata": {},
   "source": [
    "## Quick-start\n",
    "\n",
    "If you are interested in defining your existing forcefield(s) in the Foyer XML format, we currently have a forcefield template hosted on Github to help you get started - https://github.com/mosdef-hub/forcefield_template, that includes some basic scripts for validation and error checking. We also refer interested users to the [OpenMM documentation](http://docs.openmm.org/7.0.0/userguide/application.html#creating-force-fields) for detailed instructions on forcefield creation."
   ]
  },
  {
   "cell_type": "code",
   "execution_count": null,
   "metadata": {
    "collapsed": true
   },
   "outputs": [],
   "source": []
  }
 ],
 "metadata": {
  "kernelspec": {
   "display_name": "Python 3 (ipykernel)",
   "language": "python",
   "name": "python3"
  },
  "language_info": {
   "codemirror_mode": {
    "name": "ipython",
    "version": 3
   },
   "file_extension": ".py",
   "mimetype": "text/x-python",
   "name": "python",
   "nbconvert_exporter": "python",
   "pygments_lexer": "ipython3",
   "version": "3.9.9"
  }
 },
 "nbformat": 4,
 "nbformat_minor": 2
}
