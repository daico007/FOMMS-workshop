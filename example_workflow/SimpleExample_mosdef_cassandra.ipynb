{
 "cells": [
  {
   "cell_type": "markdown",
   "metadata": {
    "colab_type": "text",
    "id": "view-in-github"
   },
   "source": [
    "<a href=\"https://colab.research.google.com/github/mosdef-hub/FOMMS-workshop/blob/main/SimpleExample_mosdef_cassandra.ipynb\" target=\"_parent\"><img src=\"https://colab.research.google.com/assets/colab-badge.svg\" alt=\"Open In Colab\"/></a>"
   ]
  },
  {
   "cell_type": "markdown",
   "metadata": {
    "id": "-vdbz3bfLKF-"
   },
   "source": [
    "# PRELIMINARY\n",
    "This notebook is an attempt to install and use mosdef packages with google colab using package [conda-colab](https://github.com/conda-incubator/condacolab)"
   ]
  },
  {
   "cell_type": "code",
   "execution_count": null,
   "metadata": {
    "colab": {
     "base_uri": "https://localhost:8080/"
    },
    "id": "GmK2u6m-GUmT",
    "outputId": "82830687-876d-49d5-ad12-a0d9bb1a497a"
   },
   "outputs": [
    {
     "name": "stdout",
     "output_type": "stream",
     "text": [
      "Python 3.7.13\n"
     ]
    }
   ],
   "source": [
    "!python --version # Initial version\n"
   ]
  },
  {
   "cell_type": "code",
   "execution_count": null,
   "metadata": {
    "colab": {
     "base_uri": "https://localhost:8080/"
    },
    "id": "QGd9cN-lOqvc",
    "outputId": "6a9cefc1-9213-4011-bfd7-0342592ae4f3"
   },
   "outputs": [
    {
     "name": "stdout",
     "output_type": "stream",
     "text": [
      "Looking in indexes: https://pypi.org/simple, https://us-python.pkg.dev/colab-wheels/public/simple/\n",
      "Collecting condacolab\n",
      "  Downloading condacolab-0.1.3-py3-none-any.whl (6.8 kB)\n",
      "Installing collected packages: condacolab\n",
      "Successfully installed condacolab-0.1.3\n"
     ]
    }
   ],
   "source": [
    "!pip install condacolab"
   ]
  },
  {
   "cell_type": "code",
   "execution_count": null,
   "metadata": {
    "colab": {
     "base_uri": "https://localhost:8080/"
    },
    "id": "1oMJMAvpOvcu",
    "outputId": "0f551bde-e829-4925-99b4-f1113663be3f"
   },
   "outputs": [
    {
     "name": "stdout",
     "output_type": "stream",
     "text": [
      "⏬ Downloading https://github.com/jaimergp/miniforge/releases/latest/download/Mambaforge-colab-Linux-x86_64.sh...\n",
      "📦 Installing...\n",
      "📌 Adjusting configuration...\n",
      "🩹 Patching environment...\n",
      "⏲ Done in 0:00:32\n",
      "🔁 Restarting kernel...\n"
     ]
    }
   ],
   "source": [
    "import condacolab\n",
    "condacolab.install()"
   ]
  },
  {
   "cell_type": "code",
   "execution_count": null,
   "metadata": {
    "colab": {
     "base_uri": "https://localhost:8080/"
    },
    "id": "TzelX_DKPPRW",
    "outputId": "5cc9c416-5c4c-453e-cc81-52d8b391e5e3"
   },
   "outputs": [
    {
     "name": "stdout",
     "output_type": "stream",
     "text": [
      "✨🍰✨ Everything looks OK!\n"
     ]
    }
   ],
   "source": [
    "import condacolab\n",
    "condacolab.check()"
   ]
  },
  {
   "cell_type": "code",
   "execution_count": null,
   "metadata": {
    "colab": {
     "base_uri": "https://localhost:8080/"
    },
    "id": "l-3NsndNPUhT",
    "outputId": "f5a583ed-193a-4db6-c80d-42ce607633ac"
   },
   "outputs": [
    {
     "name": "stdout",
     "output_type": "stream",
     "text": [
      "\n",
      "name: mosdef-google-colab\n",
      "channels: \n",
      "  - conda-forge\n",
      "dependencies:\n",
      "  - mbuild\n",
      "  - foyer\n",
      "  - gmso\n",
      "  - nglview\n",
      "  - mosdef_cassandra\n",
      "  - py3dmol\n"
     ]
    }
   ],
   "source": [
    "ENVIRONMENT_YML_TEMPLATE = \"\"\"\n",
    "name: mosdef-google-colab\n",
    "channels: \n",
    "  - conda-forge\n",
    "dependencies:\n",
    "  - mbuild\n",
    "  - foyer\n",
    "  - gmso\n",
    "  - nglview\n",
    "  - mosdef_cassandra\n",
    "  - py3dmol\n",
    "  - matplotlib\n",
    "\"\"\"\n",
    "\n",
    "with open(\"environment.yml\", 'w') as env_file:\n",
    "  env_file.write(ENVIRONMENT_YML_TEMPLATE)\n",
    "\n",
    "!cat environment.yml"
   ]
  },
  {
   "cell_type": "markdown",
   "metadata": {
    "id": "CmwQ9j3VLuwK"
   },
   "source": [
    "## Create Environment\n",
    "\n",
    "Install `mbuild`, `foyer` and `gmso`."
   ]
  },
  {
   "cell_type": "code",
   "execution_count": null,
   "metadata": {
    "colab": {
     "base_uri": "https://localhost:8080/"
    },
    "id": "RdpGU36PUnQN",
    "outputId": "9d5505c3-1b3a-4068-8a90-4d2690971d1f"
   },
   "outputs": [
    {
     "name": "stdout",
     "output_type": "stream",
     "text": [
      "\u001b[2K\r",
      "conda-forge/linux-64     [] (00m:00s) \n",
      "\u001b[1A\u001b[2K\r",
      "conda-forge/linux-64     [] (00m:00s) 289 KB / ?? (953.68 KB/s)\n",
      "\u001b[1A\u001b[2K\r",
      "conda-forge/linux-64     [] (00m:00s) 289 KB / ?? (953.68 KB/s)\n",
      "\u001b[2K\r",
      "conda-forge/noarch       [] (00m:00s) \n",
      "\u001b[2A\u001b[2K\r",
      "conda-forge/linux-64     [] (00m:00s) 289 KB / ?? (953.68 KB/s)\n",
      "\u001b[2K\r",
      "conda-forge/noarch       [] (00m:00s) 20 KB / ?? (66.79 KB/s)\n",
      "\u001b[2A\u001b[2K\r",
      "conda-forge/linux-64     [] (00m:00s) 289 KB / ?? (953.68 KB/s)\n",
      "\u001b[2K\r",
      "conda-forge/noarch       [] (00m:00s) 20 KB / ?? (66.79 KB/s)\n",
      "\u001b[2A\u001b[2K\r",
      "conda-forge/linux-64     [] (00m:00s) 976 KB / ?? (2.10 MB/s)\n",
      "\u001b[2K\r",
      "conda-forge/noarch       [] (00m:00s) 20 KB / ?? (66.79 KB/s)\n",
      "\u001b[2A\u001b[2K\r",
      "conda-forge/linux-64     [] (00m:00s) 976 KB / ?? (2.10 MB/s)\n",
      "\u001b[2K\r",
      "conda-forge/noarch       [] (00m:00s) 20 KB / ?? (66.79 KB/s)\n",
      "\u001b[2A\u001b[2K\r",
      "conda-forge/linux-64     [] (00m:00s) 976 KB / ?? (2.10 MB/s)\n",
      "conda-forge/noarch       [] (00m:00s) 750 KB / ?? (1.61 MB/s)\n",
      "conda-forge/linux-64     [] (00m:00s) 976 KB / ?? (2.10 MB/s)\n",
      "conda-forge/noarch       [] (00m:00s) 750 KB / ?? (1.61 MB/s)\n",
      "conda-forge/linux-64     [] (00m:00s) 2 MB / ?? (2.96 MB/s)\n",
      "conda-forge/noarch       [] (00m:00s) 750 KB / ?? (1.61 MB/s)\n",
      "conda-forge/linux-64     [] (00m:00s) 2 MB / ?? (2.96 MB/s)\n",
      "conda-forge/noarch       [] (00m:00s) 750 KB / ?? (1.61 MB/s)\n",
      "conda-forge/linux-64     [] (00m:00s) 2 MB / ?? (2.96 MB/s)\n",
      "conda-forge/noarch       [] (00m:00s) 2 MB / ?? (2.64 MB/s)\n",
      "conda-forge/linux-64     [] (00m:00s) 2 MB / ?? (2.96 MB/s)\n",
      "conda-forge/noarch       [] (00m:00s) 2 MB / ?? (2.64 MB/s)\n",
      "conda-forge/linux-64     [] (00m:00s) 3 MB / ?? (3.37 MB/s)\n",
      "conda-forge/noarch       [] (00m:00s) 2 MB / ?? (2.64 MB/s)\n",
      "conda-forge/linux-64     [] (00m:00s) 3 MB / ?? (3.37 MB/s)\n",
      "conda-forge/noarch       [] (00m:00s) 2 MB / ?? (2.64 MB/s)\n",
      "conda-forge/linux-64     [] (00m:00s) 3 MB / ?? (3.37 MB/s)\n",
      "conda-forge/noarch       [] (00m:00s) 2 MB / ?? (3.02 MB/s)\n",
      "conda-forge/linux-64     [] (00m:00s) 3 MB / ?? (3.37 MB/s)\n",
      "conda-forge/noarch       [] (00m:00s) 2 MB / ?? (3.02 MB/s)\n",
      "conda-forge/linux-64     [] (00m:00s) 3 MB / ?? (3.74 MB/s)\n",
      "conda-forge/noarch       [] (00m:00s) 2 MB / ?? (3.02 MB/s)\n",
      "conda-forge/linux-64     [] (00m:00s) 3 MB / ?? (3.74 MB/s)\n",
      "conda-forge/noarch       [] (00m:00s) 2 MB / ?? (3.02 MB/s)\n",
      "conda-forge/linux-64     [] (00m:00s) 3 MB / ?? (3.74 MB/s)\n",
      "conda-forge/noarch       [] (00m:00s) 3 MB / ?? (3.29 MB/s)\n",
      "conda-forge/linux-64     [] (00m:00s) 3 MB / ?? (3.74 MB/s)\n",
      "conda-forge/noarch       [] (00m:00s) 3 MB / ?? (3.29 MB/s)\n",
      "conda-forge/linux-64     [] (00m:00s) 4 MB / ?? (3.94 MB/s)\n",
      "conda-forge/noarch       [] (00m:00s) 3 MB / ?? (3.29 MB/s)\n",
      "conda-forge/linux-64     [] (00m:00s) 4 MB / ?? (3.94 MB/s)\n",
      "conda-forge/noarch       [] (00m:00s) 3 MB / ?? (3.29 MB/s)\n",
      "conda-forge/linux-64     [] (00m:00s) 4 MB / ?? (3.94 MB/s)\n",
      "conda-forge/noarch       [] (00m:00s) 4 MB / ?? (3.56 MB/s)\n",
      "conda-forge/linux-64     [] (00m:00s) 4 MB / ?? (3.94 MB/s)\n",
      "conda-forge/noarch       [] (00m:00s) 4 MB / ?? (3.56 MB/s)\n",
      "conda-forge/linux-64     [] (00m:00s) 5 MB / ?? (4.13 MB/s)\n",
      "conda-forge/noarch       [] (00m:00s) 4 MB / ?? (3.56 MB/s)\n",
      "conda-forge/linux-64     [] (00m:00s) 5 MB / ?? (4.13 MB/s)\n",
      "conda-forge/noarch       [] (00m:00s) 4 MB / ?? (3.56 MB/s)\n",
      "conda-forge/linux-64     [] (00m:00s) 5 MB / ?? (4.13 MB/s)\n",
      "conda-forge/noarch       [] (00m:00s) 5 MB / ?? (3.74 MB/s)\n",
      "conda-forge/linux-64     [] (00m:01s) 5 MB / ?? (4.13 MB/s)\n",
      "conda-forge/noarch       [] (00m:01s) 5 MB / ?? (3.74 MB/s)\n",
      "conda-forge/linux-64     [] (00m:01s) 6 MB / ?? (4.27 MB/s)\n",
      "conda-forge/noarch       [] (00m:01s) 5 MB / ?? (3.74 MB/s)\n",
      "conda-forge/linux-64     [] (00m:01s) 6 MB / ?? (4.27 MB/s)\n",
      "conda-forge/noarch       [] (00m:01s) 5 MB / ?? (3.74 MB/s)\n",
      "conda-forge/linux-64     [] (00m:01s) 6 MB / ?? (4.27 MB/s)\n",
      "conda-forge/noarch       [] (00m:01s) 5 MB / ?? (3.88 MB/s)\n",
      "conda-forge/linux-64     [] (00m:01s) 6 MB / ?? (4.27 MB/s)\n",
      "conda-forge/noarch       [] (00m:01s) 5 MB / ?? (3.88 MB/s)\n",
      "conda-forge/linux-64     [] (00m:01s) 7 MB / ?? (4.33 MB/s)\n",
      "conda-forge/noarch       [] (00m:01s) 5 MB / ?? (3.88 MB/s)\n",
      "conda-forge/linux-64     [] (00m:01s) 7 MB / ?? (4.33 MB/s)\n",
      "conda-forge/noarch       [] (00m:01s) 5 MB / ?? (3.88 MB/s)\n",
      "conda-forge/linux-64     [] (00m:01s) 7 MB / ?? (4.33 MB/s)\n",
      "conda-forge/noarch       [] (00m:01s) 6 MB / ?? (3.98 MB/s)\n",
      "conda-forge/linux-64     [] (00m:01s) 7 MB / ?? (4.33 MB/s)\n",
      "conda-forge/noarch       [] (00m:01s) 6 MB / ?? (3.98 MB/s)\n",
      "conda-forge/linux-64     [] (00m:01s) 7 MB / ?? (4.42 MB/s)\n",
      "conda-forge/noarch       [] (00m:01s) 6 MB / ?? (3.98 MB/s)\n",
      "conda-forge/linux-64     [] (00m:01s) 7 MB / ?? (4.42 MB/s)\n",
      "conda-forge/noarch       [] (00m:01s) 6 MB / ?? (3.98 MB/s)\n",
      "conda-forge/linux-64     [] (00m:01s) 7 MB / ?? (4.42 MB/s)\n",
      "conda-forge/noarch       [] (00m:01s) 7 MB / ?? (4.05 MB/s)\n",
      "conda-forge/linux-64     [] (00m:01s) 7 MB / ?? (4.42 MB/s)\n",
      "conda-forge/noarch       [] (00m:01s) 7 MB / ?? (4.05 MB/s)\n",
      "conda-forge/linux-64     [] (00m:01s) 8 MB / ?? (4.48 MB/s)\n",
      "conda-forge/noarch       [] (00m:01s) 7 MB / ?? (4.05 MB/s)\n",
      "conda-forge/linux-64     [] (00m:01s) 8 MB / ?? (4.48 MB/s)\n",
      "conda-forge/noarch       [] (00m:01s) 7 MB / ?? (4.05 MB/s)\n",
      "conda-forge/linux-64     [] (00m:01s) 8 MB / ?? (4.48 MB/s)\n",
      "conda-forge/noarch       [] (00m:01s) 7 MB / ?? (4.04 MB/s)\n",
      "conda-forge/linux-64     [] (00m:01s) 8 MB / ?? (4.48 MB/s)\n",
      "conda-forge/noarch       [] (00m:01s) Finalizing...\n",
      "conda-forge/linux-64     [] (00m:01s) 8 MB / ?? (4.48 MB/s)\n",
      "conda-forge/noarch       [] (00m:01s) Done\n",
      "conda-forge/linux-64     [] (00m:01s) 8 MB / ?? (4.48 MB/s)\n",
      "conda-forge/noarch       [] (00m:01s) Done\n",
      "conda-forge/noarch       [] (00m:01s) Done\n",
      "conda-forge/linux-64     [] (00m:01s) 8 MB / ?? (4.48 MB/s)\n",
      "conda-forge/linux-64     [] (00m:01s) 8 MB / ?? (4.48 MB/s)\n",
      "conda-forge/linux-64     [] (00m:01s) 9 MB / ?? (3.72 MB/s)\n",
      "conda-forge/linux-64     [] (00m:02s) 9 MB / ?? (3.72 MB/s)\n",
      "conda-forge/linux-64     [] (00m:02s) 11 MB / ?? (4.48 MB/s)\n",
      "conda-forge/linux-64     [] (00m:02s) 11 MB / ?? (4.48 MB/s)\n",
      "conda-forge/linux-64     [] (00m:02s) 12 MB / ?? (4.51 MB/s)\n",
      "conda-forge/linux-64     [] (00m:02s) 12 MB / ?? (4.51 MB/s)\n",
      "conda-forge/linux-64     [] (00m:02s) 13 MB / ?? (4.55 MB/s)\n",
      "conda-forge/linux-64     [] (00m:02s) 13 MB / ?? (4.55 MB/s)\n",
      "conda-forge/linux-64     [] (00m:02s) 13 MB / ?? (4.58 MB/s)\n",
      "conda-forge/linux-64     [] (00m:02s) 13 MB / ?? (4.58 MB/s)\n",
      "conda-forge/linux-64     [] (00m:02s) 14 MB / ?? (4.58 MB/s)\n",
      "conda-forge/linux-64     [] (00m:02s) 14 MB / ?? (4.58 MB/s)\n",
      "conda-forge/linux-64     [] (00m:02s) 15 MB / ?? (4.57 MB/s)\n",
      "conda-forge/linux-64     [] (00m:03s) 15 MB / ?? (4.57 MB/s)\n",
      "conda-forge/linux-64     [] (00m:03s) 15 MB / ?? (4.58 MB/s)\n",
      "conda-forge/linux-64     [] (00m:03s) 15 MB / ?? (4.58 MB/s)\n",
      "conda-forge/linux-64     [] (00m:03s) 16 MB / ?? (4.61 MB/s)\n",
      "conda-forge/linux-64     [] (00m:03s) 16 MB / ?? (4.61 MB/s)\n",
      "conda-forge/linux-64     [] (00m:03s) 17 MB / ?? (4.63 MB/s)\n",
      "conda-forge/linux-64     [] (00m:03s) 17 MB / ?? (4.63 MB/s)\n",
      "conda-forge/linux-64     [] (00m:03s) 17 MB / ?? (4.59 MB/s)\n",
      "conda-forge/linux-64     [] (00m:03s) 17 MB / ?? (4.59 MB/s)\n",
      "conda-forge/linux-64     [] (00m:03s) 18 MB / ?? (4.62 MB/s)\n",
      "conda-forge/linux-64     [] (00m:03s) 18 MB / ?? (4.62 MB/s)\n",
      "conda-forge/linux-64     [] (00m:03s) 19 MB / ?? (4.63 MB/s)\n",
      "conda-forge/linux-64     [] (00m:03s) 19 MB / ?? (4.63 MB/s)\n",
      "conda-forge/linux-64     [] (00m:03s) 20 MB / ?? (4.62 MB/s)\n",
      "conda-forge/linux-64     [] (00m:04s) 20 MB / ?? (4.62 MB/s)\n",
      "conda-forge/linux-64     [] (00m:04s) 20 MB / ?? (4.55 MB/s)\n",
      "conda-forge/linux-64     [] (00m:04s) 20 MB / ?? (4.55 MB/s)\n",
      "conda-forge/linux-64     [] (00m:04s) 22 MB / ?? (4.68 MB/s)\n",
      "conda-forge/linux-64     [] (00m:04s) Finalizing...\n",
      "conda-forge/linux-64     [] (00m:05s) Done\n",
      "conda-forge/linux-64     [] (00m:05s) Done\n",
      "conda-forge/linux-64     [] (00m:05s) Done\n",
      "\n",
      "\n",
      "Looking for: ['mbuild', 'foyer', 'gmso', 'nglview', 'mosdef_cassandra', 'py3dmol']\n",
      "\n",
      "\n",
      "Transaction\n",
      "\n",
      "  Prefix: /usr/local\n",
      "\n",
      "  Updating specs:\n",
      "\n",
      "   - mbuild\n",
      "   - foyer\n",
      "   - gmso\n",
      "   - nglview\n",
      "   - mosdef_cassandra\n",
      "   - py3dmol\n",
      "\n",
      "\n",
      "  Package                            Version  Build                Channel                     Size\n",
      "─────────────────────────────────────────────────────────────────────────────────────────────────────\n",
      "  Install:\n",
      "─────────────────────────────────────────────────────────────────────────────────────────────────────\n",
      "\n",
      "\u001b[32m  alsa-lib                     \u001b[00m      1.2.3.2  h166bdaf_0           conda-forge/linux-64      554 KB\n",
      "\u001b[32m  ampl-mp                      \u001b[00m        3.1.0  h2cc385e_1006        conda-forge/linux-64        1 MB\n",
      "\u001b[32m  argon2-cffi                  \u001b[00m       21.3.0  pyhd8ed1ab_0         conda-forge/noarch         15 KB\n",
      "\u001b[32m  argon2-cffi-bindings         \u001b[00m       21.2.0  py37h540881e_2       conda-forge/linux-64       34 KB\n",
      "\u001b[32m  astunparse                   \u001b[00m        1.6.3  pyhd8ed1ab_0         conda-forge/noarch         15 KB\n",
      "\u001b[32m  attrs                        \u001b[00m       21.4.0  pyhd8ed1ab_0         conda-forge/noarch         49 KB\n",
      "\u001b[32m  backcall                     \u001b[00m        0.2.0  pyh9f0ad1d_0         conda-forge/noarch         13 KB\n",
      "\u001b[32m  backports                    \u001b[00m          1.0  py_2                 conda-forge/noarch          4 KB\n",
      "\u001b[32m  backports.functools_lru_cache\u001b[00m        1.6.4  pyhd8ed1ab_0         conda-forge/noarch          9 KB\n",
      "\u001b[32m  beautifulsoup4               \u001b[00m       4.11.1  pyha770c72_0         conda-forge/noarch         96 KB\n",
      "\u001b[32m  bleach                       \u001b[00m        5.0.0  pyhd8ed1ab_0         conda-forge/noarch        123 KB\n",
      "\u001b[32m  blosc                        \u001b[00m       1.21.1  hd32f23e_0           conda-forge/linux-64      955 KB\n",
      "\u001b[32m  boltons                      \u001b[00m       21.0.0  pyhd8ed1ab_0         conda-forge/noarch        211 KB\n",
      "\u001b[32m  boost                        \u001b[00m       1.74.0  py37h796e4cb_5       conda-forge/linux-64      342 KB\n",
      "\u001b[32m  boost-cpp                    \u001b[00m       1.74.0  hc6e9bd1_3           conda-forge/linux-64       16 MB\n",
      "\u001b[32m  cairo                        \u001b[00m       1.16.0  h6cf1ce9_1008        conda-forge/linux-64        1 MB\n",
      "\u001b[32m  cassandra                    \u001b[00m        1.2.6  py37h0a3df30_0       conda-forge/linux-64      427 KB\n",
      "\u001b[32m  constrainmol                 \u001b[00m        0.1.0  pyhd8ed1ab_0         conda-forge/noarch          9 KB\n",
      "\u001b[32m  cudatoolkit                  \u001b[00m      10.2.89  h713d32c_10          conda-forge/linux-64      450 MB\n",
      "\u001b[32m  cycler                       \u001b[00m       0.11.0  pyhd8ed1ab_0         conda-forge/noarch         10 KB\n",
      "\u001b[32m  dbus                         \u001b[00m       1.13.6  h48d8840_2           conda-forge/linux-64      572 KB\n",
      "\u001b[32m  debugpy                      \u001b[00m        1.6.0  py37hd23a5d3_0       conda-forge/linux-64        2 MB\n",
      "\u001b[32m  decorator                    \u001b[00m        5.1.1  pyhd8ed1ab_0         conda-forge/noarch         12 KB\n",
      "\u001b[32m  defusedxml                   \u001b[00m        0.7.1  pyhd8ed1ab_0         conda-forge/noarch         23 KB\n",
      "\u001b[32m  ele                          \u001b[00m        0.2.0  pyhd8ed1ab_0         conda-forge/noarch         13 KB\n",
      "\u001b[32m  entrypoints                  \u001b[00m          0.4  pyhd8ed1ab_0         conda-forge/noarch          9 KB\n",
      "\u001b[32m  expat                        \u001b[00m        2.4.8  h27087fc_0           conda-forge/linux-64      187 KB\n",
      "\u001b[32m  fftw                         \u001b[00m       3.3.10  nompi_h77c792f_102   conda-forge/linux-64        6 MB\n",
      "\u001b[32m  flit-core                    \u001b[00m        3.7.1  pyhd8ed1ab_0         conda-forge/noarch         44 KB\n",
      "\u001b[32m  fontconfig                   \u001b[00m       2.14.0  h8e229c2_0           conda-forge/linux-64      305 KB\n",
      "\u001b[32m  foyer                        \u001b[00m       0.11.1  pyhd8ed1ab_0         conda-forge/noarch        301 KB\n",
      "\u001b[32m  freetype                     \u001b[00m       2.10.4  h0708190_1           conda-forge/linux-64      890 KB\n",
      "\u001b[32m  future                       \u001b[00m       0.18.2  py37h89c1867_5       conda-forge/linux-64      713 KB\n",
      "\u001b[32m  gettext                      \u001b[00m     0.19.8.1  h0b5b191_1005        conda-forge/linux-64        4 MB\n",
      "\u001b[32m  glib                         \u001b[00m       2.68.4  h9c3ff4c_0           conda-forge/linux-64      447 KB\n",
      "\u001b[32m  glib-tools                   \u001b[00m       2.68.4  h9c3ff4c_0           conda-forge/linux-64       86 KB\n",
      "\u001b[32m  gmp                          \u001b[00m        6.2.1  h58526e2_0           conda-forge/linux-64      806 KB\n",
      "\u001b[32m  gmpy2                        \u001b[00m        2.1.2  py37h025e8b9_0       conda-forge/linux-64      216 KB\n",
      "\u001b[32m  gmso                         \u001b[00m        0.8.0  pyhd8ed1ab_0         conda-forge/noarch        148 KB\n",
      "\u001b[32m  greenlet                     \u001b[00m        1.1.2  py37hd23a5d3_2       conda-forge/linux-64       90 KB\n",
      "\u001b[32m  gst-plugins-base             \u001b[00m       1.18.5  hf529b03_0           conda-forge/linux-64        3 MB\n",
      "\u001b[32m  gstreamer                    \u001b[00m       1.18.5  h76c114f_0           conda-forge/linux-64        2 MB\n",
      "\u001b[32m  hdf5                         \u001b[00m       1.10.6  nompi_h6a2412b_1114  conda-forge/linux-64        3 MB\n",
      "\u001b[32m  importlib-metadata           \u001b[00m       4.11.4  py37h89c1867_0       conda-forge/linux-64       33 KB\n",
      "\u001b[32m  importlib_resources          \u001b[00m        5.7.1  pyhd8ed1ab_1         conda-forge/noarch         22 KB\n",
      "\u001b[32m  ipopt                        \u001b[00m       3.14.6  h630875f_0           conda-forge/linux-64        1 MB\n",
      "\u001b[32m  ipykernel                    \u001b[00m       6.13.0  py37h25bab4e_0       conda-forge/linux-64      185 KB\n",
      "\u001b[32m  ipython                      \u001b[00m       7.33.0  py37h89c1867_0       conda-forge/linux-64        1 MB\n",
      "\u001b[32m  ipython_genutils             \u001b[00m        0.2.0  py_1                 conda-forge/noarch         21 KB\n",
      "\u001b[32m  ipywidgets                   \u001b[00m        7.7.0  pyhd8ed1ab_0         conda-forge/noarch        103 KB\n",
      "\u001b[32m  jedi                         \u001b[00m       0.18.1  py37h89c1867_1       conda-forge/linux-64     1008 KB\n",
      "\u001b[32m  jinja2                       \u001b[00m        3.1.2  pyhd8ed1ab_0         conda-forge/noarch         99 KB\n",
      "\u001b[32m  jpeg                         \u001b[00m           9e  h166bdaf_1           conda-forge/linux-64      268 KB\n",
      "\u001b[32m  jsonschema                   \u001b[00m        4.6.0  pyhd8ed1ab_0         conda-forge/noarch         62 KB\n",
      "\u001b[32m  jupyter                      \u001b[00m        1.0.0  py37h89c1867_7       conda-forge/linux-64        6 KB\n",
      "\u001b[32m  jupyter_client               \u001b[00m        7.3.1  pyhd8ed1ab_0         conda-forge/noarch         90 KB\n",
      "\u001b[32m  jupyter_console              \u001b[00m        6.4.3  pyhd8ed1ab_0         conda-forge/noarch         23 KB\n",
      "\u001b[32m  jupyter_core                 \u001b[00m       4.10.0  py37h89c1867_0       conda-forge/linux-64       81 KB\n",
      "\u001b[32m  jupyterlab_pygments          \u001b[00m        0.2.2  pyhd8ed1ab_0         conda-forge/noarch         17 KB\n",
      "\u001b[32m  jupyterlab_widgets           \u001b[00m        1.1.0  pyhd8ed1ab_0         conda-forge/noarch        133 KB\n",
      "\u001b[32m  kiwisolver                   \u001b[00m        1.4.2  py37h7cecad7_1       conda-forge/linux-64       73 KB\n",
      "\u001b[32m  lark-parser                  \u001b[00m       0.12.0  pyhd8ed1ab_0         conda-forge/noarch         78 KB\n",
      "\u001b[32m  lcms2                        \u001b[00m         2.12  hddcbb42_0           conda-forge/linux-64      443 KB\n",
      "\u001b[32m  libblas                      \u001b[00m        3.9.0  14_linux64_openblas  conda-forge/linux-64       12 KB\n",
      "\u001b[32m  libcblas                     \u001b[00m        3.9.0  14_linux64_openblas  conda-forge/linux-64       12 KB\n",
      "\u001b[32m  libclang                     \u001b[00m       11.1.0  default_ha53f305_1   conda-forge/linux-64       19 MB\n",
      "\u001b[32m  libevent                     \u001b[00m       2.1.10  hcdb4288_3           conda-forge/linux-64        1 MB\n",
      "\u001b[32m  libgfortran-ng               \u001b[00m       12.1.0  h69a702a_16          conda-forge/linux-64       23 KB\n",
      "\u001b[32m  libgfortran5                 \u001b[00m       12.1.0  hdcd56e2_16          conda-forge/linux-64        2 MB\n",
      "\u001b[32m  libglib                      \u001b[00m       2.68.4  h3e27bee_0           conda-forge/linux-64        3 MB\n",
      "\u001b[32m  liblapack                    \u001b[00m        3.9.0  14_linux64_openblas  conda-forge/linux-64       12 KB\n",
      "\u001b[32m  libllvm11                    \u001b[00m       11.1.0  hf817b99_2           conda-forge/linux-64       29 MB\n",
      "\u001b[32m  libogg                       \u001b[00m        1.3.4  h7f98852_1           conda-forge/linux-64      206 KB\n",
      "\u001b[32m  libopenblas                  \u001b[00m       0.3.20  pthreads_h78a6416_0  conda-forge/linux-64       10 MB\n",
      "\u001b[32m  libopus                      \u001b[00m        1.3.1  h7f98852_1           conda-forge/linux-64      255 KB\n",
      "\u001b[32m  libpng                       \u001b[00m       1.6.37  hed695b0_2           conda-forge/linux-64      359 KB\n",
      "\u001b[32m  libpq                        \u001b[00m         13.1  hfd2b0eb_2           conda-forge/linux-64        3 MB\n",
      "\u001b[32m  libprotobuf                  \u001b[00m       3.18.0  h780b84a_1           conda-forge/linux-64        3 MB\n",
      "\u001b[32m  libsodium                    \u001b[00m       1.0.18  h516909a_1           conda-forge/linux-64      366 KB\n",
      "\u001b[32m  libtiff                      \u001b[00m        4.2.0  hbd63e13_2           conda-forge/linux-64      639 KB\n",
      "\u001b[32m  libuuid                      \u001b[00m       2.32.1  h14c3975_1000        conda-forge/linux-64       26 KB\n",
      "\u001b[32m  libvorbis                    \u001b[00m        1.3.7  he1b5a44_0           conda-forge/linux-64      287 KB\n",
      "\u001b[32m  libwebp-base                 \u001b[00m        1.2.2  h7f98852_1           conda-forge/linux-64      824 KB\n",
      "\u001b[32m  libxcb                       \u001b[00m         1.13  h7f98852_1004        conda-forge/linux-64      391 KB\n",
      "\u001b[32m  libxkbcommon                 \u001b[00m        1.0.3  he3ba5ed_0           conda-forge/linux-64      581 KB\n",
      "\u001b[32m  libxslt                      \u001b[00m       1.1.33  h15afd5d_2           conda-forge/linux-64      522 KB\n",
      "\u001b[32m  lxml                         \u001b[00m        4.8.0  py37h540881e_3       conda-forge/linux-64        1 MB\n",
      "\u001b[32m  markupsafe                   \u001b[00m        2.1.1  py37h540881e_1       conda-forge/linux-64       22 KB\n",
      "\u001b[32m  matplotlib-base              \u001b[00m        3.4.3  py37h1058ff1_0       conda-forge/linux-64        7 MB\n",
      "\u001b[32m  matplotlib-inline            \u001b[00m        0.1.3  pyhd8ed1ab_0         conda-forge/noarch         11 KB\n",
      "\u001b[32m  mbuild                       \u001b[00m       0.14.2  pyhd8ed1ab_0         conda-forge/noarch        497 KB\n",
      "\u001b[32m  mdtraj                       \u001b[00m        1.9.6  py37hc53b9d0_1       conda-forge/linux-64        2 MB\n",
      "\u001b[32m  metis                        \u001b[00m        5.1.0  he1b5a44_1006        conda-forge/linux-64        4 MB\n",
      "\u001b[32m  mistune                      \u001b[00m        0.8.4  py37h5e8e339_1005    conda-forge/linux-64       54 KB\n",
      "\u001b[32m  mock                         \u001b[00m        4.0.3  py37h89c1867_3       conda-forge/linux-64       51 KB\n",
      "\u001b[32m  mosdef_cassandra             \u001b[00m        0.3.1  py37h89c1867_1       conda-forge/linux-64       96 KB\n",
      "\u001b[32m  mpc                          \u001b[00m        1.2.1  h9f54685_0           conda-forge/linux-64      106 KB\n",
      "\u001b[32m  mpfr                         \u001b[00m        4.1.0  h9202a9a_1           conda-forge/linux-64        3 MB\n",
      "\u001b[32m  mpmath                       \u001b[00m        1.2.1  pyhd8ed1ab_0         conda-forge/noarch        437 KB\n",
      "\u001b[32m  mumps-include                \u001b[00m        5.2.1  ha770c72_11          conda-forge/linux-64       23 KB\n",
      "\u001b[32m  mumps-seq                    \u001b[00m        5.2.1  h2104b81_11          conda-forge/linux-64        3 MB\n",
      "\u001b[32m  mysql-common                 \u001b[00m       8.0.23  ha770c72_1           conda-forge/linux-64        2 MB\n",
      "\u001b[32m  mysql-libs                   \u001b[00m       8.0.23  h935591d_1           conda-forge/linux-64        2 MB\n",
      "\u001b[32m  nbclient                     \u001b[00m        0.6.4  pyhd8ed1ab_1         conda-forge/noarch         65 KB\n",
      "\u001b[32m  nbconvert                    \u001b[00m        6.5.0  pyhd8ed1ab_0         conda-forge/noarch          6 KB\n",
      "\u001b[32m  nbconvert-core               \u001b[00m        6.5.0  pyhd8ed1ab_0         conda-forge/noarch        425 KB\n",
      "\u001b[32m  nbconvert-pandoc             \u001b[00m        6.5.0  pyhd8ed1ab_0         conda-forge/noarch          4 KB\n",
      "\u001b[32m  nbformat                     \u001b[00m        5.4.0  pyhd8ed1ab_0         conda-forge/noarch        104 KB\n",
      "\u001b[32m  nest-asyncio                 \u001b[00m        1.5.5  pyhd8ed1ab_0         conda-forge/noarch          9 KB\n",
      "\u001b[32m  networkx                     \u001b[00m        2.7.1  pyhd8ed1ab_0         conda-forge/noarch          2 MB\n",
      "\u001b[32m  nglview                      \u001b[00m        3.0.3  pyh8a188c0_0         conda-forge/noarch          6 MB\n",
      "\u001b[32m  nomkl                        \u001b[00m          1.0  h5ca1d4c_0           conda-forge/noarch          4 KB\n",
      "\u001b[32m  notebook                     \u001b[00m       6.4.11  pyha770c72_0         conda-forge/noarch          6 MB\n",
      "\u001b[32m  nspr                         \u001b[00m         4.32  h9c3ff4c_1           conda-forge/linux-64      233 KB\n",
      "\u001b[32m  nss                          \u001b[00m         3.63  hb5efdd6_0           conda-forge/linux-64        2 MB\n",
      "\u001b[32m  numexpr                      \u001b[00m        2.8.0  py37h85a3170_102     conda-forge/linux-64      133 KB\n",
      "\u001b[32m  numpy                        \u001b[00m       1.21.6  py37h976b520_0       conda-forge/linux-64        6 MB\n",
      "\u001b[32m  ocl-icd                      \u001b[00m        2.3.1  h7f98852_0           conda-forge/linux-64      119 KB\n",
      "\u001b[32m  ocl-icd-system               \u001b[00m        1.0.0  1                    conda-forge/linux-64        4 KB\n",
      "\u001b[32m  olefile                      \u001b[00m         0.46  pyh9f0ad1d_1         conda-forge/noarch         32 KB\n",
      "\u001b[32m  openjpeg                     \u001b[00m        2.4.0  hb52868f_1           conda-forge/linux-64      444 KB\n",
      "\u001b[32m  openmm                       \u001b[00m        7.7.0  py37hb6a88b9_1       conda-forge/linux-64       11 MB\n",
      "\u001b[32m  packaging                    \u001b[00m         21.3  pyhd8ed1ab_0         conda-forge/noarch         36 KB\n",
      "\u001b[32m  packmol                      \u001b[00m       20.010  h86c2bf4_0           conda-forge/linux-64      129 KB\n",
      "\u001b[32m  pandas                       \u001b[00m        1.3.5  py37he8f5f7f_0       conda-forge/linux-64       13 MB\n",
      "\u001b[32m  pandoc                       \u001b[00m         2.18  ha770c72_0           conda-forge/linux-64       13 MB\n",
      "\u001b[32m  pandocfilters                \u001b[00m        1.5.0  pyhd8ed1ab_0         conda-forge/noarch         11 KB\n",
      "\u001b[32m  parmed                       \u001b[00m        3.4.3  py37hd23a5d3_2       conda-forge/linux-64      974 KB\n",
      "\u001b[32m  parso                        \u001b[00m        0.8.3  pyhd8ed1ab_0         conda-forge/noarch         69 KB\n",
      "\u001b[32m  pcre                         \u001b[00m         8.45  h9c3ff4c_0           conda-forge/linux-64      253 KB\n",
      "\u001b[32m  pexpect                      \u001b[00m        4.8.0  py37hc8dfbb8_1       conda-forge/linux-64       79 KB\n",
      "\u001b[32m  pickleshare                  \u001b[00m        0.7.5  py37hc8dfbb8_1002    conda-forge/linux-64       13 KB\n",
      "\u001b[32m  pillow                       \u001b[00m        8.2.0  py37h4600e1f_1       conda-forge/linux-64      684 KB\n",
      "\u001b[32m  pixman                       \u001b[00m       0.40.0  h36c2ea0_0           conda-forge/linux-64      627 KB\n",
      "\u001b[32m  ply                          \u001b[00m         3.11  py_1                 conda-forge/noarch         44 KB\n",
      "\u001b[32m  prometheus_client            \u001b[00m       0.14.1  pyhd8ed1ab_0         conda-forge/noarch         49 KB\n",
      "\u001b[32m  prompt-toolkit               \u001b[00m       3.0.29  pyha770c72_0         conda-forge/noarch        252 KB\n",
      "\u001b[32m  prompt_toolkit               \u001b[00m       3.0.29  hd8ed1ab_0           conda-forge/noarch          5 KB\n",
      "\u001b[32m  protobuf                     \u001b[00m       3.18.0  py37hcd2ae1e_0       conda-forge/linux-64      341 KB\n",
      "\u001b[32m  psutil                       \u001b[00m        5.9.1  py37h540881e_0       conda-forge/linux-64      344 KB\n",
      "\u001b[32m  pthread-stubs                \u001b[00m          0.4  h36c2ea0_1001        conda-forge/linux-64        5 KB\n",
      "\u001b[32m  ptyprocess                   \u001b[00m        0.7.0  pyhd3deb0d_0         conda-forge/noarch         16 KB\n",
      "\u001b[32m  py3dmol                      \u001b[00m        1.8.0  pyhd8ed1ab_0         conda-forge/noarch         10 KB\n",
      "\u001b[32m  pycairo                      \u001b[00m       1.21.0  py37h0afab05_1       conda-forge/linux-64      116 KB\n",
      "\u001b[32m  pydantic                     \u001b[00m        1.8.2  py37h5e8e339_2       conda-forge/linux-64        2 MB\n",
      "\u001b[32m  pygments                     \u001b[00m       2.12.0  pyhd8ed1ab_0         conda-forge/noarch        817 KB\n",
      "\u001b[32m  pyomo                        \u001b[00m        6.4.1  py37hd23a5d3_0       conda-forge/linux-64        5 MB\n",
      "\u001b[32m  pyparsing                    \u001b[00m        3.0.9  pyhd8ed1ab_0         conda-forge/noarch         79 KB\n",
      "\u001b[32m  pyqt                         \u001b[00m       5.12.3  py37h89c1867_8       conda-forge/linux-64       22 KB\n",
      "\u001b[32m  pyqt-impl                    \u001b[00m       5.12.3  py37hac37412_8       conda-forge/linux-64        6 MB\n",
      "\u001b[32m  pyqt5-sip                    \u001b[00m      4.19.18  py37hcd2ae1e_8       conda-forge/linux-64      310 KB\n",
      "\u001b[32m  pyqtchart                    \u001b[00m         5.12  py37he336c9b_8       conda-forge/linux-64      257 KB\n",
      "\u001b[32m  pyqtwebengine                \u001b[00m       5.12.1  py37he336c9b_8       conda-forge/linux-64      175 KB\n",
      "\u001b[32m  pyrsistent                   \u001b[00m       0.18.1  py37h540881e_1       conda-forge/linux-64       91 KB\n",
      "\u001b[32m  pytables                     \u001b[00m        3.6.1  py37he17a9a8_3       conda-forge/linux-64        1 MB\n",
      "\u001b[32m  python-dateutil              \u001b[00m        2.8.2  pyhd8ed1ab_0         conda-forge/noarch        240 KB\n",
      "\u001b[32m  python-fastjsonschema        \u001b[00m       2.15.3  pyhd8ed1ab_0         conda-forge/noarch        243 KB\n",
      "\u001b[32m  pytz                         \u001b[00m       2022.1  pyhd8ed1ab_0         conda-forge/noarch        242 KB\n",
      "\u001b[32m  pyzmq                        \u001b[00m       23.1.0  py37h0c0c2a8_0       conda-forge/linux-64      483 KB\n",
      "\u001b[32m  qt                           \u001b[00m       5.12.9  hda022c4_4           conda-forge/linux-64      100 MB\n",
      "\u001b[32m  qtconsole                    \u001b[00m        5.3.0  pyhd8ed1ab_0         conda-forge/noarch          5 KB\n",
      "\u001b[32m  qtconsole-base               \u001b[00m        5.3.0  pyhd8ed1ab_0         conda-forge/noarch         90 KB\n",
      "\u001b[32m  qtpy                         \u001b[00m        2.1.0  pyhd8ed1ab_0         conda-forge/noarch         43 KB\n",
      "\u001b[32m  rdkit                        \u001b[00m    2022.03.2  py37hc52db9c_1       conda-forge/linux-64       39 MB\n",
      "\u001b[32m  reportlab                    \u001b[00m       3.5.68  py37h69800bb_1       conda-forge/linux-64        2 MB\n",
      "\u001b[32m  scipy                        \u001b[00m        1.7.3  py37hf2a6cf1_0       conda-forge/linux-64       22 MB\n",
      "\u001b[32m  scotch                       \u001b[00m        6.0.9  he1efa8a_1           conda-forge/linux-64        1 MB\n",
      "\u001b[32m  send2trash                   \u001b[00m        1.8.0  pyhd8ed1ab_0         conda-forge/noarch         17 KB\n",
      "\u001b[32m  snappy                       \u001b[00m        1.1.9  hbd366e4_1           conda-forge/linux-64       35 KB\n",
      "\u001b[32m  soupsieve                    \u001b[00m        2.3.1  pyhd8ed1ab_0         conda-forge/noarch         33 KB\n",
      "\u001b[32m  sqlalchemy                   \u001b[00m       1.4.37  py37h540881e_0       conda-forge/linux-64        2 MB\n",
      "\u001b[32m  sympy                        \u001b[00m       1.10.1  py37h89c1867_0       conda-forge/linux-64       12 MB\n",
      "\u001b[32m  terminado                    \u001b[00m       0.15.0  py37h89c1867_0       conda-forge/linux-64       28 KB\n",
      "\u001b[32m  tinycss2                     \u001b[00m        1.1.1  pyhd8ed1ab_0         conda-forge/noarch         23 KB\n",
      "\u001b[32m  tornado                      \u001b[00m          6.1  py37h540881e_3       conda-forge/linux-64      646 KB\n",
      "\u001b[32m  traitlets                    \u001b[00m  5.2.2.post1  pyhd8ed1ab_0         conda-forge/noarch         85 KB\n",
      "\u001b[32m  typing-extensions            \u001b[00m        4.2.0  hd8ed1ab_1           conda-forge/noarch          8 KB\n",
      "\u001b[32m  typing_extensions            \u001b[00m        4.2.0  pyha770c72_1         conda-forge/noarch         27 KB\n",
      "\u001b[32m  unixodbc                     \u001b[00m       2.3.10  h583eb01_0           conda-forge/linux-64      296 KB\n",
      "\u001b[32m  unyt                         \u001b[00m        2.8.0  py_0                 conda-forge/noarch         78 KB\n",
      "\u001b[32m  wcwidth                      \u001b[00m        0.2.5  pyh9f0ad1d_2         conda-forge/noarch         33 KB\n",
      "\u001b[32m  webencodings                 \u001b[00m        0.5.1  py_1                 conda-forge/noarch         12 KB\n",
      "\u001b[32m  widgetsnbextension           \u001b[00m        3.6.0  py37h89c1867_0       conda-forge/linux-64        1 MB\n",
      "\u001b[32m  xorg-kbproto                 \u001b[00m        1.0.7  h14c3975_1002        conda-forge/linux-64       26 KB\n",
      "\u001b[32m  xorg-libice                  \u001b[00m       1.0.10  h516909a_0           conda-forge/linux-64       57 KB\n",
      "\u001b[32m  xorg-libsm                   \u001b[00m        1.2.3  hd9c2040_1000        conda-forge/linux-64       26 KB\n",
      "\u001b[32m  xorg-libx11                  \u001b[00m        1.7.2  h7f98852_0           conda-forge/linux-64      941 KB\n",
      "\u001b[32m  xorg-libxau                  \u001b[00m        1.0.9  h14c3975_0           conda-forge/linux-64       13 KB\n",
      "\u001b[32m  xorg-libxdmcp                \u001b[00m        1.1.3  h516909a_0           conda-forge/linux-64       18 KB\n",
      "\u001b[32m  xorg-libxext                 \u001b[00m        1.3.4  h7f98852_1           conda-forge/linux-64       54 KB\n",
      "\u001b[32m  xorg-libxrender              \u001b[00m       0.9.10  h7f98852_1003        conda-forge/linux-64       32 KB\n",
      "\u001b[32m  xorg-renderproto             \u001b[00m       0.11.1  h14c3975_1002        conda-forge/linux-64        8 KB\n",
      "\u001b[32m  xorg-xextproto               \u001b[00m        7.3.0  h14c3975_1002        conda-forge/linux-64       27 KB\n",
      "\u001b[32m  xorg-xproto                  \u001b[00m       7.0.31  h14c3975_1007        conda-forge/linux-64       72 KB\n",
      "\u001b[32m  zeromq                       \u001b[00m        4.3.4  h9c3ff4c_1           conda-forge/linux-64      351 KB\n",
      "\u001b[32m  zipp                         \u001b[00m        3.8.0  pyhd8ed1ab_0         conda-forge/noarch         12 KB\n",
      "\n",
      "  Upgrade:\n",
      "─────────────────────────────────────────────────────────────────────────────────────────────────────\n",
      "\n",
      "\u001b[31m  libgcc-ng                    \u001b[00m        9.3.0  h2828fa1_18          installed                       \n",
      "\u001b[32m  libgcc-ng                    \u001b[00m       12.1.0  h8d9b700_16          conda-forge/linux-64      940 KB\n",
      "\u001b[31m  libgomp                      \u001b[00m        9.3.0  h2828fa1_18          installed                       \n",
      "\u001b[32m  libgomp                      \u001b[00m       12.1.0  h8d9b700_16          conda-forge/linux-64      459 KB\n",
      "\u001b[31m  libstdcxx-ng                 \u001b[00m        9.3.0  h6de172a_18          installed                       \n",
      "\u001b[32m  libstdcxx-ng                 \u001b[00m       12.1.0  ha89aaad_16          conda-forge/linux-64        4 MB\n",
      "\n",
      "  Summary:\n",
      "\n",
      "  Install: 196 packages\n",
      "  Upgrade: 3 packages\n",
      "\n",
      "  Total download: 870 MB\n",
      "\n",
      "─────────────────────────────────────────────────────────────────────────────────────────────────────\n",
      "\n",
      "\n",
      "Downloading and Extracting Packages\n",
      "alsa-lib-1.2.3.2     | 554 KB    | : 100% 1.0/1 [00:00<00:00,  3.97it/s]\n",
      "widgetsnbextension-3 | 1.2 MB    | : 100% 1.0/1 [00:00<00:00,  2.31it/s]\n",
      "snappy-1.1.9         | 35 KB     | : 100% 1.0/1 [00:00<00:00, 19.90it/s]\n",
      "send2trash-1.8.0     | 17 KB     | : 100% 1.0/1 [00:00<00:00, 22.17it/s]\n",
      "backcall-0.2.0       | 13 KB     | : 100% 1.0/1 [00:00<00:00, 24.77it/s]\n",
      "scotch-6.0.9         | 1.4 MB    | : 100% 1.0/1 [00:00<00:00,  2.01it/s]\n",
      "python-fastjsonschem | 243 KB    | : 100% 1.0/1 [00:00<00:00,  3.16it/s]\n",
      "lark-parser-0.12.0   | 78 KB     | : 100% 1.0/1 [00:00<00:00, 17.63it/s]\n",
      "cassandra-1.2.6      | 427 KB    | : 100% 1.0/1 [00:00<00:00,  6.01it/s]\n",
      "zipp-3.8.0           | 12 KB     | : 100% 1.0/1 [00:00<00:00, 21.29it/s]\n",
      "sympy-1.10.1         | 11.7 MB   | : 100% 1.0/1 [00:04<00:00,  4.34s/it]\n",
      "libpq-13.1           | 2.7 MB    | : 100% 1.0/1 [00:00<00:00,  1.10it/s]\n",
      "xorg-renderproto-0.1 | 8 KB      | : 100% 1.0/1 [00:00<00:00, 25.55it/s]\n",
      "boltons-21.0.0       | 211 KB    | : 100% 1.0/1 [00:00<00:00,  7.13it/s]\n",
      "nbconvert-6.5.0      | 6 KB      | : 100% 1.0/1 [00:00<00:00, 22.49it/s]\n",
      "xorg-libsm-1.2.3     | 26 KB     | : 100% 1.0/1 [00:00<00:00, 21.14it/s]\n",
      "gst-plugins-base-1.1 | 2.6 MB    | : 100% 1.0/1 [00:00<00:00,  1.11it/s]\n",
      "nbconvert-pandoc-6.5 | 4 KB      | : 100% 1.0/1 [00:00<00:00, 25.74it/s]\n",
      "glib-tools-2.68.4    | 86 KB     | : 100% 1.0/1 [00:00<00:00, 18.25it/s]\n",
      "boost-1.74.0         | 342 KB    | : 100% 1.0/1 [00:00<00:00,  5.33it/s]\n",
      "pytz-2022.1          | 242 KB    | : 100% 1.0/1 [00:00<00:00,  5.79it/s]\n",
      "pandas-1.3.5         | 12.7 MB   | : 100% 1.0/1 [00:04<00:00,  4.61s/it]\n",
      "attrs-21.4.0         | 49 KB     | : 100% 1.0/1 [00:00<00:00, 19.05it/s]\n",
      "libvorbis-1.3.7      | 287 KB    | : 100% 1.0/1 [00:00<00:00, 10.97it/s]\n",
      "importlib-metadata-4 | 33 KB     | : 100% 1.0/1 [00:00<00:00, 20.44it/s]\n",
      "libopenblas-0.3.20   | 10.1 MB   | : 100% 1.0/1 [00:02<00:00,  2.43s/it]\n",
      "libtiff-4.2.0        | 639 KB    | : 100% 1.0/1 [00:00<00:00,  5.44it/s]\n",
      "lxml-4.8.0           | 1.4 MB    | : 100% 1.0/1 [00:00<00:00,  2.57it/s]\n",
      "markupsafe-2.1.1     | 22 KB     | : 100% 1.0/1 [00:00<00:00, 22.61it/s]\n",
      "jinja2-3.1.2         | 99 KB     | : 100% 1.0/1 [00:00<00:00, 15.32it/s]\n",
      "reportlab-3.5.68     | 2.4 MB    | : 100% 1.0/1 [00:00<00:00,  1.55it/s]\n",
      "terminado-0.15.0     | 28 KB     | : 100% 1.0/1 [00:00<00:00, 12.14it/s]\n",
      "constrainmol-0.1.0   | 9 KB      | : 100% 1.0/1 [00:00<00:00,  7.54it/s]\n",
      "protobuf-3.18.0      | 341 KB    | : 100% 1.0/1 [00:00<00:00,  4.18it/s]\n",
      "wcwidth-0.2.5        | 33 KB     | : 100% 1.0/1 [00:00<00:00, 11.72it/s]\n",
      "beautifulsoup4-4.11. | 96 KB     | : 100% 1.0/1 [00:00<00:00, 12.70it/s]\n",
      "xorg-xproto-7.0.31   | 72 KB     | : 100% 1.0/1 [00:00<00:00, 10.62it/s]\n",
      "entrypoints-0.4      | 9 KB      | : 100% 1.0/1 [00:00<00:00, 29.28it/s]\n",
      "nbformat-5.4.0       | 104 KB    | : 100% 1.0/1 [00:00<00:00, 12.36it/s]\n",
      "tinycss2-1.1.1       | 23 KB     | : 100% 1.0/1 [00:00<00:00, 21.76it/s]\n",
      "nest-asyncio-1.5.5   | 9 KB      | : 100% 1.0/1 [00:00<00:00, 26.44it/s]\n",
      "libxcb-1.13          | 391 KB    | : 100% 1.0/1 [00:00<00:00,  3.99it/s]\n",
      "traitlets-5.2.2.post | 85 KB     | : 100% 1.0/1 [00:00<00:00, 13.96it/s]\n",
      "libxkbcommon-1.0.3   | 581 KB    | : 100% 1.0/1 [00:00<00:00,  6.28it/s]\n",
      "libblas-3.9.0        | 12 KB     | : 100% 1.0/1 [00:00<00:00, 26.34it/s]\n",
      "ipywidgets-7.7.0     | 103 KB    | : 100% 1.0/1 [00:00<00:00, 15.10it/s]\n",
      "tornado-6.1          | 646 KB    | : 100% 1.0/1 [00:00<00:00,  3.57it/s]\n",
      "ply-3.11             | 44 KB     | : 100% 1.0/1 [00:00<00:00, 20.33it/s]\n",
      "ipython-7.33.0       | 1.1 MB    | : 100% 1.0/1 [00:00<00:00,  2.08it/s]\n",
      "mysql-libs-8.0.23    | 1.8 MB    | : 100% 1.0/1 [00:00<00:00,  2.43it/s]\n",
      "importlib_resources- | 22 KB     | : 100% 1.0/1 [00:00<00:00, 22.01it/s]\n",
      "argon2-cffi-21.3.0   | 15 KB     | : 100% 1.0/1 [00:00<00:00, 22.14it/s]\n",
      "python-dateutil-2.8. | 240 KB    | : 100% 1.0/1 [00:00<00:00, 13.87it/s]\n",
      "libevent-2.1.10      | 1.1 MB    | : 100% 1.0/1 [00:00<00:00,  2.26it/s]\n",
      "packaging-21.3       | 36 KB     | : 100% 1.0/1 [00:00<00:00, 21.92it/s]\n",
      "qtpy-2.1.0           | 43 KB     | : 100% 1.0/1 [00:00<00:00, 19.55it/s]\n",
      "fontconfig-2.14.0    | 305 KB    | : 100% 1.0/1 [00:00<00:00,  8.20it/s]\n",
      "cycler-0.11.0        | 10 KB     | : 100% 1.0/1 [00:00<00:00, 21.19it/s]\n",
      "prompt-toolkit-3.0.2 | 252 KB    | : 100% 1.0/1 [00:00<00:00,  7.31it/s]\n",
      "backports-1.0        | 4 KB      | : 100% 1.0/1 [00:00<00:00, 20.10it/s]\n",
      "cudatoolkit-10.2.89  | 449.7 MB  | : 100% 1.0/1 [01:29<00:00, 89.49s/it]               \n",
      "libllvm11-11.1.0     | 29.1 MB   | : 100% 1.0/1 [00:07<00:00,  7.95s/it]               \n",
      "pyqt-5.12.3          | 22 KB     | : 100% 1.0/1 [00:00<00:00, 13.50it/s]\n",
      "mosdef_cassandra-0.3 | 96 KB     | : 100% 1.0/1 [00:00<00:00,  7.78it/s]\n",
      "libopus-1.3.1        | 255 KB    | : 100% 1.0/1 [00:00<00:00, 10.15it/s]\n",
      "blosc-1.21.1         | 955 KB    | : 100% 1.0/1 [00:00<00:00,  3.88it/s]\n",
      "openmm-7.7.0         | 11.0 MB   | : 100% 1.0/1 [00:04<00:00,  4.50s/it]\n",
      "pandoc-2.18          | 12.5 MB   | : 100% 1.0/1 [00:05<00:00,  5.50s/it]\n",
      "xorg-kbproto-1.0.7   | 26 KB     | : 100% 1.0/1 [00:00<00:00, 23.67it/s]\n",
      "gmp-6.2.1            | 806 KB    | : 100% 1.0/1 [00:00<00:00,  3.00it/s]\n",
      "libpng-1.6.37        | 359 KB    | : 100% 1.0/1 [00:00<00:00,  8.32it/s]\n",
      "cairo-1.16.0         | 1.5 MB    | : 100% 1.0/1 [00:00<00:00,  1.50it/s]\n",
      "numpy-1.21.6         | 6.1 MB    | : 100% 1.0/1 [00:02<00:00,  2.39s/it]               \n",
      "liblapack-3.9.0      | 12 KB     | : 100% 1.0/1 [00:00<00:00, 21.62it/s]\n",
      "ptyprocess-0.7.0     | 16 KB     | : 100% 1.0/1 [00:00<00:00, 24.58it/s]\n",
      "mbuild-0.14.2        | 497 KB    | : 100% 1.0/1 [00:00<00:00,  3.99it/s]\n",
      "ocl-icd-system-1.0.0 | 4 KB      | : 100% 1.0/1 [00:00<00:00, 26.95it/s]\n",
      "gstreamer-1.18.5     | 2.0 MB    | : 100% 1.0/1 [00:00<00:00,  1.45it/s]\n",
      "pygments-2.12.0      | 817 KB    | : 100% 1.0/1 [00:00<00:00,  2.76it/s]\n",
      "libprotobuf-3.18.0   | 2.6 MB    | : 100% 1.0/1 [00:00<00:00,  1.31it/s]\n",
      "nbconvert-core-6.5.0 | 425 KB    | : 100% 1.0/1 [00:00<00:00,  4.08it/s]\n",
      "astunparse-1.6.3     | 15 KB     | : 100% 1.0/1 [00:00<00:00, 18.74it/s]\n",
      "zeromq-4.3.4         | 351 KB    | : 100% 1.0/1 [00:00<00:00,  7.69it/s]\n",
      "ampl-mp-3.1.0        | 1.1 MB    | : 100% 1.0/1 [00:00<00:00,  1.99it/s]\n",
      "flit-core-3.7.1      | 44 KB     | : 100% 1.0/1 [00:00<00:00, 15.38it/s]\n",
      "libgfortran5-12.1.0  | 1.8 MB    | : 100% 1.0/1 [00:00<00:00,  2.11it/s]\n",
      "nomkl-1.0            | 4 KB      | : 100% 1.0/1 [00:00<00:00, 24.02it/s]\n",
      "libcblas-3.9.0       | 12 KB     | : 100% 1.0/1 [00:00<00:00, 23.72it/s]\n",
      "typing-extensions-4. | 8 KB      | : 100% 1.0/1 [00:00<00:00, 24.39it/s]\n",
      "gmpy2-2.1.2          | 216 KB    | : 100% 1.0/1 [00:00<00:00,  8.85it/s]\n",
      "networkx-2.7.1       | 1.5 MB    | : 100% 1.0/1 [00:00<00:00,  1.44it/s]\n",
      "pthread-stubs-0.4    | 5 KB      | : 100% 1.0/1 [00:00<00:00, 28.90it/s]\n",
      "webencodings-0.5.1   | 12 KB     | : 100% 1.0/1 [00:00<00:00, 21.67it/s]\n",
      "libgomp-12.1.0       | 459 KB    | : 100% 1.0/1 [00:00<00:00,  6.33it/s]\n",
      "hdf5-1.10.6          | 3.1 MB    | : 100% 1.0/1 [00:00<00:00,  1.25it/s]\n",
      "xorg-libxrender-0.9. | 32 KB     | : 100% 1.0/1 [00:00<00:00, 20.28it/s]\n",
      "mumps-seq-5.2.1      | 3.3 MB    | : 100% 1.0/1 [00:01<00:00,  1.09s/it]\n",
      "xorg-libxau-1.0.9    | 13 KB     | : 100% 1.0/1 [00:00<00:00, 22.94it/s]\n",
      "jpeg-9e              | 268 KB    | : 100% 1.0/1 [00:00<00:00,  7.29it/s]\n",
      "nglview-3.0.3        | 6.3 MB    | : 100% 1.0/1 [00:01<00:00,  1.89s/it]               \n",
      "pyqt-impl-5.12.3     | 5.9 MB    | : 100% 1.0/1 [00:02<00:00,  2.34s/it]\n",
      "xorg-libxdmcp-1.1.3  | 18 KB     | : 100% 1.0/1 [00:00<00:00, 25.23it/s]\n",
      "mistune-0.8.4        | 54 KB     | : 100% 1.0/1 [00:00<00:00, 17.28it/s]\n",
      "pyparsing-3.0.9      | 79 KB     | : 100% 1.0/1 [00:00<00:00, 17.79it/s]\n",
      "pexpect-4.8.0        | 79 KB     | : 100% 1.0/1 [00:00<00:00, 11.97it/s]\n",
      "pyomo-6.4.1          | 5.4 MB    | : 100% 1.0/1 [00:02<00:00,  2.70s/it]\n",
      "mpmath-1.2.1         | 437 KB    | : 100% 1.0/1 [00:00<00:00,  5.39it/s]\n",
      "pycairo-1.21.0       | 116 KB    | : 100% 1.0/1 [00:00<00:00, 16.91it/s]\n",
      "libwebp-base-1.2.2   | 824 KB    | : 100% 1.0/1 [00:00<00:00,  3.29it/s]\n",
      "xorg-libice-1.0.10   | 57 KB     | : 100% 1.0/1 [00:00<00:00, 19.17it/s]\n",
      "pyzmq-23.1.0         | 483 KB    | : 100% 1.0/1 [00:00<00:00,  4.73it/s]\n",
      "pyqt5-sip-4.19.18    | 310 KB    | : 100% 1.0/1 [00:00<00:00,  9.20it/s]\n",
      "freetype-2.10.4      | 890 KB    | : 100% 1.0/1 [00:00<00:00,  3.23it/s]\n",
      "pickleshare-0.7.5    | 13 KB     | : 100% 1.0/1 [00:00<00:00, 13.10it/s]\n",
      "openjpeg-2.4.0       | 444 KB    | : 100% 1.0/1 [00:00<00:00,  6.92it/s]\n",
      "pyrsistent-0.18.1    | 91 KB     | : 100% 1.0/1 [00:00<00:00, 15.43it/s]\n",
      "packmol-20.010       | 129 KB    | : 100% 1.0/1 [00:00<00:00, 16.50it/s]\n",
      "xorg-xextproto-7.3.0 | 27 KB     | : 100% 1.0/1 [00:00<00:00,  9.56it/s]\n",
      "boost-cpp-1.74.0     | 16.3 MB   | : 100% 1.0/1 [00:09<00:00,  9.65s/it]\n",
      "typing_extensions-4. | 27 KB     | : 100% 1.0/1 [00:00<00:00, 18.94it/s]\n",
      "foyer-0.11.1         | 301 KB    | : 100% 1.0/1 [00:00<00:00,  4.32it/s]\n",
      "pixman-0.40.0        | 627 KB    | : 100% 1.0/1 [00:00<00:00,  5.56it/s]\n",
      "nbclient-0.6.4       | 65 KB     | : 100% 1.0/1 [00:00<00:00, 15.48it/s]\n",
      "psutil-5.9.1         | 344 KB    | : 100% 1.0/1 [00:00<00:00,  6.11it/s]\n",
      "libgfortran-ng-12.1. | 23 KB     | : 100% 1.0/1 [00:00<00:00, 15.10it/s]\n",
      "kiwisolver-1.4.2     | 73 KB     | : 100% 1.0/1 [00:00<00:00, 12.55it/s]\n",
      "future-0.18.2        | 713 KB    | : 100% 1.0/1 [00:00<00:00,  3.07it/s]\n",
      "jupyterlab_pygments- | 17 KB     | : 100% 1.0/1 [00:00<00:00, 22.53it/s]\n",
      "unixodbc-2.3.10      | 296 KB    | : 100% 1.0/1 [00:00<00:00,  8.74it/s]\n",
      "xorg-libxext-1.3.4   | 54 KB     | : 100% 1.0/1 [00:00<00:00, 20.84it/s]\n",
      "matplotlib-inline-0. | 11 KB     | : 100% 1.0/1 [00:00<00:00, 28.03it/s]\n",
      "parso-0.8.3          | 69 KB     | : 100% 1.0/1 [00:00<00:00, 18.17it/s]\n",
      "metis-5.1.0          | 4.1 MB    | : 100% 1.0/1 [00:01<00:00,  1.19s/it]\n",
      "jupyter_client-7.3.1 | 90 KB     | : 100% 1.0/1 [00:00<00:00, 10.20it/s]\n",
      "bleach-5.0.0         | 123 KB    | : 100% 1.0/1 [00:00<00:00, 11.78it/s]\n",
      "mpc-1.2.1            | 106 KB    | : 100% 1.0/1 [00:00<00:00,  8.00it/s]\n",
      "jupyterlab_widgets-1 | 133 KB    | : 100% 1.0/1 [00:00<00:00,  8.73it/s]\n",
      "matplotlib-base-3.4. | 7.2 MB    | : 100% 1.0/1 [00:02<00:00,  2.06s/it]               \n",
      "prompt_toolkit-3.0.2 | 5 KB      | : 100% 1.0/1 [00:00<00:00, 28.95it/s]\n",
      "qtconsole-5.3.0      | 5 KB      | : 100% 1.0/1 [00:00<00:00, 24.87it/s]\n",
      "pyqtwebengine-5.12.1 | 175 KB    | : 100% 1.0/1 [00:00<00:00,  9.99it/s]\n",
      "dbus-1.13.6          | 572 KB    | : 100% 1.0/1 [00:00<00:00,  5.10it/s]\n",
      "pyqtchart-5.12       | 257 KB    | : 100% 1.0/1 [00:00<00:00,  8.28it/s]\n",
      "pillow-8.2.0         | 684 KB    | : 100% 1.0/1 [00:00<00:00,  4.49it/s]\n",
      "mdtraj-1.9.6         | 1.8 MB    | : 100% 1.0/1 [00:00<00:00,  1.74it/s]\n",
      "ele-0.2.0            | 13 KB     | : 100% 1.0/1 [00:00<00:00, 15.08it/s]\n",
      "nspr-4.32            | 233 KB    | : 100% 1.0/1 [00:00<00:00,  8.41it/s]\n",
      "backports.functools_ | 9 KB      | : 100% 1.0/1 [00:00<00:00, 24.46it/s]\n",
      "prometheus_client-0. | 49 KB     | : 100% 1.0/1 [00:00<00:00, 20.52it/s]\n",
      "libxslt-1.1.33       | 522 KB    | : 100% 1.0/1 [00:00<00:00,  3.88it/s]\n",
      "qt-5.12.9            | 99.5 MB   | : 100% 1.0/1 [00:27<00:00, 27.27s/it]               \n",
      "jupyter_console-6.4. | 23 KB     | : 100% 1.0/1 [00:00<00:00, 24.59it/s]\n",
      "libogg-1.3.4         | 206 KB    | : 100% 1.0/1 [00:00<00:00, 10.86it/s]\n",
      "ipopt-3.14.6         | 1.1 MB    | : 100% 1.0/1 [00:00<00:00,  2.61it/s]\n",
      "libgcc-ng-12.1.0     | 940 KB    | : 100% 1.0/1 [00:00<00:00,  3.12it/s]\n",
      "libglib-2.68.4       | 3.0 MB    | : 100% 1.0/1 [00:01<00:00,  1.01s/it]\n",
      "olefile-0.46         | 32 KB     | : 100% 1.0/1 [00:00<00:00, 21.67it/s]\n",
      "scipy-1.7.3          | 21.8 MB   | : 100% 1.0/1 [00:05<00:00,  5.70s/it]\n",
      "mysql-common-8.0.23  | 1.5 MB    | : 100% 1.0/1 [00:00<00:00,  1.14it/s]\n",
      "ocl-icd-2.3.1        | 119 KB    | : 100% 1.0/1 [00:00<00:00, 12.14it/s]\n",
      "ipykernel-6.13.0     | 185 KB    | : 100% 1.0/1 [00:00<00:00, 10.02it/s]\n",
      "libstdcxx-ng-12.1.0  | 4.3 MB    | : 100% 1.0/1 [00:00<00:00,  1.08it/s]\n",
      "nss-3.63             | 2.1 MB    | : 100% 1.0/1 [00:00<00:00,  1.76it/s]\n",
      "jedi-0.18.1          | 1008 KB   | : 100% 1.0/1 [00:00<00:00,  1.45it/s]\n",
      "soupsieve-2.3.1      | 33 KB     | : 100% 1.0/1 [00:00<00:00, 22.93it/s]\n",
      "gettext-0.19.8.1     | 3.6 MB    | : 100% 1.0/1 [00:01<00:00,  1.24s/it]\n",
      "debugpy-1.6.0        | 2.0 MB    | : 100% 1.0/1 [00:00<00:00,  1.10it/s]\n",
      "jupyter_core-4.10.0  | 81 KB     | : 100% 1.0/1 [00:00<00:00, 15.23it/s]\n",
      "numexpr-2.8.0        | 133 KB    | : 100% 1.0/1 [00:00<00:00, 14.27it/s]\n",
      "greenlet-1.1.2       | 90 KB     | : 100% 1.0/1 [00:00<00:00, 15.98it/s]\n",
      "jsonschema-4.6.0     | 62 KB     | : 100% 1.0/1 [00:00<00:00, 16.65it/s]\n",
      "pydantic-1.8.2       | 2.2 MB    | : 100% 1.0/1 [00:00<00:00,  1.30it/s]\n",
      "py3dmol-1.8.0        | 10 KB     | : 100% 1.0/1 [00:00<00:00, 23.03it/s]\n",
      "pcre-8.45            | 253 KB    | : 100% 1.0/1 [00:00<00:00, 10.11it/s]\n",
      "expat-2.4.8          | 187 KB    | : 100% 1.0/1 [00:00<00:00, 12.47it/s]\n",
      "libuuid-2.32.1       | 26 KB     | : 100% 1.0/1 [00:00<00:00, 19.47it/s]\n",
      "pandocfilters-1.5.0  | 11 KB     | : 100% 1.0/1 [00:00<00:00, 28.30it/s]\n",
      "defusedxml-0.7.1     | 23 KB     | : 100% 1.0/1 [00:00<00:00, 19.43it/s]\n",
      "mpfr-4.1.0           | 2.6 MB    | : 100% 1.0/1 [00:00<00:00,  1.62it/s]\n",
      "pytables-3.6.1       | 1.4 MB    | : 100% 1.0/1 [00:00<00:00,  1.45it/s]\n",
      "jupyter-1.0.0        | 6 KB      | : 100% 1.0/1 [00:00<00:00, 23.84it/s]\n",
      "xorg-libx11-1.7.2    | 941 KB    | : 100% 1.0/1 [00:00<00:00,  3.94it/s]\n",
      "ipython_genutils-0.2 | 21 KB     | : 100% 1.0/1 [00:00<00:00, 23.58it/s]\n",
      "sqlalchemy-1.4.37    | 2.3 MB    | : 100% 1.0/1 [00:00<00:00,  1.02it/s]\n",
      "lcms2-2.12           | 443 KB    | : 100% 1.0/1 [00:00<00:00,  7.32it/s]\n",
      "libsodium-1.0.18     | 366 KB    | : 100% 1.0/1 [00:00<00:00,  6.30it/s]\n",
      "fftw-3.3.10          | 6.4 MB    | : 100% 1.0/1 [00:01<00:00,  1.68s/it]               \n",
      "mock-4.0.3           | 51 KB     | : 100% 1.0/1 [00:00<00:00, 17.72it/s]\n",
      "glib-2.68.4          | 447 KB    | : 100% 1.0/1 [00:00<00:00,  4.15it/s]\n",
      "notebook-6.4.11      | 6.3 MB    | : 100% 1.0/1 [00:02<00:00,  2.14s/it]               \n",
      "parmed-3.4.3         | 974 KB    | : 100% 1.0/1 [00:00<00:00,  2.64it/s]\n",
      "libclang-11.1.0      | 19.2 MB   | : 100% 1.0/1 [00:05<00:00,  5.24s/it]               \n",
      "decorator-5.1.1      | 12 KB     | : 100% 1.0/1 [00:00<00:00, 22.75it/s]\n",
      "gmso-0.8.0           | 148 KB    | : 100% 1.0/1 [00:00<00:00,  9.24it/s]\n",
      "unyt-2.8.0           | 78 KB     | : 100% 1.0/1 [00:00<00:00, 16.19it/s]\n",
      "mumps-include-5.2.1  | 23 KB     | : 100% 1.0/1 [00:00<00:00, 18.68it/s]\n",
      "qtconsole-base-5.3.0 | 90 KB     | : 100% 1.0/1 [00:00<00:00,  9.90it/s]\n",
      "argon2-cffi-bindings | 34 KB     | : 100% 1.0/1 [00:00<00:00, 20.74it/s]\n",
      "rdkit-2022.03.2      | 39.4 MB   | : 100% 1.0/1 [00:11<00:00, 11.86s/it]\n",
      "Preparing transaction: - \b\b\\ \b\b| \b\b/ \b\b- \b\b\\ \b\b| \b\b/ \b\b- \b\b\\ \b\b| \b\b/ \b\b- \b\b\\ \b\b| \b\b/ \b\b- \b\b\\ \b\b| \b\b/ \b\b- \b\b\\ \b\b| \b\bdone\n",
      "Verifying transaction: - \b\b\\ \b\b| \b\b/ \b\b- \b\b\\ \b\b| \b\b/ \b\b- \b\b\\ \b\b| \b\b/ \b\b- \b\b\\ \b\b| \b\b/ \b\b- \b\b\\ \b\b| \b\b/ \b\b- \b\b\\ \b\b| \b\b/ \b\b- \b\b\\ \b\b| \b\b/ \b\b- \b\b\\ \b\b| \b\b/ \b\b- \b\b\\ \b\b| \b\b/ \b\b- \b\b\\ \b\b| \b\b/ \b\b- \b\b\\ \b\b| \b\b/ \b\b- \b\b\\ \b\b| \b\b/ \b\b- \b\b\\ \b\b| \b\b/ \b\b- \b\b\\ \b\b| \b\b/ \b\b- \b\b\\ \b\b| \b\b/ \b\b- \b\b\\ \b\b| \b\b/ \b\b- \b\b\\ \b\b| \b\b/ \b\b- \b\b\\ \b\b| \b\b/ \b\b- \b\b\\ \b\bdone\n",
      "Executing transaction: / \b\b- \b\b\\ \b\b| \b\b/ \b\b- \b\b\\ \b\b| \b\b/ \b\b- \b\b\\ \b\b| \b\b/ \b\b- \b\b\\ \b\b| \b\b/ \b\b- \b\b\\ \b\b| \b\b/ \b\b- \b\b\\ \b\b| \b\b/ \b\b- \b\b\\ \b\b| \b\b/ \b\b- \b\b\\ \b\b| \b\b/ \b\b- \b\b\\ \b\b| \b\b/ \b\b- By downloading and using the CUDA Toolkit conda packages, you accept the terms and conditions of the CUDA End User License Agreement (EULA): https://docs.nvidia.com/cuda/eula/index.html\n",
      "\n",
      "\b\b\\ \b\b| \b\b/ \b\b- \b\b\\ \b\b| \b\b/ \b\b- \b\b\\ \b\b| \b\b/ Enabling notebook extension jupyter-js-widgets/extension...\n",
      "Paths used for configuration of notebook: \n",
      "    \t/usr/local/etc/jupyter/nbconfig/notebook.d/jupyterlab-plotly.json\n",
      "    \t/usr/local/etc/jupyter/nbconfig/notebook.d/nglview-js-widgets.json\n",
      "    \t/usr/local/etc/jupyter/nbconfig/notebook.d/widgetsnbextension.json\n",
      "    \t/usr/local/etc/jupyter/nbconfig/notebook.json\n",
      "Paths used for configuration of notebook: \n",
      "    \t/usr/local/etc/jupyter/nbconfig/notebook.d/jupyterlab-plotly.json\n",
      "    \t/usr/local/etc/jupyter/nbconfig/notebook.d/nglview-js-widgets.json\n",
      "    \t/usr/local/etc/jupyter/nbconfig/notebook.d/widgetsnbextension.json\n",
      "      - Validating: \u001b[32mOK\u001b[0m\n",
      "Paths used for configuration of notebook: \n",
      "    \t/usr/local/etc/jupyter/nbconfig/notebook.d/jupyterlab-plotly.json\n",
      "    \t/usr/local/etc/jupyter/nbconfig/notebook.d/nglview-js-widgets.json\n",
      "    \t/usr/local/etc/jupyter/nbconfig/notebook.d/widgetsnbextension.json\n",
      "    \t/usr/local/etc/jupyter/nbconfig/notebook.json\n",
      "\n",
      "\b\b- \b\b\\ \b\b| \b\b/ \b\b- \b\b\\ \b\b| \b\b/ \b\b- \b\b\\ \b\b| \b\b/ \b\b- \b\b\\ \b\b| \b\b/ \b\b- \b\b\\ \b\b| \b\b/ \b\b- \b\b\\ \b\b| \b\b/ \b\b- \b\b\\ \b\b| \b\b/ \b\b- \b\b\\ \b\b| \b\b/ \b\b- \b\b\\ \b\b| \b\b/ \b\b- \b\b\\ \b\b| \b\b/ \b\b- \b\b\\ \b\b| \b\b/ \b\b- \b\b\\ \b\b| \b\b/ \b\b- \b\b\\ \b\b| \b\b/ \b\b- \b\b\\ \b\b| \b\b/ \b\b- \b\b\\ \b\b| \b\b/ \b\b- \b\b\\ \b\b| \b\b/ \b\b- \b\b\\ \b\b| \b\b/ \b\b- \b\b\\ \b\b| \b\b/ \b\bdone\n",
      "#\n",
      "# To activate this environment, use\n",
      "#\n",
      "#     $ conda activate base\n",
      "#\n",
      "# To deactivate an active environment, use\n",
      "#\n",
      "#     $ conda deactivate\n",
      "\n"
     ]
    }
   ],
   "source": [
    "!mamba env update -n base --file environment.yml"
   ]
  },
  {
   "cell_type": "code",
   "execution_count": null,
   "metadata": {
    "colab": {
     "base_uri": "https://localhost:8080/"
    },
    "id": "hukZYAUCKgV4",
    "outputId": "db17b3ce-8397-42a4-983a-deb1c0849eac"
   },
   "outputs": [
    {
     "name": "stdout",
     "output_type": "stream",
     "text": [
      "Python 3.7.10\n"
     ]
    }
   ],
   "source": [
    "!python --version"
   ]
  },
  {
   "cell_type": "markdown",
   "metadata": {
    "id": "0-5azKcvNxTy"
   },
   "source": [
    "## Example Workflow\n",
    "\n"
   ]
  },
  {
   "cell_type": "markdown",
   "metadata": {
    "id": "SlZXb5Bze89W"
   },
   "source": [
    "## Import the required packages"
   ]
  },
  {
   "cell_type": "code",
   "execution_count": null,
   "metadata": {
    "id": "rqo7m1KVRxfR"
   },
   "outputs": [],
   "source": [
    "import mbuild as mb\n",
    "from foyer import Forcefield\n",
    "from mbuild.lib.recipes.polymer import Polymer\n",
    "import unyt as u\n",
    "\n",
    "import mosdef_cassandra as mc"
   ]
  },
  {
   "cell_type": "code",
   "execution_count": null,
   "metadata": {
    "id": "hDY9cRGFhHsr"
   },
   "outputs": [],
   "source": [
    "from google.colab import output  ## Enable Custom Widgets\n",
    "output.enable_custom_widget_manager()"
   ]
  },
  {
   "cell_type": "markdown",
   "metadata": {
    "id": "7eSD4C8UfsSG"
   },
   "source": [
    "### Mol2 Files for Ethane and Propane"
   ]
  },
  {
   "cell_type": "code",
   "execution_count": null,
   "metadata": {
    "id": "BzRkXloRfEYc"
   },
   "outputs": [],
   "source": [
    "ETHANE = \"\"\"@<TRIPOS>MOLECULE\n",
    "ETH\n",
    "    2    1    1    0    0\n",
    "SMALL\n",
    "NO_CHARGES\n",
    "****\n",
    "Energy = 0\n",
    "\n",
    "@<TRIPOS>ATOM\n",
    "      1  _CH3       0.0000    0.0000    0.0000    C    1  ETH        0.000000\n",
    "      2  _CH3      -1.5400    0.0000    0.0000    C    1  ETH        0.000000\n",
    "@<TRIPOS>BOND\n",
    "    1     1     2  1\n",
    "\n",
    "@<TRIPOS>SUBSTRUCTURE\n",
    "1 ****        1 TEMP                        0 ****  **** 0 ROOT\n",
    "\n",
    "#generated by VMD\n",
    "\"\"\"\n",
    "\n",
    "PROPANE = \"\"\"@<TRIPOS>MOLECULE\n",
    "PRO\n",
    "    3    2    1    0    0\n",
    "SMALL\n",
    "NO_CHARGES\n",
    "****\n",
    "Energy = 0\n",
    "\n",
    "@<TRIPOS>ATOM\n",
    "      1  _CH3       0.0000    0.0000    0.0000    C    1  PRO        0.000000\n",
    "      2  _CH2      -1.5400    0.0000    0.0000    C    1  PRO        0.000000\n",
    "      3  _CH3      -3.0800    0.0000    0.0000    C    1  PRO        0.000000\n",
    "@<TRIPOS>BOND\n",
    "    1     1     2  1\n",
    "    2     2     3  1\n",
    "\n",
    "@<TRIPOS>SUBSTRUCTURE\n",
    "1 ****        1 TEMP                        0 ****  **** 0 ROOT\n",
    "\n",
    "#generated by VMD\n",
    "\"\"\"\n",
    "\n",
    "with open(\"ethane.mol2\", \"w\") as ethane_mol2:\n",
    "  ethane_mol2.write(ETHANE)\n",
    "\n",
    "with open(\"propane.mol2\", \"w\") as propane_mol2:\n",
    "  propane_mol2.write(PROPANE)"
   ]
  },
  {
   "cell_type": "code",
   "execution_count": null,
   "metadata": {
    "colab": {
     "base_uri": "https://localhost:8080/"
    },
    "id": "RqbkhFIYrs-7",
    "outputId": "15387235-5de4-4a0e-e83e-751b9f754b8a"
   },
   "outputs": [
    {
     "name": "stdout",
     "output_type": "stream",
     "text": [
      "@<TRIPOS>MOLECULE\n",
      "ETH\n",
      "    2    1    1    0    0\n",
      "SMALL\n",
      "NO_CHARGES\n",
      "****\n",
      "Energy = 0\n",
      "\n",
      "@<TRIPOS>ATOM\n",
      "      1  _CH3       0.0000    0.0000    0.0000    C    1  ETH        0.000000\n",
      "      2  _CH3      -1.5400    0.0000    0.0000    C    1  ETH        0.000000\n",
      "@<TRIPOS>BOND\n",
      "    1     1     2  1\n",
      "\n",
      "@<TRIPOS>SUBSTRUCTURE\n",
      "1 ****        1 TEMP                        0 ****  **** 0 ROOT\n",
      "\n",
      "#generated by VMD\n",
      "\n",
      "======================================\n",
      "\n",
      "@<TRIPOS>MOLECULE\n",
      "PRO\n",
      "    3    2    1    0    0\n",
      "SMALL\n",
      "NO_CHARGES\n",
      "****\n",
      "Energy = 0\n",
      "\n",
      "@<TRIPOS>ATOM\n",
      "      1  _CH3       0.0000    0.0000    0.0000    C    1  PRO        0.000000\n",
      "      2  _CH2      -1.5400    0.0000    0.0000    C    1  PRO        0.000000\n",
      "      3  _CH3      -3.0800    0.0000    0.0000    C    1  PRO        0.000000\n",
      "@<TRIPOS>BOND\n",
      "    1     1     2  1\n",
      "    2     2     3  1\n",
      "\n",
      "@<TRIPOS>SUBSTRUCTURE\n",
      "1 ****        1 TEMP                        0 ****  **** 0 ROOT\n",
      "\n",
      "#generated by VMD\n"
     ]
    }
   ],
   "source": [
    "! cat ethane.mol2\n",
    "! echo $'\\n======================================\\n'\n",
    "! cat propane.mol2"
   ]
  },
  {
   "cell_type": "markdown",
   "metadata": {
    "id": "S3LOu-48hM5-"
   },
   "source": [
    "## Load Files\n",
    "Import a ethane and propane mol2 file for the TraPPE-UA force field, which will be modified allowing the creation of an alkane with of chosen length to it until we reach pentane.  However, any length of an alkane > propane can be created with this example.\n",
    "\n",
    "### Select "
   ]
  },
  {
   "cell_type": "code",
   "execution_count": null,
   "metadata": {
    "colab": {
     "base_uri": "https://localhost:8080/",
     "height": 515
    },
    "id": "cA1q823YhGA5",
    "outputId": "fc99bdb2-2935-4691-c43a-863b5b775d72"
   },
   "outputs": [
    {
     "data": {
      "application/3dmoljs_load.v0": "<div id=\"3dmolviewer_16541947599766107\"  style=\"position: relative; width: 640px; height: 480px\">\n        <p id=\"3dmolwarning_16541947599766107\" style=\"background-color:#ffcccc;color:black\">You appear to be running in JupyterLab (or JavaScript failed to load for some other reason).  You need to install the 3dmol extension: <br>\n        <tt>jupyter labextension install jupyterlab_3dmol</tt></p>\n        </div>\n<script>\n\nvar loadScriptAsync = function(uri){\n  return new Promise((resolve, reject) => {\n    var tag = document.createElement('script');\n    tag.src = uri;\n    tag.async = true;\n    tag.onload = () => {\n      resolve();\n    };\n  var firstScriptTag = document.getElementsByTagName('script')[0];\n  firstScriptTag.parentNode.insertBefore(tag, firstScriptTag);\n});\n};\n\nif(typeof $3Dmolpromise === 'undefined') {\n$3Dmolpromise = null;\n  $3Dmolpromise = loadScriptAsync('https://3dmol.org/build/3Dmol.js');\n}\n\nvar viewer_16541947599766107 = null;\nvar warn = document.getElementById(\"3dmolwarning_16541947599766107\");\nif(warn) {\n    warn.parentNode.removeChild(warn);\n}\n$3Dmolpromise.then(function() {\nviewer_16541947599766107 = $3Dmol.createViewer($(\"#3dmolviewer_16541947599766107\"),{backgroundColor:\"white\"});\nviewer_16541947599766107.zoomTo();\n\tviewer_16541947599766107.addModel(\"@<TRIPOS>MOLECULE\\nRES\\n3 2 1 0 1\\nSMALL\\nNO_CHARGES\\n@<TRIPOS>CRYSIN\\n    8.0800    15.0000    15.0000    90.0000    90.0000    90.0000  1  1\\n@<TRIPOS>ATOM\\n       1 _CH3         0.0000     0.0000     0.0000 _CH3          1 RES     \\n       2 _CH2        -1.5400     0.0000     0.0000 _CH2          1 RES     \\n       3 _CH3        -3.0800     0.0000     0.0000 _CH3          1 RES     \\n@<TRIPOS>BOND\\n       1        1        2 1\\n       2        3        2 1\\n@<TRIPOS>SUBSTRUCTURE\\n       1 RES             1 RESIDUE    0 **** ROOT      0\\n\",\"mol2\");\n\tviewer_16541947599766107.setStyle({\"stick\": {\"radius\": 0.2, \"color\": \"grey\"}, \"sphere\": {\"scale\": 0.3, \"colorscheme\": {}}});\n\tviewer_16541947599766107.zoomTo();\nviewer_16541947599766107.render();\n});\n</script>",
      "text/html": [
       "<div id=\"3dmolviewer_16541947599766107\"  style=\"position: relative; width: 640px; height: 480px\">\n",
       "        <p id=\"3dmolwarning_16541947599766107\" style=\"background-color:#ffcccc;color:black\">You appear to be running in JupyterLab (or JavaScript failed to load for some other reason).  You need to install the 3dmol extension: <br>\n",
       "        <tt>jupyter labextension install jupyterlab_3dmol</tt></p>\n",
       "        </div>\n",
       "<script>\n",
       "\n",
       "var loadScriptAsync = function(uri){\n",
       "  return new Promise((resolve, reject) => {\n",
       "    var tag = document.createElement('script');\n",
       "    tag.src = uri;\n",
       "    tag.async = true;\n",
       "    tag.onload = () => {\n",
       "      resolve();\n",
       "    };\n",
       "  var firstScriptTag = document.getElementsByTagName('script')[0];\n",
       "  firstScriptTag.parentNode.insertBefore(tag, firstScriptTag);\n",
       "});\n",
       "};\n",
       "\n",
       "if(typeof $3Dmolpromise === 'undefined') {\n",
       "$3Dmolpromise = null;\n",
       "  $3Dmolpromise = loadScriptAsync('https://3dmol.org/build/3Dmol.js');\n",
       "}\n",
       "\n",
       "var viewer_16541947599766107 = null;\n",
       "var warn = document.getElementById(\"3dmolwarning_16541947599766107\");\n",
       "if(warn) {\n",
       "    warn.parentNode.removeChild(warn);\n",
       "}\n",
       "$3Dmolpromise.then(function() {\n",
       "viewer_16541947599766107 = $3Dmol.createViewer($(\"#3dmolviewer_16541947599766107\"),{backgroundColor:\"white\"});\n",
       "viewer_16541947599766107.zoomTo();\n",
       "\tviewer_16541947599766107.addModel(\"@<TRIPOS>MOLECULE\\nRES\\n3 2 1 0 1\\nSMALL\\nNO_CHARGES\\n@<TRIPOS>CRYSIN\\n    8.0800    15.0000    15.0000    90.0000    90.0000    90.0000  1  1\\n@<TRIPOS>ATOM\\n       1 _CH3         0.0000     0.0000     0.0000 _CH3          1 RES     \\n       2 _CH2        -1.5400     0.0000     0.0000 _CH2          1 RES     \\n       3 _CH3        -3.0800     0.0000     0.0000 _CH3          1 RES     \\n@<TRIPOS>BOND\\n       1        1        2 1\\n       2        3        2 1\\n@<TRIPOS>SUBSTRUCTURE\\n       1 RES             1 RESIDUE    0 **** ROOT      0\\n\",\"mol2\");\n",
       "\tviewer_16541947599766107.setStyle({\"stick\": {\"radius\": 0.2, \"color\": \"grey\"}, \"sphere\": {\"scale\": 0.3, \"colorscheme\": {}}});\n",
       "\tviewer_16541947599766107.zoomTo();\n",
       "viewer_16541947599766107.render();\n",
       "});\n",
       "</script>"
      ]
     },
     "metadata": {},
     "output_type": "display_data"
    },
    {
     "data": {
      "text/plain": [
       "<py3Dmol.view at 0x7fe78d99a4d0>"
      ]
     },
     "execution_count": 14,
     "metadata": {},
     "output_type": "execute_result"
    }
   ],
   "source": [
    "ethane_mol2_path = 'ethane.mol2'\n",
    "propane_mol2_path = 'propane.mol2'\n",
    "\n",
    "\n",
    "ethane_comp = mb.load(ethane_mol2_path) # Get the ethane mol2 file\n",
    "propane_comp = mb.load(propane_mol2_path) # Get the propane mol2 file\n",
    "\n",
    "propane_comp.visualize(backend=\"nglview\")"
   ]
  },
  {
   "cell_type": "markdown",
   "metadata": {
    "id": "-QbggOW5kMUQ"
   },
   "source": [
    "### Building Butane:  Add the end groups where we will cap the beginning (head) and end (tail) of the molecule."
   ]
  },
  {
   "cell_type": "code",
   "execution_count": null,
   "metadata": {
    "colab": {
     "base_uri": "https://localhost:8080/",
     "height": 515
    },
    "id": "roTHPVn3byvA",
    "outputId": "8816e73a-e388-44c9-f195-e5c364c0195c"
   },
   "outputs": [
    {
     "data": {
      "application/3dmoljs_load.v0": "<div id=\"3dmolviewer_16541947656192968\"  style=\"position: relative; width: 640px; height: 480px\">\n        <p id=\"3dmolwarning_16541947656192968\" style=\"background-color:#ffcccc;color:black\">You appear to be running in JupyterLab (or JavaScript failed to load for some other reason).  You need to install the 3dmol extension: <br>\n        <tt>jupyter labextension install jupyterlab_3dmol</tt></p>\n        </div>\n<script>\n\nvar loadScriptAsync = function(uri){\n  return new Promise((resolve, reject) => {\n    var tag = document.createElement('script');\n    tag.src = uri;\n    tag.async = true;\n    tag.onload = () => {\n      resolve();\n    };\n  var firstScriptTag = document.getElementsByTagName('script')[0];\n  firstScriptTag.parentNode.insertBefore(tag, firstScriptTag);\n});\n};\n\nif(typeof $3Dmolpromise === 'undefined') {\n$3Dmolpromise = null;\n  $3Dmolpromise = loadScriptAsync('https://3dmol.org/build/3Dmol.js');\n}\n\nvar viewer_16541947656192968 = null;\nvar warn = document.getElementById(\"3dmolwarning_16541947656192968\");\nif(warn) {\n    warn.parentNode.removeChild(warn);\n}\n$3Dmolpromise.then(function() {\nviewer_16541947656192968 = $3Dmol.createViewer($(\"#3dmolviewer_16541947656192968\"),{backgroundColor:\"white\"});\nviewer_16541947656192968.zoomTo();\n\tviewer_16541947656192968.addModel(\"@<TRIPOS>MOLECULE\\nRES\\n4 3 1 0 1\\nSMALL\\nNO_CHARGES\\n@<TRIPOS>CRYSIN\\n    9.6200    15.0000    15.0000    90.0000    90.0000    90.0000  1  1\\n@<TRIPOS>ATOM\\n       1 _CH2        -1.5400     0.0000     0.0000 _CH2          1 RES     \\n       2 _CH2        -3.0800     0.0000     0.0000 _CH2          1 RES     \\n       3 _CH3         0.0000    -0.0000     0.0000 _CH3          1 RES     \\n       4 _CH3        -4.6200     0.0000    -0.0000 _CH3          1 RES     \\n@<TRIPOS>BOND\\n       1        2        1 1\\n       2        3        1 1\\n       3        4        2 1\\n@<TRIPOS>SUBSTRUCTURE\\n       1 RES             1 RESIDUE    0 **** ROOT      0\\n\",\"mol2\");\n\tviewer_16541947656192968.setStyle({\"stick\": {\"radius\": 0.2, \"color\": \"grey\"}, \"sphere\": {\"scale\": 0.3, \"colorscheme\": {}}});\n\tviewer_16541947656192968.zoomTo();\nviewer_16541947656192968.render();\n});\n</script>",
      "text/html": [
       "<div id=\"3dmolviewer_16541947656192968\"  style=\"position: relative; width: 640px; height: 480px\">\n",
       "        <p id=\"3dmolwarning_16541947656192968\" style=\"background-color:#ffcccc;color:black\">You appear to be running in JupyterLab (or JavaScript failed to load for some other reason).  You need to install the 3dmol extension: <br>\n",
       "        <tt>jupyter labextension install jupyterlab_3dmol</tt></p>\n",
       "        </div>\n",
       "<script>\n",
       "\n",
       "var loadScriptAsync = function(uri){\n",
       "  return new Promise((resolve, reject) => {\n",
       "    var tag = document.createElement('script');\n",
       "    tag.src = uri;\n",
       "    tag.async = true;\n",
       "    tag.onload = () => {\n",
       "      resolve();\n",
       "    };\n",
       "  var firstScriptTag = document.getElementsByTagName('script')[0];\n",
       "  firstScriptTag.parentNode.insertBefore(tag, firstScriptTag);\n",
       "});\n",
       "};\n",
       "\n",
       "if(typeof $3Dmolpromise === 'undefined') {\n",
       "$3Dmolpromise = null;\n",
       "  $3Dmolpromise = loadScriptAsync('https://3dmol.org/build/3Dmol.js');\n",
       "}\n",
       "\n",
       "var viewer_16541947656192968 = null;\n",
       "var warn = document.getElementById(\"3dmolwarning_16541947656192968\");\n",
       "if(warn) {\n",
       "    warn.parentNode.removeChild(warn);\n",
       "}\n",
       "$3Dmolpromise.then(function() {\n",
       "viewer_16541947656192968 = $3Dmol.createViewer($(\"#3dmolviewer_16541947656192968\"),{backgroundColor:\"white\"});\n",
       "viewer_16541947656192968.zoomTo();\n",
       "\tviewer_16541947656192968.addModel(\"@<TRIPOS>MOLECULE\\nRES\\n4 3 1 0 1\\nSMALL\\nNO_CHARGES\\n@<TRIPOS>CRYSIN\\n    9.6200    15.0000    15.0000    90.0000    90.0000    90.0000  1  1\\n@<TRIPOS>ATOM\\n       1 _CH2        -1.5400     0.0000     0.0000 _CH2          1 RES     \\n       2 _CH2        -3.0800     0.0000     0.0000 _CH2          1 RES     \\n       3 _CH3         0.0000    -0.0000     0.0000 _CH3          1 RES     \\n       4 _CH3        -4.6200     0.0000    -0.0000 _CH3          1 RES     \\n@<TRIPOS>BOND\\n       1        2        1 1\\n       2        3        1 1\\n       3        4        2 1\\n@<TRIPOS>SUBSTRUCTURE\\n       1 RES             1 RESIDUE    0 **** ROOT      0\\n\",\"mol2\");\n",
       "\tviewer_16541947656192968.setStyle({\"stick\": {\"radius\": 0.2, \"color\": \"grey\"}, \"sphere\": {\"scale\": 0.3, \"colorscheme\": {}}});\n",
       "\tviewer_16541947656192968.zoomTo();\n",
       "viewer_16541947656192968.render();\n",
       "});\n",
       "</script>"
      ]
     },
     "metadata": {},
     "output_type": "display_data"
    },
    {
     "data": {
      "text/plain": [
       "<py3Dmol.view at 0x7fe78d98f9d0>"
      ]
     },
     "execution_count": 15,
     "metadata": {},
     "output_type": "execute_result"
    }
   ],
   "source": [
    "n_butane = Polymer()\n",
    "\n",
    "\n",
    "n_butane.add_monomer(compound=propane_comp,\n",
    "                     indices= [0,-1],\n",
    "                     separation=0.154,\n",
    "                     replace=True, \n",
    "                     #orientation=[-1,None]\n",
    "                    )\n",
    "\n",
    "n_butane.add_end_groups(ethane_comp, \n",
    "                        index=0, \n",
    "                        separation=0.154, \n",
    "                        label=\"head\", \n",
    "                        duplicate=False\n",
    "                       )\n",
    "\n",
    "n_butane.add_end_groups(ethane_comp, \n",
    "                        index=0, \n",
    "                        separation=0.154, \n",
    "                        label=\"tail\", \n",
    "                        duplicate=False\n",
    "                       )\n",
    "\n",
    "number_of_carbons = 4 # minimum allowable=3  \n",
    "\n",
    "n_butane.build(n=number_of_carbons-2, sequence='A') # n=number_of_carbons-(head and tail cap)\n",
    "n_butane.name = 'BUT'\n",
    "\n",
    "n_butane.visualize(show_ports=True)"
   ]
  },
  {
   "cell_type": "markdown",
   "metadata": {
    "id": "Xx1x98pEkWew"
   },
   "source": [
    "### Building Pentane:  Add the end groups where we will cap the beginning (head) and end (tail) of the molecule."
   ]
  },
  {
   "cell_type": "code",
   "execution_count": null,
   "metadata": {
    "colab": {
     "base_uri": "https://localhost:8080/",
     "height": 515
    },
    "id": "btzvk_SElUYy",
    "outputId": "f12c41d2-d727-4bad-e462-9bece447406c"
   },
   "outputs": [
    {
     "data": {
      "application/3dmoljs_load.v0": "<div id=\"3dmolviewer_16541947698871217\"  style=\"position: relative; width: 640px; height: 480px\">\n        <p id=\"3dmolwarning_16541947698871217\" style=\"background-color:#ffcccc;color:black\">You appear to be running in JupyterLab (or JavaScript failed to load for some other reason).  You need to install the 3dmol extension: <br>\n        <tt>jupyter labextension install jupyterlab_3dmol</tt></p>\n        </div>\n<script>\n\nvar loadScriptAsync = function(uri){\n  return new Promise((resolve, reject) => {\n    var tag = document.createElement('script');\n    tag.src = uri;\n    tag.async = true;\n    tag.onload = () => {\n      resolve();\n    };\n  var firstScriptTag = document.getElementsByTagName('script')[0];\n  firstScriptTag.parentNode.insertBefore(tag, firstScriptTag);\n});\n};\n\nif(typeof $3Dmolpromise === 'undefined') {\n$3Dmolpromise = null;\n  $3Dmolpromise = loadScriptAsync('https://3dmol.org/build/3Dmol.js');\n}\n\nvar viewer_16541947698871217 = null;\nvar warn = document.getElementById(\"3dmolwarning_16541947698871217\");\nif(warn) {\n    warn.parentNode.removeChild(warn);\n}\n$3Dmolpromise.then(function() {\nviewer_16541947698871217 = $3Dmol.createViewer($(\"#3dmolviewer_16541947698871217\"),{backgroundColor:\"white\"});\nviewer_16541947698871217.zoomTo();\n\tviewer_16541947698871217.addModel(\"@<TRIPOS>MOLECULE\\nRES\\n5 4 1 0 1\\nSMALL\\nNO_CHARGES\\n@<TRIPOS>CRYSIN\\n   11.1600    15.0000    15.0000    90.0000    90.0000    90.0000  1  1\\n@<TRIPOS>ATOM\\n       1 _CH2        -1.5400     0.0000     0.0000 _CH2          1 RES     \\n       2 _CH2        -3.0800     0.0000     0.0000 _CH2          1 RES     \\n       3 _CH2        -4.6200     0.0000    -0.0000 _CH2          1 RES     \\n       4 _CH3         0.0000    -0.0000     0.0000 _CH3          1 RES     \\n       5 _CH3        -6.1600     0.0000    -0.0000 _CH3          1 RES     \\n@<TRIPOS>BOND\\n       1        2        1 1\\n       2        4        1 1\\n       3        3        2 1\\n       4        5        3 1\\n@<TRIPOS>SUBSTRUCTURE\\n       1 RES             1 RESIDUE    0 **** ROOT      0\\n\",\"mol2\");\n\tviewer_16541947698871217.setStyle({\"stick\": {\"radius\": 0.2, \"color\": \"grey\"}, \"sphere\": {\"scale\": 0.3, \"colorscheme\": {}}});\n\tviewer_16541947698871217.zoomTo();\nviewer_16541947698871217.render();\n});\n</script>",
      "text/html": [
       "<div id=\"3dmolviewer_16541947698871217\"  style=\"position: relative; width: 640px; height: 480px\">\n",
       "        <p id=\"3dmolwarning_16541947698871217\" style=\"background-color:#ffcccc;color:black\">You appear to be running in JupyterLab (or JavaScript failed to load for some other reason).  You need to install the 3dmol extension: <br>\n",
       "        <tt>jupyter labextension install jupyterlab_3dmol</tt></p>\n",
       "        </div>\n",
       "<script>\n",
       "\n",
       "var loadScriptAsync = function(uri){\n",
       "  return new Promise((resolve, reject) => {\n",
       "    var tag = document.createElement('script');\n",
       "    tag.src = uri;\n",
       "    tag.async = true;\n",
       "    tag.onload = () => {\n",
       "      resolve();\n",
       "    };\n",
       "  var firstScriptTag = document.getElementsByTagName('script')[0];\n",
       "  firstScriptTag.parentNode.insertBefore(tag, firstScriptTag);\n",
       "});\n",
       "};\n",
       "\n",
       "if(typeof $3Dmolpromise === 'undefined') {\n",
       "$3Dmolpromise = null;\n",
       "  $3Dmolpromise = loadScriptAsync('https://3dmol.org/build/3Dmol.js');\n",
       "}\n",
       "\n",
       "var viewer_16541947698871217 = null;\n",
       "var warn = document.getElementById(\"3dmolwarning_16541947698871217\");\n",
       "if(warn) {\n",
       "    warn.parentNode.removeChild(warn);\n",
       "}\n",
       "$3Dmolpromise.then(function() {\n",
       "viewer_16541947698871217 = $3Dmol.createViewer($(\"#3dmolviewer_16541947698871217\"),{backgroundColor:\"white\"});\n",
       "viewer_16541947698871217.zoomTo();\n",
       "\tviewer_16541947698871217.addModel(\"@<TRIPOS>MOLECULE\\nRES\\n5 4 1 0 1\\nSMALL\\nNO_CHARGES\\n@<TRIPOS>CRYSIN\\n   11.1600    15.0000    15.0000    90.0000    90.0000    90.0000  1  1\\n@<TRIPOS>ATOM\\n       1 _CH2        -1.5400     0.0000     0.0000 _CH2          1 RES     \\n       2 _CH2        -3.0800     0.0000     0.0000 _CH2          1 RES     \\n       3 _CH2        -4.6200     0.0000    -0.0000 _CH2          1 RES     \\n       4 _CH3         0.0000    -0.0000     0.0000 _CH3          1 RES     \\n       5 _CH3        -6.1600     0.0000    -0.0000 _CH3          1 RES     \\n@<TRIPOS>BOND\\n       1        2        1 1\\n       2        4        1 1\\n       3        3        2 1\\n       4        5        3 1\\n@<TRIPOS>SUBSTRUCTURE\\n       1 RES             1 RESIDUE    0 **** ROOT      0\\n\",\"mol2\");\n",
       "\tviewer_16541947698871217.setStyle({\"stick\": {\"radius\": 0.2, \"color\": \"grey\"}, \"sphere\": {\"scale\": 0.3, \"colorscheme\": {}}});\n",
       "\tviewer_16541947698871217.zoomTo();\n",
       "viewer_16541947698871217.render();\n",
       "});\n",
       "</script>"
      ]
     },
     "metadata": {},
     "output_type": "display_data"
    },
    {
     "data": {
      "text/plain": [
       "<py3Dmol.view at 0x7fe78b02d090>"
      ]
     },
     "execution_count": 16,
     "metadata": {},
     "output_type": "execute_result"
    }
   ],
   "source": [
    "n_penane = Polymer()\n",
    "\n",
    "\n",
    "n_penane.add_monomer(compound=propane_comp,\n",
    "                     indices= [0,-1],\n",
    "                     separation=0.154,\n",
    "                     replace=True, \n",
    "                     #orientation=[-1,None]\n",
    "                    )\n",
    "\n",
    "n_penane.add_end_groups(ethane_comp, \n",
    "                        index=0, \n",
    "                        separation=0.154, \n",
    "                        label=\"head\", \n",
    "                        duplicate=False\n",
    "                       )\n",
    "\n",
    "n_penane.add_end_groups(ethane_comp, \n",
    "                        index=0, \n",
    "                        separation=0.154, \n",
    "                        label=\"tail\", \n",
    "                        duplicate=False\n",
    "                       )\n",
    "\n",
    "number_of_carbons = 5 # minimum allowable=3  \n",
    "\n",
    "n_penane.build(n=number_of_carbons-2, sequence='A') # n=number_of_carbons-(head and tail cap)\n",
    "n_penane.name = 'PEN'\n",
    "\n",
    "n_penane.visualize(show_ports=True)\n"
   ]
  },
  {
   "cell_type": "markdown",
   "metadata": {
    "id": "AigK7Sa6lF-7"
   },
   "source": [
    "## Build a box of pentane and minimize the box using the TraPPE-UA force field"
   ]
  },
  {
   "cell_type": "code",
   "execution_count": null,
   "metadata": {
    "colab": {
     "base_uri": "https://localhost:8080/",
     "height": 662
    },
    "id": "eTIjeHz0dFZx",
    "outputId": "9ceaf643-5885-4930-c3ed-cc1af5716bda"
   },
   "outputs": [
    {
     "name": "stderr",
     "output_type": "stream",
     "text": [
      "/usr/local/lib/python3.7/site-packages/foyer/forcefield.py:667: UserWarning: Non-atomistic element type detected. Creating custom element for _CH4\n",
      "  \"Creating custom element for {}\".format(element)\n",
      "/usr/local/lib/python3.7/site-packages/foyer/forcefield.py:667: UserWarning: Non-atomistic element type detected. Creating custom element for _CH3\n",
      "  \"Creating custom element for {}\".format(element)\n",
      "/usr/local/lib/python3.7/site-packages/foyer/forcefield.py:667: UserWarning: Non-atomistic element type detected. Creating custom element for _CH2\n",
      "  \"Creating custom element for {}\".format(element)\n",
      "/usr/local/lib/python3.7/site-packages/foyer/forcefield.py:667: UserWarning: Non-atomistic element type detected. Creating custom element for _HC\n",
      "  \"Creating custom element for {}\".format(element)\n"
     ]
    },
    {
     "data": {
      "application/3dmoljs_load.v0": "<div id=\"3dmolviewer_16541995930377574\"  style=\"position: relative; width: 640px; height: 480px\">\n        <p id=\"3dmolwarning_16541995930377574\" style=\"background-color:#ffcccc;color:black\">You appear to be running in JupyterLab (or JavaScript failed to load for some other reason).  You need to install the 3dmol extension: <br>\n        <tt>jupyter labextension install jupyterlab_3dmol</tt></p>\n        </div>\n<script>\n\nvar loadScriptAsync = function(uri){\n  return new Promise((resolve, reject) => {\n    var tag = document.createElement('script');\n    tag.src = uri;\n    tag.async = true;\n    tag.onload = () => {\n      resolve();\n    };\n  var firstScriptTag = document.getElementsByTagName('script')[0];\n  firstScriptTag.parentNode.insertBefore(tag, firstScriptTag);\n});\n};\n\nif(typeof $3Dmolpromise === 'undefined') {\n$3Dmolpromise = null;\n  $3Dmolpromise = loadScriptAsync('https://3dmol.org/build/3Dmol.js');\n}\n\nvar viewer_16541995930377574 = null;\nvar warn = document.getElementById(\"3dmolwarning_16541995930377574\");\nif(warn) {\n    warn.parentNode.removeChild(warn);\n}\n$3Dmolpromise.then(function() {\nviewer_16541995930377574 = $3Dmol.createViewer($(\"#3dmolviewer_16541995930377574\"),{backgroundColor:\"white\"});\nviewer_16541995930377574.zoomTo();\n\tviewer_16541995930377574.addModel(\"@<TRIPOS>MOLECULE\\nRES\\n750 600 1 0 1\\nSMALL\\nNO_CHARGES\\n@<TRIPOS>CRYSIN\\n   32.0000    32.0000    32.0000    90.0000    90.0000    90.0000  1  1\\n@<TRIPOS>ATOM\\n       1 _CH2         9.4440    11.1190    18.2940 _CH2          1 RES     \\n       2 _CH2        10.6160    10.2040    18.6970 _CH2          1 RES     \\n       3 _CH2        11.9340    10.9440    18.9940 _CH2          1 RES     \\n       4 _CH3         8.1220    10.3620    18.0700 _CH3          1 RES     \\n       5 _CH3        13.0870    10.0070    19.4000 _CH3          1 RES     \\n       6 _CH2        22.1000    27.3400    24.1180 _CH2          1 RES     \\n       7 _CH2        21.8100    28.4080    23.0470 _CH2          1 RES     \\n       8 _CH2        22.8120    28.4200    21.8780 _CH2          1 RES     \\n       9 _CH3        21.0790    27.3090    25.2700 _CH3          1 RES     \\n      10 _CH3        22.5050    29.4690    20.7930 _CH3          1 RES     \\n      11 _CH2        28.0660    20.6230    11.5300 _CH2          1 RES     \\n      12 _CH2        29.3960    20.5370    10.7580 _CH2          1 RES     \\n      13 _CH2        30.6870    20.5190    11.5980 _CH2          1 RES     \\n      14 _CH3        26.8160    20.6580    10.6310 _CH3          1 RES     \\n      15 _CH3        31.1710    21.8710    12.1540 _CH3          1 RES     \\n      16 _CH2         5.1590    15.3600     6.0600 _CH2          1 RES     \\n      17 _CH2         6.5020    14.6390     5.8430 _CH2          1 RES     \\n      18 _CH2         7.1130    14.7070     4.4310 _CH2          1 RES     \\n      19 _CH3         3.8950    14.6500     5.5390 _CH3          1 RES     \\n      20 _CH3         8.4750    14.0030     4.2960 _CH3          1 RES     \\n      21 _CH2         7.3940    10.9000     7.1020 _CH2          1 RES     \\n      22 _CH2         5.9370    10.7490     6.6250 _CH2          1 RES     \\n      23 _CH2         4.8810    11.2350     7.6350 _CH2          1 RES     \\n      24 _CH3         8.4330    10.4440     6.0610 _CH3          1 RES     \\n      25 _CH3         3.4300    11.0340     7.1580 _CH3          1 RES     \\n      26 _CH2        15.4190    29.2750    22.8390 _CH2          1 RES     \\n      27 _CH2        14.3940    29.3470    21.6920 _CH2          1 RES     \\n      28 _CH2        14.7240    28.6480    20.3600 _CH2          1 RES     \\n      29 _CH3        15.4490    27.9660    23.6490 _CH3          1 RES     \\n      30 _CH3        15.6820    29.3940    19.4130 _CH3          1 RES     \\n      31 _CH2         5.2930     6.7760     7.9680 _CH2          1 RES     \\n      32 _CH2         4.5550     7.5710     9.0610 _CH2          1 RES     \\n      33 _CH2         3.0250     7.3990     9.0560 _CH2          1 RES     \\n      34 _CH3         6.8210     6.9640     7.9760 _CH3          1 RES     \\n      35 _CH3         2.2940     8.2300    10.1270 _CH3          1 RES     \\n      36 _CH2        14.6680    18.8310     6.1320 _CH2          1 RES     \\n      37 _CH2        13.4730    17.8730     6.2930 _CH2          1 RES     \\n      38 _CH2        12.8510    17.3900     4.9690 _CH2          1 RES     \\n      39 _CH3        15.2730    19.2990     7.4690 _CH3          1 RES     \\n      40 _CH3        11.6640    16.4270     5.1580 _CH3          1 RES     \\n      41 _CH2        24.1570     7.3120     5.1590 _CH2          1 RES     \\n      42 _CH2        24.9850     6.4320     6.1140 _CH2          1 RES     \\n      43 _CH2        25.3960     5.0450     5.5860 _CH2          1 RES     \\n      44 _CH3        24.9290     8.0660     4.0600 _CH3          1 RES     \\n      45 _CH3        26.2010     4.1980     6.5900 _CH3          1 RES     \\n      46 _CH2        31.8190    25.6970    29.9910 _CH2          1 RES     \\n      47 _CH2        31.8230    27.1320    29.4320 _CH2          1 RES     \\n      48 _CH2        30.8860    28.1030    30.1740 _CH2          1 RES     \\n      49 _CH3        32.7380    24.7250    29.2270 _CH3          1 RES     \\n      50 _CH3        30.8700    29.5270    29.5880 _CH3          1 RES     \\n      51 _CH2         8.8140    23.0980    27.4500 _CH2          1 RES     \\n      52 _CH2         9.1730    23.5870    26.0340 _CH2          1 RES     \\n      53 _CH2         8.8250    25.0340    25.6360 _CH2          1 RES     \\n      54 _CH3         9.7160    23.5810    28.6010 _CH3          1 RES     \\n      55 _CH3         7.3570    25.3140    25.2650 _CH3          1 RES     \\n      56 _CH2         4.7970    21.2530    26.7960 _CH2          1 RES     \\n      57 _CH2         5.3520    21.8120    25.4720 _CH2          1 RES     \\n      58 _CH2         4.2790    22.3660    24.5160 _CH2          1 RES     \\n      59 _CH3         5.8750    20.6530    27.7180 _CH3          1 RES     \\n      60 _CH3         4.8400    22.8820    23.1780 _CH3          1 RES     \\n      61 _CH2        20.0320    27.9830    16.4940 _CH2          1 RES     \\n      62 _CH2        21.4420    27.9850    15.8750 _CH2          1 RES     \\n      63 _CH2        22.5240    28.6370    16.7560 _CH2          1 RES     \\n      64 _CH3        18.9710    27.2870    15.6220 _CH3          1 RES     \\n      65 _CH3        23.9300    28.6330    16.1270 _CH3          1 RES     \\n      66 _CH2        22.7580    10.0970    25.6950 _CH2          1 RES     \\n      67 _CH2        21.3710    10.1250    26.3650 _CH2          1 RES     \\n      68 _CH2        21.4010    10.1090    27.9040 _CH2          1 RES     \\n      69 _CH3        22.7000    10.0840    24.1570 _CH3          1 RES     \\n      70 _CH3        20.0030    10.1510    28.5490 _CH3          1 RES     \\n      71 _CH2        27.7690    27.1790    27.6060 _CH2          1 RES     \\n      72 _CH2        28.4730    25.8720    27.1960 _CH2          1 RES     \\n      73 _CH2        29.6830    26.0660    26.2630 _CH2          1 RES     \\n      74 _CH3        26.5310    26.9730    28.4990 _CH3          1 RES     \\n      75 _CH3        30.3670    24.7520    25.8420 _CH3          1 RES     \\n      76 _CH2         9.3870    28.2470    19.1480 _CH2          1 RES     \\n      77 _CH2         8.5750    29.0330    18.1020 _CH2          1 RES     \\n      78 _CH2         7.1400    28.5140    17.8970 _CH2          1 RES     \\n      79 _CH3        10.8030    28.8040    19.3870 _CH3          1 RES     \\n      80 _CH3         6.3300    29.3050    16.8520 _CH3          1 RES     \\n      81 _CH2        16.2090    10.5760    26.8310 _CH2          1 RES     \\n      82 _CH2        16.9390    10.0450    25.5830 _CH2          1 RES     \\n      83 _CH2        17.7790    11.0960    24.8330 _CH2          1 RES     \\n      84 _CH3        15.3410     9.5190    27.5390 _CH3          1 RES     \\n      85 _CH3        18.4760    10.5360    23.5780 _CH3          1 RES     \\n      86 _CH2        13.8030    24.3320    24.2660 _CH2          1 RES     \\n      87 _CH2        12.8880    24.6460    25.4640 _CH2          1 RES     \\n      88 _CH2        13.0360    26.0760    26.0180 _CH2          1 RES     \\n      89 _CH3        13.6370    22.9070    23.7080 _CH3          1 RES     \\n      90 _CH3        12.1680    26.3680    27.2560 _CH3          1 RES     \\n      91 _CH2        21.4890    17.7370     6.1800 _CH2          1 RES     \\n      92 _CH2        20.9140    16.5990     7.0430 _CH2          1 RES     \\n      93 _CH2        19.3860    16.4040     7.0170 _CH2          1 RES     \\n      94 _CH3        23.0230    17.8580     6.2480 _CH3          1 RES     \\n      95 _CH3        18.5490    17.3720     7.8730 _CH3          1 RES     \\n      96 _CH2        13.7750    15.3120    30.2370 _CH2          1 RES     \\n      97 _CH2        12.8090    14.3960    29.4620 _CH2          1 RES     \\n      98 _CH2        13.4440    13.3110    28.5730 _CH2          1 RES     \\n      99 _CH3        13.0790    16.3960    31.0810 _CH3          1 RES     \\n     100 _CH3        13.9680    13.7670    27.1980 _CH3          1 RES     \\n     101 _CH2         4.2670    17.4760    26.0820 _CH2          1 RES     \\n     102 _CH2         4.6840    16.5900    27.2700 _CH2          1 RES     \\n     103 _CH2         6.2060    16.4520    27.4630 _CH2          1 RES     \\n     104 _CH3         2.7450    17.6310    25.9060 _CH3          1 RES     \\n     105 _CH3         6.6020    15.5480    28.6450 _CH3          1 RES     \\n     106 _CH2        16.0490    12.6540    19.0260 _CH2          1 RES     \\n     107 _CH2        16.8690    11.5670    19.7470 _CH2          1 RES     \\n     108 _CH2        17.8760    10.8340    18.8410 _CH2          1 RES     \\n     109 _CH3        15.0720    13.4090    19.9460 _CH3          1 RES     \\n     110 _CH3        18.6960     9.7540    19.5700 _CH3          1 RES     \\n     111 _CH2        18.4830    22.5750    32.1460 _CH2          1 RES     \\n     112 _CH2        19.2980    21.8100    31.0870 _CH2          1 RES     \\n     113 _CH2        19.0300    22.1800    29.6160 _CH2          1 RES     \\n     114 _CH3        17.0270    22.1210    32.3620 _CH3          1 RES     \\n     115 _CH3        19.8850    21.4010    28.5990 _CH3          1 RES     \\n     116 _CH2        30.9280    10.7760     9.2910 _CH2          1 RES     \\n     117 _CH2        30.6370    10.9340     7.7870 _CH2          1 RES     \\n     118 _CH2        31.0900    12.2810     7.1950 _CH2          1 RES     \\n     119 _CH3        30.4600     9.4330     9.8820 _CH3          1 RES     \\n     120 _CH3        30.8130    12.4320     5.6880 _CH3          1 RES     \\n     121 _CH2        11.4630    12.6930     8.6760 _CH2          1 RES     \\n     122 _CH2        11.6590    13.2390    10.1030 _CH2          1 RES     \\n     123 _CH2        12.7300    12.4960    10.9240 _CH2          1 RES     \\n     124 _CH3        10.4860    13.5200     7.8190 _CH3          1 RES     \\n     125 _CH3        13.0120    13.1240    12.3010 _CH3          1 RES     \\n     126 _CH2         7.9450    18.3260     6.7220 _CH2          1 RES     \\n     127 _CH2         6.5920    19.0120     6.9860 _CH2          1 RES     \\n     128 _CH2         6.5760    20.5520     6.9580 _CH2          1 RES     \\n     129 _CH3         8.4020    18.2530     5.2530 _CH3          1 RES     \\n     130 _CH3         5.2050    21.1720     7.2840 _CH3          1 RES     \\n     131 _CH2         7.7900     6.2620    14.6170 _CH2          1 RES     \\n     132 _CH2         7.5250     5.1640    15.6640 _CH2          1 RES     \\n     133 _CH2         7.2100     3.7550    15.1270 _CH2          1 RES     \\n     134 _CH3         8.0910     7.6440    15.2240 _CH3          1 RES     \\n     135 _CH3         5.7620     3.4970    14.6700 _CH3          1 RES     \\n     136 _CH2        28.1930    24.2290     9.3580 _CH2          1 RES     \\n     137 _CH2        29.5500    23.9040     8.7050 _CH2          1 RES     \\n     138 _CH2        29.4370    23.3260     7.2820 _CH2          1 RES     \\n     139 _CH3        28.3030    24.7570    10.8010 _CH3          1 RES     \\n     140 _CH3        30.7890    22.9690     6.6370 _CH3          1 RES     \\n     141 _CH2        25.3240    21.1100    15.2010 _CH2          1 RES     \\n     142 _CH2        24.1590    20.8270    14.2340 _CH2          1 RES     \\n     143 _CH2        23.0310    19.9810    14.8530 _CH2          1 RES     \\n     144 _CH3        26.4170    22.0310    14.6280 _CH3          1 RES     \\n     145 _CH3        21.8280    19.7480    13.9200 _CH3          1 RES     \\n     146 _CH2        18.5810     5.0300     5.0500 _CH2          1 RES     \\n     147 _CH2        18.7940     6.4980     5.4630 _CH2          1 RES     \\n     148 _CH2        20.2180     6.9010     5.8880 _CH2          1 RES     \\n     149 _CH3        17.1500     4.7010     4.5840 _CH3          1 RES     \\n     150 _CH3        20.6450     6.5180     7.3170 _CH3          1 RES     \\n     151 _CH2        24.0140     7.1050    28.9620 _CH2          1 RES     \\n     152 _CH2        23.9530     5.9750    27.9180 _CH2          1 RES     \\n     153 _CH2        23.0910     4.7690    28.3340 _CH2          1 RES     \\n     154 _CH3        24.8780     8.3070    28.5400 _CH3          1 RES     \\n     155 _CH3        23.0100     3.6550    27.2740 _CH3          1 RES     \\n     156 _CH2        20.2830    13.2550    21.4610 _CH2          1 RES     \\n     157 _CH2        19.6870    14.1810    22.5370 _CH2          1 RES     \\n     158 _CH2        18.1690    14.4090    22.4200 _CH2          1 RES     \\n     159 _CH3        21.7840    12.9680    21.6520 _CH3          1 RES     \\n     160 _CH3        17.5900    15.3210    23.5180 _CH3          1 RES     \\n     161 _CH2        14.8160    20.5120    11.0770 _CH2          1 RES     \\n     162 _CH2        15.4910    19.9800    12.3550 _CH2          1 RES     \\n     163 _CH2        17.0210    19.8150    12.2970 _CH2          1 RES     \\n     164 _CH3        13.2830    20.6260    11.1830 _CH3          1 RES     \\n     165 _CH3        17.5470    18.5150    11.6610 _CH3          1 RES     \\n     166 _CH2        22.2990    17.5360    20.3600 _CH2          1 RES     \\n     167 _CH2        22.9830    16.7200    21.4710 _CH2          1 RES     \\n     168 _CH2        22.4210    16.9920    22.8790 _CH2          1 RES     \\n     169 _CH3        22.8120    17.2160    18.9430 _CH3          1 RES     \\n     170 _CH3        23.1050    16.1780    23.9930 _CH3          1 RES     \\n     171 _CH2        25.1730    10.7570    19.5550 _CH2          1 RES     \\n     172 _CH2        24.9830     9.6340    18.5190 _CH2          1 RES     \\n     173 _CH2        25.5240     9.9110    17.1040 _CH2          1 RES     \\n     174 _CH3        24.6310    10.4190    20.9570 _CH3          1 RES     \\n     175 _CH3        27.0390     9.7260    16.9010 _CH3          1 RES     \\n     176 _CH2        28.7830    25.1760    16.8550 _CH2          1 RES     \\n     177 _CH2        27.7490    26.0270    16.0950 _CH2          1 RES     \\n     178 _CH2        27.6790    25.7420    14.5830 _CH2          1 RES     \\n     179 _CH3        28.8630    25.4910    18.3610 _CH3          1 RES     \\n     180 _CH3        26.6430    26.6020    13.8360 _CH3          1 RES     \\n     181 _CH2        19.8850    15.8350     2.6910 _CH2          1 RES     \\n     182 _CH2        18.4320    15.8470     3.2010 _CH2          1 RES     \\n     183 _CH2        17.6050    17.1170     2.9260 _CH2          1 RES     \\n     184 _CH3        20.6530    14.5380     3.0100 _CH3          1 RES     \\n     185 _CH3        17.8680    18.3230     3.8470 _CH3          1 RES     \\n     186 _CH2         6.0380    18.0070    22.8920 _CH2          1 RES     \\n     187 _CH2         6.9710    19.1180    23.4070 _CH2          1 RES     \\n     188 _CH2         8.0270    18.6410    24.4210 _CH2          1 RES     \\n     189 _CH3         4.9120    18.5010    21.9650 _CH3          1 RES     \\n     190 _CH3         8.9840    19.7500    24.8970 _CH3          1 RES     \\n     191 _CH2         6.7450    10.0530    11.1040 _CH2          1 RES     \\n     192 _CH2         5.5150    10.2750    12.0030 _CH2          1 RES     \\n     193 _CH2         4.6630    11.5000    11.6240 _CH2          1 RES     \\n     194 _CH3         7.5620     8.7980    11.4630 _CH3          1 RES     \\n     195 _CH3         3.4480    11.7300    12.5410 _CH3          1 RES     \\n     196 _CH2        16.6890    22.8780     4.7210 _CH2          1 RES     \\n     197 _CH2        15.3710    23.3580     5.3570 _CH2          1 RES     \\n     198 _CH2        14.6110    24.3930     4.5070 _CH2          1 RES     \\n     199 _CH3        17.4530    21.8350     5.5580 _CH3          1 RES     \\n     200 _CH3        13.2730    24.8560     5.1150 _CH3          1 RES     \\n     201 _CH2        18.1870    18.0700    20.5700 _CH2          1 RES     \\n     202 _CH2        17.8110    17.1100    19.4250 _CH2          1 RES     \\n     203 _CH2        18.9590    16.1920    18.9690 _CH2          1 RES     \\n     204 _CH3        17.0500    19.0160    21.0000 _CH3          1 RES     \\n     205 _CH3        18.5770    15.2170    17.8390 _CH3          1 RES     \\n     206 _CH2        27.1710    16.5840    21.4720 _CH2          1 RES     \\n     207 _CH2        26.6870    15.6030    22.5560 _CH2          1 RES     \\n     208 _CH2        26.1880    14.2280    22.0760 _CH2          1 RES     \\n     209 _CH3        28.6070    16.3890    20.9510 _CH3          1 RES     \\n     210 _CH3        25.6710    13.3170    23.2040 _CH3          1 RES     \\n     211 _CH2        13.0650     4.0280    27.3260 _CH2          1 RES     \\n     212 _CH2        12.5590     3.9040    25.8770 _CH2          1 RES     \\n     213 _CH2        11.5890     5.0190    25.4460 _CH2          1 RES     \\n     214 _CH3        14.0330     2.9080    27.7480 _CH3          1 RES     \\n     215 _CH3        11.0840     4.8780    23.9970 _CH3          1 RES     \\n     216 _CH2         6.6760    10.4400    27.1620 _CH2          1 RES     \\n     217 _CH2         5.3230    10.5750    26.4400 _CH2          1 RES     \\n     218 _CH2         5.1640     9.6660    25.2070 _CH2          1 RES     \\n     219 _CH3         6.8280    11.3660    28.3820 _CH3          1 RES     \\n     220 _CH3         3.7990     9.7930    24.5060 _CH3          1 RES     \\n     221 _CH2        26.7770    11.4760     5.6180 _CH2          1 RES     \\n     222 _CH2        26.8850    12.8940     6.2070 _CH2          1 RES     \\n     223 _CH2        26.8090    14.0280     5.1680 _CH2          1 RES     \\n     224 _CH3        26.8160    10.3560     6.6750 _CH3          1 RES     \\n     225 _CH3        26.8850    15.4390     5.7790 _CH3          1 RES     \\n     226 _CH2        17.1550    23.9160    21.6100 _CH2          1 RES     \\n     227 _CH2        17.3430    25.3290    21.0260 _CH2          1 RES     \\n     228 _CH2        18.3890    26.1830    21.7660 _CH2          1 RES     \\n     229 _CH3        16.1930    23.0240    20.8030 _CH3          1 RES     \\n     230 _CH3        18.6360    27.5600    21.1220 _CH3          1 RES     \\n     231 _CH2        24.5540     4.9620    10.7530 _CH2          1 RES     \\n     232 _CH2        26.0020     5.2900    10.3420 _CH2          1 RES     \\n     233 _CH2        27.0720     4.6680    11.2590 _CH2          1 RES     \\n     234 _CH3        23.4910     5.5720     9.8210 _CH3          1 RES     \\n     235 _CH3        28.5190     4.9800    10.8350 _CH3          1 RES     \\n     236 _CH2        14.2230     7.9710    23.5510 _CH2          1 RES     \\n     237 _CH2        14.2390     6.9590    22.3900 _CH2          1 RES     \\n     238 _CH2        14.6840     5.5410    22.7950 _CH2          1 RES     \\n     239 _CH3        13.7870     9.3920    23.1480 _CH3          1 RES     \\n     240 _CH3        14.6650     4.5150    21.6470 _CH3          1 RES     \\n     241 _CH2        28.1450    19.9260    23.7500 _CH2          1 RES     \\n     242 _CH2        26.6570    19.6010    23.9800 _CH2          1 RES     \\n     243 _CH2        25.6890    20.6560    23.4130 _CH2          1 RES     \\n     244 _CH3        29.1110    18.8740    24.3260 _CH3          1 RES     \\n     245 _CH3        24.2020    20.3260    23.6380 _CH3          1 RES     \\n     246 _CH2         9.8860    21.8670     3.0020 _CH2          1 RES     \\n     247 _CH2        10.5730    20.5010     2.8200 _CH2          1 RES     \\n     248 _CH2        11.9790    20.5120     2.1920 _CH2          1 RES     \\n     249 _CH3         8.4840    21.7810     3.6340 _CH3          1 RES     \\n     250 _CH3        13.1530    20.8960     3.1120 _CH3          1 RES     \\n     251 _CH2        24.9610    26.0840     6.1480 _CH2          1 RES     \\n     252 _CH2        25.9120    25.6170     5.0310 _CH2          1 RES     \\n     253 _CH2        26.3110    24.1290     5.0250 _CH2          1 RES     \\n     254 _CH3        25.5960    26.3490     7.5260 _CH3          1 RES     \\n     255 _CH3        27.2410    23.7340     3.8620 _CH3          1 RES     \\n     256 _CH2        18.1650     2.3210    21.7640 _CH2          1 RES     \\n     257 _CH2        19.0760     2.3780    23.0040 _CH2          1 RES     \\n     258 _CH2        18.3320     2.5900    24.3360 _CH2          1 RES     \\n     259 _CH3        18.9260     2.1510    20.4360 _CH3          1 RES     \\n     260 _CH3        19.2610     2.6620    25.5630 _CH3          1 RES     \\n     261 _CH2        29.2400    17.9870    14.5770 _CH2          1 RES     \\n     262 _CH2        30.3580    17.0190    15.0040 _CH2          1 RES     \\n     263 _CH2        30.2160    16.3610    16.3900 _CH2          1 RES     \\n     264 _CH3        29.2690    19.3970    15.1960 _CH3          1 RES     \\n     265 _CH3        31.3610    15.3950    16.7480 _CH3          1 RES     \\n     266 _CH2        14.1560    17.4600    23.3230 _CH2          1 RES     \\n     267 _CH2        13.1420    16.3120    23.4820 _CH2          1 RES     \\n     268 _CH2        13.7350    14.9110    23.2440 _CH2          1 RES     \\n     269 _CH3        13.5710    18.8630    23.5700 _CH3          1 RES     \\n     270 _CH3        12.7220    13.7600    23.3780 _CH3          1 RES     \\n     271 _CH2        29.7400    18.5470     6.7660 _CH2          1 RES     \\n     272 _CH2        28.6410    19.5860     7.0510 _CH2          1 RES     \\n     273 _CH2        27.3000    19.4120     6.3130 _CH2          1 RES     \\n     274 _CH3        31.0530    18.7950     7.5310 _CH3          1 RES     \\n     275 _CH3        27.2580    19.8860     4.8490 _CH3          1 RES     \\n     276 _CH2         7.6020    13.6450    24.9830 _CH2          1 RES     \\n     277 _CH2         9.0570    14.0760    25.2450 _CH2          1 RES     \\n     278 _CH2         9.7730    13.4030    26.4310 _CH2          1 RES     \\n     279 _CH3         6.9430    14.3480    23.7820 _CH3          1 RES     \\n     280 _CH3        10.3360    11.9900    26.1950 _CH3          1 RES     \\n     281 _CH2         9.7740     2.0840    21.4250 _CH2          1 RES     \\n     282 _CH2        10.7220     2.5540    20.3060 _CH2          1 RES     \\n     283 _CH2        11.9380     1.6370    20.0770 _CH2          1 RES     \\n     284 _CH3         8.5830     3.0270    21.6780 _CH3          1 RES     \\n     285 _CH3        12.9010     2.1300    18.9800 _CH3          1 RES     \\n     286 _CH2        23.2430    24.6110    21.3570 _CH2          1 RES     \\n     287 _CH2        24.4650    24.2310    20.5000 _CH2          1 RES     \\n     288 _CH2        24.6120    24.9450    19.1440 _CH2          1 RES     \\n     289 _CH3        23.1180    23.8240    22.6750 _CH3          1 RES     \\n     290 _CH3        25.1520    26.3870    19.1800 _CH3          1 RES     \\n     291 _CH2         4.2870     8.2510    16.2070 _CH2          1 RES     \\n     292 _CH2         3.3690     8.3870    14.9780 _CH2          1 RES     \\n     293 _CH2         3.1620     7.1200    14.1270 _CH2          1 RES     \\n     294 _CH3         4.4280     9.5430    17.0330 _CH3          1 RES     \\n     295 _CH3         4.2870     6.7520    13.1420 _CH3          1 RES     \\n     296 _CH2         7.9870     6.8480    19.9830 _CH2          1 RES     \\n     297 _CH2         9.3000     6.5030    19.2570 _CH2          1 RES     \\n     298 _CH2        10.5410     6.5060    20.1690 _CH2          1 RES     \\n     299 _CH3         6.7570     6.8950    19.0570 _CH3          1 RES     \\n     300 _CH3        11.8480     6.1560    19.4350 _CH3          1 RES     \\n     301 _CH2        30.1710     9.6530    22.8230 _CH2          1 RES     \\n     302 _CH2        28.9580    10.4220    22.2670 _CH2          1 RES     \\n     303 _CH2        29.1390    11.3000    21.0150 _CH2          1 RES     \\n     304 _CH3        30.5880     8.3750    22.0720 _CH3          1 RES     \\n     305 _CH3        29.8450    12.6520    21.2250 _CH3          1 RES     \\n     306 _CH2        10.6590    18.8790    20.1430 _CH2          1 RES     \\n     307 _CH2        10.2770    18.0670    21.3940 _CH2          1 RES     \\n     308 _CH2         9.4460    16.7900    21.1690 _CH2          1 RES     \\n     309 _CH3        11.4430    20.1670    20.4560 _CH3          1 RES     \\n     310 _CH3        10.2100    15.5230    20.7430 _CH3          1 RES     \\n     311 _CH2        10.0640    24.1700    17.2610 _CH2          1 RES     \\n     312 _CH2         8.7350    23.6750    17.8600 _CH2          1 RES     \\n     313 _CH2         7.5690    24.6720    17.7310 _CH2          1 RES     \\n     314 _CH3        11.2160    23.1560    17.3910 _CH3          1 RES     \\n     315 _CH3         6.2430    24.1700    18.3350 _CH3          1 RES     \\n     316 _CH2        15.7940    15.3900    10.3200 _CH2          1 RES     \\n     317 _CH2        14.4690    15.7570     9.6260 _CH2          1 RES     \\n     318 _CH2        13.6350    16.8030    10.3880 _CH2          1 RES     \\n     319 _CH3        16.5730    14.2500     9.6400 _CH3          1 RES     \\n     320 _CH3        12.2770    17.1240     9.7350 _CH3          1 RES     \\n     321 _CH2         3.0540    18.7210     4.6280 _CH2          1 RES     \\n     322 _CH2         4.1160    19.3120     3.6820 _CH2          1 RES     \\n     323 _CH2         5.0460    18.2660     3.0390 _CH2          1 RES     \\n     324 _CH3         2.1210    19.7720     5.2570 _CH3          1 RES     \\n     325 _CH3         6.1050    18.8670     2.0960 _CH3          1 RES     \\n     326 _CH2        21.2680    13.9780    27.5430 _CH2          1 RES     \\n     327 _CH2        22.6560    14.6450    27.5690 _CH2          1 RES     \\n     328 _CH2        23.8410    13.8140    27.0420 _CH2          1 RES     \\n     329 _CH3        20.5310    13.9610    26.1900 _CH3          1 RES     \\n     330 _CH3        25.1850    14.5650    27.0750 _CH3          1 RES     \\n     331 _CH2         7.4480     3.0930    10.5390 _CH2          1 RES     \\n     332 _CH2         8.4520     2.6330    11.6130 _CH2          1 RES     \\n     333 _CH2         9.2410     1.3630    11.2440 _CH2          1 RES     \\n     334 _CH3         6.6970     4.3880    10.9000 _CH3          1 RES     \\n     335 _CH3        10.2720     0.9360    12.3060 _CH3          1 RES     \\n     336 _CH2        20.3740    14.1000    10.7640 _CH2          1 RES     \\n     337 _CH2        21.2400    13.4670    11.8690 _CH2          1 RES     \\n     338 _CH2        21.5150    11.9620    11.6990 _CH2          1 RES     \\n     339 _CH3        20.1330    15.6080    10.9610 _CH3          1 RES     \\n     340 _CH3        22.4190    11.3680    12.7950 _CH3          1 RES     \\n     341 _CH2         7.5250    12.8750    14.6410 _CH2          1 RES     \\n     342 _CH2         8.3410    11.5810    14.4680 _CH2          1 RES     \\n     343 _CH2         9.6520    11.7500    13.6780 _CH2          1 RES     \\n     344 _CH3         6.2150    12.6830    15.4280 _CH3          1 RES     \\n     345 _CH3        10.4720    10.4510    13.5670 _CH3          1 RES     \\n     346 _CH2        21.7610    16.6940    31.2440 _CH2          1 RES     \\n     347 _CH2        20.9380    15.4000    31.3830 _CH2          1 RES     \\n     348 _CH2        21.7920    14.1250    31.5110 _CH2          1 RES     \\n     349 _CH3        20.9110    17.9730    31.1250 _CH3          1 RES     \\n     350 _CH3        20.9750    12.8240    31.6200 _CH3          1 RES     \\n     351 _CH2        24.4900    28.9440     2.6370 _CH2          1 RES     \\n     352 _CH2        25.9350    28.4320     2.4840 _CH2          1 RES     \\n     353 _CH2        26.1060    27.3440     1.4080 _CH2          1 RES     \\n     354 _CH3        24.3090    30.0030     3.7400 _CH3          1 RES     \\n     355 _CH3        27.5420    26.8020     1.2850 _CH3          1 RES     \\n     356 _CH2        20.4820    17.9470    27.0040 _CH2          1 RES     \\n     357 _CH2        21.8340    18.5700    26.6100 _CH2          1 RES     \\n     358 _CH2        22.8580    18.6280    27.7580 _CH2          1 RES     \\n     359 _CH3        19.4780    17.8380    25.8410 _CH3          1 RES     \\n     360 _CH3        24.2360    19.1820    27.3500 _CH3          1 RES     \\n     361 _CH2         3.6260    19.2400    16.4370 _CH2          1 RES     \\n     362 _CH2         3.0380    17.8580    16.7800 _CH2          1 RES     \\n     363 _CH2         3.3160    17.3960    18.2230 _CH2          1 RES     \\n     364 _CH3         3.3550    19.6950    14.9910 _CH3          1 RES     \\n     365 _CH3         2.7210    16.0180    18.5650 _CH3          1 RES     \\n     366 _CH2         3.7730     7.5940    21.3310 _CH2          1 RES     \\n     367 _CH2         3.6930     6.1110    21.7400 _CH2          1 RES     \\n     368 _CH2         4.9350     5.6000    22.4940 _CH2          1 RES     \\n     369 _CH3         2.5450     8.1070    20.5550 _CH3          1 RES     \\n     370 _CH3         4.8680     4.1100    22.8780 _CH3          1 RES     \\n     371 _CH2        17.7470    13.1360    13.7360 _CH2          1 RES     \\n     372 _CH2        17.2290    14.5860    13.7540 _CH2          1 RES     \\n     373 _CH2        15.9110    14.8430    14.5070 _CH2          1 RES     \\n     374 _CH3        18.5090    12.6570    14.9860 _CH3          1 RES     \\n     375 _CH3        15.3940    16.2900    14.3960 _CH3          1 RES     \\n     376 _CH2        23.1870    23.5320     2.3880 _CH2          1 RES     \\n     377 _CH2        22.2320    22.3840     2.7630 _CH2          1 RES     \\n     378 _CH2        22.6870    20.9580     2.3970 _CH2          1 RES     \\n     379 _CH3        22.6770    24.9300     2.7860 _CH3          1 RES     \\n     380 _CH3        23.7210    20.3020     3.3300 _CH3          1 RES     \\n     381 _CH2        19.8220     7.0280    24.5530 _CH2          1 RES     \\n     382 _CH2        19.5360     6.2850    23.2360 _CH2          1 RES     \\n     383 _CH2        18.4090     6.8960    22.3820 _CH2          1 RES     \\n     384 _CH3        20.9690     6.4090    25.3740 _CH3          1 RES     \\n     385 _CH3        18.2010     6.1730    21.0380 _CH3          1 RES     \\n     386 _CH2        15.6500    25.9140    17.3780 _CH2          1 RES     \\n     387 _CH2        14.2150    25.8150    16.8290 _CH2          1 RES     \\n     388 _CH2        13.2910    27.0300    17.0330 _CH2          1 RES     \\n     389 _CH3        16.5180    24.6760    17.0820 _CH3          1 RES     \\n     390 _CH3        13.4900    28.2160    16.0710 _CH3          1 RES     \\n     391 _CH2        25.8860    20.0940    19.6490 _CH2          1 RES     \\n     392 _CH2        27.1800    20.3250    18.8460 _CH2          1 RES     \\n     393 _CH2        27.8820    21.6920    18.9460 _CH2          1 RES     \\n     394 _CH3        24.5940    20.6940    19.0660 _CH3          1 RES     \\n     395 _CH3        28.7450    21.9220    20.2010 _CH3          1 RES     \\n     396 _CH2        15.1070    14.0330     4.8150 _CH2          1 RES     \\n     397 _CH2        13.8450    13.2580     5.2360 _CH2          1 RES     \\n     398 _CH2        13.1070    12.5730     4.0710 _CH2          1 RES     \\n     399 _CH3        15.8390    14.7240     5.9810 _CH3          1 RES     \\n     400 _CH3        11.8520    11.7900     4.4960 _CH3          1 RES     \\n     401 _CH2        28.8700     7.7720     3.7870 _CH2          1 RES     \\n     402 _CH2        29.5220     6.9420     4.9090 _CH2          1 RES     \\n     403 _CH2        29.0520     7.2310     6.3470 _CH2          1 RES     \\n     404 _CH3        29.4090     9.2000     3.5820 _CH3          1 RES     \\n     405 _CH3        29.7410     6.3670     7.4200 _CH3          1 RES     \\n     406 _CH2         7.2200    19.8800    18.1030 _CH2          1 RES     \\n     407 _CH2         7.4230    18.3540    18.0680 _CH2          1 RES     \\n     408 _CH2         7.6370    17.7800    16.6540 _CH2          1 RES     \\n     409 _CH3         7.0100    20.4570    19.5150 _CH3          1 RES     \\n     410 _CH3         7.8810    16.2600    16.6310 _CH3          1 RES     \\n     411 _CH2        22.4260    16.1480    15.2140 _CH2          1 RES     \\n     412 _CH2        23.4510    15.3870    14.3520 _CH2          1 RES     \\n     413 _CH2        23.8640    15.9890    12.9950 _CH2          1 RES     \\n     414 _CH3        20.9470    16.0000    14.8110 _CH3          1 RES     \\n     415 _CH3        24.9270    17.1030    13.0250 _CH3          1 RES     \\n     416 _CH2        15.6690    21.0000    17.3490 _CH2          1 RES     \\n     417 _CH2        16.2650    19.6730    16.8430 _CH2          1 RES     \\n     418 _CH2        17.6080    19.8460    16.1110 _CH2          1 RES     \\n     419 _CH3        14.3290    20.8530    18.0950 _CH3          1 RES     \\n     420 _CH3        18.2640    18.5250    15.6690 _CH3          1 RES     \\n     421 _CH2        24.8920     2.0170    18.6950 _CH2          1 RES     \\n     422 _CH2        26.0430     2.3490    19.6640 _CH2          1 RES     \\n     423 _CH2        27.4050     2.5420    18.9730 _CH2          1 RES     \\n     424 _CH3        23.5390     1.7650    19.3870 _CH3          1 RES     \\n     425 _CH3        28.5620     2.8770    19.9330 _CH3          1 RES     \\n     426 _CH2        20.0400    10.3450     3.6920 _CH2          1 RES     \\n     427 _CH2        19.1060    10.8200     2.5640 _CH2          1 RES     \\n     428 _CH2        17.8640    11.5860     3.0550 _CH2          1 RES     \\n     429 _CH3        21.3090     9.6250     3.1980 _CH3          1 RES     \\n     430 _CH3        16.9290    12.0550     1.9250 _CH3          1 RES     \\n     431 _CH2         9.8100     6.7120     4.8960 _CH2          1 RES     \\n     432 _CH2        10.0460     5.4350     5.7240 _CH2          1 RES     \\n     433 _CH2         8.8620     4.4500     5.7270 _CH2          1 RES     \\n     434 _CH3        11.0050     7.6840     4.8840 _CH3          1 RES     \\n     435 _CH3         9.1000     3.1830     6.5690 _CH3          1 RES     \\n     436 _CH2        23.7140    24.1220    26.5320 _CH2          1 RES     \\n     437 _CH2        25.1170    23.5530    26.2510 _CH2          1 RES     \\n     438 _CH2        25.7920    22.7780    27.3980 _CH2          1 RES     \\n     439 _CH3        22.5380    23.1340    26.4160 _CH3          1 RES     \\n     440 _CH3        27.1770    22.2050    27.0410 _CH3          1 RES     \\n     441 _CH2         9.3120    24.0300    21.8140 _CH2          1 RES     \\n     442 _CH2        10.7770    23.9260    21.3500 _CH2          1 RES     \\n     443 _CH2        11.4300    25.2760    21.0020 _CH2          1 RES     \\n     444 _CH3         8.6700    22.6740    22.1590 _CH3          1 RES     \\n     445 _CH3        12.8880    25.1630    20.5180 _CH3          1 RES     \\n     446 _CH2        12.7860    23.8240     8.9760 _CH2          1 RES     \\n     447 _CH2        11.6630    22.9270     8.4240 _CH2          1 RES     \\n     448 _CH2        12.1370    21.8280     7.4560 _CH2          1 RES     \\n     449 _CH3        12.2900    24.9300     9.9260 _CH3          1 RES     \\n     450 _CH3        11.0000    20.9560     6.8910 _CH3          1 RES     \\n     451 _CH2        14.8310     8.7900     4.7910 _CH2          1 RES     \\n     452 _CH2        15.4480     9.5570     5.9750 _CH2          1 RES     \\n     453 _CH2        14.4310     9.9280     7.0710 _CH2          1 RES     \\n     454 _CH3        15.8370     8.3960     3.6930 _CH3          1 RES     \\n     455 _CH3        15.0210    10.7520     8.2310 _CH3          1 RES     \\n     456 _CH2        21.5000     9.9710    16.2300 _CH2          1 RES     \\n     457 _CH2        21.6660    11.0320    17.3350 _CH2          1 RES     \\n     458 _CH2        22.0490    12.4300    16.8150 _CH2          1 RES     \\n     459 _CH3        21.2100     8.5560    16.7640 _CH3          1 RES     \\n     460 _CH3        22.2610    13.4700    17.9300 _CH3          1 RES     \\n     461 _CH2        22.7790     6.5290    20.1210 _CH2          1 RES     \\n     462 _CH2        22.4650     5.1950    20.8210 _CH2          1 RES     \\n     463 _CH2        23.0850     4.9830    22.2150 _CH2          1 RES     \\n     464 _CH3        21.9660     7.7550    20.5760 _CH3          1 RES     \\n     465 _CH3        22.7550     3.6280    22.8680 _CH3          1 RES     \\n     466 _CH2        22.4620     2.8470    15.5800 _CH2          1 RES     \\n     467 _CH2        21.2310     3.1360    16.4580 _CH2          1 RES     \\n     468 _CH2        21.1450     4.5920    16.9530 _CH2          1 RES     \\n     469 _CH3        22.5450     1.3980    15.0660 _CH3          1 RES     \\n     470 _CH3        19.8800     4.9100    17.7710 _CH3          1 RES     \\n     471 _CH2        21.8960    28.2110     7.5120 _CH2          1 RES     \\n     472 _CH2        21.0250    28.6030     6.3040 _CH2          1 RES     \\n     473 _CH2        21.2810    27.7560     5.0440 _CH2          1 RES     \\n     474 _CH3        21.6370    29.0620     8.7690 _CH3          1 RES     \\n     475 _CH3        20.4060    28.1420     3.8370 _CH3          1 RES     \\n     476 _CH2        29.5430    27.1210     5.6490 _CH2          1 RES     \\n     477 _CH2        29.0410    28.4890     5.1510 _CH2          1 RES     \\n     478 _CH2        28.2010    29.2680     6.1800 _CH2          1 RES     \\n     479 _CH3        30.3700    26.3450     4.6060 _CH3          1 RES     \\n     480 _CH3        27.7130    30.6390     5.6780 _CH3          1 RES     \\n     481 _CH2        22.5240     5.8600     1.2350 _CH2          1 RES     \\n     482 _CH2        21.0550     5.7940     1.6920 _CH2          1 RES     \\n     483 _CH2        20.1110     6.7150     0.8960 _CH2          1 RES     \\n     484 _CH3        23.4690     4.9170     2.0020 _CH3          1 RES     \\n     485 _CH3        18.6420     6.6690     1.3550 _CH3          1 RES     \\n     486 _CH2        21.6310     2.4250     8.5430 _CH2          1 RES     \\n     487 _CH2        21.1390     2.6360     7.0990 _CH2          1 RES     \\n     488 _CH2        22.2170     2.4030     6.0250 _CH2          1 RES     \\n     489 _CH3        20.5590     2.6930     9.6160 _CH3          1 RES     \\n     490 _CH3        21.7210     2.6150     4.5820 _CH3          1 RES     \\n     491 _CH2        30.4940    16.0000    10.3520 _CH2          1 RES     \\n     492 _CH2        29.1090    15.6150    10.9050 _CH2          1 RES     \\n     493 _CH2        28.0140    16.6960    10.8530 _CH2          1 RES     \\n     494 _CH3        31.5270    14.8600    10.4190 _CH3          1 RES     \\n     495 _CH3        27.3130    16.9030     9.4980 _CH3          1 RES     \\n     496 _CH2        26.4720    16.5170    17.5700 _CH2          1 RES     \\n     497 _CH2        25.9570    15.0880    17.3160 _CH2          1 RES     \\n     498 _CH2        26.4750    13.9870    18.2600 _CH2          1 RES     \\n     499 _CH3        25.9140    17.5650    16.5900 _CH3          1 RES     \\n     500 _CH3        27.8940    13.4540    17.9920 _CH3          1 RES     \\n     501 _CH2        19.0840    27.7070    28.8240 _CH2          1 RES     \\n     502 _CH2        19.8030    26.6730    29.7100 _CH2          1 RES     \\n     503 _CH2        21.0350    26.0250    29.0510 _CH2          1 RES     \\n     504 _CH3        17.8430    28.3420    29.4790 _CH3          1 RES     \\n     505 _CH3        21.7800    25.0240    29.9540 _CH3          1 RES     \\n     506 _CH2        23.3610    24.6180    10.8140 _CH2          1 RES     \\n     507 _CH2        23.5530    26.1450    10.8680 _CH2          1 RES     \\n     508 _CH2        23.1300    26.8460    12.1720 _CH2          1 RES     \\n     509 _CH3        24.4260    23.7610    11.5230 _CH3          1 RES     \\n     510 _CH3        23.3540    28.3700    12.1780 _CH3          1 RES     \\n     511 _CH2         3.5710    24.7310     6.4830 _CH2          1 RES     \\n     512 _CH2         4.4620    24.5710     5.2370 _CH2          1 RES     \\n     513 _CH2         4.0060    23.4560     4.2780 _CH2          1 RES     \\n     514 _CH3         4.0200    25.8500     7.4410 _CH3          1 RES     \\n     515 _CH3         4.9050    23.2790     3.0400 _CH3          1 RES     \\n     516 _CH2         4.3050    19.1280    30.9290 _CH2          1 RES     \\n     517 _CH2         3.3040    18.0280    30.5290 _CH2          1 RES     \\n     518 _CH2         1.9790    18.5580    29.9480 _CH2          1 RES     \\n     519 _CH3         5.6460    18.5890    31.4630 _CH3          1 RES     \\n     520 _CH3         0.9910    17.4520    29.5340 _CH3          1 RES     \\n     521 _CH2        14.8340     5.0030     7.6640 _CH2          1 RES     \\n     522 _CH2        15.8790     5.8100     8.4560 _CH2          1 RES     \\n     523 _CH2        16.9620     4.9440     9.1250 _CH2          1 RES     \\n     524 _CH3        13.7410     5.8670     7.0100 _CH3          1 RES     \\n     525 _CH3        17.9800     5.7510     9.9520 _CH3          1 RES     \\n     526 _CH2        19.0390     4.6130    13.4830 _CH2          1 RES     \\n     527 _CH2        20.3530     5.2450    12.9880 _CH2          1 RES     \\n     528 _CH2        20.4620     6.7570    13.2630 _CH2          1 RES     \\n     529 _CH3        18.9300     3.1000    13.2200 _CH3          1 RES     \\n     530 _CH3        21.7630     7.4060    12.7560 _CH3          1 RES     \\n     531 _CH2         5.5810    19.5330    11.2950 _CH2          1 RES     \\n     532 _CH2         6.9050    20.0810    10.7320 _CH2          1 RES     \\n     533 _CH2         8.0770    19.0820    10.7730 _CH2          1 RES     \\n     534 _CH3         4.4070    20.5280    11.2280 _CH3          1 RES     \\n     535 _CH3         9.3960    19.6450    10.2130 _CH3          1 RES     \\n     536 _CH2        19.8740    21.6730    23.5190 _CH2          1 RES     \\n     537 _CH2        18.8560    21.5340    24.6660 _CH2          1 RES     \\n     538 _CH2        17.4290    21.1030    24.2790 _CH2          1 RES     \\n     539 _CH3        20.4850    20.3660    22.9800 _CH3          1 RES     \\n     540 _CH3        16.4560    21.0060    25.4690 _CH3          1 RES     \\n     541 _CH2        10.0840    28.8890    24.4640 _CH2          1 RES     \\n     542 _CH2        11.5390    29.3790    24.5690 _CH2          1 RES     \\n     543 _CH2        11.8530    30.1630    25.8570 _CH2          1 RES     \\n     544 _CH3         9.7910    28.0750    23.1890 _CH3          1 RES     \\n     545 _CH3        13.3160    30.6330    25.9660 _CH3          1 RES     \\n     546 _CH2        13.8600     3.7910    12.2340 _CH2          1 RES     \\n     547 _CH2        13.0660     3.8140    10.9140 _CH2          1 RES     \\n     548 _CH2        11.7910     4.6770    10.9600 _CH2          1 RES     \\n     549 _CH3        15.1350     2.9280    12.1900 _CH3          1 RES     \\n     550 _CH3        11.0200     4.7300     9.6280 _CH3          1 RES     \\n     551 _CH2        13.1250    21.5780    28.0170 _CH2          1 RES     \\n     552 _CH2        12.8640    20.7600    29.2960 _CH2          1 RES     \\n     553 _CH2        13.5370    21.3180    30.5640 _CH2          1 RES     \\n     554 _CH3        12.4390    21.0000    26.7650 _CH3          1 RES     \\n     555 _CH3        13.2780    20.4750    31.8260 _CH3          1 RES     \\n     556 _CH2         7.3340    24.1670    10.4120 _CH2          1 RES     \\n     557 _CH2         7.9100    23.7450     9.0480 _CH2          1 RES     \\n     558 _CH2         7.8740    24.7980     7.9260 _CH2          1 RES     \\n     559 _CH3         5.8020    24.1220    10.5570 _CH3          1 RES     \\n     560 _CH3         8.4370    24.3060     6.5790 _CH3          1 RES     \\n     561 _CH2         9.9610    10.5900    22.6070 _CH2          1 RES     \\n     562 _CH2         8.8120     9.6560    23.0310 _CH2          1 RES     \\n     563 _CH2         9.2770     8.3300    23.6630 _CH2          1 RES     \\n     564 _CH3         9.4860    11.9240    22.0020 _CH3          1 RES     \\n     565 _CH3         8.1220     7.4000    24.0790 _CH3          1 RES     \\n     566 _CH2        16.6280     8.9920    14.6800 _CH2          1 RES     \\n     567 _CH2        15.7700     9.8840    15.5960 _CH2          1 RES     \\n     568 _CH2        14.7010    10.7040    14.8500 _CH2          1 RES     \\n     569 _CH3        17.7110     8.1900    15.4260 _CH3          1 RES     \\n     570 _CH3        13.8710    11.6190    15.7690 _CH3          1 RES     \\n     571 _CH2         6.4320    13.7600    19.4440 _CH2          1 RES     \\n     572 _CH2         5.2320    12.7950    19.4190 _CH2          1 RES     \\n     573 _CH2         4.8170    12.0890    20.7240 _CH2          1 RES     \\n     574 _CH3         6.1750    15.1530    20.0470 _CH3          1 RES     \\n     575 _CH3         5.6960    10.9070    21.1740 _CH3          1 RES     \\n     576 _CH2        18.9280    28.8140    11.5100 _CH2          1 RES     \\n     577 _CH2        19.3790    27.3460    11.6230 _CH2          1 RES     \\n     578 _CH2        18.9480    26.4620    10.4390 _CH2          1 RES     \\n     579 _CH3        19.4230    29.7200    12.6520 _CH3          1 RES     \\n     580 _CH3        19.4020    24.9940    10.5510 _CH3          1 RES     \\n     581 _CH2        18.7020     9.5480     9.6080 _CH2          1 RES     \\n     582 _CH2        18.7520    10.9670     9.0110 _CH2          1 RES     \\n     583 _CH2        18.8830    11.0110     7.4770 _CH2          1 RES     \\n     584 _CH3        18.5250     9.5230    11.1380 _CH3          1 RES     \\n     585 _CH3        18.8990    12.4360     6.8960 _CH3          1 RES     \\n     586 _CH2        13.3930     8.5610    11.4540 _CH2          1 RES     \\n     587 _CH2        12.6650     8.3050    10.1220 _CH2          1 RES     \\n     588 _CH2        11.2380     8.8810    10.0510 _CH2          1 RES     \\n     589 _CH3        14.8110     7.9610    11.5100 _CH3          1 RES     \\n     590 _CH3        10.5260     8.6170     8.7120 _CH3          1 RES     \\n     591 _CH2         2.8880    13.1620    27.9650 _CH2          1 RES     \\n     592 _CH2         1.9310    13.7920    26.9350 _CH2          1 RES     \\n     593 _CH2         2.0030    13.2470    25.4960 _CH2          1 RES     \\n     594 _CH3         2.7870    13.7700    29.3760 _CH3          1 RES     \\n     595 _CH3         3.1510    13.7690    24.6120 _CH3          1 RES     \\n     596 _CH2         9.1320    26.8930    13.3530 _CH2          1 RES     \\n     597 _CH2         7.9110    26.4590    14.1850 _CH2          1 RES     \\n     598 _CH2         6.5530    26.7760    13.5310 _CH2          1 RES     \\n     599 _CH3        10.4870    26.5680    14.0090 _CH3          1 RES     \\n     600 _CH3         5.3360    26.3280    14.3610 _CH3          1 RES     \\n     601 _CH2         7.2290    21.7050    14.8560 _CH2          1 RES     \\n     602 _CH2         8.3680    21.5790    13.8270 _CH2          1 RES     \\n     603 _CH2         9.2870    22.8020    13.6510 _CH2          1 RES     \\n     604 _CH3         5.9850    22.4990    14.4170 _CH3          1 RES     \\n     605 _CH3        10.3200    22.6530    12.5190 _CH3          1 RES     \\n     606 _CH2        26.5550    27.9800    23.5060 _CH2          1 RES     \\n     607 _CH2        26.5270    26.4590    23.7490 _CH2          1 RES     \\n     608 _CH2        27.3920    25.6480    22.7670 _CH2          1 RES     \\n     609 _CH3        25.7530    28.7920    24.5400 _CH3          1 RES     \\n     610 _CH3        27.4170    24.1360    23.0610 _CH3          1 RES     \\n     611 _CH2        30.3070     7.6700    17.5920 _CH2          1 RES     \\n     612 _CH2        31.0670     8.9180    18.0790 _CH2          1 RES     \\n     613 _CH2        30.8060    10.1830    17.2400 _CH2          1 RES     \\n     614 _CH3        30.5800     6.3990    18.4170 _CH3          1 RES     \\n     615 _CH3        31.5540    11.4350    17.7310 _CH3          1 RES     \\n     616 _CH2        29.0900     8.7120    13.7240 _CH2          1 RES     \\n     617 _CH2        27.9190     8.9860    12.7620 _CH2          1 RES     \\n     618 _CH2        26.5420     8.4320    13.1730 _CH2          1 RES     \\n     619 _CH3        29.7390     7.3170    13.6490 _CH3          1 RES     \\n     620 _CH3        25.4070     8.7610    12.1850 _CH3          1 RES     \\n     621 _CH2        25.7250     5.9510    16.0450 _CH2          1 RES     \\n     622 _CH2        26.2770     4.7620    15.2350 _CH2          1 RES     \\n     623 _CH2        27.7330     4.3940    15.5750 _CH2          1 RES     \\n     624 _CH3        24.2850     6.3510    15.6710 _CH3          1 RES     \\n     625 _CH3        28.2790     3.1930    14.7800 _CH3          1 RES     \\n     626 _CH2        10.2970    17.3930    13.5880 _CH2          1 RES     \\n     627 _CH2        11.6520    18.0040    13.9890 _CH2          1 RES     \\n     628 _CH2        11.6150    19.3850    14.6700 _CH2          1 RES     \\n     629 _CH3        10.3980    15.9900    12.9620 _CH3          1 RES     \\n     630 _CH3        11.2200    19.4140    16.1580 _CH3          1 RES     \\n     631 _CH2        27.1230    13.6170    13.8600 _CH2          1 RES     \\n     632 _CH2        28.5960    13.4360    14.2740 _CH2          1 RES     \\n     633 _CH2        29.4800    12.5780    13.3500 _CH2          1 RES     \\n     634 _CH3        26.1670    12.4530    14.1800 _CH3          1 RES     \\n     635 _CH3        30.9480    12.4650    13.8020 _CH3          1 RES     \\n     636 _CH2        15.5930    25.4200    12.2900 _CH2          1 RES     \\n     637 _CH2        15.3100    24.1600    13.1290 _CH2          1 RES     \\n     638 _CH2        13.8470    23.9200    13.5450 _CH2          1 RES     \\n     639 _CH3        15.6870    26.7470    13.0660 _CH3          1 RES     \\n     640 _CH3        13.6530    22.7030    14.4690 _CH3          1 RES     \\n     641 _CH2         7.3860    15.0010    10.7810 _CH2          1 RES     \\n     642 _CH2         6.2010    15.0790    11.7610 _CH2          1 RES     \\n     643 _CH2         6.3420    16.1460    12.8630 _CH2          1 RES     \\n     644 _CH3         7.2240    13.9100     9.7070 _CH3          1 RES     \\n     645 _CH3         5.1170    16.2450    13.7910 _CH3          1 RES     \\n     646 _CH2         9.3530    19.1260    28.8170 _CH2          1 RES     \\n     647 _CH2        10.0230    17.7490    28.9810 _CH2          1 RES     \\n     648 _CH2        10.2710    16.9500    27.6880 _CH2          1 RES     \\n     649 _CH3         9.1380    19.8790    30.1420 _CH3          1 RES     \\n     650 _CH3        11.5320    17.3090    26.8800 _CH3          1 RES     \\n     651 _CH2        27.0380     7.3000    20.8950 _CH2          1 RES     \\n     652 _CH2        26.3210     6.7730    22.1510 _CH2          1 RES     \\n     653 _CH2        26.3790     7.7170    23.3660 _CH2          1 RES     \\n     654 _CH3        26.8900     6.3900    19.6620 _CH3          1 RES     \\n     655 _CH3        25.6160     7.1970    24.5990 _CH3          1 RES     \\n     656 _CH2        20.0460    21.1780    10.2760 _CH2          1 RES     \\n     657 _CH2        21.5370    20.8110    10.1640 _CH2          1 RES     \\n     658 _CH2        21.8820    19.3110    10.1000 _CH2          1 RES     \\n     659 _CH3        19.2100    21.1010     8.9850 _CH3          1 RES     \\n     660 _CH3        23.3920    19.0230    10.0090 _CH3          1 RES     \\n     661 _CH2        26.4750    29.9790    10.2350 _CH2          1 RES     \\n     662 _CH2        25.5610    30.1190     9.0030 _CH2          1 RES     \\n     663 _CH2        25.0350    31.5460     8.7650 _CH2          1 RES     \\n     664 _CH3        27.0320    28.5590    10.4460 _CH3          1 RES     \\n     665 _CH3        24.1670    31.6950     7.5020 _CH3          1 RES     \\n     666 _CH2        17.3030    18.4050    29.6920 _CH2          1 RES     \\n     667 _CH2        16.3500    18.9940    28.6350 _CH2          1 RES     \\n     668 _CH2        15.3230    18.0670    27.9590 _CH2          1 RES     \\n     669 _CH3        16.7270    18.1940    31.1040 _CH3          1 RES     \\n     670 _CH3        15.8440    17.1740    26.8180 _CH3          1 RES     \\n     671 _CH2         3.3100    16.6160     9.7920 _CH2          1 RES     \\n     672 _CH2         2.9760    15.1280     9.5790 _CH2          1 RES     \\n     673 _CH2         1.4930    14.7290     9.6910 _CH2          1 RES     \\n     674 _CH3         3.0540    17.5650     8.6060 _CH3          1 RES     \\n     675 _CH3         1.2320    13.2270     9.4750 _CH3          1 RES     \\n     676 _CH2        15.8470     3.8030    16.5460 _CH2          1 RES     \\n     677 _CH2        16.0660     4.8260    17.6750 _CH2          1 RES     \\n     678 _CH2        15.2620     6.1300    17.5100 _CH2          1 RES     \\n     679 _CH3        16.6650     2.5090    16.7110 _CH3          1 RES     \\n     680 _CH3        15.5270     7.1810    18.6030 _CH3          1 RES     \\n     681 _CH2        20.2260    21.0500    19.1990 _CH2          1 RES     \\n     682 _CH2        20.6660    22.5050    19.4490 _CH2          1 RES     \\n     683 _CH2        19.9730    23.5820    18.5930 _CH2          1 RES     \\n     684 _CH3        20.8130    20.3640    17.9520 _CH3          1 RES     \\n     685 _CH3        20.5140    25.0080    18.8070 _CH3          1 RES     \\n     686 _CH2        23.4590    30.5520    27.3500 _CH2          1 RES     \\n     687 _CH2        22.5910    31.0040    26.1610 _CH2          1 RES     \\n     688 _CH2        23.3130    31.9350    25.1690 _CH2          1 RES     \\n     689 _CH3        22.7430    29.6030    28.3280 _CH3          1 RES     \\n     690 _CH3        22.4510    32.3640    23.9670 _CH3          1 RES     \\n     691 _CH2        22.3480    23.8960    15.6430 _CH2          1 RES     \\n     692 _CH2        21.2670    23.9160    14.5460 _CH2          1 RES     \\n     693 _CH2        20.0350    23.0520    14.8740 _CH2          1 RES     \\n     694 _CH3        23.5910    24.7500    15.3290 _CH3          1 RES     \\n     695 _CH3        18.9460    23.0560    13.7850 _CH3          1 RES     \\n     696 _CH2         2.3590     4.2910    18.2100 _CH2          1 RES     \\n     697 _CH2         3.8980     4.2830    18.1790 _CH2          1 RES     \\n     698 _CH2         4.5290     3.0310    18.8170 _CH2          1 RES     \\n     699 _CH3         1.7200     5.5500    17.5950 _CH3          1 RES     \\n     700 _CH3         6.0690     3.0190    18.8000 _CH3          1 RES     \\n     701 _CH2        17.4220    24.5110    26.8270 _CH2          1 RES     \\n     702 _CH2        16.3010    25.1310    27.6830 _CH2          1 RES     \\n     703 _CH2        15.9950    24.3640    28.9830 _CH2          1 RES     \\n     704 _CH3        17.7130    25.2790    25.5250 _CH3          1 RES     \\n     705 _CH3        14.8990    25.0110    29.8500 _CH3          1 RES     \\n     706 _CH2        17.1660     5.4130    27.4640 _CH2          1 RES     \\n     707 _CH2        18.1720     6.3570    28.1490 _CH2          1 RES     \\n     708 _CH2        18.9230     5.7150    29.3300 _CH2          1 RES     \\n     709 _CH3        16.4420     6.0280    26.2520 _CH3          1 RES     \\n     710 _CH3        19.9380     6.6470    30.0180 _CH3          1 RES     \\n     711 _CH2        12.2070    15.0830    16.4700 _CH2          1 RES     \\n     712 _CH2        12.5260    15.6290    17.8740 _CH2          1 RES     \\n     713 _CH2        13.7020    16.6220    17.9250 _CH2          1 RES     \\n     714 _CH3        11.0150    14.1080    16.4410 _CH3          1 RES     \\n     715 _CH3        13.9990    17.1470    19.3410 _CH3          1 RES     \\n     716 _CH2        12.4580     6.9380    14.8820 _CH2          1 RES     \\n     717 _CH2        11.6240     5.6470    14.7740 _CH2          1 RES     \\n     718 _CH2        11.9470     4.5260    15.7800 _CH2          1 RES     \\n     719 _CH3        12.0490     7.9310    15.9860 _CH3          1 RES     \\n     720 _CH3        11.1050     3.2500    15.5940 _CH3          1 RES     \\n     721 _CH2        24.7370    14.0930     9.0730 _CH2          1 RES     \\n     722 _CH2        25.0360    13.3140    10.3670 _CH2          1 RES     \\n     723 _CH2        25.8880    12.0400    10.2200 _CH2          1 RES     \\n     724 _CH3        23.8280    15.3210     9.2590 _CH3          1 RES     \\n     725 _CH3        27.4090    12.2370    10.0820 _CH3          1 RES     \\n     726 _CH2        27.9870    11.9650    26.5120 _CH2          1 RES     \\n     727 _CH2        28.7510    12.7030    25.3970 _CH2          1 RES     \\n     728 _CH2        29.2740    14.0960    25.7940 _CH2          1 RES     \\n     729 _CH3        27.4070    10.6040    26.0850 _CH3          1 RES     \\n     730 _CH3        30.0110    14.8340    24.6620 _CH3          1 RES     \\n     731 _CH2        16.9220    11.2390    30.8720 _CH2          1 RES     \\n     732 _CH2        16.9360    12.7570    30.6140 _CH2          1 RES     \\n     733 _CH2        17.6790    13.1700    29.3300 _CH2          1 RES     \\n     734 _CH3        16.1550    10.8230    32.1400 _CH3          1 RES     \\n     735 _CH3        17.7010    14.6880    29.0750 _CH3          1 RES     \\n     736 _CH2         4.4510    24.3710    29.2000 _CH2          1 RES     \\n     737 _CH2         5.8000    24.0750    29.8810 _CH2          1 RES     \\n     738 _CH2         5.7120    23.0760    31.0500 _CH2          1 RES     \\n     739 _CH3         4.5490    25.3410    28.0080 _CH3          1 RES     \\n     740 _CH3         7.0650    22.7760    31.7220 _CH3          1 RES     \\n     741 _CH2        21.0610    23.4330     6.3630 _CH2          1 RES     \\n     742 _CH2        22.3210    23.3370     7.2430 _CH2          1 RES     \\n     743 _CH2        23.2780    22.1960     6.8490 _CH2          1 RES     \\n     744 _CH3        20.0850    24.5510     6.7770 _CH3          1 RES     \\n     745 _CH3        24.5280    22.0880     7.7410 _CH3          1 RES     \\n     746 _CH2        22.8950     9.7410     7.7970 _CH2          1 RES     \\n     747 _CH2        22.7570    11.2600     7.5840 _CH2          1 RES     \\n     748 _CH2        22.8600    11.7040     6.1130 _CH2          1 RES     \\n     749 _CH3        22.8100     9.3030     9.2710 _CH3          1 RES     \\n     750 _CH3        22.7310    13.2240     5.9050 _CH3          1 RES     \\n@<TRIPOS>BOND\\n       1        1        2 1\\n       2        3        2 1\\n       3        4        1 1\\n       4        5        3 1\\n       5        6        7 1\\n       6        8        7 1\\n       7        9        6 1\\n       8       10        8 1\\n       9       11       12 1\\n      10       13       12 1\\n      11       14       11 1\\n      12       15       13 1\\n      13       16       17 1\\n      14       18       17 1\\n      15       19       16 1\\n      16       20       18 1\\n      17       21       22 1\\n      18       23       22 1\\n      19       24       21 1\\n      20       25       23 1\\n      21       26       27 1\\n      22       28       27 1\\n      23       29       26 1\\n      24       30       28 1\\n      25       31       32 1\\n      26       33       32 1\\n      27       34       31 1\\n      28       35       33 1\\n      29       36       37 1\\n      30       38       37 1\\n      31       39       36 1\\n      32       40       38 1\\n      33       41       42 1\\n      34       43       42 1\\n      35       44       41 1\\n      36       45       43 1\\n      37       46       47 1\\n      38       48       47 1\\n      39       49       46 1\\n      40       50       48 1\\n      41       51       52 1\\n      42       53       52 1\\n      43       54       51 1\\n      44       55       53 1\\n      45       56       57 1\\n      46       58       57 1\\n      47       59       56 1\\n      48       60       58 1\\n      49       61       62 1\\n      50       63       62 1\\n      51       64       61 1\\n      52       65       63 1\\n      53       66       67 1\\n      54       68       67 1\\n      55       69       66 1\\n      56       70       68 1\\n      57       71       72 1\\n      58       73       72 1\\n      59       74       71 1\\n      60       75       73 1\\n      61       76       77 1\\n      62       78       77 1\\n      63       79       76 1\\n      64       80       78 1\\n      65       81       82 1\\n      66       83       82 1\\n      67       84       81 1\\n      68       85       83 1\\n      69       86       87 1\\n      70       88       87 1\\n      71       89       86 1\\n      72       90       88 1\\n      73       91       92 1\\n      74       93       92 1\\n      75       94       91 1\\n      76       95       93 1\\n      77       96       97 1\\n      78       98       97 1\\n      79       99       96 1\\n      80      100       98 1\\n      81      101      102 1\\n      82      103      102 1\\n      83      104      101 1\\n      84      105      103 1\\n      85      106      107 1\\n      86      108      107 1\\n      87      109      106 1\\n      88      110      108 1\\n      89      111      112 1\\n      90      113      112 1\\n      91      114      111 1\\n      92      115      113 1\\n      93      116      117 1\\n      94      118      117 1\\n      95      119      116 1\\n      96      120      118 1\\n      97      121      122 1\\n      98      123      122 1\\n      99      124      121 1\\n     100      125      123 1\\n     101      126      127 1\\n     102      128      127 1\\n     103      129      126 1\\n     104      130      128 1\\n     105      131      132 1\\n     106      133      132 1\\n     107      134      131 1\\n     108      135      133 1\\n     109      136      137 1\\n     110      138      137 1\\n     111      139      136 1\\n     112      140      138 1\\n     113      141      142 1\\n     114      143      142 1\\n     115      144      141 1\\n     116      145      143 1\\n     117      146      147 1\\n     118      148      147 1\\n     119      149      146 1\\n     120      150      148 1\\n     121      151      152 1\\n     122      153      152 1\\n     123      154      151 1\\n     124      155      153 1\\n     125      156      157 1\\n     126      158      157 1\\n     127      159      156 1\\n     128      160      158 1\\n     129      161      162 1\\n     130      163      162 1\\n     131      164      161 1\\n     132      165      163 1\\n     133      166      167 1\\n     134      168      167 1\\n     135      169      166 1\\n     136      170      168 1\\n     137      171      172 1\\n     138      173      172 1\\n     139      174      171 1\\n     140      175      173 1\\n     141      176      177 1\\n     142      178      177 1\\n     143      179      176 1\\n     144      180      178 1\\n     145      181      182 1\\n     146      183      182 1\\n     147      184      181 1\\n     148      185      183 1\\n     149      186      187 1\\n     150      188      187 1\\n     151      189      186 1\\n     152      190      188 1\\n     153      191      192 1\\n     154      193      192 1\\n     155      194      191 1\\n     156      195      193 1\\n     157      196      197 1\\n     158      198      197 1\\n     159      199      196 1\\n     160      200      198 1\\n     161      201      202 1\\n     162      203      202 1\\n     163      204      201 1\\n     164      205      203 1\\n     165      206      207 1\\n     166      208      207 1\\n     167      209      206 1\\n     168      210      208 1\\n     169      211      212 1\\n     170      213      212 1\\n     171      214      211 1\\n     172      215      213 1\\n     173      216      217 1\\n     174      218      217 1\\n     175      219      216 1\\n     176      220      218 1\\n     177      221      222 1\\n     178      223      222 1\\n     179      224      221 1\\n     180      225      223 1\\n     181      226      227 1\\n     182      228      227 1\\n     183      229      226 1\\n     184      230      228 1\\n     185      231      232 1\\n     186      233      232 1\\n     187      234      231 1\\n     188      235      233 1\\n     189      236      237 1\\n     190      238      237 1\\n     191      239      236 1\\n     192      240      238 1\\n     193      241      242 1\\n     194      243      242 1\\n     195      244      241 1\\n     196      245      243 1\\n     197      246      247 1\\n     198      248      247 1\\n     199      249      246 1\\n     200      250      248 1\\n     201      251      252 1\\n     202      253      252 1\\n     203      254      251 1\\n     204      255      253 1\\n     205      256      257 1\\n     206      258      257 1\\n     207      259      256 1\\n     208      260      258 1\\n     209      261      262 1\\n     210      263      262 1\\n     211      264      261 1\\n     212      265      263 1\\n     213      266      267 1\\n     214      268      267 1\\n     215      269      266 1\\n     216      270      268 1\\n     217      271      272 1\\n     218      273      272 1\\n     219      274      271 1\\n     220      275      273 1\\n     221      276      277 1\\n     222      278      277 1\\n     223      279      276 1\\n     224      280      278 1\\n     225      281      282 1\\n     226      283      282 1\\n     227      284      281 1\\n     228      285      283 1\\n     229      286      287 1\\n     230      288      287 1\\n     231      289      286 1\\n     232      290      288 1\\n     233      291      292 1\\n     234      293      292 1\\n     235      294      291 1\\n     236      295      293 1\\n     237      296      297 1\\n     238      298      297 1\\n     239      299      296 1\\n     240      300      298 1\\n     241      301      302 1\\n     242      303      302 1\\n     243      304      301 1\\n     244      305      303 1\\n     245      306      307 1\\n     246      308      307 1\\n     247      309      306 1\\n     248      310      308 1\\n     249      311      312 1\\n     250      313      312 1\\n     251      314      311 1\\n     252      315      313 1\\n     253      316      317 1\\n     254      318      317 1\\n     255      319      316 1\\n     256      320      318 1\\n     257      321      322 1\\n     258      323      322 1\\n     259      324      321 1\\n     260      325      323 1\\n     261      326      327 1\\n     262      328      327 1\\n     263      329      326 1\\n     264      330      328 1\\n     265      331      332 1\\n     266      333      332 1\\n     267      334      331 1\\n     268      335      333 1\\n     269      336      337 1\\n     270      338      337 1\\n     271      339      336 1\\n     272      340      338 1\\n     273      341      342 1\\n     274      343      342 1\\n     275      344      341 1\\n     276      345      343 1\\n     277      346      347 1\\n     278      348      347 1\\n     279      349      346 1\\n     280      350      348 1\\n     281      351      352 1\\n     282      353      352 1\\n     283      354      351 1\\n     284      355      353 1\\n     285      356      357 1\\n     286      358      357 1\\n     287      359      356 1\\n     288      360      358 1\\n     289      361      362 1\\n     290      363      362 1\\n     291      364      361 1\\n     292      365      363 1\\n     293      366      367 1\\n     294      368      367 1\\n     295      369      366 1\\n     296      370      368 1\\n     297      371      372 1\\n     298      373      372 1\\n     299      374      371 1\\n     300      375      373 1\\n     301      376      377 1\\n     302      378      377 1\\n     303      379      376 1\\n     304      380      378 1\\n     305      381      382 1\\n     306      383      382 1\\n     307      384      381 1\\n     308      385      383 1\\n     309      386      387 1\\n     310      388      387 1\\n     311      389      386 1\\n     312      390      388 1\\n     313      391      392 1\\n     314      393      392 1\\n     315      394      391 1\\n     316      395      393 1\\n     317      396      397 1\\n     318      398      397 1\\n     319      399      396 1\\n     320      400      398 1\\n     321      401      402 1\\n     322      403      402 1\\n     323      404      401 1\\n     324      405      403 1\\n     325      406      407 1\\n     326      408      407 1\\n     327      409      406 1\\n     328      410      408 1\\n     329      411      412 1\\n     330      413      412 1\\n     331      414      411 1\\n     332      415      413 1\\n     333      416      417 1\\n     334      418      417 1\\n     335      419      416 1\\n     336      420      418 1\\n     337      421      422 1\\n     338      423      422 1\\n     339      424      421 1\\n     340      425      423 1\\n     341      426      427 1\\n     342      428      427 1\\n     343      429      426 1\\n     344      430      428 1\\n     345      431      432 1\\n     346      433      432 1\\n     347      434      431 1\\n     348      435      433 1\\n     349      436      437 1\\n     350      438      437 1\\n     351      439      436 1\\n     352      440      438 1\\n     353      441      442 1\\n     354      443      442 1\\n     355      444      441 1\\n     356      445      443 1\\n     357      446      447 1\\n     358      448      447 1\\n     359      449      446 1\\n     360      450      448 1\\n     361      451      452 1\\n     362      453      452 1\\n     363      454      451 1\\n     364      455      453 1\\n     365      456      457 1\\n     366      458      457 1\\n     367      459      456 1\\n     368      460      458 1\\n     369      461      462 1\\n     370      463      462 1\\n     371      464      461 1\\n     372      465      463 1\\n     373      466      467 1\\n     374      468      467 1\\n     375      469      466 1\\n     376      470      468 1\\n     377      471      472 1\\n     378      473      472 1\\n     379      474      471 1\\n     380      475      473 1\\n     381      476      477 1\\n     382      478      477 1\\n     383      479      476 1\\n     384      480      478 1\\n     385      481      482 1\\n     386      483      482 1\\n     387      484      481 1\\n     388      485      483 1\\n     389      486      487 1\\n     390      488      487 1\\n     391      489      486 1\\n     392      490      488 1\\n     393      491      492 1\\n     394      493      492 1\\n     395      494      491 1\\n     396      495      493 1\\n     397      496      497 1\\n     398      498      497 1\\n     399      499      496 1\\n     400      500      498 1\\n     401      501      502 1\\n     402      503      502 1\\n     403      504      501 1\\n     404      505      503 1\\n     405      506      507 1\\n     406      508      507 1\\n     407      509      506 1\\n     408      510      508 1\\n     409      511      512 1\\n     410      513      512 1\\n     411      514      511 1\\n     412      515      513 1\\n     413      516      517 1\\n     414      518      517 1\\n     415      519      516 1\\n     416      520      518 1\\n     417      521      522 1\\n     418      523      522 1\\n     419      524      521 1\\n     420      525      523 1\\n     421      526      527 1\\n     422      528      527 1\\n     423      529      526 1\\n     424      530      528 1\\n     425      531      532 1\\n     426      533      532 1\\n     427      534      531 1\\n     428      535      533 1\\n     429      536      537 1\\n     430      538      537 1\\n     431      539      536 1\\n     432      540      538 1\\n     433      541      542 1\\n     434      543      542 1\\n     435      544      541 1\\n     436      545      543 1\\n     437      546      547 1\\n     438      548      547 1\\n     439      549      546 1\\n     440      550      548 1\\n     441      551      552 1\\n     442      553      552 1\\n     443      554      551 1\\n     444      555      553 1\\n     445      556      557 1\\n     446      558      557 1\\n     447      559      556 1\\n     448      560      558 1\\n     449      561      562 1\\n     450      563      562 1\\n     451      564      561 1\\n     452      565      563 1\\n     453      566      567 1\\n     454      568      567 1\\n     455      569      566 1\\n     456      570      568 1\\n     457      571      572 1\\n     458      573      572 1\\n     459      574      571 1\\n     460      575      573 1\\n     461      576      577 1\\n     462      578      577 1\\n     463      579      576 1\\n     464      580      578 1\\n     465      581      582 1\\n     466      583      582 1\\n     467      584      581 1\\n     468      585      583 1\\n     469      586      587 1\\n     470      588      587 1\\n     471      589      586 1\\n     472      590      588 1\\n     473      591      592 1\\n     474      593      592 1\\n     475      594      591 1\\n     476      595      593 1\\n     477      596      597 1\\n     478      598      597 1\\n     479      599      596 1\\n     480      600      598 1\\n     481      601      602 1\\n     482      603      602 1\\n     483      604      601 1\\n     484      605      603 1\\n     485      606      607 1\\n     486      608      607 1\\n     487      609      606 1\\n     488      610      608 1\\n     489      611      612 1\\n     490      613      612 1\\n     491      614      611 1\\n     492      615      613 1\\n     493      616      617 1\\n     494      618      617 1\\n     495      619      616 1\\n     496      620      618 1\\n     497      621      622 1\\n     498      623      622 1\\n     499      624      621 1\\n     500      625      623 1\\n     501      626      627 1\\n     502      628      627 1\\n     503      629      626 1\\n     504      630      628 1\\n     505      631      632 1\\n     506      633      632 1\\n     507      634      631 1\\n     508      635      633 1\\n     509      636      637 1\\n     510      638      637 1\\n     511      639      636 1\\n     512      640      638 1\\n     513      641      642 1\\n     514      643      642 1\\n     515      644      641 1\\n     516      645      643 1\\n     517      646      647 1\\n     518      648      647 1\\n     519      649      646 1\\n     520      650      648 1\\n     521      651      652 1\\n     522      653      652 1\\n     523      654      651 1\\n     524      655      653 1\\n     525      656      657 1\\n     526      658      657 1\\n     527      659      656 1\\n     528      660      658 1\\n     529      661      662 1\\n     530      663      662 1\\n     531      664      661 1\\n     532      665      663 1\\n     533      666      667 1\\n     534      668      667 1\\n     535      669      666 1\\n     536      670      668 1\\n     537      671      672 1\\n     538      673      672 1\\n     539      674      671 1\\n     540      675      673 1\\n     541      676      677 1\\n     542      678      677 1\\n     543      679      676 1\\n     544      680      678 1\\n     545      681      682 1\\n     546      683      682 1\\n     547      684      681 1\\n     548      685      683 1\\n     549      686      687 1\\n     550      688      687 1\\n     551      689      686 1\\n     552      690      688 1\\n     553      691      692 1\\n     554      693      692 1\\n     555      694      691 1\\n     556      695      693 1\\n     557      696      697 1\\n     558      698      697 1\\n     559      699      696 1\\n     560      700      698 1\\n     561      701      702 1\\n     562      703      702 1\\n     563      704      701 1\\n     564      705      703 1\\n     565      706      707 1\\n     566      708      707 1\\n     567      709      706 1\\n     568      710      708 1\\n     569      711      712 1\\n     570      713      712 1\\n     571      714      711 1\\n     572      715      713 1\\n     573      716      717 1\\n     574      718      717 1\\n     575      719      716 1\\n     576      720      718 1\\n     577      721      722 1\\n     578      723      722 1\\n     579      724      721 1\\n     580      725      723 1\\n     581      726      727 1\\n     582      728      727 1\\n     583      729      726 1\\n     584      730      728 1\\n     585      731      732 1\\n     586      733      732 1\\n     587      734      731 1\\n     588      735      733 1\\n     589      736      737 1\\n     590      738      737 1\\n     591      739      736 1\\n     592      740      738 1\\n     593      741      742 1\\n     594      743      742 1\\n     595      744      741 1\\n     596      745      743 1\\n     597      746      747 1\\n     598      748      747 1\\n     599      749      746 1\\n     600      750      748 1\\n@<TRIPOS>SUBSTRUCTURE\\n       1 RES             1 RESIDUE    0 **** ROOT      0\\n\",\"mol2\");\n\tviewer_16541995930377574.setStyle({\"stick\": {\"radius\": 0.2, \"color\": \"grey\"}, \"sphere\": {\"scale\": 0.3, \"colorscheme\": {}}});\n\tviewer_16541995930377574.zoomTo();\nviewer_16541995930377574.render();\n});\n</script>",
      "text/html": [
       "<div id=\"3dmolviewer_16541995930377574\"  style=\"position: relative; width: 640px; height: 480px\">\n",
       "        <p id=\"3dmolwarning_16541995930377574\" style=\"background-color:#ffcccc;color:black\">You appear to be running in JupyterLab (or JavaScript failed to load for some other reason).  You need to install the 3dmol extension: <br>\n",
       "        <tt>jupyter labextension install jupyterlab_3dmol</tt></p>\n",
       "        </div>\n",
       "<script>\n",
       "\n",
       "var loadScriptAsync = function(uri){\n",
       "  return new Promise((resolve, reject) => {\n",
       "    var tag = document.createElement('script');\n",
       "    tag.src = uri;\n",
       "    tag.async = true;\n",
       "    tag.onload = () => {\n",
       "      resolve();\n",
       "    };\n",
       "  var firstScriptTag = document.getElementsByTagName('script')[0];\n",
       "  firstScriptTag.parentNode.insertBefore(tag, firstScriptTag);\n",
       "});\n",
       "};\n",
       "\n",
       "if(typeof $3Dmolpromise === 'undefined') {\n",
       "$3Dmolpromise = null;\n",
       "  $3Dmolpromise = loadScriptAsync('https://3dmol.org/build/3Dmol.js');\n",
       "}\n",
       "\n",
       "var viewer_16541995930377574 = null;\n",
       "var warn = document.getElementById(\"3dmolwarning_16541995930377574\");\n",
       "if(warn) {\n",
       "    warn.parentNode.removeChild(warn);\n",
       "}\n",
       "$3Dmolpromise.then(function() {\n",
       "viewer_16541995930377574 = $3Dmol.createViewer($(\"#3dmolviewer_16541995930377574\"),{backgroundColor:\"white\"});\n",
       "viewer_16541995930377574.zoomTo();\n",
       "\tviewer_16541995930377574.addModel(\"@<TRIPOS>MOLECULE\\nRES\\n750 600 1 0 1\\nSMALL\\nNO_CHARGES\\n@<TRIPOS>CRYSIN\\n   32.0000    32.0000    32.0000    90.0000    90.0000    90.0000  1  1\\n@<TRIPOS>ATOM\\n       1 _CH2         9.4440    11.1190    18.2940 _CH2          1 RES     \\n       2 _CH2        10.6160    10.2040    18.6970 _CH2          1 RES     \\n       3 _CH2        11.9340    10.9440    18.9940 _CH2          1 RES     \\n       4 _CH3         8.1220    10.3620    18.0700 _CH3          1 RES     \\n       5 _CH3        13.0870    10.0070    19.4000 _CH3          1 RES     \\n       6 _CH2        22.1000    27.3400    24.1180 _CH2          1 RES     \\n       7 _CH2        21.8100    28.4080    23.0470 _CH2          1 RES     \\n       8 _CH2        22.8120    28.4200    21.8780 _CH2          1 RES     \\n       9 _CH3        21.0790    27.3090    25.2700 _CH3          1 RES     \\n      10 _CH3        22.5050    29.4690    20.7930 _CH3          1 RES     \\n      11 _CH2        28.0660    20.6230    11.5300 _CH2          1 RES     \\n      12 _CH2        29.3960    20.5370    10.7580 _CH2          1 RES     \\n      13 _CH2        30.6870    20.5190    11.5980 _CH2          1 RES     \\n      14 _CH3        26.8160    20.6580    10.6310 _CH3          1 RES     \\n      15 _CH3        31.1710    21.8710    12.1540 _CH3          1 RES     \\n      16 _CH2         5.1590    15.3600     6.0600 _CH2          1 RES     \\n      17 _CH2         6.5020    14.6390     5.8430 _CH2          1 RES     \\n      18 _CH2         7.1130    14.7070     4.4310 _CH2          1 RES     \\n      19 _CH3         3.8950    14.6500     5.5390 _CH3          1 RES     \\n      20 _CH3         8.4750    14.0030     4.2960 _CH3          1 RES     \\n      21 _CH2         7.3940    10.9000     7.1020 _CH2          1 RES     \\n      22 _CH2         5.9370    10.7490     6.6250 _CH2          1 RES     \\n      23 _CH2         4.8810    11.2350     7.6350 _CH2          1 RES     \\n      24 _CH3         8.4330    10.4440     6.0610 _CH3          1 RES     \\n      25 _CH3         3.4300    11.0340     7.1580 _CH3          1 RES     \\n      26 _CH2        15.4190    29.2750    22.8390 _CH2          1 RES     \\n      27 _CH2        14.3940    29.3470    21.6920 _CH2          1 RES     \\n      28 _CH2        14.7240    28.6480    20.3600 _CH2          1 RES     \\n      29 _CH3        15.4490    27.9660    23.6490 _CH3          1 RES     \\n      30 _CH3        15.6820    29.3940    19.4130 _CH3          1 RES     \\n      31 _CH2         5.2930     6.7760     7.9680 _CH2          1 RES     \\n      32 _CH2         4.5550     7.5710     9.0610 _CH2          1 RES     \\n      33 _CH2         3.0250     7.3990     9.0560 _CH2          1 RES     \\n      34 _CH3         6.8210     6.9640     7.9760 _CH3          1 RES     \\n      35 _CH3         2.2940     8.2300    10.1270 _CH3          1 RES     \\n      36 _CH2        14.6680    18.8310     6.1320 _CH2          1 RES     \\n      37 _CH2        13.4730    17.8730     6.2930 _CH2          1 RES     \\n      38 _CH2        12.8510    17.3900     4.9690 _CH2          1 RES     \\n      39 _CH3        15.2730    19.2990     7.4690 _CH3          1 RES     \\n      40 _CH3        11.6640    16.4270     5.1580 _CH3          1 RES     \\n      41 _CH2        24.1570     7.3120     5.1590 _CH2          1 RES     \\n      42 _CH2        24.9850     6.4320     6.1140 _CH2          1 RES     \\n      43 _CH2        25.3960     5.0450     5.5860 _CH2          1 RES     \\n      44 _CH3        24.9290     8.0660     4.0600 _CH3          1 RES     \\n      45 _CH3        26.2010     4.1980     6.5900 _CH3          1 RES     \\n      46 _CH2        31.8190    25.6970    29.9910 _CH2          1 RES     \\n      47 _CH2        31.8230    27.1320    29.4320 _CH2          1 RES     \\n      48 _CH2        30.8860    28.1030    30.1740 _CH2          1 RES     \\n      49 _CH3        32.7380    24.7250    29.2270 _CH3          1 RES     \\n      50 _CH3        30.8700    29.5270    29.5880 _CH3          1 RES     \\n      51 _CH2         8.8140    23.0980    27.4500 _CH2          1 RES     \\n      52 _CH2         9.1730    23.5870    26.0340 _CH2          1 RES     \\n      53 _CH2         8.8250    25.0340    25.6360 _CH2          1 RES     \\n      54 _CH3         9.7160    23.5810    28.6010 _CH3          1 RES     \\n      55 _CH3         7.3570    25.3140    25.2650 _CH3          1 RES     \\n      56 _CH2         4.7970    21.2530    26.7960 _CH2          1 RES     \\n      57 _CH2         5.3520    21.8120    25.4720 _CH2          1 RES     \\n      58 _CH2         4.2790    22.3660    24.5160 _CH2          1 RES     \\n      59 _CH3         5.8750    20.6530    27.7180 _CH3          1 RES     \\n      60 _CH3         4.8400    22.8820    23.1780 _CH3          1 RES     \\n      61 _CH2        20.0320    27.9830    16.4940 _CH2          1 RES     \\n      62 _CH2        21.4420    27.9850    15.8750 _CH2          1 RES     \\n      63 _CH2        22.5240    28.6370    16.7560 _CH2          1 RES     \\n      64 _CH3        18.9710    27.2870    15.6220 _CH3          1 RES     \\n      65 _CH3        23.9300    28.6330    16.1270 _CH3          1 RES     \\n      66 _CH2        22.7580    10.0970    25.6950 _CH2          1 RES     \\n      67 _CH2        21.3710    10.1250    26.3650 _CH2          1 RES     \\n      68 _CH2        21.4010    10.1090    27.9040 _CH2          1 RES     \\n      69 _CH3        22.7000    10.0840    24.1570 _CH3          1 RES     \\n      70 _CH3        20.0030    10.1510    28.5490 _CH3          1 RES     \\n      71 _CH2        27.7690    27.1790    27.6060 _CH2          1 RES     \\n      72 _CH2        28.4730    25.8720    27.1960 _CH2          1 RES     \\n      73 _CH2        29.6830    26.0660    26.2630 _CH2          1 RES     \\n      74 _CH3        26.5310    26.9730    28.4990 _CH3          1 RES     \\n      75 _CH3        30.3670    24.7520    25.8420 _CH3          1 RES     \\n      76 _CH2         9.3870    28.2470    19.1480 _CH2          1 RES     \\n      77 _CH2         8.5750    29.0330    18.1020 _CH2          1 RES     \\n      78 _CH2         7.1400    28.5140    17.8970 _CH2          1 RES     \\n      79 _CH3        10.8030    28.8040    19.3870 _CH3          1 RES     \\n      80 _CH3         6.3300    29.3050    16.8520 _CH3          1 RES     \\n      81 _CH2        16.2090    10.5760    26.8310 _CH2          1 RES     \\n      82 _CH2        16.9390    10.0450    25.5830 _CH2          1 RES     \\n      83 _CH2        17.7790    11.0960    24.8330 _CH2          1 RES     \\n      84 _CH3        15.3410     9.5190    27.5390 _CH3          1 RES     \\n      85 _CH3        18.4760    10.5360    23.5780 _CH3          1 RES     \\n      86 _CH2        13.8030    24.3320    24.2660 _CH2          1 RES     \\n      87 _CH2        12.8880    24.6460    25.4640 _CH2          1 RES     \\n      88 _CH2        13.0360    26.0760    26.0180 _CH2          1 RES     \\n      89 _CH3        13.6370    22.9070    23.7080 _CH3          1 RES     \\n      90 _CH3        12.1680    26.3680    27.2560 _CH3          1 RES     \\n      91 _CH2        21.4890    17.7370     6.1800 _CH2          1 RES     \\n      92 _CH2        20.9140    16.5990     7.0430 _CH2          1 RES     \\n      93 _CH2        19.3860    16.4040     7.0170 _CH2          1 RES     \\n      94 _CH3        23.0230    17.8580     6.2480 _CH3          1 RES     \\n      95 _CH3        18.5490    17.3720     7.8730 _CH3          1 RES     \\n      96 _CH2        13.7750    15.3120    30.2370 _CH2          1 RES     \\n      97 _CH2        12.8090    14.3960    29.4620 _CH2          1 RES     \\n      98 _CH2        13.4440    13.3110    28.5730 _CH2          1 RES     \\n      99 _CH3        13.0790    16.3960    31.0810 _CH3          1 RES     \\n     100 _CH3        13.9680    13.7670    27.1980 _CH3          1 RES     \\n     101 _CH2         4.2670    17.4760    26.0820 _CH2          1 RES     \\n     102 _CH2         4.6840    16.5900    27.2700 _CH2          1 RES     \\n     103 _CH2         6.2060    16.4520    27.4630 _CH2          1 RES     \\n     104 _CH3         2.7450    17.6310    25.9060 _CH3          1 RES     \\n     105 _CH3         6.6020    15.5480    28.6450 _CH3          1 RES     \\n     106 _CH2        16.0490    12.6540    19.0260 _CH2          1 RES     \\n     107 _CH2        16.8690    11.5670    19.7470 _CH2          1 RES     \\n     108 _CH2        17.8760    10.8340    18.8410 _CH2          1 RES     \\n     109 _CH3        15.0720    13.4090    19.9460 _CH3          1 RES     \\n     110 _CH3        18.6960     9.7540    19.5700 _CH3          1 RES     \\n     111 _CH2        18.4830    22.5750    32.1460 _CH2          1 RES     \\n     112 _CH2        19.2980    21.8100    31.0870 _CH2          1 RES     \\n     113 _CH2        19.0300    22.1800    29.6160 _CH2          1 RES     \\n     114 _CH3        17.0270    22.1210    32.3620 _CH3          1 RES     \\n     115 _CH3        19.8850    21.4010    28.5990 _CH3          1 RES     \\n     116 _CH2        30.9280    10.7760     9.2910 _CH2          1 RES     \\n     117 _CH2        30.6370    10.9340     7.7870 _CH2          1 RES     \\n     118 _CH2        31.0900    12.2810     7.1950 _CH2          1 RES     \\n     119 _CH3        30.4600     9.4330     9.8820 _CH3          1 RES     \\n     120 _CH3        30.8130    12.4320     5.6880 _CH3          1 RES     \\n     121 _CH2        11.4630    12.6930     8.6760 _CH2          1 RES     \\n     122 _CH2        11.6590    13.2390    10.1030 _CH2          1 RES     \\n     123 _CH2        12.7300    12.4960    10.9240 _CH2          1 RES     \\n     124 _CH3        10.4860    13.5200     7.8190 _CH3          1 RES     \\n     125 _CH3        13.0120    13.1240    12.3010 _CH3          1 RES     \\n     126 _CH2         7.9450    18.3260     6.7220 _CH2          1 RES     \\n     127 _CH2         6.5920    19.0120     6.9860 _CH2          1 RES     \\n     128 _CH2         6.5760    20.5520     6.9580 _CH2          1 RES     \\n     129 _CH3         8.4020    18.2530     5.2530 _CH3          1 RES     \\n     130 _CH3         5.2050    21.1720     7.2840 _CH3          1 RES     \\n     131 _CH2         7.7900     6.2620    14.6170 _CH2          1 RES     \\n     132 _CH2         7.5250     5.1640    15.6640 _CH2          1 RES     \\n     133 _CH2         7.2100     3.7550    15.1270 _CH2          1 RES     \\n     134 _CH3         8.0910     7.6440    15.2240 _CH3          1 RES     \\n     135 _CH3         5.7620     3.4970    14.6700 _CH3          1 RES     \\n     136 _CH2        28.1930    24.2290     9.3580 _CH2          1 RES     \\n     137 _CH2        29.5500    23.9040     8.7050 _CH2          1 RES     \\n     138 _CH2        29.4370    23.3260     7.2820 _CH2          1 RES     \\n     139 _CH3        28.3030    24.7570    10.8010 _CH3          1 RES     \\n     140 _CH3        30.7890    22.9690     6.6370 _CH3          1 RES     \\n     141 _CH2        25.3240    21.1100    15.2010 _CH2          1 RES     \\n     142 _CH2        24.1590    20.8270    14.2340 _CH2          1 RES     \\n     143 _CH2        23.0310    19.9810    14.8530 _CH2          1 RES     \\n     144 _CH3        26.4170    22.0310    14.6280 _CH3          1 RES     \\n     145 _CH3        21.8280    19.7480    13.9200 _CH3          1 RES     \\n     146 _CH2        18.5810     5.0300     5.0500 _CH2          1 RES     \\n     147 _CH2        18.7940     6.4980     5.4630 _CH2          1 RES     \\n     148 _CH2        20.2180     6.9010     5.8880 _CH2          1 RES     \\n     149 _CH3        17.1500     4.7010     4.5840 _CH3          1 RES     \\n     150 _CH3        20.6450     6.5180     7.3170 _CH3          1 RES     \\n     151 _CH2        24.0140     7.1050    28.9620 _CH2          1 RES     \\n     152 _CH2        23.9530     5.9750    27.9180 _CH2          1 RES     \\n     153 _CH2        23.0910     4.7690    28.3340 _CH2          1 RES     \\n     154 _CH3        24.8780     8.3070    28.5400 _CH3          1 RES     \\n     155 _CH3        23.0100     3.6550    27.2740 _CH3          1 RES     \\n     156 _CH2        20.2830    13.2550    21.4610 _CH2          1 RES     \\n     157 _CH2        19.6870    14.1810    22.5370 _CH2          1 RES     \\n     158 _CH2        18.1690    14.4090    22.4200 _CH2          1 RES     \\n     159 _CH3        21.7840    12.9680    21.6520 _CH3          1 RES     \\n     160 _CH3        17.5900    15.3210    23.5180 _CH3          1 RES     \\n     161 _CH2        14.8160    20.5120    11.0770 _CH2          1 RES     \\n     162 _CH2        15.4910    19.9800    12.3550 _CH2          1 RES     \\n     163 _CH2        17.0210    19.8150    12.2970 _CH2          1 RES     \\n     164 _CH3        13.2830    20.6260    11.1830 _CH3          1 RES     \\n     165 _CH3        17.5470    18.5150    11.6610 _CH3          1 RES     \\n     166 _CH2        22.2990    17.5360    20.3600 _CH2          1 RES     \\n     167 _CH2        22.9830    16.7200    21.4710 _CH2          1 RES     \\n     168 _CH2        22.4210    16.9920    22.8790 _CH2          1 RES     \\n     169 _CH3        22.8120    17.2160    18.9430 _CH3          1 RES     \\n     170 _CH3        23.1050    16.1780    23.9930 _CH3          1 RES     \\n     171 _CH2        25.1730    10.7570    19.5550 _CH2          1 RES     \\n     172 _CH2        24.9830     9.6340    18.5190 _CH2          1 RES     \\n     173 _CH2        25.5240     9.9110    17.1040 _CH2          1 RES     \\n     174 _CH3        24.6310    10.4190    20.9570 _CH3          1 RES     \\n     175 _CH3        27.0390     9.7260    16.9010 _CH3          1 RES     \\n     176 _CH2        28.7830    25.1760    16.8550 _CH2          1 RES     \\n     177 _CH2        27.7490    26.0270    16.0950 _CH2          1 RES     \\n     178 _CH2        27.6790    25.7420    14.5830 _CH2          1 RES     \\n     179 _CH3        28.8630    25.4910    18.3610 _CH3          1 RES     \\n     180 _CH3        26.6430    26.6020    13.8360 _CH3          1 RES     \\n     181 _CH2        19.8850    15.8350     2.6910 _CH2          1 RES     \\n     182 _CH2        18.4320    15.8470     3.2010 _CH2          1 RES     \\n     183 _CH2        17.6050    17.1170     2.9260 _CH2          1 RES     \\n     184 _CH3        20.6530    14.5380     3.0100 _CH3          1 RES     \\n     185 _CH3        17.8680    18.3230     3.8470 _CH3          1 RES     \\n     186 _CH2         6.0380    18.0070    22.8920 _CH2          1 RES     \\n     187 _CH2         6.9710    19.1180    23.4070 _CH2          1 RES     \\n     188 _CH2         8.0270    18.6410    24.4210 _CH2          1 RES     \\n     189 _CH3         4.9120    18.5010    21.9650 _CH3          1 RES     \\n     190 _CH3         8.9840    19.7500    24.8970 _CH3          1 RES     \\n     191 _CH2         6.7450    10.0530    11.1040 _CH2          1 RES     \\n     192 _CH2         5.5150    10.2750    12.0030 _CH2          1 RES     \\n     193 _CH2         4.6630    11.5000    11.6240 _CH2          1 RES     \\n     194 _CH3         7.5620     8.7980    11.4630 _CH3          1 RES     \\n     195 _CH3         3.4480    11.7300    12.5410 _CH3          1 RES     \\n     196 _CH2        16.6890    22.8780     4.7210 _CH2          1 RES     \\n     197 _CH2        15.3710    23.3580     5.3570 _CH2          1 RES     \\n     198 _CH2        14.6110    24.3930     4.5070 _CH2          1 RES     \\n     199 _CH3        17.4530    21.8350     5.5580 _CH3          1 RES     \\n     200 _CH3        13.2730    24.8560     5.1150 _CH3          1 RES     \\n     201 _CH2        18.1870    18.0700    20.5700 _CH2          1 RES     \\n     202 _CH2        17.8110    17.1100    19.4250 _CH2          1 RES     \\n     203 _CH2        18.9590    16.1920    18.9690 _CH2          1 RES     \\n     204 _CH3        17.0500    19.0160    21.0000 _CH3          1 RES     \\n     205 _CH3        18.5770    15.2170    17.8390 _CH3          1 RES     \\n     206 _CH2        27.1710    16.5840    21.4720 _CH2          1 RES     \\n     207 _CH2        26.6870    15.6030    22.5560 _CH2          1 RES     \\n     208 _CH2        26.1880    14.2280    22.0760 _CH2          1 RES     \\n     209 _CH3        28.6070    16.3890    20.9510 _CH3          1 RES     \\n     210 _CH3        25.6710    13.3170    23.2040 _CH3          1 RES     \\n     211 _CH2        13.0650     4.0280    27.3260 _CH2          1 RES     \\n     212 _CH2        12.5590     3.9040    25.8770 _CH2          1 RES     \\n     213 _CH2        11.5890     5.0190    25.4460 _CH2          1 RES     \\n     214 _CH3        14.0330     2.9080    27.7480 _CH3          1 RES     \\n     215 _CH3        11.0840     4.8780    23.9970 _CH3          1 RES     \\n     216 _CH2         6.6760    10.4400    27.1620 _CH2          1 RES     \\n     217 _CH2         5.3230    10.5750    26.4400 _CH2          1 RES     \\n     218 _CH2         5.1640     9.6660    25.2070 _CH2          1 RES     \\n     219 _CH3         6.8280    11.3660    28.3820 _CH3          1 RES     \\n     220 _CH3         3.7990     9.7930    24.5060 _CH3          1 RES     \\n     221 _CH2        26.7770    11.4760     5.6180 _CH2          1 RES     \\n     222 _CH2        26.8850    12.8940     6.2070 _CH2          1 RES     \\n     223 _CH2        26.8090    14.0280     5.1680 _CH2          1 RES     \\n     224 _CH3        26.8160    10.3560     6.6750 _CH3          1 RES     \\n     225 _CH3        26.8850    15.4390     5.7790 _CH3          1 RES     \\n     226 _CH2        17.1550    23.9160    21.6100 _CH2          1 RES     \\n     227 _CH2        17.3430    25.3290    21.0260 _CH2          1 RES     \\n     228 _CH2        18.3890    26.1830    21.7660 _CH2          1 RES     \\n     229 _CH3        16.1930    23.0240    20.8030 _CH3          1 RES     \\n     230 _CH3        18.6360    27.5600    21.1220 _CH3          1 RES     \\n     231 _CH2        24.5540     4.9620    10.7530 _CH2          1 RES     \\n     232 _CH2        26.0020     5.2900    10.3420 _CH2          1 RES     \\n     233 _CH2        27.0720     4.6680    11.2590 _CH2          1 RES     \\n     234 _CH3        23.4910     5.5720     9.8210 _CH3          1 RES     \\n     235 _CH3        28.5190     4.9800    10.8350 _CH3          1 RES     \\n     236 _CH2        14.2230     7.9710    23.5510 _CH2          1 RES     \\n     237 _CH2        14.2390     6.9590    22.3900 _CH2          1 RES     \\n     238 _CH2        14.6840     5.5410    22.7950 _CH2          1 RES     \\n     239 _CH3        13.7870     9.3920    23.1480 _CH3          1 RES     \\n     240 _CH3        14.6650     4.5150    21.6470 _CH3          1 RES     \\n     241 _CH2        28.1450    19.9260    23.7500 _CH2          1 RES     \\n     242 _CH2        26.6570    19.6010    23.9800 _CH2          1 RES     \\n     243 _CH2        25.6890    20.6560    23.4130 _CH2          1 RES     \\n     244 _CH3        29.1110    18.8740    24.3260 _CH3          1 RES     \\n     245 _CH3        24.2020    20.3260    23.6380 _CH3          1 RES     \\n     246 _CH2         9.8860    21.8670     3.0020 _CH2          1 RES     \\n     247 _CH2        10.5730    20.5010     2.8200 _CH2          1 RES     \\n     248 _CH2        11.9790    20.5120     2.1920 _CH2          1 RES     \\n     249 _CH3         8.4840    21.7810     3.6340 _CH3          1 RES     \\n     250 _CH3        13.1530    20.8960     3.1120 _CH3          1 RES     \\n     251 _CH2        24.9610    26.0840     6.1480 _CH2          1 RES     \\n     252 _CH2        25.9120    25.6170     5.0310 _CH2          1 RES     \\n     253 _CH2        26.3110    24.1290     5.0250 _CH2          1 RES     \\n     254 _CH3        25.5960    26.3490     7.5260 _CH3          1 RES     \\n     255 _CH3        27.2410    23.7340     3.8620 _CH3          1 RES     \\n     256 _CH2        18.1650     2.3210    21.7640 _CH2          1 RES     \\n     257 _CH2        19.0760     2.3780    23.0040 _CH2          1 RES     \\n     258 _CH2        18.3320     2.5900    24.3360 _CH2          1 RES     \\n     259 _CH3        18.9260     2.1510    20.4360 _CH3          1 RES     \\n     260 _CH3        19.2610     2.6620    25.5630 _CH3          1 RES     \\n     261 _CH2        29.2400    17.9870    14.5770 _CH2          1 RES     \\n     262 _CH2        30.3580    17.0190    15.0040 _CH2          1 RES     \\n     263 _CH2        30.2160    16.3610    16.3900 _CH2          1 RES     \\n     264 _CH3        29.2690    19.3970    15.1960 _CH3          1 RES     \\n     265 _CH3        31.3610    15.3950    16.7480 _CH3          1 RES     \\n     266 _CH2        14.1560    17.4600    23.3230 _CH2          1 RES     \\n     267 _CH2        13.1420    16.3120    23.4820 _CH2          1 RES     \\n     268 _CH2        13.7350    14.9110    23.2440 _CH2          1 RES     \\n     269 _CH3        13.5710    18.8630    23.5700 _CH3          1 RES     \\n     270 _CH3        12.7220    13.7600    23.3780 _CH3          1 RES     \\n     271 _CH2        29.7400    18.5470     6.7660 _CH2          1 RES     \\n     272 _CH2        28.6410    19.5860     7.0510 _CH2          1 RES     \\n     273 _CH2        27.3000    19.4120     6.3130 _CH2          1 RES     \\n     274 _CH3        31.0530    18.7950     7.5310 _CH3          1 RES     \\n     275 _CH3        27.2580    19.8860     4.8490 _CH3          1 RES     \\n     276 _CH2         7.6020    13.6450    24.9830 _CH2          1 RES     \\n     277 _CH2         9.0570    14.0760    25.2450 _CH2          1 RES     \\n     278 _CH2         9.7730    13.4030    26.4310 _CH2          1 RES     \\n     279 _CH3         6.9430    14.3480    23.7820 _CH3          1 RES     \\n     280 _CH3        10.3360    11.9900    26.1950 _CH3          1 RES     \\n     281 _CH2         9.7740     2.0840    21.4250 _CH2          1 RES     \\n     282 _CH2        10.7220     2.5540    20.3060 _CH2          1 RES     \\n     283 _CH2        11.9380     1.6370    20.0770 _CH2          1 RES     \\n     284 _CH3         8.5830     3.0270    21.6780 _CH3          1 RES     \\n     285 _CH3        12.9010     2.1300    18.9800 _CH3          1 RES     \\n     286 _CH2        23.2430    24.6110    21.3570 _CH2          1 RES     \\n     287 _CH2        24.4650    24.2310    20.5000 _CH2          1 RES     \\n     288 _CH2        24.6120    24.9450    19.1440 _CH2          1 RES     \\n     289 _CH3        23.1180    23.8240    22.6750 _CH3          1 RES     \\n     290 _CH3        25.1520    26.3870    19.1800 _CH3          1 RES     \\n     291 _CH2         4.2870     8.2510    16.2070 _CH2          1 RES     \\n     292 _CH2         3.3690     8.3870    14.9780 _CH2          1 RES     \\n     293 _CH2         3.1620     7.1200    14.1270 _CH2          1 RES     \\n     294 _CH3         4.4280     9.5430    17.0330 _CH3          1 RES     \\n     295 _CH3         4.2870     6.7520    13.1420 _CH3          1 RES     \\n     296 _CH2         7.9870     6.8480    19.9830 _CH2          1 RES     \\n     297 _CH2         9.3000     6.5030    19.2570 _CH2          1 RES     \\n     298 _CH2        10.5410     6.5060    20.1690 _CH2          1 RES     \\n     299 _CH3         6.7570     6.8950    19.0570 _CH3          1 RES     \\n     300 _CH3        11.8480     6.1560    19.4350 _CH3          1 RES     \\n     301 _CH2        30.1710     9.6530    22.8230 _CH2          1 RES     \\n     302 _CH2        28.9580    10.4220    22.2670 _CH2          1 RES     \\n     303 _CH2        29.1390    11.3000    21.0150 _CH2          1 RES     \\n     304 _CH3        30.5880     8.3750    22.0720 _CH3          1 RES     \\n     305 _CH3        29.8450    12.6520    21.2250 _CH3          1 RES     \\n     306 _CH2        10.6590    18.8790    20.1430 _CH2          1 RES     \\n     307 _CH2        10.2770    18.0670    21.3940 _CH2          1 RES     \\n     308 _CH2         9.4460    16.7900    21.1690 _CH2          1 RES     \\n     309 _CH3        11.4430    20.1670    20.4560 _CH3          1 RES     \\n     310 _CH3        10.2100    15.5230    20.7430 _CH3          1 RES     \\n     311 _CH2        10.0640    24.1700    17.2610 _CH2          1 RES     \\n     312 _CH2         8.7350    23.6750    17.8600 _CH2          1 RES     \\n     313 _CH2         7.5690    24.6720    17.7310 _CH2          1 RES     \\n     314 _CH3        11.2160    23.1560    17.3910 _CH3          1 RES     \\n     315 _CH3         6.2430    24.1700    18.3350 _CH3          1 RES     \\n     316 _CH2        15.7940    15.3900    10.3200 _CH2          1 RES     \\n     317 _CH2        14.4690    15.7570     9.6260 _CH2          1 RES     \\n     318 _CH2        13.6350    16.8030    10.3880 _CH2          1 RES     \\n     319 _CH3        16.5730    14.2500     9.6400 _CH3          1 RES     \\n     320 _CH3        12.2770    17.1240     9.7350 _CH3          1 RES     \\n     321 _CH2         3.0540    18.7210     4.6280 _CH2          1 RES     \\n     322 _CH2         4.1160    19.3120     3.6820 _CH2          1 RES     \\n     323 _CH2         5.0460    18.2660     3.0390 _CH2          1 RES     \\n     324 _CH3         2.1210    19.7720     5.2570 _CH3          1 RES     \\n     325 _CH3         6.1050    18.8670     2.0960 _CH3          1 RES     \\n     326 _CH2        21.2680    13.9780    27.5430 _CH2          1 RES     \\n     327 _CH2        22.6560    14.6450    27.5690 _CH2          1 RES     \\n     328 _CH2        23.8410    13.8140    27.0420 _CH2          1 RES     \\n     329 _CH3        20.5310    13.9610    26.1900 _CH3          1 RES     \\n     330 _CH3        25.1850    14.5650    27.0750 _CH3          1 RES     \\n     331 _CH2         7.4480     3.0930    10.5390 _CH2          1 RES     \\n     332 _CH2         8.4520     2.6330    11.6130 _CH2          1 RES     \\n     333 _CH2         9.2410     1.3630    11.2440 _CH2          1 RES     \\n     334 _CH3         6.6970     4.3880    10.9000 _CH3          1 RES     \\n     335 _CH3        10.2720     0.9360    12.3060 _CH3          1 RES     \\n     336 _CH2        20.3740    14.1000    10.7640 _CH2          1 RES     \\n     337 _CH2        21.2400    13.4670    11.8690 _CH2          1 RES     \\n     338 _CH2        21.5150    11.9620    11.6990 _CH2          1 RES     \\n     339 _CH3        20.1330    15.6080    10.9610 _CH3          1 RES     \\n     340 _CH3        22.4190    11.3680    12.7950 _CH3          1 RES     \\n     341 _CH2         7.5250    12.8750    14.6410 _CH2          1 RES     \\n     342 _CH2         8.3410    11.5810    14.4680 _CH2          1 RES     \\n     343 _CH2         9.6520    11.7500    13.6780 _CH2          1 RES     \\n     344 _CH3         6.2150    12.6830    15.4280 _CH3          1 RES     \\n     345 _CH3        10.4720    10.4510    13.5670 _CH3          1 RES     \\n     346 _CH2        21.7610    16.6940    31.2440 _CH2          1 RES     \\n     347 _CH2        20.9380    15.4000    31.3830 _CH2          1 RES     \\n     348 _CH2        21.7920    14.1250    31.5110 _CH2          1 RES     \\n     349 _CH3        20.9110    17.9730    31.1250 _CH3          1 RES     \\n     350 _CH3        20.9750    12.8240    31.6200 _CH3          1 RES     \\n     351 _CH2        24.4900    28.9440     2.6370 _CH2          1 RES     \\n     352 _CH2        25.9350    28.4320     2.4840 _CH2          1 RES     \\n     353 _CH2        26.1060    27.3440     1.4080 _CH2          1 RES     \\n     354 _CH3        24.3090    30.0030     3.7400 _CH3          1 RES     \\n     355 _CH3        27.5420    26.8020     1.2850 _CH3          1 RES     \\n     356 _CH2        20.4820    17.9470    27.0040 _CH2          1 RES     \\n     357 _CH2        21.8340    18.5700    26.6100 _CH2          1 RES     \\n     358 _CH2        22.8580    18.6280    27.7580 _CH2          1 RES     \\n     359 _CH3        19.4780    17.8380    25.8410 _CH3          1 RES     \\n     360 _CH3        24.2360    19.1820    27.3500 _CH3          1 RES     \\n     361 _CH2         3.6260    19.2400    16.4370 _CH2          1 RES     \\n     362 _CH2         3.0380    17.8580    16.7800 _CH2          1 RES     \\n     363 _CH2         3.3160    17.3960    18.2230 _CH2          1 RES     \\n     364 _CH3         3.3550    19.6950    14.9910 _CH3          1 RES     \\n     365 _CH3         2.7210    16.0180    18.5650 _CH3          1 RES     \\n     366 _CH2         3.7730     7.5940    21.3310 _CH2          1 RES     \\n     367 _CH2         3.6930     6.1110    21.7400 _CH2          1 RES     \\n     368 _CH2         4.9350     5.6000    22.4940 _CH2          1 RES     \\n     369 _CH3         2.5450     8.1070    20.5550 _CH3          1 RES     \\n     370 _CH3         4.8680     4.1100    22.8780 _CH3          1 RES     \\n     371 _CH2        17.7470    13.1360    13.7360 _CH2          1 RES     \\n     372 _CH2        17.2290    14.5860    13.7540 _CH2          1 RES     \\n     373 _CH2        15.9110    14.8430    14.5070 _CH2          1 RES     \\n     374 _CH3        18.5090    12.6570    14.9860 _CH3          1 RES     \\n     375 _CH3        15.3940    16.2900    14.3960 _CH3          1 RES     \\n     376 _CH2        23.1870    23.5320     2.3880 _CH2          1 RES     \\n     377 _CH2        22.2320    22.3840     2.7630 _CH2          1 RES     \\n     378 _CH2        22.6870    20.9580     2.3970 _CH2          1 RES     \\n     379 _CH3        22.6770    24.9300     2.7860 _CH3          1 RES     \\n     380 _CH3        23.7210    20.3020     3.3300 _CH3          1 RES     \\n     381 _CH2        19.8220     7.0280    24.5530 _CH2          1 RES     \\n     382 _CH2        19.5360     6.2850    23.2360 _CH2          1 RES     \\n     383 _CH2        18.4090     6.8960    22.3820 _CH2          1 RES     \\n     384 _CH3        20.9690     6.4090    25.3740 _CH3          1 RES     \\n     385 _CH3        18.2010     6.1730    21.0380 _CH3          1 RES     \\n     386 _CH2        15.6500    25.9140    17.3780 _CH2          1 RES     \\n     387 _CH2        14.2150    25.8150    16.8290 _CH2          1 RES     \\n     388 _CH2        13.2910    27.0300    17.0330 _CH2          1 RES     \\n     389 _CH3        16.5180    24.6760    17.0820 _CH3          1 RES     \\n     390 _CH3        13.4900    28.2160    16.0710 _CH3          1 RES     \\n     391 _CH2        25.8860    20.0940    19.6490 _CH2          1 RES     \\n     392 _CH2        27.1800    20.3250    18.8460 _CH2          1 RES     \\n     393 _CH2        27.8820    21.6920    18.9460 _CH2          1 RES     \\n     394 _CH3        24.5940    20.6940    19.0660 _CH3          1 RES     \\n     395 _CH3        28.7450    21.9220    20.2010 _CH3          1 RES     \\n     396 _CH2        15.1070    14.0330     4.8150 _CH2          1 RES     \\n     397 _CH2        13.8450    13.2580     5.2360 _CH2          1 RES     \\n     398 _CH2        13.1070    12.5730     4.0710 _CH2          1 RES     \\n     399 _CH3        15.8390    14.7240     5.9810 _CH3          1 RES     \\n     400 _CH3        11.8520    11.7900     4.4960 _CH3          1 RES     \\n     401 _CH2        28.8700     7.7720     3.7870 _CH2          1 RES     \\n     402 _CH2        29.5220     6.9420     4.9090 _CH2          1 RES     \\n     403 _CH2        29.0520     7.2310     6.3470 _CH2          1 RES     \\n     404 _CH3        29.4090     9.2000     3.5820 _CH3          1 RES     \\n     405 _CH3        29.7410     6.3670     7.4200 _CH3          1 RES     \\n     406 _CH2         7.2200    19.8800    18.1030 _CH2          1 RES     \\n     407 _CH2         7.4230    18.3540    18.0680 _CH2          1 RES     \\n     408 _CH2         7.6370    17.7800    16.6540 _CH2          1 RES     \\n     409 _CH3         7.0100    20.4570    19.5150 _CH3          1 RES     \\n     410 _CH3         7.8810    16.2600    16.6310 _CH3          1 RES     \\n     411 _CH2        22.4260    16.1480    15.2140 _CH2          1 RES     \\n     412 _CH2        23.4510    15.3870    14.3520 _CH2          1 RES     \\n     413 _CH2        23.8640    15.9890    12.9950 _CH2          1 RES     \\n     414 _CH3        20.9470    16.0000    14.8110 _CH3          1 RES     \\n     415 _CH3        24.9270    17.1030    13.0250 _CH3          1 RES     \\n     416 _CH2        15.6690    21.0000    17.3490 _CH2          1 RES     \\n     417 _CH2        16.2650    19.6730    16.8430 _CH2          1 RES     \\n     418 _CH2        17.6080    19.8460    16.1110 _CH2          1 RES     \\n     419 _CH3        14.3290    20.8530    18.0950 _CH3          1 RES     \\n     420 _CH3        18.2640    18.5250    15.6690 _CH3          1 RES     \\n     421 _CH2        24.8920     2.0170    18.6950 _CH2          1 RES     \\n     422 _CH2        26.0430     2.3490    19.6640 _CH2          1 RES     \\n     423 _CH2        27.4050     2.5420    18.9730 _CH2          1 RES     \\n     424 _CH3        23.5390     1.7650    19.3870 _CH3          1 RES     \\n     425 _CH3        28.5620     2.8770    19.9330 _CH3          1 RES     \\n     426 _CH2        20.0400    10.3450     3.6920 _CH2          1 RES     \\n     427 _CH2        19.1060    10.8200     2.5640 _CH2          1 RES     \\n     428 _CH2        17.8640    11.5860     3.0550 _CH2          1 RES     \\n     429 _CH3        21.3090     9.6250     3.1980 _CH3          1 RES     \\n     430 _CH3        16.9290    12.0550     1.9250 _CH3          1 RES     \\n     431 _CH2         9.8100     6.7120     4.8960 _CH2          1 RES     \\n     432 _CH2        10.0460     5.4350     5.7240 _CH2          1 RES     \\n     433 _CH2         8.8620     4.4500     5.7270 _CH2          1 RES     \\n     434 _CH3        11.0050     7.6840     4.8840 _CH3          1 RES     \\n     435 _CH3         9.1000     3.1830     6.5690 _CH3          1 RES     \\n     436 _CH2        23.7140    24.1220    26.5320 _CH2          1 RES     \\n     437 _CH2        25.1170    23.5530    26.2510 _CH2          1 RES     \\n     438 _CH2        25.7920    22.7780    27.3980 _CH2          1 RES     \\n     439 _CH3        22.5380    23.1340    26.4160 _CH3          1 RES     \\n     440 _CH3        27.1770    22.2050    27.0410 _CH3          1 RES     \\n     441 _CH2         9.3120    24.0300    21.8140 _CH2          1 RES     \\n     442 _CH2        10.7770    23.9260    21.3500 _CH2          1 RES     \\n     443 _CH2        11.4300    25.2760    21.0020 _CH2          1 RES     \\n     444 _CH3         8.6700    22.6740    22.1590 _CH3          1 RES     \\n     445 _CH3        12.8880    25.1630    20.5180 _CH3          1 RES     \\n     446 _CH2        12.7860    23.8240     8.9760 _CH2          1 RES     \\n     447 _CH2        11.6630    22.9270     8.4240 _CH2          1 RES     \\n     448 _CH2        12.1370    21.8280     7.4560 _CH2          1 RES     \\n     449 _CH3        12.2900    24.9300     9.9260 _CH3          1 RES     \\n     450 _CH3        11.0000    20.9560     6.8910 _CH3          1 RES     \\n     451 _CH2        14.8310     8.7900     4.7910 _CH2          1 RES     \\n     452 _CH2        15.4480     9.5570     5.9750 _CH2          1 RES     \\n     453 _CH2        14.4310     9.9280     7.0710 _CH2          1 RES     \\n     454 _CH3        15.8370     8.3960     3.6930 _CH3          1 RES     \\n     455 _CH3        15.0210    10.7520     8.2310 _CH3          1 RES     \\n     456 _CH2        21.5000     9.9710    16.2300 _CH2          1 RES     \\n     457 _CH2        21.6660    11.0320    17.3350 _CH2          1 RES     \\n     458 _CH2        22.0490    12.4300    16.8150 _CH2          1 RES     \\n     459 _CH3        21.2100     8.5560    16.7640 _CH3          1 RES     \\n     460 _CH3        22.2610    13.4700    17.9300 _CH3          1 RES     \\n     461 _CH2        22.7790     6.5290    20.1210 _CH2          1 RES     \\n     462 _CH2        22.4650     5.1950    20.8210 _CH2          1 RES     \\n     463 _CH2        23.0850     4.9830    22.2150 _CH2          1 RES     \\n     464 _CH3        21.9660     7.7550    20.5760 _CH3          1 RES     \\n     465 _CH3        22.7550     3.6280    22.8680 _CH3          1 RES     \\n     466 _CH2        22.4620     2.8470    15.5800 _CH2          1 RES     \\n     467 _CH2        21.2310     3.1360    16.4580 _CH2          1 RES     \\n     468 _CH2        21.1450     4.5920    16.9530 _CH2          1 RES     \\n     469 _CH3        22.5450     1.3980    15.0660 _CH3          1 RES     \\n     470 _CH3        19.8800     4.9100    17.7710 _CH3          1 RES     \\n     471 _CH2        21.8960    28.2110     7.5120 _CH2          1 RES     \\n     472 _CH2        21.0250    28.6030     6.3040 _CH2          1 RES     \\n     473 _CH2        21.2810    27.7560     5.0440 _CH2          1 RES     \\n     474 _CH3        21.6370    29.0620     8.7690 _CH3          1 RES     \\n     475 _CH3        20.4060    28.1420     3.8370 _CH3          1 RES     \\n     476 _CH2        29.5430    27.1210     5.6490 _CH2          1 RES     \\n     477 _CH2        29.0410    28.4890     5.1510 _CH2          1 RES     \\n     478 _CH2        28.2010    29.2680     6.1800 _CH2          1 RES     \\n     479 _CH3        30.3700    26.3450     4.6060 _CH3          1 RES     \\n     480 _CH3        27.7130    30.6390     5.6780 _CH3          1 RES     \\n     481 _CH2        22.5240     5.8600     1.2350 _CH2          1 RES     \\n     482 _CH2        21.0550     5.7940     1.6920 _CH2          1 RES     \\n     483 _CH2        20.1110     6.7150     0.8960 _CH2          1 RES     \\n     484 _CH3        23.4690     4.9170     2.0020 _CH3          1 RES     \\n     485 _CH3        18.6420     6.6690     1.3550 _CH3          1 RES     \\n     486 _CH2        21.6310     2.4250     8.5430 _CH2          1 RES     \\n     487 _CH2        21.1390     2.6360     7.0990 _CH2          1 RES     \\n     488 _CH2        22.2170     2.4030     6.0250 _CH2          1 RES     \\n     489 _CH3        20.5590     2.6930     9.6160 _CH3          1 RES     \\n     490 _CH3        21.7210     2.6150     4.5820 _CH3          1 RES     \\n     491 _CH2        30.4940    16.0000    10.3520 _CH2          1 RES     \\n     492 _CH2        29.1090    15.6150    10.9050 _CH2          1 RES     \\n     493 _CH2        28.0140    16.6960    10.8530 _CH2          1 RES     \\n     494 _CH3        31.5270    14.8600    10.4190 _CH3          1 RES     \\n     495 _CH3        27.3130    16.9030     9.4980 _CH3          1 RES     \\n     496 _CH2        26.4720    16.5170    17.5700 _CH2          1 RES     \\n     497 _CH2        25.9570    15.0880    17.3160 _CH2          1 RES     \\n     498 _CH2        26.4750    13.9870    18.2600 _CH2          1 RES     \\n     499 _CH3        25.9140    17.5650    16.5900 _CH3          1 RES     \\n     500 _CH3        27.8940    13.4540    17.9920 _CH3          1 RES     \\n     501 _CH2        19.0840    27.7070    28.8240 _CH2          1 RES     \\n     502 _CH2        19.8030    26.6730    29.7100 _CH2          1 RES     \\n     503 _CH2        21.0350    26.0250    29.0510 _CH2          1 RES     \\n     504 _CH3        17.8430    28.3420    29.4790 _CH3          1 RES     \\n     505 _CH3        21.7800    25.0240    29.9540 _CH3          1 RES     \\n     506 _CH2        23.3610    24.6180    10.8140 _CH2          1 RES     \\n     507 _CH2        23.5530    26.1450    10.8680 _CH2          1 RES     \\n     508 _CH2        23.1300    26.8460    12.1720 _CH2          1 RES     \\n     509 _CH3        24.4260    23.7610    11.5230 _CH3          1 RES     \\n     510 _CH3        23.3540    28.3700    12.1780 _CH3          1 RES     \\n     511 _CH2         3.5710    24.7310     6.4830 _CH2          1 RES     \\n     512 _CH2         4.4620    24.5710     5.2370 _CH2          1 RES     \\n     513 _CH2         4.0060    23.4560     4.2780 _CH2          1 RES     \\n     514 _CH3         4.0200    25.8500     7.4410 _CH3          1 RES     \\n     515 _CH3         4.9050    23.2790     3.0400 _CH3          1 RES     \\n     516 _CH2         4.3050    19.1280    30.9290 _CH2          1 RES     \\n     517 _CH2         3.3040    18.0280    30.5290 _CH2          1 RES     \\n     518 _CH2         1.9790    18.5580    29.9480 _CH2          1 RES     \\n     519 _CH3         5.6460    18.5890    31.4630 _CH3          1 RES     \\n     520 _CH3         0.9910    17.4520    29.5340 _CH3          1 RES     \\n     521 _CH2        14.8340     5.0030     7.6640 _CH2          1 RES     \\n     522 _CH2        15.8790     5.8100     8.4560 _CH2          1 RES     \\n     523 _CH2        16.9620     4.9440     9.1250 _CH2          1 RES     \\n     524 _CH3        13.7410     5.8670     7.0100 _CH3          1 RES     \\n     525 _CH3        17.9800     5.7510     9.9520 _CH3          1 RES     \\n     526 _CH2        19.0390     4.6130    13.4830 _CH2          1 RES     \\n     527 _CH2        20.3530     5.2450    12.9880 _CH2          1 RES     \\n     528 _CH2        20.4620     6.7570    13.2630 _CH2          1 RES     \\n     529 _CH3        18.9300     3.1000    13.2200 _CH3          1 RES     \\n     530 _CH3        21.7630     7.4060    12.7560 _CH3          1 RES     \\n     531 _CH2         5.5810    19.5330    11.2950 _CH2          1 RES     \\n     532 _CH2         6.9050    20.0810    10.7320 _CH2          1 RES     \\n     533 _CH2         8.0770    19.0820    10.7730 _CH2          1 RES     \\n     534 _CH3         4.4070    20.5280    11.2280 _CH3          1 RES     \\n     535 _CH3         9.3960    19.6450    10.2130 _CH3          1 RES     \\n     536 _CH2        19.8740    21.6730    23.5190 _CH2          1 RES     \\n     537 _CH2        18.8560    21.5340    24.6660 _CH2          1 RES     \\n     538 _CH2        17.4290    21.1030    24.2790 _CH2          1 RES     \\n     539 _CH3        20.4850    20.3660    22.9800 _CH3          1 RES     \\n     540 _CH3        16.4560    21.0060    25.4690 _CH3          1 RES     \\n     541 _CH2        10.0840    28.8890    24.4640 _CH2          1 RES     \\n     542 _CH2        11.5390    29.3790    24.5690 _CH2          1 RES     \\n     543 _CH2        11.8530    30.1630    25.8570 _CH2          1 RES     \\n     544 _CH3         9.7910    28.0750    23.1890 _CH3          1 RES     \\n     545 _CH3        13.3160    30.6330    25.9660 _CH3          1 RES     \\n     546 _CH2        13.8600     3.7910    12.2340 _CH2          1 RES     \\n     547 _CH2        13.0660     3.8140    10.9140 _CH2          1 RES     \\n     548 _CH2        11.7910     4.6770    10.9600 _CH2          1 RES     \\n     549 _CH3        15.1350     2.9280    12.1900 _CH3          1 RES     \\n     550 _CH3        11.0200     4.7300     9.6280 _CH3          1 RES     \\n     551 _CH2        13.1250    21.5780    28.0170 _CH2          1 RES     \\n     552 _CH2        12.8640    20.7600    29.2960 _CH2          1 RES     \\n     553 _CH2        13.5370    21.3180    30.5640 _CH2          1 RES     \\n     554 _CH3        12.4390    21.0000    26.7650 _CH3          1 RES     \\n     555 _CH3        13.2780    20.4750    31.8260 _CH3          1 RES     \\n     556 _CH2         7.3340    24.1670    10.4120 _CH2          1 RES     \\n     557 _CH2         7.9100    23.7450     9.0480 _CH2          1 RES     \\n     558 _CH2         7.8740    24.7980     7.9260 _CH2          1 RES     \\n     559 _CH3         5.8020    24.1220    10.5570 _CH3          1 RES     \\n     560 _CH3         8.4370    24.3060     6.5790 _CH3          1 RES     \\n     561 _CH2         9.9610    10.5900    22.6070 _CH2          1 RES     \\n     562 _CH2         8.8120     9.6560    23.0310 _CH2          1 RES     \\n     563 _CH2         9.2770     8.3300    23.6630 _CH2          1 RES     \\n     564 _CH3         9.4860    11.9240    22.0020 _CH3          1 RES     \\n     565 _CH3         8.1220     7.4000    24.0790 _CH3          1 RES     \\n     566 _CH2        16.6280     8.9920    14.6800 _CH2          1 RES     \\n     567 _CH2        15.7700     9.8840    15.5960 _CH2          1 RES     \\n     568 _CH2        14.7010    10.7040    14.8500 _CH2          1 RES     \\n     569 _CH3        17.7110     8.1900    15.4260 _CH3          1 RES     \\n     570 _CH3        13.8710    11.6190    15.7690 _CH3          1 RES     \\n     571 _CH2         6.4320    13.7600    19.4440 _CH2          1 RES     \\n     572 _CH2         5.2320    12.7950    19.4190 _CH2          1 RES     \\n     573 _CH2         4.8170    12.0890    20.7240 _CH2          1 RES     \\n     574 _CH3         6.1750    15.1530    20.0470 _CH3          1 RES     \\n     575 _CH3         5.6960    10.9070    21.1740 _CH3          1 RES     \\n     576 _CH2        18.9280    28.8140    11.5100 _CH2          1 RES     \\n     577 _CH2        19.3790    27.3460    11.6230 _CH2          1 RES     \\n     578 _CH2        18.9480    26.4620    10.4390 _CH2          1 RES     \\n     579 _CH3        19.4230    29.7200    12.6520 _CH3          1 RES     \\n     580 _CH3        19.4020    24.9940    10.5510 _CH3          1 RES     \\n     581 _CH2        18.7020     9.5480     9.6080 _CH2          1 RES     \\n     582 _CH2        18.7520    10.9670     9.0110 _CH2          1 RES     \\n     583 _CH2        18.8830    11.0110     7.4770 _CH2          1 RES     \\n     584 _CH3        18.5250     9.5230    11.1380 _CH3          1 RES     \\n     585 _CH3        18.8990    12.4360     6.8960 _CH3          1 RES     \\n     586 _CH2        13.3930     8.5610    11.4540 _CH2          1 RES     \\n     587 _CH2        12.6650     8.3050    10.1220 _CH2          1 RES     \\n     588 _CH2        11.2380     8.8810    10.0510 _CH2          1 RES     \\n     589 _CH3        14.8110     7.9610    11.5100 _CH3          1 RES     \\n     590 _CH3        10.5260     8.6170     8.7120 _CH3          1 RES     \\n     591 _CH2         2.8880    13.1620    27.9650 _CH2          1 RES     \\n     592 _CH2         1.9310    13.7920    26.9350 _CH2          1 RES     \\n     593 _CH2         2.0030    13.2470    25.4960 _CH2          1 RES     \\n     594 _CH3         2.7870    13.7700    29.3760 _CH3          1 RES     \\n     595 _CH3         3.1510    13.7690    24.6120 _CH3          1 RES     \\n     596 _CH2         9.1320    26.8930    13.3530 _CH2          1 RES     \\n     597 _CH2         7.9110    26.4590    14.1850 _CH2          1 RES     \\n     598 _CH2         6.5530    26.7760    13.5310 _CH2          1 RES     \\n     599 _CH3        10.4870    26.5680    14.0090 _CH3          1 RES     \\n     600 _CH3         5.3360    26.3280    14.3610 _CH3          1 RES     \\n     601 _CH2         7.2290    21.7050    14.8560 _CH2          1 RES     \\n     602 _CH2         8.3680    21.5790    13.8270 _CH2          1 RES     \\n     603 _CH2         9.2870    22.8020    13.6510 _CH2          1 RES     \\n     604 _CH3         5.9850    22.4990    14.4170 _CH3          1 RES     \\n     605 _CH3        10.3200    22.6530    12.5190 _CH3          1 RES     \\n     606 _CH2        26.5550    27.9800    23.5060 _CH2          1 RES     \\n     607 _CH2        26.5270    26.4590    23.7490 _CH2          1 RES     \\n     608 _CH2        27.3920    25.6480    22.7670 _CH2          1 RES     \\n     609 _CH3        25.7530    28.7920    24.5400 _CH3          1 RES     \\n     610 _CH3        27.4170    24.1360    23.0610 _CH3          1 RES     \\n     611 _CH2        30.3070     7.6700    17.5920 _CH2          1 RES     \\n     612 _CH2        31.0670     8.9180    18.0790 _CH2          1 RES     \\n     613 _CH2        30.8060    10.1830    17.2400 _CH2          1 RES     \\n     614 _CH3        30.5800     6.3990    18.4170 _CH3          1 RES     \\n     615 _CH3        31.5540    11.4350    17.7310 _CH3          1 RES     \\n     616 _CH2        29.0900     8.7120    13.7240 _CH2          1 RES     \\n     617 _CH2        27.9190     8.9860    12.7620 _CH2          1 RES     \\n     618 _CH2        26.5420     8.4320    13.1730 _CH2          1 RES     \\n     619 _CH3        29.7390     7.3170    13.6490 _CH3          1 RES     \\n     620 _CH3        25.4070     8.7610    12.1850 _CH3          1 RES     \\n     621 _CH2        25.7250     5.9510    16.0450 _CH2          1 RES     \\n     622 _CH2        26.2770     4.7620    15.2350 _CH2          1 RES     \\n     623 _CH2        27.7330     4.3940    15.5750 _CH2          1 RES     \\n     624 _CH3        24.2850     6.3510    15.6710 _CH3          1 RES     \\n     625 _CH3        28.2790     3.1930    14.7800 _CH3          1 RES     \\n     626 _CH2        10.2970    17.3930    13.5880 _CH2          1 RES     \\n     627 _CH2        11.6520    18.0040    13.9890 _CH2          1 RES     \\n     628 _CH2        11.6150    19.3850    14.6700 _CH2          1 RES     \\n     629 _CH3        10.3980    15.9900    12.9620 _CH3          1 RES     \\n     630 _CH3        11.2200    19.4140    16.1580 _CH3          1 RES     \\n     631 _CH2        27.1230    13.6170    13.8600 _CH2          1 RES     \\n     632 _CH2        28.5960    13.4360    14.2740 _CH2          1 RES     \\n     633 _CH2        29.4800    12.5780    13.3500 _CH2          1 RES     \\n     634 _CH3        26.1670    12.4530    14.1800 _CH3          1 RES     \\n     635 _CH3        30.9480    12.4650    13.8020 _CH3          1 RES     \\n     636 _CH2        15.5930    25.4200    12.2900 _CH2          1 RES     \\n     637 _CH2        15.3100    24.1600    13.1290 _CH2          1 RES     \\n     638 _CH2        13.8470    23.9200    13.5450 _CH2          1 RES     \\n     639 _CH3        15.6870    26.7470    13.0660 _CH3          1 RES     \\n     640 _CH3        13.6530    22.7030    14.4690 _CH3          1 RES     \\n     641 _CH2         7.3860    15.0010    10.7810 _CH2          1 RES     \\n     642 _CH2         6.2010    15.0790    11.7610 _CH2          1 RES     \\n     643 _CH2         6.3420    16.1460    12.8630 _CH2          1 RES     \\n     644 _CH3         7.2240    13.9100     9.7070 _CH3          1 RES     \\n     645 _CH3         5.1170    16.2450    13.7910 _CH3          1 RES     \\n     646 _CH2         9.3530    19.1260    28.8170 _CH2          1 RES     \\n     647 _CH2        10.0230    17.7490    28.9810 _CH2          1 RES     \\n     648 _CH2        10.2710    16.9500    27.6880 _CH2          1 RES     \\n     649 _CH3         9.1380    19.8790    30.1420 _CH3          1 RES     \\n     650 _CH3        11.5320    17.3090    26.8800 _CH3          1 RES     \\n     651 _CH2        27.0380     7.3000    20.8950 _CH2          1 RES     \\n     652 _CH2        26.3210     6.7730    22.1510 _CH2          1 RES     \\n     653 _CH2        26.3790     7.7170    23.3660 _CH2          1 RES     \\n     654 _CH3        26.8900     6.3900    19.6620 _CH3          1 RES     \\n     655 _CH3        25.6160     7.1970    24.5990 _CH3          1 RES     \\n     656 _CH2        20.0460    21.1780    10.2760 _CH2          1 RES     \\n     657 _CH2        21.5370    20.8110    10.1640 _CH2          1 RES     \\n     658 _CH2        21.8820    19.3110    10.1000 _CH2          1 RES     \\n     659 _CH3        19.2100    21.1010     8.9850 _CH3          1 RES     \\n     660 _CH3        23.3920    19.0230    10.0090 _CH3          1 RES     \\n     661 _CH2        26.4750    29.9790    10.2350 _CH2          1 RES     \\n     662 _CH2        25.5610    30.1190     9.0030 _CH2          1 RES     \\n     663 _CH2        25.0350    31.5460     8.7650 _CH2          1 RES     \\n     664 _CH3        27.0320    28.5590    10.4460 _CH3          1 RES     \\n     665 _CH3        24.1670    31.6950     7.5020 _CH3          1 RES     \\n     666 _CH2        17.3030    18.4050    29.6920 _CH2          1 RES     \\n     667 _CH2        16.3500    18.9940    28.6350 _CH2          1 RES     \\n     668 _CH2        15.3230    18.0670    27.9590 _CH2          1 RES     \\n     669 _CH3        16.7270    18.1940    31.1040 _CH3          1 RES     \\n     670 _CH3        15.8440    17.1740    26.8180 _CH3          1 RES     \\n     671 _CH2         3.3100    16.6160     9.7920 _CH2          1 RES     \\n     672 _CH2         2.9760    15.1280     9.5790 _CH2          1 RES     \\n     673 _CH2         1.4930    14.7290     9.6910 _CH2          1 RES     \\n     674 _CH3         3.0540    17.5650     8.6060 _CH3          1 RES     \\n     675 _CH3         1.2320    13.2270     9.4750 _CH3          1 RES     \\n     676 _CH2        15.8470     3.8030    16.5460 _CH2          1 RES     \\n     677 _CH2        16.0660     4.8260    17.6750 _CH2          1 RES     \\n     678 _CH2        15.2620     6.1300    17.5100 _CH2          1 RES     \\n     679 _CH3        16.6650     2.5090    16.7110 _CH3          1 RES     \\n     680 _CH3        15.5270     7.1810    18.6030 _CH3          1 RES     \\n     681 _CH2        20.2260    21.0500    19.1990 _CH2          1 RES     \\n     682 _CH2        20.6660    22.5050    19.4490 _CH2          1 RES     \\n     683 _CH2        19.9730    23.5820    18.5930 _CH2          1 RES     \\n     684 _CH3        20.8130    20.3640    17.9520 _CH3          1 RES     \\n     685 _CH3        20.5140    25.0080    18.8070 _CH3          1 RES     \\n     686 _CH2        23.4590    30.5520    27.3500 _CH2          1 RES     \\n     687 _CH2        22.5910    31.0040    26.1610 _CH2          1 RES     \\n     688 _CH2        23.3130    31.9350    25.1690 _CH2          1 RES     \\n     689 _CH3        22.7430    29.6030    28.3280 _CH3          1 RES     \\n     690 _CH3        22.4510    32.3640    23.9670 _CH3          1 RES     \\n     691 _CH2        22.3480    23.8960    15.6430 _CH2          1 RES     \\n     692 _CH2        21.2670    23.9160    14.5460 _CH2          1 RES     \\n     693 _CH2        20.0350    23.0520    14.8740 _CH2          1 RES     \\n     694 _CH3        23.5910    24.7500    15.3290 _CH3          1 RES     \\n     695 _CH3        18.9460    23.0560    13.7850 _CH3          1 RES     \\n     696 _CH2         2.3590     4.2910    18.2100 _CH2          1 RES     \\n     697 _CH2         3.8980     4.2830    18.1790 _CH2          1 RES     \\n     698 _CH2         4.5290     3.0310    18.8170 _CH2          1 RES     \\n     699 _CH3         1.7200     5.5500    17.5950 _CH3          1 RES     \\n     700 _CH3         6.0690     3.0190    18.8000 _CH3          1 RES     \\n     701 _CH2        17.4220    24.5110    26.8270 _CH2          1 RES     \\n     702 _CH2        16.3010    25.1310    27.6830 _CH2          1 RES     \\n     703 _CH2        15.9950    24.3640    28.9830 _CH2          1 RES     \\n     704 _CH3        17.7130    25.2790    25.5250 _CH3          1 RES     \\n     705 _CH3        14.8990    25.0110    29.8500 _CH3          1 RES     \\n     706 _CH2        17.1660     5.4130    27.4640 _CH2          1 RES     \\n     707 _CH2        18.1720     6.3570    28.1490 _CH2          1 RES     \\n     708 _CH2        18.9230     5.7150    29.3300 _CH2          1 RES     \\n     709 _CH3        16.4420     6.0280    26.2520 _CH3          1 RES     \\n     710 _CH3        19.9380     6.6470    30.0180 _CH3          1 RES     \\n     711 _CH2        12.2070    15.0830    16.4700 _CH2          1 RES     \\n     712 _CH2        12.5260    15.6290    17.8740 _CH2          1 RES     \\n     713 _CH2        13.7020    16.6220    17.9250 _CH2          1 RES     \\n     714 _CH3        11.0150    14.1080    16.4410 _CH3          1 RES     \\n     715 _CH3        13.9990    17.1470    19.3410 _CH3          1 RES     \\n     716 _CH2        12.4580     6.9380    14.8820 _CH2          1 RES     \\n     717 _CH2        11.6240     5.6470    14.7740 _CH2          1 RES     \\n     718 _CH2        11.9470     4.5260    15.7800 _CH2          1 RES     \\n     719 _CH3        12.0490     7.9310    15.9860 _CH3          1 RES     \\n     720 _CH3        11.1050     3.2500    15.5940 _CH3          1 RES     \\n     721 _CH2        24.7370    14.0930     9.0730 _CH2          1 RES     \\n     722 _CH2        25.0360    13.3140    10.3670 _CH2          1 RES     \\n     723 _CH2        25.8880    12.0400    10.2200 _CH2          1 RES     \\n     724 _CH3        23.8280    15.3210     9.2590 _CH3          1 RES     \\n     725 _CH3        27.4090    12.2370    10.0820 _CH3          1 RES     \\n     726 _CH2        27.9870    11.9650    26.5120 _CH2          1 RES     \\n     727 _CH2        28.7510    12.7030    25.3970 _CH2          1 RES     \\n     728 _CH2        29.2740    14.0960    25.7940 _CH2          1 RES     \\n     729 _CH3        27.4070    10.6040    26.0850 _CH3          1 RES     \\n     730 _CH3        30.0110    14.8340    24.6620 _CH3          1 RES     \\n     731 _CH2        16.9220    11.2390    30.8720 _CH2          1 RES     \\n     732 _CH2        16.9360    12.7570    30.6140 _CH2          1 RES     \\n     733 _CH2        17.6790    13.1700    29.3300 _CH2          1 RES     \\n     734 _CH3        16.1550    10.8230    32.1400 _CH3          1 RES     \\n     735 _CH3        17.7010    14.6880    29.0750 _CH3          1 RES     \\n     736 _CH2         4.4510    24.3710    29.2000 _CH2          1 RES     \\n     737 _CH2         5.8000    24.0750    29.8810 _CH2          1 RES     \\n     738 _CH2         5.7120    23.0760    31.0500 _CH2          1 RES     \\n     739 _CH3         4.5490    25.3410    28.0080 _CH3          1 RES     \\n     740 _CH3         7.0650    22.7760    31.7220 _CH3          1 RES     \\n     741 _CH2        21.0610    23.4330     6.3630 _CH2          1 RES     \\n     742 _CH2        22.3210    23.3370     7.2430 _CH2          1 RES     \\n     743 _CH2        23.2780    22.1960     6.8490 _CH2          1 RES     \\n     744 _CH3        20.0850    24.5510     6.7770 _CH3          1 RES     \\n     745 _CH3        24.5280    22.0880     7.7410 _CH3          1 RES     \\n     746 _CH2        22.8950     9.7410     7.7970 _CH2          1 RES     \\n     747 _CH2        22.7570    11.2600     7.5840 _CH2          1 RES     \\n     748 _CH2        22.8600    11.7040     6.1130 _CH2          1 RES     \\n     749 _CH3        22.8100     9.3030     9.2710 _CH3          1 RES     \\n     750 _CH3        22.7310    13.2240     5.9050 _CH3          1 RES     \\n@<TRIPOS>BOND\\n       1        1        2 1\\n       2        3        2 1\\n       3        4        1 1\\n       4        5        3 1\\n       5        6        7 1\\n       6        8        7 1\\n       7        9        6 1\\n       8       10        8 1\\n       9       11       12 1\\n      10       13       12 1\\n      11       14       11 1\\n      12       15       13 1\\n      13       16       17 1\\n      14       18       17 1\\n      15       19       16 1\\n      16       20       18 1\\n      17       21       22 1\\n      18       23       22 1\\n      19       24       21 1\\n      20       25       23 1\\n      21       26       27 1\\n      22       28       27 1\\n      23       29       26 1\\n      24       30       28 1\\n      25       31       32 1\\n      26       33       32 1\\n      27       34       31 1\\n      28       35       33 1\\n      29       36       37 1\\n      30       38       37 1\\n      31       39       36 1\\n      32       40       38 1\\n      33       41       42 1\\n      34       43       42 1\\n      35       44       41 1\\n      36       45       43 1\\n      37       46       47 1\\n      38       48       47 1\\n      39       49       46 1\\n      40       50       48 1\\n      41       51       52 1\\n      42       53       52 1\\n      43       54       51 1\\n      44       55       53 1\\n      45       56       57 1\\n      46       58       57 1\\n      47       59       56 1\\n      48       60       58 1\\n      49       61       62 1\\n      50       63       62 1\\n      51       64       61 1\\n      52       65       63 1\\n      53       66       67 1\\n      54       68       67 1\\n      55       69       66 1\\n      56       70       68 1\\n      57       71       72 1\\n      58       73       72 1\\n      59       74       71 1\\n      60       75       73 1\\n      61       76       77 1\\n      62       78       77 1\\n      63       79       76 1\\n      64       80       78 1\\n      65       81       82 1\\n      66       83       82 1\\n      67       84       81 1\\n      68       85       83 1\\n      69       86       87 1\\n      70       88       87 1\\n      71       89       86 1\\n      72       90       88 1\\n      73       91       92 1\\n      74       93       92 1\\n      75       94       91 1\\n      76       95       93 1\\n      77       96       97 1\\n      78       98       97 1\\n      79       99       96 1\\n      80      100       98 1\\n      81      101      102 1\\n      82      103      102 1\\n      83      104      101 1\\n      84      105      103 1\\n      85      106      107 1\\n      86      108      107 1\\n      87      109      106 1\\n      88      110      108 1\\n      89      111      112 1\\n      90      113      112 1\\n      91      114      111 1\\n      92      115      113 1\\n      93      116      117 1\\n      94      118      117 1\\n      95      119      116 1\\n      96      120      118 1\\n      97      121      122 1\\n      98      123      122 1\\n      99      124      121 1\\n     100      125      123 1\\n     101      126      127 1\\n     102      128      127 1\\n     103      129      126 1\\n     104      130      128 1\\n     105      131      132 1\\n     106      133      132 1\\n     107      134      131 1\\n     108      135      133 1\\n     109      136      137 1\\n     110      138      137 1\\n     111      139      136 1\\n     112      140      138 1\\n     113      141      142 1\\n     114      143      142 1\\n     115      144      141 1\\n     116      145      143 1\\n     117      146      147 1\\n     118      148      147 1\\n     119      149      146 1\\n     120      150      148 1\\n     121      151      152 1\\n     122      153      152 1\\n     123      154      151 1\\n     124      155      153 1\\n     125      156      157 1\\n     126      158      157 1\\n     127      159      156 1\\n     128      160      158 1\\n     129      161      162 1\\n     130      163      162 1\\n     131      164      161 1\\n     132      165      163 1\\n     133      166      167 1\\n     134      168      167 1\\n     135      169      166 1\\n     136      170      168 1\\n     137      171      172 1\\n     138      173      172 1\\n     139      174      171 1\\n     140      175      173 1\\n     141      176      177 1\\n     142      178      177 1\\n     143      179      176 1\\n     144      180      178 1\\n     145      181      182 1\\n     146      183      182 1\\n     147      184      181 1\\n     148      185      183 1\\n     149      186      187 1\\n     150      188      187 1\\n     151      189      186 1\\n     152      190      188 1\\n     153      191      192 1\\n     154      193      192 1\\n     155      194      191 1\\n     156      195      193 1\\n     157      196      197 1\\n     158      198      197 1\\n     159      199      196 1\\n     160      200      198 1\\n     161      201      202 1\\n     162      203      202 1\\n     163      204      201 1\\n     164      205      203 1\\n     165      206      207 1\\n     166      208      207 1\\n     167      209      206 1\\n     168      210      208 1\\n     169      211      212 1\\n     170      213      212 1\\n     171      214      211 1\\n     172      215      213 1\\n     173      216      217 1\\n     174      218      217 1\\n     175      219      216 1\\n     176      220      218 1\\n     177      221      222 1\\n     178      223      222 1\\n     179      224      221 1\\n     180      225      223 1\\n     181      226      227 1\\n     182      228      227 1\\n     183      229      226 1\\n     184      230      228 1\\n     185      231      232 1\\n     186      233      232 1\\n     187      234      231 1\\n     188      235      233 1\\n     189      236      237 1\\n     190      238      237 1\\n     191      239      236 1\\n     192      240      238 1\\n     193      241      242 1\\n     194      243      242 1\\n     195      244      241 1\\n     196      245      243 1\\n     197      246      247 1\\n     198      248      247 1\\n     199      249      246 1\\n     200      250      248 1\\n     201      251      252 1\\n     202      253      252 1\\n     203      254      251 1\\n     204      255      253 1\\n     205      256      257 1\\n     206      258      257 1\\n     207      259      256 1\\n     208      260      258 1\\n     209      261      262 1\\n     210      263      262 1\\n     211      264      261 1\\n     212      265      263 1\\n     213      266      267 1\\n     214      268      267 1\\n     215      269      266 1\\n     216      270      268 1\\n     217      271      272 1\\n     218      273      272 1\\n     219      274      271 1\\n     220      275      273 1\\n     221      276      277 1\\n     222      278      277 1\\n     223      279      276 1\\n     224      280      278 1\\n     225      281      282 1\\n     226      283      282 1\\n     227      284      281 1\\n     228      285      283 1\\n     229      286      287 1\\n     230      288      287 1\\n     231      289      286 1\\n     232      290      288 1\\n     233      291      292 1\\n     234      293      292 1\\n     235      294      291 1\\n     236      295      293 1\\n     237      296      297 1\\n     238      298      297 1\\n     239      299      296 1\\n     240      300      298 1\\n     241      301      302 1\\n     242      303      302 1\\n     243      304      301 1\\n     244      305      303 1\\n     245      306      307 1\\n     246      308      307 1\\n     247      309      306 1\\n     248      310      308 1\\n     249      311      312 1\\n     250      313      312 1\\n     251      314      311 1\\n     252      315      313 1\\n     253      316      317 1\\n     254      318      317 1\\n     255      319      316 1\\n     256      320      318 1\\n     257      321      322 1\\n     258      323      322 1\\n     259      324      321 1\\n     260      325      323 1\\n     261      326      327 1\\n     262      328      327 1\\n     263      329      326 1\\n     264      330      328 1\\n     265      331      332 1\\n     266      333      332 1\\n     267      334      331 1\\n     268      335      333 1\\n     269      336      337 1\\n     270      338      337 1\\n     271      339      336 1\\n     272      340      338 1\\n     273      341      342 1\\n     274      343      342 1\\n     275      344      341 1\\n     276      345      343 1\\n     277      346      347 1\\n     278      348      347 1\\n     279      349      346 1\\n     280      350      348 1\\n     281      351      352 1\\n     282      353      352 1\\n     283      354      351 1\\n     284      355      353 1\\n     285      356      357 1\\n     286      358      357 1\\n     287      359      356 1\\n     288      360      358 1\\n     289      361      362 1\\n     290      363      362 1\\n     291      364      361 1\\n     292      365      363 1\\n     293      366      367 1\\n     294      368      367 1\\n     295      369      366 1\\n     296      370      368 1\\n     297      371      372 1\\n     298      373      372 1\\n     299      374      371 1\\n     300      375      373 1\\n     301      376      377 1\\n     302      378      377 1\\n     303      379      376 1\\n     304      380      378 1\\n     305      381      382 1\\n     306      383      382 1\\n     307      384      381 1\\n     308      385      383 1\\n     309      386      387 1\\n     310      388      387 1\\n     311      389      386 1\\n     312      390      388 1\\n     313      391      392 1\\n     314      393      392 1\\n     315      394      391 1\\n     316      395      393 1\\n     317      396      397 1\\n     318      398      397 1\\n     319      399      396 1\\n     320      400      398 1\\n     321      401      402 1\\n     322      403      402 1\\n     323      404      401 1\\n     324      405      403 1\\n     325      406      407 1\\n     326      408      407 1\\n     327      409      406 1\\n     328      410      408 1\\n     329      411      412 1\\n     330      413      412 1\\n     331      414      411 1\\n     332      415      413 1\\n     333      416      417 1\\n     334      418      417 1\\n     335      419      416 1\\n     336      420      418 1\\n     337      421      422 1\\n     338      423      422 1\\n     339      424      421 1\\n     340      425      423 1\\n     341      426      427 1\\n     342      428      427 1\\n     343      429      426 1\\n     344      430      428 1\\n     345      431      432 1\\n     346      433      432 1\\n     347      434      431 1\\n     348      435      433 1\\n     349      436      437 1\\n     350      438      437 1\\n     351      439      436 1\\n     352      440      438 1\\n     353      441      442 1\\n     354      443      442 1\\n     355      444      441 1\\n     356      445      443 1\\n     357      446      447 1\\n     358      448      447 1\\n     359      449      446 1\\n     360      450      448 1\\n     361      451      452 1\\n     362      453      452 1\\n     363      454      451 1\\n     364      455      453 1\\n     365      456      457 1\\n     366      458      457 1\\n     367      459      456 1\\n     368      460      458 1\\n     369      461      462 1\\n     370      463      462 1\\n     371      464      461 1\\n     372      465      463 1\\n     373      466      467 1\\n     374      468      467 1\\n     375      469      466 1\\n     376      470      468 1\\n     377      471      472 1\\n     378      473      472 1\\n     379      474      471 1\\n     380      475      473 1\\n     381      476      477 1\\n     382      478      477 1\\n     383      479      476 1\\n     384      480      478 1\\n     385      481      482 1\\n     386      483      482 1\\n     387      484      481 1\\n     388      485      483 1\\n     389      486      487 1\\n     390      488      487 1\\n     391      489      486 1\\n     392      490      488 1\\n     393      491      492 1\\n     394      493      492 1\\n     395      494      491 1\\n     396      495      493 1\\n     397      496      497 1\\n     398      498      497 1\\n     399      499      496 1\\n     400      500      498 1\\n     401      501      502 1\\n     402      503      502 1\\n     403      504      501 1\\n     404      505      503 1\\n     405      506      507 1\\n     406      508      507 1\\n     407      509      506 1\\n     408      510      508 1\\n     409      511      512 1\\n     410      513      512 1\\n     411      514      511 1\\n     412      515      513 1\\n     413      516      517 1\\n     414      518      517 1\\n     415      519      516 1\\n     416      520      518 1\\n     417      521      522 1\\n     418      523      522 1\\n     419      524      521 1\\n     420      525      523 1\\n     421      526      527 1\\n     422      528      527 1\\n     423      529      526 1\\n     424      530      528 1\\n     425      531      532 1\\n     426      533      532 1\\n     427      534      531 1\\n     428      535      533 1\\n     429      536      537 1\\n     430      538      537 1\\n     431      539      536 1\\n     432      540      538 1\\n     433      541      542 1\\n     434      543      542 1\\n     435      544      541 1\\n     436      545      543 1\\n     437      546      547 1\\n     438      548      547 1\\n     439      549      546 1\\n     440      550      548 1\\n     441      551      552 1\\n     442      553      552 1\\n     443      554      551 1\\n     444      555      553 1\\n     445      556      557 1\\n     446      558      557 1\\n     447      559      556 1\\n     448      560      558 1\\n     449      561      562 1\\n     450      563      562 1\\n     451      564      561 1\\n     452      565      563 1\\n     453      566      567 1\\n     454      568      567 1\\n     455      569      566 1\\n     456      570      568 1\\n     457      571      572 1\\n     458      573      572 1\\n     459      574      571 1\\n     460      575      573 1\\n     461      576      577 1\\n     462      578      577 1\\n     463      579      576 1\\n     464      580      578 1\\n     465      581      582 1\\n     466      583      582 1\\n     467      584      581 1\\n     468      585      583 1\\n     469      586      587 1\\n     470      588      587 1\\n     471      589      586 1\\n     472      590      588 1\\n     473      591      592 1\\n     474      593      592 1\\n     475      594      591 1\\n     476      595      593 1\\n     477      596      597 1\\n     478      598      597 1\\n     479      599      596 1\\n     480      600      598 1\\n     481      601      602 1\\n     482      603      602 1\\n     483      604      601 1\\n     484      605      603 1\\n     485      606      607 1\\n     486      608      607 1\\n     487      609      606 1\\n     488      610      608 1\\n     489      611      612 1\\n     490      613      612 1\\n     491      614      611 1\\n     492      615      613 1\\n     493      616      617 1\\n     494      618      617 1\\n     495      619      616 1\\n     496      620      618 1\\n     497      621      622 1\\n     498      623      622 1\\n     499      624      621 1\\n     500      625      623 1\\n     501      626      627 1\\n     502      628      627 1\\n     503      629      626 1\\n     504      630      628 1\\n     505      631      632 1\\n     506      633      632 1\\n     507      634      631 1\\n     508      635      633 1\\n     509      636      637 1\\n     510      638      637 1\\n     511      639      636 1\\n     512      640      638 1\\n     513      641      642 1\\n     514      643      642 1\\n     515      644      641 1\\n     516      645      643 1\\n     517      646      647 1\\n     518      648      647 1\\n     519      649      646 1\\n     520      650      648 1\\n     521      651      652 1\\n     522      653      652 1\\n     523      654      651 1\\n     524      655      653 1\\n     525      656      657 1\\n     526      658      657 1\\n     527      659      656 1\\n     528      660      658 1\\n     529      661      662 1\\n     530      663      662 1\\n     531      664      661 1\\n     532      665      663 1\\n     533      666      667 1\\n     534      668      667 1\\n     535      669      666 1\\n     536      670      668 1\\n     537      671      672 1\\n     538      673      672 1\\n     539      674      671 1\\n     540      675      673 1\\n     541      676      677 1\\n     542      678      677 1\\n     543      679      676 1\\n     544      680      678 1\\n     545      681      682 1\\n     546      683      682 1\\n     547      684      681 1\\n     548      685      683 1\\n     549      686      687 1\\n     550      688      687 1\\n     551      689      686 1\\n     552      690      688 1\\n     553      691      692 1\\n     554      693      692 1\\n     555      694      691 1\\n     556      695      693 1\\n     557      696      697 1\\n     558      698      697 1\\n     559      699      696 1\\n     560      700      698 1\\n     561      701      702 1\\n     562      703      702 1\\n     563      704      701 1\\n     564      705      703 1\\n     565      706      707 1\\n     566      708      707 1\\n     567      709      706 1\\n     568      710      708 1\\n     569      711      712 1\\n     570      713      712 1\\n     571      714      711 1\\n     572      715      713 1\\n     573      716      717 1\\n     574      718      717 1\\n     575      719      716 1\\n     576      720      718 1\\n     577      721      722 1\\n     578      723      722 1\\n     579      724      721 1\\n     580      725      723 1\\n     581      726      727 1\\n     582      728      727 1\\n     583      729      726 1\\n     584      730      728 1\\n     585      731      732 1\\n     586      733      732 1\\n     587      734      731 1\\n     588      735      733 1\\n     589      736      737 1\\n     590      738      737 1\\n     591      739      736 1\\n     592      740      738 1\\n     593      741      742 1\\n     594      743      742 1\\n     595      744      741 1\\n     596      745      743 1\\n     597      746      747 1\\n     598      748      747 1\\n     599      749      746 1\\n     600      750      748 1\\n@<TRIPOS>SUBSTRUCTURE\\n       1 RES             1 RESIDUE    0 **** ROOT      0\\n\",\"mol2\");\n",
       "\tviewer_16541995930377574.setStyle({\"stick\": {\"radius\": 0.2, \"color\": \"grey\"}, \"sphere\": {\"scale\": 0.3, \"colorscheme\": {}}});\n",
       "\tviewer_16541995930377574.zoomTo();\n",
       "viewer_16541995930377574.render();\n",
       "});\n",
       "</script>"
      ]
     },
     "metadata": {},
     "output_type": "display_data"
    },
    {
     "data": {
      "text/plain": [
       "<py3Dmol.view at 0x7fe7452cb4d0>"
      ]
     },
     "execution_count": 37,
     "metadata": {},
     "output_type": "execute_result"
    }
   ],
   "source": [
    "seed_no = 12345\n",
    "No_molecules_in_box = 150\n",
    "cubic_box_length_nm = 3.2\n",
    "force_field = 'trappe-ua'\n",
    "    \n",
    "pentane_box_liq = mb.fill_box(compound=[n_penane],\n",
    "                              n_compounds=[int(No_molecules_in_box)],\n",
    "                              box=[cubic_box_length_nm,\n",
    "                                   cubic_box_length_nm,\n",
    "                                   cubic_box_length_nm\n",
    "                                  ],\n",
    "                              seed=seed_no,\n",
    "                              edge=0.2\n",
    "                             )\n",
    "pentane_box_liq.energy_minimize(forcefield=force_field,\n",
    "                                steps=10 ** 5\n",
    "                               )\n",
    "\n",
    "pentane_box_liq.visualize(show_ports=True)"
   ]
  },
  {
   "cell_type": "markdown",
   "metadata": {
    "id": "OqPVRDCssZcB"
   },
   "source": [
    "## Set up the Cassandra Simulations"
   ]
  },
  {
   "cell_type": "code",
   "execution_count": null,
   "metadata": {
    "colab": {
     "base_uri": "https://localhost:8080/"
    },
    "id": "aQu92vR9scdy",
    "outputId": "f014f5f3-bf87-4ceb-d65d-112dbd2ed00f"
   },
   "outputs": [
    {
     "metadata": {
      "tags": null
     },
     "name": "stderr",
     "output_type": "stream",
     "text": [
      "/usr/local/lib/python3.7/site-packages/foyer/forcefield.py:667: UserWarning: Non-atomistic element type detected. Creating custom element for _CH4\n",
      "  \"Creating custom element for {}\".format(element)\n",
      "/usr/local/lib/python3.7/site-packages/foyer/forcefield.py:667: UserWarning: Non-atomistic element type detected. Creating custom element for _CH3\n",
      "  \"Creating custom element for {}\".format(element)\n",
      "/usr/local/lib/python3.7/site-packages/foyer/forcefield.py:667: UserWarning: Non-atomistic element type detected. Creating custom element for _CH2\n",
      "  \"Creating custom element for {}\".format(element)\n",
      "/usr/local/lib/python3.7/site-packages/foyer/forcefield.py:667: UserWarning: Non-atomistic element type detected. Creating custom element for _HC\n",
      "  \"Creating custom element for {}\".format(element)\n"
     ]
    },
    {
     "metadata": {
      "tags": null
     },
     "name": "stdout",
     "output_type": "stream",
     "text": [
      "Using the following executables for Cassandra:\n",
      "Python: /usr/local/bin/python\n",
      "library_setup: /usr/local/bin/library_setup.py\n",
      "Cassandra: /usr/local/bin/cassandra.exe\n",
      "Generating fragment libraries...\n"
     ]
    },
    {
     "metadata": {
      "tags": null
     },
     "name": "stderr",
     "output_type": "stream",
     "text": [
      "/usr/local/lib/python3.7/site-packages/mbuild/formats/cassandramcf.py:119: UserWarning: Unable to infer coulombic 1-4 scaling factor. Setting to 0.0\n",
      "  \"{:.1f}\".format(coul14)\n",
      "/usr/local/lib/python3.7/site-packages/mbuild/formats/cassandramcf.py:156: UserWarning: Unable to infer LJ 1-4 scaling factor. Setting to 0.0\n",
      "  \"{:.1f}\".format(lj14)\n"
     ]
    },
    {
     "metadata": {
      "tags": null
     },
     "name": "stdout",
     "output_type": "stream",
     "text": [
      "Running Cassandra...\n"
     ]
    }
   ],
   "source": [
    "# Load forcefields\n",
    "trappe = Forcefield(name=\"trappe-ua\")\n",
    "\n",
    "# Use foyer to apply forcefields\n",
    "typed_pentane = trappe.apply(n_penane)\n",
    "\n",
    "# Create box and species list\n",
    "box_list = [pentane_box_liq]\n",
    "system = mc.System(box_list, species_list, mols_in_boxes=mols_in_boxes)\n",
    "moveset = mc.MoveSet(\"npt\", species_list)\n",
    "\n",
    "moveset.prob_volume = 0.010\n",
    "\n",
    "species_list = [typed_pentane]\n",
    "\n",
    "mols_in_boxes = [[No_molecules_in_box]]\n",
    "\n",
    "system = mc.System(box_list, species_list, mols_in_boxes=mols_in_boxes)\n",
    "moveset = mc.MoveSet(\"npt\", species_list)\n",
    "\n",
    "moveset.prob_volume = 0.010\n",
    "\n",
    "thermo_props = [\n",
    "    \"energy_total\",\n",
    "    \"energy_intervdw\",\n",
    "    \"pressure\",\n",
    "    \"volume\",\n",
    "    \"nmols\",\n",
    "    \"mass_density\",\n",
    "]\n",
    "\n",
    "custom_args = {\n",
    "    \"run_name\": \"equil\",\n",
    "    \"charge_style\": \"none\",\n",
    "    \"rcut_min\": 2.0 * u.angstrom,\n",
    "    \"vdw_cutoff\": 14.0 * u.angstrom,\n",
    "    \"units\": \"sweeps\",\n",
    "    \"steps_per_sweep\": 450,\n",
    "    \"coord_freq\": 50,\n",
    "    \"prop_freq\": 10,\n",
    "    \"properties\": thermo_props,\n",
    "}\n",
    "\n",
    "\n",
    "mc.run(\n",
    "    system=system,\n",
    "    moveset=moveset,\n",
    "    run_type=\"equilibration\",\n",
    "    run_length=2400,\n",
    "    pressure=14.02 * u.bar,\n",
    "    temperature=372 * u.K,\n",
    "    **custom_args,\n",
    ")"
   ]
  },
  {
   "cell_type": "code",
   "execution_count": null,
   "metadata": {
    "colab": {
     "base_uri": "https://localhost:8080/",
     "height": 295
    },
    "id": "AJgCddwbtBfg",
    "outputId": "4d15e606-61f6-44ba-f9c9-e12a6445df05"
   },
   "outputs": [
    {
     "data": {
      "image/png": "[encoded data removed]",
      "text/plain": [
       "<Figure size 432x288 with 1 Axes>"
      ]
     },
     "metadata": {
      "needs_background": "light"
     },
     "output_type": "display_data"
    }
   ],
   "source": [
    "import numpy as np\n",
    "import pylab as plt\n",
    "\n",
    "data = np.genfromtxt(\"equil.out.prp\", skip_header=3)\n",
    "\n",
    "plt.rcParams['font.family'] = \"DIN Alternate\"\n",
    "font = {'family' : 'DIN Alternate',\n",
    "        'weight' : 'normal',\n",
    "        'size'   : 12}\n",
    "\n",
    "fig, ax = plt.subplots(1, 1)\n",
    "\n",
    "ax.spines[\"bottom\"].set_linewidth(3)\n",
    "ax.spines[\"left\"].set_linewidth(3)\n",
    "ax.spines[\"right\"].set_linewidth(3)\n",
    "ax.spines[\"top\"].set_linewidth(3)\n",
    "\n",
    "ax.title.set_text('Control plot')\n",
    "ax.set_xlabel(r'MC sweeps')\n",
    "ax.set_ylabel('Density $(kg / m{^3})$')\n",
    "ax.yaxis.tick_left()\n",
    "ax.yaxis.set_label_position('left')\n",
    "ax.axhline(y=541, color='r', linestyle='-', label='~TraPPE-UA Density')\n",
    "\n",
    "ax.plot(data[:, 0], data[:,-1], \"-\", color='lightgray', label='Density')\n",
    "ax.legend(loc=\"best\")\n",
    "plt.show()"
   ]
  }
 ],
 "metadata": {
  "colab": {
   "collapsed_sections": [],
   "include_colab_link": true,
   "name": "SimpleExample-mosdef_cassandra",
   "provenance": [],
   "toc_visible": true
  },
  "kernelspec": {
   "display_name": "Python 3 (ipykernel)",
   "language": "python",
   "name": "python3"
  },
  "language_info": {
   "codemirror_mode": {
    "name": "ipython",
    "version": 3
   },
   "file_extension": ".py",
   "mimetype": "text/x-python",
   "name": "python",
   "nbconvert_exporter": "python",
   "pygments_lexer": "ipython3",
   "version": "3.9.9"
  }
 },
 "nbformat": 4,
 "nbformat_minor": 1
}
