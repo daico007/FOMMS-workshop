{
 "cells": [
  {
   "cell_type": "markdown",
   "metadata": {
    "colab_type": "text",
    "id": "view-in-github"
   },
   "source": [
    "<a href=\"https://colab.research.google.com/github/mosdef-hub/FOMMS-workshop/blob/main/SimpleExample_mosdef_cassandra.ipynb\" target=\"_parent\"><img src=\"https://colab.research.google.com/assets/colab-badge.svg\" alt=\"Open In Colab\"/></a>"
   ]
  },
  {
   "cell_type": "markdown",
   "metadata": {
    "id": "-vdbz3bfLKF-"
   },
   "source": [
    "# PRELIMINARY\n",
    "This notebook is an attempt to install and use mosdef packages with google colab using package [conda-colab](https://github.com/conda-incubator/condacolab)"
   ]
  },
  {
   "cell_type": "code",
   "execution_count": null,
   "metadata": {
    "colab": {
     "base_uri": "https://localhost:8080/"
    },
    "id": "GmK2u6m-GUmT",
    "outputId": "82830687-876d-49d5-ad12-a0d9bb1a497a"
   },
   "outputs": [],
   "source": [
    "!python --version # Initial version\n"
   ]
  },
  {
   "cell_type": "code",
   "execution_count": null,
   "metadata": {
    "colab": {
     "base_uri": "https://localhost:8080/"
    },
    "id": "QGd9cN-lOqvc",
    "outputId": "6a9cefc1-9213-4011-bfd7-0342592ae4f3"
   },
   "outputs": [],
   "source": [
    "!pip install condacolab"
   ]
  },
  {
   "cell_type": "code",
   "execution_count": null,
   "metadata": {
    "colab": {
     "base_uri": "https://localhost:8080/"
    },
    "id": "1oMJMAvpOvcu",
    "outputId": "0f551bde-e829-4925-99b4-f1113663be3f"
   },
   "outputs": [],
   "source": [
    "import condacolab\n",
    "condacolab.install()"
   ]
  },
  {
   "cell_type": "code",
   "execution_count": null,
   "metadata": {
    "colab": {
     "base_uri": "https://localhost:8080/"
    },
    "id": "TzelX_DKPPRW",
    "outputId": "5cc9c416-5c4c-453e-cc81-52d8b391e5e3"
   },
   "outputs": [],
   "source": [
    "import condacolab\n",
    "condacolab.check()"
   ]
  },
  {
   "cell_type": "code",
   "execution_count": null,
   "metadata": {
    "colab": {
     "base_uri": "https://localhost:8080/"
    },
    "id": "l-3NsndNPUhT",
    "outputId": "f5a583ed-193a-4db6-c80d-42ce607633ac"
   },
   "outputs": [],
   "source": [
    "ENVIRONMENT_YML_TEMPLATE = \"\"\"\n",
    "name: mosdef-google-colab\n",
    "channels: \n",
    "  - conda-forge\n",
    "dependencies:\n",
    "  - mbuild\n",
    "  - foyer\n",
    "  - gmso\n",
    "  - nglview\n",
    "  - mosdef_cassandra\n",
    "  - py3dmol\n",
    "  - matplotlib\n",
    "\"\"\"\n",
    "\n",
    "with open(\"environment.yml\", 'w') as env_file:\n",
    "  env_file.write(ENVIRONMENT_YML_TEMPLATE)\n",
    "\n",
    "!cat environment.yml"
   ]
  },
  {
   "cell_type": "markdown",
   "metadata": {
    "id": "CmwQ9j3VLuwK"
   },
   "source": [
    "## Create Environment\n",
    "\n",
    "Install `mbuild`, `foyer` and `gmso`."
   ]
  },
  {
   "cell_type": "code",
   "execution_count": null,
   "metadata": {
    "colab": {
     "base_uri": "https://localhost:8080/"
    },
    "id": "RdpGU36PUnQN",
    "outputId": "9d5505c3-1b3a-4068-8a90-4d2690971d1f"
   },
   "outputs": [],
   "source": [
    "!mamba env update -n base --file environment.yml"
   ]
  },
  {
   "cell_type": "code",
   "execution_count": null,
   "metadata": {
    "colab": {
     "base_uri": "https://localhost:8080/"
    },
    "id": "hukZYAUCKgV4",
    "outputId": "db17b3ce-8397-42a4-983a-deb1c0849eac"
   },
   "outputs": [],
   "source": [
    "!python --version"
   ]
  },
  {
   "cell_type": "markdown",
   "metadata": {
    "id": "0-5azKcvNxTy"
   },
   "source": [
    "## Example Workflow\n",
    "\n"
   ]
  },
  {
   "cell_type": "markdown",
   "metadata": {
    "id": "SlZXb5Bze89W"
   },
   "source": [
    "## Import the required packages"
   ]
  },
  {
   "cell_type": "code",
   "execution_count": null,
   "metadata": {
    "id": "rqo7m1KVRxfR"
   },
   "outputs": [],
   "source": [
    "import mbuild as mb\n",
    "from foyer import Forcefield\n",
    "from mbuild.lib.recipes.polymer import Polymer\n",
    "import unyt as u\n",
    "\n",
    "import mosdef_cassandra as mc"
   ]
  },
  {
   "cell_type": "code",
   "execution_count": null,
   "metadata": {
    "id": "hDY9cRGFhHsr"
   },
   "outputs": [],
   "source": [
    "from google.colab import output  ## Enable Custom Widgets\n",
    "output.enable_custom_widget_manager()"
   ]
  },
  {
   "cell_type": "markdown",
   "metadata": {
    "id": "7eSD4C8UfsSG"
   },
   "source": [
    "### Mol2 Files for Ethane and Propane"
   ]
  },
  {
   "cell_type": "code",
   "execution_count": null,
   "metadata": {
    "id": "BzRkXloRfEYc"
   },
   "outputs": [],
   "source": [
    "ETHANE = \"\"\"@<TRIPOS>MOLECULE\n",
    "ETH\n",
    "    2    1    1    0    0\n",
    "SMALL\n",
    "NO_CHARGES\n",
    "****\n",
    "Energy = 0\n",
    "\n",
    "@<TRIPOS>ATOM\n",
    "      1  _CH3       0.0000    0.0000    0.0000    C    1  ETH        0.000000\n",
    "      2  _CH3      -1.5400    0.0000    0.0000    C    1  ETH        0.000000\n",
    "@<TRIPOS>BOND\n",
    "    1     1     2  1\n",
    "\n",
    "@<TRIPOS>SUBSTRUCTURE\n",
    "1 ****        1 TEMP                        0 ****  **** 0 ROOT\n",
    "\n",
    "#generated by VMD\n",
    "\"\"\"\n",
    "\n",
    "PROPANE = \"\"\"@<TRIPOS>MOLECULE\n",
    "PRO\n",
    "    3    2    1    0    0\n",
    "SMALL\n",
    "NO_CHARGES\n",
    "****\n",
    "Energy = 0\n",
    "\n",
    "@<TRIPOS>ATOM\n",
    "      1  _CH3       0.0000    0.0000    0.0000    C    1  PRO        0.000000\n",
    "      2  _CH2      -1.5400    0.0000    0.0000    C    1  PRO        0.000000\n",
    "      3  _CH3      -3.0800    0.0000    0.0000    C    1  PRO        0.000000\n",
    "@<TRIPOS>BOND\n",
    "    1     1     2  1\n",
    "    2     2     3  1\n",
    "\n",
    "@<TRIPOS>SUBSTRUCTURE\n",
    "1 ****        1 TEMP                        0 ****  **** 0 ROOT\n",
    "\n",
    "#generated by VMD\n",
    "\"\"\"\n",
    "\n",
    "with open(\"ethane.mol2\", \"w\") as ethane_mol2:\n",
    "  ethane_mol2.write(ETHANE)\n",
    "\n",
    "with open(\"propane.mol2\", \"w\") as propane_mol2:\n",
    "  propane_mol2.write(PROPANE)"
   ]
  },
  {
   "cell_type": "code",
   "execution_count": null,
   "metadata": {
    "colab": {
     "base_uri": "https://localhost:8080/"
    },
    "id": "RqbkhFIYrs-7",
    "outputId": "15387235-5de4-4a0e-e83e-751b9f754b8a"
   },
   "outputs": [],
   "source": [
    "! cat ethane.mol2\n",
    "! echo $'\\n======================================\\n'\n",
    "! cat propane.mol2"
   ]
  },
  {
   "cell_type": "markdown",
   "metadata": {
    "id": "S3LOu-48hM5-"
   },
   "source": [
    "## Load Files\n",
    "Import a ethane and propane mol2 file for the TraPPE-UA force field, which will be modified allowing the creation of an alkane with of chosen length to it until we reach pentane.  However, any length of an alkane > propane can be created with this example.\n",
    "\n",
    "### Select "
   ]
  },
  {
   "cell_type": "code",
   "execution_count": null,
   "metadata": {
    "colab": {
     "base_uri": "https://localhost:8080/",
     "height": 515
    },
    "id": "cA1q823YhGA5",
    "outputId": "fc99bdb2-2935-4691-c43a-863b5b775d72"
   },
   "outputs": [],
   "source": [
    "ethane_mol2_path = 'ethane.mol2'\n",
    "propane_mol2_path = 'propane.mol2'\n",
    "\n",
    "\n",
    "ethane_comp = mb.load(ethane_mol2_path) # Get the ethane mol2 file\n",
    "propane_comp = mb.load(propane_mol2_path) # Get the propane mol2 file\n",
    "\n",
    "propane_comp.visualize(backend=\"nglview\")"
   ]
  },
  {
   "cell_type": "markdown",
   "metadata": {
    "id": "-QbggOW5kMUQ"
   },
   "source": [
    "### Building Butane:  Add the end groups where we will cap the beginning (head) and end (tail) of the molecule."
   ]
  },
  {
   "cell_type": "code",
   "execution_count": null,
   "metadata": {
    "colab": {
     "base_uri": "https://localhost:8080/",
     "height": 515
    },
    "id": "roTHPVn3byvA",
    "outputId": "8816e73a-e388-44c9-f195-e5c364c0195c"
   },
   "outputs": [],
   "source": [
    "n_butane = Polymer()\n",
    "\n",
    "\n",
    "n_butane.add_monomer(compound=propane_comp,\n",
    "                     indices= [0,-1],\n",
    "                     separation=0.154,\n",
    "                     replace=True, \n",
    "                     #orientation=[-1,None]\n",
    "                    )\n",
    "\n",
    "n_butane.add_end_groups(ethane_comp, \n",
    "                        index=0, \n",
    "                        separation=0.154, \n",
    "                        label=\"head\", \n",
    "                        duplicate=False\n",
    "                       )\n",
    "\n",
    "n_butane.add_end_groups(ethane_comp, \n",
    "                        index=0, \n",
    "                        separation=0.154, \n",
    "                        label=\"tail\", \n",
    "                        duplicate=False\n",
    "                       )\n",
    "\n",
    "number_of_carbons = 4 # minimum allowable=3  \n",
    "\n",
    "n_butane.build(n=number_of_carbons-2, sequence='A') # n=number_of_carbons-(head and tail cap)\n",
    "n_butane.name = 'BUT'\n",
    "\n",
    "n_butane.visualize(show_ports=True)"
   ]
  },
  {
   "cell_type": "markdown",
   "metadata": {
    "id": "Xx1x98pEkWew"
   },
   "source": [
    "### Building Pentane:  Add the end groups where we will cap the beginning (head) and end (tail) of the molecule."
   ]
  },
  {
   "cell_type": "code",
   "execution_count": null,
   "metadata": {
    "colab": {
     "base_uri": "https://localhost:8080/",
     "height": 515
    },
    "id": "btzvk_SElUYy",
    "outputId": "f12c41d2-d727-4bad-e462-9bece447406c"
   },
   "outputs": [],
   "source": [
    "n_penane = Polymer()\n",
    "\n",
    "\n",
    "n_penane.add_monomer(compound=propane_comp,\n",
    "                     indices= [0,-1],\n",
    "                     separation=0.154,\n",
    "                     replace=True, \n",
    "                     #orientation=[-1,None]\n",
    "                    )\n",
    "\n",
    "n_penane.add_end_groups(ethane_comp, \n",
    "                        index=0, \n",
    "                        separation=0.154, \n",
    "                        label=\"head\", \n",
    "                        duplicate=False\n",
    "                       )\n",
    "\n",
    "n_penane.add_end_groups(ethane_comp, \n",
    "                        index=0, \n",
    "                        separation=0.154, \n",
    "                        label=\"tail\", \n",
    "                        duplicate=False\n",
    "                       )\n",
    "\n",
    "number_of_carbons = 5 # minimum allowable=3  \n",
    "\n",
    "n_penane.build(n=number_of_carbons-2, sequence='A') # n=number_of_carbons-(head and tail cap)\n",
    "n_penane.name = 'PEN'\n",
    "\n",
    "n_penane.visualize(show_ports=True)\n"
   ]
  },
  {
   "cell_type": "markdown",
   "metadata": {
    "id": "AigK7Sa6lF-7"
   },
   "source": [
    "## Build a box of pentane and minimize the box using the TraPPE-UA force field"
   ]
  },
  {
   "cell_type": "code",
   "execution_count": null,
   "metadata": {
    "colab": {
     "base_uri": "https://localhost:8080/",
     "height": 662
    },
    "id": "eTIjeHz0dFZx",
    "outputId": "9ceaf643-5885-4930-c3ed-cc1af5716bda"
   },
   "outputs": [],
   "source": [
    "seed_no = 12345\n",
    "No_molecules_in_box = 150\n",
    "cubic_box_length_nm = 3.2\n",
    "force_field = 'trappe-ua'\n",
    "    \n",
    "pentane_box_liq = mb.fill_box(compound=[n_penane],\n",
    "                              n_compounds=[int(No_molecules_in_box)],\n",
    "                              box=[cubic_box_length_nm,\n",
    "                                   cubic_box_length_nm,\n",
    "                                   cubic_box_length_nm\n",
    "                                  ],\n",
    "                              seed=seed_no,\n",
    "                              edge=0.2\n",
    "                             )\n",
    "pentane_box_liq.energy_minimize(forcefield=force_field,\n",
    "                                steps=10 ** 5\n",
    "                               )\n",
    "\n",
    "pentane_box_liq.visualize(show_ports=True)"
   ]
  },
  {
   "cell_type": "markdown",
   "metadata": {
    "id": "OqPVRDCssZcB"
   },
   "source": [
    "## Set up the Cassandra Simulations"
   ]
  },
  {
   "cell_type": "code",
   "execution_count": null,
   "metadata": {
    "colab": {
     "base_uri": "https://localhost:8080/"
    },
    "id": "aQu92vR9scdy",
    "outputId": "f014f5f3-bf87-4ceb-d65d-112dbd2ed00f"
   },
   "outputs": [],
   "source": [
    "# Load forcefields\n",
    "trappe = Forcefield(name=\"trappe-ua\")\n",
    "\n",
    "# Use foyer to apply forcefields\n",
    "typed_pentane = trappe.apply(n_penane)\n",
    "\n",
    "# Create box and species list\n",
    "box_list = [pentane_box_liq]\n",
    "system = mc.System(box_list, species_list, mols_in_boxes=mols_in_boxes)\n",
    "moveset = mc.MoveSet(\"npt\", species_list)\n",
    "\n",
    "moveset.prob_volume = 0.010\n",
    "\n",
    "species_list = [typed_pentane]\n",
    "\n",
    "mols_in_boxes = [[No_molecules_in_box]]\n",
    "\n",
    "system = mc.System(box_list, species_list, mols_in_boxes=mols_in_boxes)\n",
    "moveset = mc.MoveSet(\"npt\", species_list)\n",
    "\n",
    "moveset.prob_volume = 0.010\n",
    "\n",
    "thermo_props = [\n",
    "    \"energy_total\",\n",
    "    \"energy_intervdw\",\n",
    "    \"pressure\",\n",
    "    \"volume\",\n",
    "    \"nmols\",\n",
    "    \"mass_density\",\n",
    "]\n",
    "\n",
    "custom_args = {\n",
    "    \"run_name\": \"equil\",\n",
    "    \"charge_style\": \"none\",\n",
    "    \"rcut_min\": 2.0 * u.angstrom,\n",
    "    \"vdw_cutoff\": 14.0 * u.angstrom,\n",
    "    \"units\": \"sweeps\",\n",
    "    \"steps_per_sweep\": 450,\n",
    "    \"coord_freq\": 50,\n",
    "    \"prop_freq\": 10,\n",
    "    \"properties\": thermo_props,\n",
    "}\n",
    "\n",
    "\n",
    "mc.run(\n",
    "    system=system,\n",
    "    moveset=moveset,\n",
    "    run_type=\"equilibration\",\n",
    "    run_length=2400,\n",
    "    pressure=14.02 * u.bar,\n",
    "    temperature=372 * u.K,\n",
    "    **custom_args,\n",
    ")"
   ]
  },
  {
   "cell_type": "code",
   "execution_count": null,
   "metadata": {
    "colab": {
     "base_uri": "https://localhost:8080/",
     "height": 295
    },
    "id": "AJgCddwbtBfg",
    "outputId": "4d15e606-61f6-44ba-f9c9-e12a6445df05"
   },
   "outputs": [],
   "source": [
    "import numpy as np\n",
    "import pylab as plt\n",
    "\n",
    "data = np.genfromtxt(\"equil.out.prp\", skip_header=3)\n",
    "\n",
    "plt.rcParams['font.family'] = \"DIN Alternate\"\n",
    "font = {'family' : 'DIN Alternate',\n",
    "        'weight' : 'normal',\n",
    "        'size'   : 12}\n",
    "\n",
    "fig, ax = plt.subplots(1, 1)\n",
    "\n",
    "ax.spines[\"bottom\"].set_linewidth(3)\n",
    "ax.spines[\"left\"].set_linewidth(3)\n",
    "ax.spines[\"right\"].set_linewidth(3)\n",
    "ax.spines[\"top\"].set_linewidth(3)\n",
    "\n",
    "ax.title.set_text('Control plot')\n",
    "ax.set_xlabel(r'MC sweeps')\n",
    "ax.set_ylabel('Density $(kg / m{^3})$')\n",
    "ax.yaxis.tick_left()\n",
    "ax.yaxis.set_label_position('left')\n",
    "ax.axhline(y=541, color='r', linestyle='-', label='~TraPPE-UA Density')\n",
    "\n",
    "ax.plot(data[:, 0], data[:,-1], \"-\", color='lightgray', label='Density')\n",
    "ax.legend(loc=\"best\")\n",
    "plt.show()"
   ]
  }
 ],
 "metadata": {
  "colab": {
   "collapsed_sections": [],
   "include_colab_link": true,
   "name": "SimpleExample-mosdef_cassandra",
   "provenance": [],
   "toc_visible": true
  },
  "kernelspec": {
   "display_name": "Python 3 (ipykernel)",
   "language": "python",
   "name": "python3"
  },
  "language_info": {
   "codemirror_mode": {
    "name": "ipython",
    "version": 3
   },
   "file_extension": ".py",
   "mimetype": "text/x-python",
   "name": "python",
   "nbconvert_exporter": "python",
   "pygments_lexer": "ipython3",
   "version": "3.9.9"
  }
 },
 "nbformat": 4,
 "nbformat_minor": 1
}
