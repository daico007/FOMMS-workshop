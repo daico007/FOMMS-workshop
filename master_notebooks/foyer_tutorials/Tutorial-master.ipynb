{
 "cells": [
  {
   "cell_type": "markdown",
   "metadata": {},
   "source": [
    "# Basic Foyer tutorial\n",
    "\n",
    "The second of the MoSDeF tools we will explore is the [Foyer package](https://github.com/mosdef-hub/foyer).  \n",
    "\n",
    "Foyer can be used to take a molecular model featuring particle positions and bonds (such as an mBuild `Compound`) and automatically parameterize the system, as directed by a user-specified force field. \n",
    "\n",
    "The Foyer software itself is designed to be force field agnostic:\n",
    "* allows Foyer to work with  different force fields without the need to change the software itself (e.g., TraPPE, OPLS, IFF) \n",
    "* parameters and their usage rules are encoded in an XML file that is read and evaluated by the Foyer code\n",
    "\n",
    "By encoding parameters and their usage rules in separate XML files, it makes it easier to:\n",
    "* disseminate force fields\n",
    "* modify existing force fields\n",
    "* track history using version control\n",
    "* tag/cite specific versions used in research/publications \n",
    "* the XML file format is both human and machine readable\n",
    "\n",
    "\n",
    "Because these files are separate from the code itself, it is easy to make custom force field files for specific applications that deviate from the \"canonical\" force fields, while ensuring that such modifications are clearly captured and can be used by others. It also makes it easier to application/molecule specific force fields that are easier to validate and extended. \n",
    "\n",
    "\n",
    "In this tutorial, we'll demonstrate how Foyer works by using it to perform atom-typing and parameterization of several different molecules.\n",
    "\n",
    "-------\n"
   ]
  },
  {
   "cell_type": "markdown",
   "metadata": {},
   "source": [
    "## Classical Force fields\n",
    "\n",
    "Classical force fields, which describe the interaction between atoms, typically contain numerous fitting parameters (e.g., Lennard-Jones sigma and epsilon, partial charge), allowing them to be tuned to describe the behavior of atoms in various chemical environments (i.e., `chemical context`).  \n",
    "\n",
    "For example, consider carbon in various local bonded environments of the following, along with their fitting parameters for OPLS (units, epsilon: kJ/mol, sigma: nm, charge: multiple of electron charge): \n",
    "\n",
    "- #### A terminal methyl group in an alkane, i.e., C-CH3\n",
    "    * opls_135\n",
    "    * charge=-0.18\n",
    "    * sigma=0.35 \n",
    "    * epsilon=0.276144\n",
    "- #### A terminal fluorinated methyl group, i.e., C-CF3\n",
    "    * opls_961\n",
    "    * charge=0.36\n",
    "    * sigma=0.35  \n",
    "    * epsilon=0.276144\n",
    "- #### As a terminal group in an alkene, i.e., C=CH2\n",
    "    * opls_143\n",
    "    * charge=-0.23\n",
    "    * sigma=0.355\n",
    "    * epsilon=0.317984\n",
    "\n",
    "Even though the element does not change (i.e., we are dealing with carbon in each case), the force field fitting parameters are different for OPLS (and would be for many other common force fields).  As such, force field databases may contain 10s or 100s of parameters for a given element, where each unique set of parameters is referred to as an 'atom-type'; i.e., defining the element in a different `chemical context`.\n",
    "\n",
    "Properly determining the correct set of parameters for a given element (i.e., identifying which atom-type should be used), can be a difficult and error-prone task, but essential for the final results of a simulation to be correct.   \n",
    "\n",
    "Foyer has been developed as both a scheme to encode these rules for atom-typing along with a software that evaluates these rules. Here we will first focus on the scheme to encode rules and the associated file format. \n",
    "\n",
    "-------\n",
    "\n"
   ]
  },
  {
   "cell_type": "markdown",
   "metadata": {},
   "source": [
    "## Foyer XML format\n",
    "\n",
    "Foyer forcefields are defined within an XML file that contains both the 'rules' required for atomtyping as well as the forcefield parameters within a single file. \n",
    "\n",
    "The Foyer XML format is an extension of the [OpenMM forcefield XML format](http://docs.openmm.org/latest/userguide/application/05_creating_ffs.html).  The only differences reside in the `AtomTypes` section, where several additional attributes are available for each `Type`.  \n",
    "\n",
    "Let's take a look at the basic structure of a Foyer XML file."
   ]
  },
  {
   "cell_type": "markdown",
   "metadata": {},
   "source": [
    "### AtomTypes"
   ]
  },
  {
   "cell_type": "code",
   "execution_count": 3,
   "metadata": {},
   "outputs": [
    {
     "name": "stdout",
     "output_type": "stream",
     "text": [
      "    <AtomTypes>\r\n",
      "        <Type name=\"opls_135\" def=\"[C;X4](H)(H)H\"\r\n",
      "              class=\"CT\" element=\"C\" mass=\"12.01100\" desc=\"alkane CH3\"\r\n",
      "              doi=\"10.1021/ja9621760\" overrides=\"opls_136\"/>\r\n",
      "\r\n",
      "        <Type name=\"opls_136\" def=\"[C;X4](H)H\"\r\n",
      "              class=\"CT\" element=\"C\" mass=\"12.01100\" desc=\"alkane CH2\"\r\n",
      "              doi=\"10.1021/ja9621760\"/>\r\n",
      "\r\n",
      "        <Type name=\"opls_138\" def=\"[C;X4](H)(H)(H)H\"\r\n",
      "              class=\"CT\" element=\"C\" mass=\"12.01100\" desc=\"alkane CH4\"\r\n",
      "              doi=\"10.1021/ja9621760\" overrides=\"opls_135,opls_136\"/>\r\n",
      "\r\n",
      "        <Type name=\"opls_140\" def=\"H[C;X4]\"\r\n",
      "              class=\"HC\" element=\"H\" mass=\"1.00800\" desc=\"alkane H\"\r\n",
      "              doi=\"10.1021/ja9621760\"/>\r\n",
      "    </AtomTypes>\r\n"
     ]
    }
   ],
   "source": [
    "! sed -n 2,18p OPLSaa_alkanes.xml"
   ]
  },
  {
   "cell_type": "markdown",
   "metadata": {},
   "source": [
    "The `AtomTypes` section of the Foyer XML is similar to that used for OpenMM forcefield XMLs; however, each `Type` in Foyer XML supports four additional attributes not found in OpenMM:\n",
    "* `def` - SMARTS string describing the chemical substructure of this atomtype (Follow [this link](https://github.com/mosdef-hub/foyer/blob/master/docs/smarts.md) for more on SMARTS-based atomtyping using Foyer.)\n",
    "* `desc` - Brief textual description of the atom type\n",
    "* `doi` - DOI reference for parameters associated with this atom type (if available)\n",
    "* `overrides` - One or more atom types to 'override'l; this defines rule precedence\n",
    "\n",
    "Atom types are defined using [SMARTS](http://www.daylight.com/dayhtml/doc/theory/theory.smarts.html), which provide a language for describing chemical structures and substructures."
   ]
  },
  {
   "cell_type": "markdown",
   "metadata": {},
   "source": [
    "### Forcefield parameters\n",
    "\n",
    "The remaining sections of the Foyer XML are currently the same as defined in the OpenMM format and feature both bonded and nonbonded forcefield parameters."
   ]
  },
  {
   "cell_type": "code",
   "execution_count": 4,
   "metadata": {},
   "outputs": [
    {
     "name": "stdout",
     "output_type": "stream",
     "text": [
      "    <HarmonicBondForce>\r\n",
      "        <Bond class1=\"CT\" class2=\"CT\" length=\"0.1529\" k=\"224262.4\"/>\r\n",
      "        <Bond class1=\"CT\" class2=\"HC\" length=\"0.1090\" k=\"284512.0\"/>\r\n",
      "    </HarmonicBondForce>\r\n",
      "    <HarmonicAngleForce>\r\n",
      "        <Angle class1=\"CT\" class2=\"CT\" class3=\"CT\" angle=\"1.966986067\" k=\"488.273\"/>\r\n",
      "        <Angle class1=\"CT\" class2=\"CT\" class3=\"HC\" angle=\"1.932079482\" k=\"313.800\"/>\r\n",
      "        <Angle class1=\"HC\" class2=\"CT\" class3=\"HC\" angle=\"1.881464934\" k=\"276.144\"/>\r\n",
      "    </HarmonicAngleForce>\r\n",
      "    <RBTorsionForce>\r\n",
      "        <Proper class1=\"CT\" class2=\"CT\" class3=\"CT\" class4=\"CT\" c0=\"2.9288\"\r\n",
      "                c1=\"-1.4644\" c2=\"0.2092\" c3=\"-1.6736\" c4=\"0.0\" c5=\"0.0\"/>\r\n",
      "        <Proper class1=\"CT\" class2=\"CT\" class3=\"CT\" class4=\"HC\" c0=\"0.6276\"\r\n",
      "                c1=\"1.8828\" c2=\"0.0\" c3=\"-2.5104\" c4=\"0.0\" c5=\"0.0\"/>\r\n",
      "        <Proper class1=\"HC\" class2=\"CT\" class3=\"CT\" class4=\"HC\" c0=\"0.6276\"\r\n",
      "                c1=\"1.8828\" c2=\"0.0\" c3=\"-2.5104\" c4=\"0.0\" c5=\"0.0\"/>\r\n",
      "    </RBTorsionForce>\r\n",
      "    <NonbondedForce coulomb14scale=\"0.5\" lj14scale=\"0.5\">\r\n",
      "        <Atom type=\"opls_135\" charge=\"-0.18\" sigma=\"0.35\" epsilon=\"0.276144\"/>\r\n",
      "        <Atom type=\"opls_136\" charge=\"-0.12\" sigma=\"0.35\" epsilon=\"0.276144\"/>\r\n",
      "        <Atom type=\"opls_138\" charge=\"-0.24\" sigma=\"0.35\" epsilon=\"0.276144\"/>\r\n",
      "        <Atom type=\"opls_140\" charge=\"0.06\" sigma=\"0.25\" epsilon=\"0.12552\"/>\r\n",
      "    </NonbondedForce>\r\n",
      "</ForceField>\r\n"
     ]
    }
   ],
   "source": [
    "! sed -n 19,42p oplsaa_alkanes.xml"
   ]
  },
  {
   "cell_type": "markdown",
   "metadata": {},
   "source": [
    "-------\n",
    "## Defining [SMARTS](https://www.daylight.com/dayhtml/doc/theory/theory.smarts.html)\n",
    "\n",
    "Let us consider what each of the SMARTS strings defined in the file tells us:\n",
    "\n",
    "`opls_135`, SMARTS string, `def=\"[C;X4](H)(H)H\"`\n",
    "- The element is carbon, with 4 neighbors, i.e., `[C;X4]`\n",
    "- At least 3 of those neighbors are hydrogens, i.e., `(H)(H)H`\n",
    "\n",
    "`opls_138`,  SMARTS string, `def=\"[C;X4](H)(H)(H)H\"`\n",
    "- The element is carbon, with 4 neighbors, i.e., `[C;X4]`\n",
    "- 4 of those neighbors are hydrogens, i.e., `(H)(H)(H)H`\n",
    "\n",
    "`opls_136`,  SMARTS string, `def=\"[C;X4](H)H\"`\n",
    "- The element is carbon, with 4 neighbors, i.e., `[C;X4]`\n",
    "- At least 2 of those neighbors are hydrogens, i.e., `(H)H`\n",
    "\n",
    "`opls_140`,  SMARTS string, `def=\"H[C;X4]\"`\n",
    "- The element is hydrogen, i.e., `H`\n",
    "- When that hydrogen is connected to a carbon that has 4 neighbors, i.e., `[C;X4]`\n",
    "    * note, SMARTS allows us to encode chemical context information about our neighbors as well (i.e., encoding more than just our first neighbor shell)\n"
   ]
  },
  {
   "cell_type": "markdown",
   "metadata": {},
   "source": [
    "## Atomtyping using SMARTS\n",
    "Let us now consider using these rules to atom-type the carbon in methane (i.e., `[C;X4](H)(H)(H)H`), using the following rules (reproduced from the oplsaa_alkanes.xml file):\n",
    "\n",
    "```\n",
    "    <AtomTypes>\n",
    "        <Type name=\"opls_135\" def=\"[C;X4](H)(H)H\"\n",
    "              class=\"CT\" element=\"C\" mass=\"12.01100\" desc=\"alkane CH3\"\n",
    "              doi=\"10.1021/ja9621760\" overrides=\"opls_136\"/>\n",
    "\n",
    "        <Type name=\"opls_136\" def=\"[C;X4](H)H\"\n",
    "              class=\"CT\" element=\"C\" mass=\"12.01100\" desc=\"alkane CH2\"\n",
    "              doi=\"10.1021/ja9621760\"/>\n",
    "\n",
    "        <Type name=\"opls_138\" def=\"[C;X4](H)(H)(H)H\"\n",
    "              class=\"CT\" element=\"C\" mass=\"12.01100\" desc=\"alkane CH4\"\n",
    "              doi=\"10.1021/ja9621760\" overrides=\"opls_135,opls_136\"/>\n",
    "\n",
    "        <Type name=\"opls_140\" def=\"H[C;X4]\"\n",
    "              class=\"HC\" element=\"H\" mass=\"1.00800\" desc=\"alkane H\"\n",
    "              doi=\"10.1021/ja9621760\"/>\n",
    "    </AtomTypes>\n",
    "    \n",
    "```\n",
    "\n",
    "- `opls_138` would obviously evaluate to `True`, as it is defined for a carbon, with 4 hydrogen neighbors. \n",
    "- `opls_135` and `opls_136` would also evaulate to `True`.  \n",
    "    * In the case of `opls_135`, our definition only states that at least 3 of the neighbors are hydrogen, and have not made any specific claims about the identity of the 4th neighbor.\n",
    "    * Similarly, for opls_136, we have only stated that 2 neighbors must be hydrogen and not specified the identity of the other 2 neighbors. \n",
    "\n",
    "## If 3 out of 4 rules evaluated to `True`...which one do we use?  \n",
    "* We will discuss two ways to address this in Foyer. \n",
    "\n",
    "\n",
    "\n",
    "#### Notes: \n",
    "* Foyer will evaluate all the rules in a forcefield file, rather than just stopping at the first rule that evaluates to `True`\n",
    "    * This allows rules to be defined in any order\n",
    "* Foyer iterates over the rules (iterating until no changes our found)\n",
    "    * This allows recursive definitions of usage, i.e., referring to specific atom-types in the SMARTS string, as will be discussed later \n",
    "\n",
    "\n",
    "\n",
    "\n",
    "\n",
    "### `overrides`  \n",
    "`overrides` provide a means to dictate rule precedence (i.e., which rules are more specific than others).  \n",
    "\n",
    "In the force field file above, `opls_138` has defined: `overrides=\"opls_135,opls_136\"`:  \n",
    " * That is, if `opls_138` evaluates to `True`, then it takes precedence over `opls_135` and `opls_136`, even if they evaluate to `True`. \n",
    "\n",
    "Similarly, if opls_135 evaluates to `True`, it `overrides=\"opls_136\"`, because opls_135 is more specific, thus taking precedence. \n",
    "\n",
    "### More specific SMARTS definitions\n",
    "\n",
    "\n",
    "#### Recursive definitions \n",
    "`overrides` are especially useful if the chemical context of two different atom-types are effectively the same.  E.g., the terminal methyl group in an alkane has the same first neighbor environment as the methyl group in toluene, however the parameters (and thus atom-type) are different. \n",
    "\n",
    "Thus `overrides` can be used to state that if the more specific toluene rule evaluates to `True` it should take precedences over the more general alkane rule. Also note that in the SMARTS for toluene, we use a recursive definition.  That is, we use an atom-type name in addition to the element, i.e., `[C;X4](C;%opls_145)(H)(H)H`.  This states that the carbon we are connected to must be opls_145 to evaluate to true.  We can use these recursive definitions because atom-typing is performed as an iterative process in Foyer. Obviously, if we use recursive definitions for all of our SMARTS, we will not be able to atom-type.  \n",
    "\n",
    "<img src=\"../../graphics/ch3-toluene.png\" alt=\"Drawing\" style=\"width: 700px;\"/>\n",
    "\n",
    "#### Longer range patterns\n",
    "In many cases, recursive definitions can be avoided by providing more specific SMARTS strings.  For example, we could instead take note of the fact that opls_145 only has 3 connections:\n",
    "\n",
    "`[C;X4](C;X3)(H)(H)H`\n",
    "\n",
    "We could also state the identify of those connections if necessary (or even define then entire opls_145 SMARTS pattern, `[C;X3;r6]1[C;X3;r6][C;X3;r6][C;X3;r6][C;X3;r6][C;X3;r6]1`), although the larger definitions may begine to be less clear. \n",
    "\n",
    "Often times more specific definitions can remove the need to define `overrides`.  For example, the rules for `opls_135`, `opls_136`, and `opls_138` above can be made more specific by stating the identify of the other neighbors and thus eliminate the need for `overrides`, as shown below.  It is important to note that some force fields are designed such to have \"generic\" parameters that we would default to if more specific cases are not available. \n",
    "\n",
    "```\n",
    "<AtomTypes>\n",
    "        <Type name=\"opls_135\" def=\"[C;X4](H)(H)(H)C\"\n",
    "              class=\"CT\" element=\"C\" mass=\"12.01100\" desc=\"alkane CH3\"\n",
    "              doi=\"10.1021/ja9621760\"/>\n",
    "\n",
    "        <Type name=\"opls_136\" def=\"[C;X4](H)(H)(C)C\"\n",
    "              class=\"CT\" element=\"C\" mass=\"12.01100\" desc=\"alkane CH2\"\n",
    "              doi=\"10.1021/ja9621760\"/>\n",
    "\n",
    "        <Type name=\"opls_138\" def=\"[C;X4](H)(H)(H)H\"\n",
    "              class=\"CT\" element=\"C\" mass=\"12.01100\" desc=\"alkane CH4\"\n",
    "              doi=\"10.1021/ja9621760\"/>\n",
    "\n",
    "        <Type name=\"opls_140\" def=\"H[C;X4]\"\n",
    "              class=\"HC\" element=\"H\" mass=\"1.00800\" desc=\"alkane H\"\n",
    "              doi=\"10.1021/ja9621760\"/>\n",
    "    </AtomTypes>\n",
    "\n",
    "```\n",
    "\n",
    "\n"
   ]
  },
  {
   "cell_type": "markdown",
   "metadata": {},
   "source": [
    "### Applying a force field to atomtype a system\n",
    "With a force field file defined, we will apply it to an alkane system.  Here, we will use the routines from mBuild  to construct a propane molecule, then perform atom-typing as part of saving our configuration to a lammps data file. "
   ]
  },
  {
   "cell_type": "code",
   "execution_count": 5,
   "metadata": {},
   "outputs": [
    {
     "name": "stderr",
     "output_type": "stream",
     "text": [
      "Warning: importing 'simtk.openmm' is deprecated.  Import 'openmm' instead.\n"
     ]
    },
    {
     "data": {
      "application/3dmoljs_load.v0": "<div id=\"3dmolviewer_16578256874748852\"  style=\"position: relative; width: 640px; height: 480px\">\n        <p id=\"3dmolwarning_16578256874748852\" style=\"background-color:#ffcccc;color:black\">You appear to be running in JupyterLab (or JavaScript failed to load for some other reason).  You need to install the 3dmol extension: <br>\n        <tt>jupyter labextension install jupyterlab_3dmol</tt></p>\n        </div>\n<script>\n\nvar loadScriptAsync = function(uri){\n  return new Promise((resolve, reject) => {\n    var tag = document.createElement('script');\n    tag.src = uri;\n    tag.async = true;\n    tag.onload = () => {\n      resolve();\n    };\n  var firstScriptTag = document.getElementsByTagName('script')[0];\n  firstScriptTag.parentNode.insertBefore(tag, firstScriptTag);\n});\n};\n\nif(typeof $3Dmolpromise === 'undefined') {\n$3Dmolpromise = null;\n  $3Dmolpromise = loadScriptAsync('https://3dmol.org/build/3Dmol.js');\n}\n\nvar viewer_16578256874748852 = null;\nvar warn = document.getElementById(\"3dmolwarning_16578256874748852\");\nif(warn) {\n    warn.parentNode.removeChild(warn);\n}\n$3Dmolpromise.then(function() {\nviewer_16578256874748852 = $3Dmol.createViewer($(\"#3dmolviewer_16578256874748852\"),{backgroundColor:\"white\"});\nviewer_16578256874748852.zoomTo();\n\tviewer_16578256874748852.addModel(\"@<TRIPOS>MOLECULE\\nRES\\n11 10 1 0 1\\nSMALL\\nNO_CHARGES\\n@<TRIPOS>CRYSIN\\n    9.2603     7.7350     7.7201    90.0000    90.0000    90.0000  1  1\\n@<TRIPOS>ATOM\\n       1 C            1.2628    -0.1990     0.0962 C             1 RES     \\n       2 C           -0.0487     0.5629     0.2610 C             1 RES     \\n       3 C           -1.2255    -0.2323    -0.2962 C             1 RES     \\n       4 H            1.2186    -1.1657     0.6417 H             1 RES     \\n       5 H            1.4638    -0.3929    -0.9791 H             1 RES     \\n       6 H            2.0976     0.4048     0.5103 H             1 RES     \\n       7 H           -0.2215     0.7663     1.3398 H             1 RES     \\n       8 H            0.0224     1.5352    -0.2726 H             1 RES     \\n       9 H           -1.0808    -0.4270    -1.3803 H             1 RES     \\n      10 H           -1.3260    -1.1998     0.2405 H             1 RES     \\n      11 H           -2.1627     0.3476    -0.1614 H             1 RES     \\n@<TRIPOS>BOND\\n       1        2        1 1\\n       2        4        1 1\\n       3        5        1 1\\n       4        6        1 1\\n       5        3        2 1\\n       6        7        2 1\\n       7        8        2 1\\n       8        9        3 1\\n       9       10        3 1\\n      10       11        3 1\\n@<TRIPOS>SUBSTRUCTURE\\n       1 RES             1 RESIDUE    0 **** ROOT      0\\n\",\"mol2\");\n\tviewer_16578256874748852.setStyle({\"stick\": {\"radius\": 0.2, \"color\": \"grey\"}, \"sphere\": {\"scale\": 0.3, \"colorscheme\": {}}});\n\tviewer_16578256874748852.zoomTo();\nviewer_16578256874748852.render();\n});\n</script>",
      "text/html": [
       "<div id=\"3dmolviewer_16578256874748852\"  style=\"position: relative; width: 640px; height: 480px\">\n",
       "        <p id=\"3dmolwarning_16578256874748852\" style=\"background-color:#ffcccc;color:black\">You appear to be running in JupyterLab (or JavaScript failed to load for some other reason).  You need to install the 3dmol extension: <br>\n",
       "        <tt>jupyter labextension install jupyterlab_3dmol</tt></p>\n",
       "        </div>\n",
       "<script>\n",
       "\n",
       "var loadScriptAsync = function(uri){\n",
       "  return new Promise((resolve, reject) => {\n",
       "    var tag = document.createElement('script');\n",
       "    tag.src = uri;\n",
       "    tag.async = true;\n",
       "    tag.onload = () => {\n",
       "      resolve();\n",
       "    };\n",
       "  var firstScriptTag = document.getElementsByTagName('script')[0];\n",
       "  firstScriptTag.parentNode.insertBefore(tag, firstScriptTag);\n",
       "});\n",
       "};\n",
       "\n",
       "if(typeof $3Dmolpromise === 'undefined') {\n",
       "$3Dmolpromise = null;\n",
       "  $3Dmolpromise = loadScriptAsync('https://3dmol.org/build/3Dmol.js');\n",
       "}\n",
       "\n",
       "var viewer_16578256874748852 = null;\n",
       "var warn = document.getElementById(\"3dmolwarning_16578256874748852\");\n",
       "if(warn) {\n",
       "    warn.parentNode.removeChild(warn);\n",
       "}\n",
       "$3Dmolpromise.then(function() {\n",
       "viewer_16578256874748852 = $3Dmol.createViewer($(\"#3dmolviewer_16578256874748852\"),{backgroundColor:\"white\"});\n",
       "viewer_16578256874748852.zoomTo();\n",
       "\tviewer_16578256874748852.addModel(\"@<TRIPOS>MOLECULE\\nRES\\n11 10 1 0 1\\nSMALL\\nNO_CHARGES\\n@<TRIPOS>CRYSIN\\n    9.2603     7.7350     7.7201    90.0000    90.0000    90.0000  1  1\\n@<TRIPOS>ATOM\\n       1 C            1.2628    -0.1990     0.0962 C             1 RES     \\n       2 C           -0.0487     0.5629     0.2610 C             1 RES     \\n       3 C           -1.2255    -0.2323    -0.2962 C             1 RES     \\n       4 H            1.2186    -1.1657     0.6417 H             1 RES     \\n       5 H            1.4638    -0.3929    -0.9791 H             1 RES     \\n       6 H            2.0976     0.4048     0.5103 H             1 RES     \\n       7 H           -0.2215     0.7663     1.3398 H             1 RES     \\n       8 H            0.0224     1.5352    -0.2726 H             1 RES     \\n       9 H           -1.0808    -0.4270    -1.3803 H             1 RES     \\n      10 H           -1.3260    -1.1998     0.2405 H             1 RES     \\n      11 H           -2.1627     0.3476    -0.1614 H             1 RES     \\n@<TRIPOS>BOND\\n       1        2        1 1\\n       2        4        1 1\\n       3        5        1 1\\n       4        6        1 1\\n       5        3        2 1\\n       6        7        2 1\\n       7        8        2 1\\n       8        9        3 1\\n       9       10        3 1\\n      10       11        3 1\\n@<TRIPOS>SUBSTRUCTURE\\n       1 RES             1 RESIDUE    0 **** ROOT      0\\n\",\"mol2\");\n",
       "\tviewer_16578256874748852.setStyle({\"stick\": {\"radius\": 0.2, \"color\": \"grey\"}, \"sphere\": {\"scale\": 0.3, \"colorscheme\": {}}});\n",
       "\tviewer_16578256874748852.zoomTo();\n",
       "viewer_16578256874748852.render();\n",
       "});\n",
       "</script>"
      ]
     },
     "metadata": {},
     "output_type": "display_data"
    },
    {
     "data": {
      "text/plain": [
       "<py3Dmol.view at 0x13f28ac10>"
      ]
     },
     "execution_count": 5,
     "metadata": {},
     "output_type": "execute_result"
    }
   ],
   "source": [
    "import foyer \n",
    "from foyer import Forcefield\n",
    "\n",
    "import mbuild as mb\n",
    "\n",
    "compound = mb.load(\"CCC\", smiles=True)\n",
    "compound.visualize()"
   ]
  },
  {
   "cell_type": "code",
   "execution_count": 6,
   "metadata": {},
   "outputs": [
    {
     "name": "stdout",
     "output_type": "stream",
     "text": [
      "No urey bradley terms detected, will use angle_style harmonic\n",
      "RB Torsions detected, will use dihedral_style opls\n"
     ]
    },
    {
     "name": "stderr",
     "output_type": "stream",
     "text": [
      "/Users/cri/miniforge3/envs/mosdef-workshop/lib/python3.9/site-packages/foyer/forcefield.py:629: UserWarning: No force field version number found in force field XML file.\n",
      "  warnings.warn(\n",
      "/Users/cri/miniforge3/envs/mosdef-workshop/lib/python3.9/site-packages/foyer/forcefield.py:641: UserWarning: No force field name found in force field XML file.\n",
      "  warnings.warn(\n",
      "/Users/cri/miniforge3/envs/mosdef-workshop/lib/python3.9/site-packages/foyer/forcefield.py:653: UserWarning: No combining rule found in force field XML file.\n",
      "  warnings.warn(\n",
      "/Users/cri/miniforge3/envs/mosdef-workshop/lib/python3.9/site-packages/foyer/forcefield.py:349: UserWarning: Parameters have not been assigned to all impropers. Total system impropers: 12, Parameterized impropers: 0. Note that if your system contains torsions of Ryckaert-Bellemans functional form, all of these torsions are processed as propers\n",
      "  warnings.warn(msg)\n",
      "/Users/cri/miniforge3/envs/mosdef-workshop/lib/python3.9/site-packages/mbuild/formats/lammpsdata.py:204: UserWarning: Explicit box bounds (i.e., mins and maxs) were not provided. Box bounds are assumed to be min = 0 and max = length in each direction. This may not produce a system with the expected spatial location and may cause non-periodic systems to fail. Bounds can be defined explicitly by passing the them to the write_lammpsdata function or by passing box info to the save function.\n",
      "  warn(\n"
     ]
    }
   ],
   "source": [
    "compound.save('test.lammps', forcefield_files=\"oplsaa_alkanes.xml\", overwrite=True)"
   ]
  },
  {
   "cell_type": "code",
   "execution_count": 7,
   "metadata": {},
   "outputs": [
    {
     "name": "stdout",
     "output_type": "stream",
     "text": [
      "test.lammps - created by mBuild; units = real\r\n",
      "\r\n",
      "11 atoms\r\n",
      "10 bonds\r\n",
      "18 angles\r\n",
      "18 dihedrals\r\n",
      "0 impropers\r\n",
      "\r\n",
      "3 atom types\r\n",
      "3 bond types\r\n",
      "5 angle types\r\n",
      "3 dihedral types\r\n",
      "\r\n",
      "0.000000 9.260330 xlo xhi\r\n",
      "0.000000 7.734980 ylo yhi\r\n",
      "0.000000 7.720130 zlo zhi\r\n",
      "\r\n",
      "Masses\r\n",
      "\r\n",
      "1\t12.010780\t# opls_135\r\n",
      "2\t12.010780\t# opls_136\r\n",
      "3\t1.007947\t# opls_140\r\n",
      "\r\n",
      "Pair Coeffs # lj\r\n",
      "#\tepsilon (kcal/mol)\t\tsigma (Angstrom)\r\n",
      "1\t0.06600\t\t3.50000\t\t# opls_135\r\n",
      "2\t0.06600\t\t3.50000\t\t# opls_136\r\n",
      "3\t0.03000\t\t2.50000\t\t# opls_140\r\n",
      "\r\n",
      "Bond Coeffs # harmonic\r\n",
      "#\tk(kcal/mol/angstrom^2)\t\treq(angstrom)\r\n",
      "1\t268.0\t\t1.529\t\t# opls_135\topls_136\r\n",
      "2\t340.0\t\t1.09\t\t# opls_135\topls_140\r\n",
      "3\t340.0\t\t1.09\t\t# opls_136\topls_140\r\n",
      "\r\n",
      "Angle Coeffs # harmonic\r\n",
      "#\tk(kcal/mol/rad^2)\t\ttheteq(deg)\r\n",
      "1\t58.35\t\t112.70000\t# opls_135\topls_136\topls_135\r\n",
      "2\t37.5\t\t110.70000\t# opls_135\topls_136\topls_140\r\n",
      "3\t37.5\t\t110.70000\t# opls_136\topls_135\topls_140\r\n",
      "4\t33.0\t\t107.80000\t# opls_140\topls_135\topls_140\r\n",
      "5\t33.0\t\t107.80000\t# opls_140\topls_136\topls_140\r\n",
      "\r\n",
      "Dihedral Coeffs # opls\r\n",
      "#\tf1(kcal/mol)\tf2(kcal/mol)\tf3(kcal/mol)\tf4(kcal/mol)\r\n",
      "1\t-0.00000\t-0.00000\t\t0.30000\t\t-0.00000\t# opls_135\topls_136\topls_135\topls_140\r\n",
      "2\t-0.00000\t-0.00000\t\t0.30000\t\t-0.00000\t# opls_140\topls_135\topls_136\topls_140\r\n",
      "3\t-0.00000\t-0.00000\t\t0.30000\t\t-0.00000\t# opls_140\topls_136\topls_135\topls_140\r\n",
      "\r\n",
      "Atoms # full\r\n",
      "\r\n",
      "1\t1\t1\t-0.180000\t1.262796\t-0.198965\t0.096165\r\n",
      "2\t1\t2\t-0.120000\t-0.048699\t0.562855\t0.261013\r\n",
      "3\t1\t1\t-0.180000\t-1.225480\t-0.232321\t-0.296165\r\n",
      "4\t1\t3\t0.060000\t1.218641\t-1.165710\t0.641693\r\n",
      "5\t1\t3\t0.060000\t1.463824\t-0.392910\t-0.979065\r\n",
      "6\t1\t3\t0.060000\t2.097616\t0.404760\t0.510318\r\n",
      "7\t1\t3\t0.060000\t-0.221528\t0.766329\t1.339840\r\n",
      "8\t1\t3\t0.060000\t0.022399\t1.535157\t-0.272572\r\n",
      "9\t1\t3\t0.060000\t-1.080834\t-0.427019\t-1.380285\r\n",
      "10\t1\t3\t0.060000\t-1.326021\t-1.199824\t0.240469\r\n",
      "11\t1\t3\t0.060000\t-2.162715\t0.347649\t-0.161411\r\n",
      "\r\n",
      "Bonds\r\n",
      "\r\n",
      "1\t1\t2\t1\r\n",
      "2\t1\t3\t2\r\n",
      "3\t2\t4\t1\r\n",
      "4\t2\t5\t1\r\n",
      "5\t2\t6\t1\r\n",
      "6\t3\t7\t2\r\n",
      "7\t3\t8\t2\r\n",
      "8\t2\t9\t3\r\n",
      "9\t2\t10\t3\r\n",
      "10\t2\t11\t3\r\n",
      "\r\n",
      "Angles\r\n",
      "\r\n",
      "1\t1\t1\t2\t3\r\n",
      "2\t2\t1\t2\t7\r\n",
      "3\t2\t1\t2\t8\r\n",
      "4\t3\t2\t1\t4\r\n",
      "5\t3\t2\t1\t5\r\n",
      "6\t3\t2\t1\t6\r\n",
      "7\t3\t2\t3\t9\r\n",
      "8\t3\t2\t3\t10\r\n",
      "9\t3\t2\t3\t11\r\n",
      "10\t2\t3\t2\t7\r\n",
      "11\t2\t3\t2\t8\r\n",
      "12\t4\t4\t1\t5\r\n",
      "13\t4\t4\t1\t6\r\n",
      "14\t4\t5\t1\t6\r\n",
      "15\t5\t7\t2\t8\r\n",
      "16\t4\t9\t3\t10\r\n",
      "17\t4\t9\t3\t11\r\n",
      "18\t4\t10\t3\t11\r\n",
      "\r\n",
      "Dihedrals\r\n",
      "\r\n",
      "1\t1\t1\t2\t3\t9\r\n",
      "2\t1\t1\t2\t3\t10\r\n",
      "3\t1\t1\t2\t3\t11\r\n",
      "4\t1\t3\t2\t1\t4\r\n",
      "5\t1\t3\t2\t1\t5\r\n",
      "6\t1\t3\t2\t1\t6\r\n",
      "7\t2\t4\t1\t2\t7\r\n",
      "8\t2\t4\t1\t2\t8\r\n",
      "9\t2\t5\t1\t2\t7\r\n",
      "10\t2\t5\t1\t2\t8\r\n",
      "11\t2\t6\t1\t2\t7\r\n",
      "12\t2\t6\t1\t2\t8\r\n",
      "13\t3\t7\t2\t3\t9\r\n",
      "14\t3\t7\t2\t3\t10\r\n",
      "15\t3\t7\t2\t3\t11\r\n",
      "16\t3\t8\t2\t3\t9\r\n",
      "17\t3\t8\t2\t3\t10\r\n",
      "18\t3\t8\t2\t3\t11\r\n"
     ]
    }
   ],
   "source": [
    "!cat test.lammps "
   ]
  },
  {
   "cell_type": "markdown",
   "metadata": {},
   "source": [
    "## SMARTS for Non-Atomistic Systems\n"
   ]
  },
  {
   "cell_type": "markdown",
   "metadata": {},
   "source": [
    "Thus far, all of our tutorials for mBuild and Foyer have focused on fully atomistic systems, however, MoSDeF is not limited to such systems. \n",
    "\n",
    "First, we will demonstrate how to construct a generic coarse-grained polymer system using mBuild, then demonstrate how to define an associated forcefield file.\n",
    "\n",
    "As done previous in the mBuild tutorials, we will create `Compounds` to describe repeat units in our polymer. Here we will create two `Compounds`, one to describe the central beads (`_A`) and one for the terminal groups (`_B`).\n",
    "\n",
    "Note, to properly handle non-atomistic types, Foyer expects names to be prefaced by an underscore (e.g., `_A`,`_B`, `_CH2`, etc. )."
   ]
  },
  {
   "cell_type": "code",
   "execution_count": 8,
   "metadata": {},
   "outputs": [
    {
     "data": {
      "application/vnd.jupyter.widget-view+json": {
       "model_id": "ac387317cb8444dea613ecc0caae1804",
       "version_major": 2,
       "version_minor": 0
      },
      "text/plain": []
     },
     "metadata": {},
     "output_type": "display_data"
    },
    {
     "name": "stderr",
     "output_type": "stream",
     "text": [
      "/Users/cri/miniforge3/envs/mosdef-workshop/lib/python3.9/site-packages/mbuild/conversion.py:1763: UserWarning: No element attribute associated with '<_A pos=([0. 0. 0.]), 2 bonds, id: 5358962720>'; and no matching elements found based upon the compound name. Setting atomic number to zero.\n",
      "  warn(warn_msg)\n",
      "/Users/cri/miniforge3/envs/mosdef-workshop/lib/python3.9/site-packages/mbuild/conversion.py:1763: UserWarning: No element attribute associated with '<_B pos=([-2.6196e-18 -4.9869e-18  1.0000e-01]), 1 bonds, id: 5358913136>'; and no matching elements found based upon the compound name. Setting atomic number to zero.\n",
      "  warn(warn_msg)\n"
     ]
    },
    {
     "data": {
      "application/vnd.jupyter.widget-view+json": {
       "model_id": "b64368443ce84b7e8ce0f186eed7b5a9",
       "version_major": 2,
       "version_minor": 0
      },
      "text/plain": [
       "NGLWidget()"
      ]
     },
     "metadata": {},
     "output_type": "display_data"
    }
   ],
   "source": [
    "class CentralBead(mb.Compound):\n",
    "    def __init__(self):\n",
    "        super(CentralBead, self).__init__()\n",
    "        \n",
    "        bead = mb.Particle(pos=[0.0, 0.0, 0.0], name='_A')\n",
    "        self.add(bead)\n",
    "        up_port = mb.Port(anchor=bead, orientation=[0, 0, 1], separation=0.05)\n",
    "        down_port = mb.Port(anchor=bead, orientation=[0, 0, -1], separation=0.05)\n",
    "        self.add(up_port, label='up')\n",
    "        self.add(down_port, label='down')\n",
    "        \n",
    "class TerminalBead(mb.Compound):\n",
    "    def __init__(self):\n",
    "        super(TerminalBead, self).__init__()\n",
    "        \n",
    "        bead = mb.Particle(pos=[0.0, 0.0, 0.0], name='_B')\n",
    "        self.add(bead)\n",
    "\n",
    "        cap_port = mb.Port(anchor=bead, orientation=[0, 0, 1], separation=0.05)\n",
    "        self.add(cap_port, label='cap')\n",
    "\n",
    "class CGPolymer(mb.Compound):\n",
    "    def __init__(self, chain_length):\n",
    "        super(CGPolymer, self).__init__()\n",
    "        \n",
    "        terminal_bead = TerminalBead()\n",
    "        last_unit = CentralBead()\n",
    "        mb.force_overlap(move_this=terminal_bead,\n",
    "                         from_positions=terminal_bead['cap'],\n",
    "                         to_positions=last_unit['up'])\n",
    "        self.add(last_unit, label='_A[$]')\n",
    "        self.add(terminal_bead, label='up-cap')   \n",
    "        for _ in range(chain_length - 3):\n",
    "            current_unit = CentralBead()\n",
    "            mb.force_overlap(move_this=current_unit,\n",
    "                             from_positions=current_unit['up'],\n",
    "                             to_positions=last_unit['down'])\n",
    "            self.add(current_unit, label='_A[$]')\n",
    "            last_unit=current_unit\n",
    "        terminal_bead = TerminalBead()\n",
    "        mb.force_overlap(move_this=terminal_bead,\n",
    "                         from_positions=terminal_bead['cap'],\n",
    "                         to_positions=last_unit['down'])\n",
    "        self.add(terminal_bead, label='down-cap')\n",
    "        if chain_length < 3:\n",
    "            print(\"Note, the shortest chain this function will make is 3\")\n",
    "cg_polymer = CGPolymer(chain_length=6)\n",
    "cg_polymer.visualize(backend=\"nglview\")\n"
   ]
  },
  {
   "cell_type": "markdown",
   "metadata": {},
   "source": [
    "With a simple mBuild code to create CG polymers, let us examine how to define a forcefield file.\n",
    "\n",
    "In this forcefield, we will assume all particles have the same bonds, angles, and Lennard-Jones sigma, regardless of type, however, we will modify Lennard-Jones epsilon based on chemical context. \n",
    "\n",
    "Here we will define the forcefield such that:\n",
    "- when bead `_A` has 2 bonded neighbors of type `_A`, epsilon = 1.0 \n",
    " - atom-type: `cg_A_AA`\n",
    " - SMARTS definition: `[_A;X2](_A)(_A)`\n",
    "- when bead `_A` has 1 bonded neighbor of type `_A` and one of type `_B`, epsilon = 1.25 \n",
    " - atom-type `cg_A_AB`\n",
    " - SMARTS definition: `[_A;X2](_A)(_B)`\n",
    "- when bead `_A` has 2 bonded neighbors of type `_B`  epsilon = 1.5\n",
    " - atom-type `cg_A_BB`\n",
    " - SMARTS definition: `[_A;X2](_B)(_B)`\n",
    "- when bead `_B` has any neighbor, epsilon = 2.0 regardless of who it is bonded \n",
    " - `atom-type cg_B`\n",
    " - SMARTS definition: `[_B;X1]`\n",
    "\n",
    "The xml forcefield file is shown below:"
   ]
  },
  {
   "cell_type": "code",
   "execution_count": 9,
   "metadata": {},
   "outputs": [
    {
     "name": "stdout",
     "output_type": "stream",
     "text": [
      "<ForceField>\r\n",
      "    <AtomTypes>\r\n",
      "        <Type name=\"cg_A_AA\" def=\"[_A;X2](_A)(_A)\"\r\n",
      "              class=\"CT\" element=\"_A\" mass=\"1.0\"\r\n",
      "              desc=\"generic CG central bead, with two _A neighbors\"/>\r\n",
      "        <Type name=\"cg_A_AB\" def=\"[_A;X2](_A)(_B)\"\r\n",
      "              class=\"CT\" element=\"_A\" mass=\"1.0\"\r\n",
      "              desc=\"generic CG central bead with dissimilar neighbors\"/>\r\n",
      "        <Type name=\"cg_A_BB\" def=\"[_A;X2](_B)(_B)\"\r\n",
      "              class=\"CT\" element=\"_A\" mass=\"1.0\"\r\n",
      "              desc=\"generic CG central bead with two _B neighbors\"/>\r\n",
      "        <Type name=\"cg_B\" def=\"[_B;X1]\"\r\n",
      "              class=\"CT\" element=\"_B\" mass=\"1.0\"\r\n",
      "              desc=\"generic CG terminal bead\"/>\r\n",
      "    </AtomTypes>\r\n",
      "    <HarmonicBondForce>\r\n",
      "        <Bond class1=\"CT\" class2=\"CT\" length=\"0.1\" k=\"20000\"/>\r\n",
      "    </HarmonicBondForce>\r\n",
      "    <HarmonicAngleForce>\r\n",
      "        <Angle class1=\"CT\" class2=\"CT\" class3=\"CT\" angle=\"3.0\" k=\"500\"/>\r\n",
      "    </HarmonicAngleForce>\r\n",
      "    <RBTorsionForce>\r\n",
      "    </RBTorsionForce>\r\n",
      "    <NonbondedForce coulomb14scale=\"0.5\" lj14scale=\"0.5\">\r\n",
      "        <Atom type=\"cg_A_AA\" charge=\"0\" sigma=\"0.1\" epsilon=\"1.0\"/>\r\n",
      "        <Atom type=\"cg_A_AB\" charge=\"0\" sigma=\"0.1\" epsilon=\"1.25\"/>\r\n",
      "        <Atom type=\"cg_A_BB\" charge=\"0\" sigma=\"0.1\" epsilon=\"1.5\"/>\r\n",
      "        <Atom type=\"cg_B\"   charge=\"0\" sigma=\"0.1\" epsilon=\"2.0\"/>\r\n",
      "    </NonbondedForce>\r\n",
      "</ForceField>\r\n"
     ]
    }
   ],
   "source": [
    "cat CG_polymer.xml\n"
   ]
  },
  {
   "cell_type": "markdown",
   "metadata": {},
   "source": [
    "Let us now atomtype the system and save to a the old, hoomd xml file format."
   ]
  },
  {
   "cell_type": "code",
   "execution_count": 19,
   "metadata": {},
   "outputs": [
    {
     "name": "stderr",
     "output_type": "stream",
     "text": [
      "/Users/cri/miniforge3/envs/mosdef-workshop/lib/python3.9/site-packages/mbuild/utils/decorators.py:118: Warning: write_hoomdxml has breaking change. See PR#463 on github\n",
      "  warn(\n"
     ]
    }
   ],
   "source": [
    "cg_polymer.save(\"cg.hoomdxml\", forcefield_files=\"CG_polymer.xml\", overwrite=True, \n",
    "                foyer_kwargs={\"assert_dihedral_params\":False})"
   ]
  },
  {
   "cell_type": "code",
   "execution_count": 21,
   "metadata": {},
   "outputs": [
    {
     "name": "stdout",
     "output_type": "stream",
     "text": [
      "<?xml version=\"1.2\" encoding=\"UTF-8\"?>\r\n",
      "<hoomd_xml version=\"1.2\">\r\n",
      "<!-- ref_distance (nm) ref_mass (amu) ref_energy (kJ/mol) -->\r\n",
      "<!-- 1.0 1.0 1.0 -->\r\n",
      "<configuration time_step=\"0\">\r\n",
      "<box units=\"sigma\"  Lx=\"1.5\" Ly=\"1.5\" Lz=\"1.0\"/>\r\n",
      "<position units=\"sigma\" num=\"6\">\r\n",
      "0.0\t0.0\t0.0\r\n",
      "-2.61957668597589e-18\t-4.986913928193448e-18\t0.1\r\n",
      "-6.718082279405179e-18\t1.5445517708700015e-17\t-0.10000000000000002\r\n",
      "-2.7152073600496422e-17\t8.4217207515126e-17\t-0.2\r\n",
      "-4.328478478571051e-17\t2.1361900370184195e-16\t-0.29999999999999993\r\n",
      "-4.641700695991625e-17\t4.0658951422713547e-16\t-0.39999999999999997\r\n",
      "</position>\r\n",
      "<type>\r\n",
      "cg_A_AB\r\n",
      "cg_B\r\n",
      "cg_A_AA\r\n",
      "cg_A_AA\r\n",
      "cg_A_AB\r\n",
      "cg_B\r\n",
      "</type>\r\n",
      "<mass>\r\n",
      "1.0\r\n",
      "1.0\r\n",
      "1.0\r\n",
      "1.0\r\n",
      "1.0\r\n",
      "1.0\r\n",
      "</mass>\r\n",
      "<charge>\r\n",
      "0.0\r\n",
      "0.0\r\n",
      "0.0\r\n",
      "0.0\r\n",
      "0.0\r\n",
      "0.0\r\n",
      "</charge>\r\n",
      "<pair_coeffs>\r\n",
      "cg_A_AA\t1.0000\t0.1000\r\n",
      "cg_A_AB\t1.2500\t0.1000\r\n",
      "cg_B\t2.0000\t0.1000\r\n",
      "</pair_coeffs>\r\n",
      "<bond>\r\n",
      "cg_A_AB-cg_B 1 0\r\n",
      "cg_A_AA-cg_A_AB 2 0\r\n",
      "cg_A_AA-cg_A_AA 3 2\r\n",
      "cg_A_AA-cg_A_AB 4 3\r\n",
      "cg_A_AB-cg_B 5 4\r\n",
      "</bond>\r\n",
      "<bond_coeffs>\r\n",
      "<!-- type k r_eq -->\r\n",
      "cg_A_AA-cg_A_AB 20000.000000000004 0.1\r\n",
      "cg_A_AA-cg_A_AA 20000.000000000004 0.1\r\n",
      "cg_A_AB-cg_B 20000.000000000004 0.1\r\n",
      "</bond_coeffs>\r\n",
      "<angle>\r\n",
      "cg_A_AA-cg_A_AA-cg_A_AB 0 2 3\r\n",
      "cg_A_AA-cg_A_AB-cg_B 1 0 2\r\n",
      "cg_A_AA-cg_A_AA-cg_A_AB 2 3 4\r\n",
      "cg_A_AA-cg_A_AB-cg_B 3 4 5\r\n",
      "</angle>\r\n",
      "<angle_coeffs>\r\n",
      "<!-- type k theta_eq -->\r\n",
      "cg_A_AA-cg_A_AB-cg_B 500.0 3.0\r\n",
      "cg_A_AA-cg_A_AA-cg_A_AB 500.0 3.0\r\n",
      "</angle_coeffs>\r\n",
      "<dihedral>\r\n",
      "</dihedral>\r\n",
      "<dihedral_coeffs>\r\n",
      "<!-- type k1 k2 k3 k4 -->\r\n",
      "</dihedral_coeffs>\r\n",
      "</configuration>\r\n",
      "</hoomd_xml>"
     ]
    }
   ],
   "source": [
    "!cat cg.hoomdxml"
   ]
  },
  {
   "cell_type": "markdown",
   "metadata": {},
   "source": [
    "### Foyer + mBuild\n",
    "\n",
    "As we saw in the mBuild tutorial, Foyer has been designed to integrate seamlessly with mBuild, although it can also be used as a standalone package. To call Foyer from mBuild all a user needs to do is specify the forcefield XML file to use by passing either the `forcefield_name` or `forcefield_files` flag to `Compound.save()`. Internally this will perform parameterization of the mBuild `Compound` using Foyer.\n",
    "\n",
    "Additionally, the `references_file` flag can be used to output a file (in BibTeX format) containing the references for the parameters used for parameterization of this `Compound`.\n",
    "\n",
    "Here, we explore this functionality by loading a simple methane molecule into an mBuild `Compound` and save using the forcefield we've just defined."
   ]
  },
  {
   "cell_type": "code",
   "execution_count": null,
   "metadata": {},
   "outputs": [],
   "source": [
    "import mbuild as mb\n",
    "\n",
    "ch4 = mb.load(\"C\", smiles=True)\n",
    "ch4.save(\"CH4.top\",\n",
    "         forcefield_files='oplsaa_alkanes.xml',\n",
    "         foyer_kwargs={\"references_file\":\"ch4.bib\"},\n",
    "         overwrite=True)\n"
   ]
  },
  {
   "cell_type": "code",
   "execution_count": null,
   "metadata": {},
   "outputs": [],
   "source": [
    "! cat ch4.bib"
   ]
  },
  {
   "cell_type": "code",
   "execution_count": null,
   "metadata": {},
   "outputs": [],
   "source": [
    "help(mb.Compound.save)"
   ]
  },
  {
   "cell_type": "code",
   "execution_count": null,
   "metadata": {},
   "outputs": [],
   "source": []
  },
  {
   "cell_type": "markdown",
   "metadata": {},
   "source": [
    "## Quick-start\n",
    "\n",
    "If you are interested in defining your existing forcefield(s) in the Foyer XML format, we currently have a forcefield template hosted on Github to help you get started - https://github.com/mosdef-hub/forcefield_template, that includes some basic scripts for validation and error checking. We also refer interested users to the [OpenMM documentation](http://docs.openmm.org/7.0.0/userguide/application.html#creating-force-fields) for detailed instructions on forcefield creation."
   ]
  },
  {
   "cell_type": "code",
   "execution_count": null,
   "metadata": {},
   "outputs": [],
   "source": []
  }
 ],
 "metadata": {
  "kernelspec": {
   "display_name": "Python 3 (ipykernel)",
   "language": "python",
   "name": "python3"
  },
  "language_info": {
   "codemirror_mode": {
    "name": "ipython",
    "version": 3
   },
   "file_extension": ".py",
   "mimetype": "text/x-python",
   "name": "python",
   "nbconvert_exporter": "python",
   "pygments_lexer": "ipython3",
   "version": "3.9.13"
  }
 },
 "nbformat": 4,
 "nbformat_minor": 2
}
