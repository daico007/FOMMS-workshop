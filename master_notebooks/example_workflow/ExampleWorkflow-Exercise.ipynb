{
 "cells": [
  {
   "cell_type": "code",
   "execution_count": null,
   "id": "eca036fc",
   "metadata": {},
   "outputs": [],
   "source": [
    "import mbuild as mb\n",
    "from foyer import Forcefield\n",
    "from mbuild.lib.recipes.polymer import Polymer\n",
    "import unyt as u\n",
    "\n",
    "import mosdef_cassandra as mc"
   ]
  },
  {
   "cell_type": "markdown",
   "id": "a13ca68d",
   "metadata": {},
   "source": [
    "## Prepare recipes\n",
    "\n",
    "### Exercise 1"
   ]
  },
  {
   "cell_type": "code",
   "execution_count": null,
   "id": "eb8a8779",
   "metadata": {},
   "outputs": [],
   "source": [
    "class _CH2(mb.Compound):\n",
    "    def __init__(self):\n",
    "        super().__init__()\n",
    "        self.name = \"_CH2\"\n",
    "        # Create a partilce name _CH2\n",
    "        _ch2 = mb.Compound(name=\"_CH2\")\n",
    "        self.add(_ch2, \"_CH2\")\n",
    "        \n",
    "        # Create ports to be attached to the _CH2 particles\n",
    "        port_up = mb.Port(anchor=_ch2, orientation=[0, 0, 1], separation=0.07)\n",
    "        port_down = mb.Port(anchor=_ch2, orientation=[0, 0, -1], separation=0.07)\n",
    "        self.add(port_up, \"up\")\n",
    "        self.add(port_down, \"down\")\n",
    "        \n",
    "class _CH3(mb.Compound):\n",
    "    def __init__(self):\n",
    "        super().__init__()\n",
    "        self.name = \"_CH3\"\n",
    "        \n",
    "        # Create a particle name _CH3\n",
    "        _ch3 = mb.Compound(name=\"_CH3\")\n",
    "        self.add(_ch3, \"_CH3\")\n",
    "        \n",
    "        # Create a port to be attached to the _CH3 particle\n",
    "        port_up = mb.Port(anchor=_ch3, orientation=[0, 0, 1], separation=0.07)\n",
    "        self.add(port_up, \"up\")\n",
    "\n",
    "            "
   ]
  },
  {
   "cell_type": "markdown",
   "id": "072aace2",
   "metadata": {},
   "source": [
    "### Exercise 2 "
   ]
  },
  {
   "cell_type": "code",
   "execution_count": null,
   "id": "199105d1",
   "metadata": {},
   "outputs": [],
   "source": [
    "class CG_Alkane(mb.Compound):\n",
    "    def __init__(self, n):\n",
    "        super().__init__()\n",
    "        self.name = \"CG_Alkane\"\n",
    "    \n",
    "        if n == 1: \n",
    "            _ch4 = mb.Compound(name=\"_CH4\")\n",
    "            self.add(_ch4, \"_CH4\")\n",
    "        elif n == 2:\n",
    "            _ch3a = _CH3() \n",
    "            _ch3b = _CH3() \n",
    "            self.add(_ch3a, \"_CH3_a\")\n",
    "            self.add(_ch3b, \"_CH3_b\")\n",
    "            mb.force_overlap(move_this=_ch3a, \n",
    "                             from_positions=_ch3a[\"up\"], \n",
    "                             to_positions=_ch3b[\"up\"])\n",
    "        else:\n",
    "            _ch3top = _CH3()\n",
    "            self.add(_ch3top, \"link0\")\n",
    "            for i in range(n - 2):\n",
    "                _ch2 = _CH2()\n",
    "                mb.force_overlap(move_this=_ch2, \n",
    "                                 from_positions=_ch2[\"down\"],\n",
    "                                 to_positions=self[f\"link{i}\"][\"up\"])\n",
    "                self.add(_ch2, f\"link{i+1}\")\n",
    "                \n",
    "            _ch3bot = _CH3()\n",
    "            self.add(_ch3bot, f\"link{i+2}\")\n",
    "            mb.force_overlap(move_this=_ch3bot, \n",
    "                             from_positions=_ch3bot[\"up\"], \n",
    "                             to_positions=self[f\"link{i+1}\"][\"up\"])\n"
   ]
  },
  {
   "cell_type": "code",
   "execution_count": null,
   "id": "58ff4db4",
   "metadata": {},
   "outputs": [],
   "source": [
    "from mbuild.lib.recipes import Polymer\n",
    "\n",
    "cg_alkane = Polymer(monomers=[_CH2()], end_groups=[_CH3(), _CH3()])\n",
    "cg_alkane.build(n=5)"
   ]
  },
  {
   "cell_type": "markdown",
   "id": "fb221b54",
   "metadata": {},
   "source": [
    "### Exercise 3"
   ]
  },
  {
   "cell_type": "code",
   "execution_count": null,
   "id": "5ea0c08a",
   "metadata": {},
   "outputs": [],
   "source": [
    "n_pentane = CG_Alkane(5)\n",
    "pentane_box = mb.fill_box(compound=n_pentane, \n",
    "                          n_compounds=150, \n",
    "                          box=[3.2, 3.2, 3.2],\n",
    "                          seed=12345, \n",
    "                          edge=0.2)"
   ]
  },
  {
   "cell_type": "markdown",
   "id": "b032055b",
   "metadata": {},
   "source": [
    "### Exercise 4"
   ]
  },
  {
   "cell_type": "code",
   "execution_count": null,
   "id": "ffb99f1b",
   "metadata": {
    "scrolled": true
   },
   "outputs": [],
   "source": [
    "import foyer \n",
    "from foyer import Forcefield\n",
    "\n",
    "trappe = Forcefield(name=\"trappe-ua\")\n",
    "pentane_box.energy_minimize(forcefield=\"trappe-ua\", \n",
    "                            steps=10**6)\n",
    "\n",
    "pentane_box.visualize()\n"
   ]
  },
  {
   "cell_type": "markdown",
   "id": "b7a54b1d",
   "metadata": {},
   "source": [
    "### Exercise 5a - Simulation with MoSDeF Cassandra"
   ]
  },
  {
   "cell_type": "code",
   "execution_count": null,
   "id": "ce7d5d34",
   "metadata": {},
   "outputs": [],
   "source": [
    "# Load forcefields\n",
    "trappe = Forcefield(name=\"trappe-ua\")\n",
    "\n",
    "# Use foyer to apply forcefields\n",
    "typed_pentane = trappe.apply(n_pentane)\n",
    "species_list = [typed_pentane]\n",
    "\n",
    "# Create box and species list\n",
    "box_list = [pentane_box]\n",
    "mols_in_boxes = [[150]]\n",
    "\n",
    "system = mc.System(box_list, species_list, mols_in_boxes=mols_in_boxes)\n",
    "moveset = mc.MoveSet(\"npt\", species_list)\n",
    "\n",
    "moveset.prob_volume = 0.010\n",
    "\n",
    "thermo_props = [\n",
    "    \"energy_total\",\n",
    "    \"energy_intervdw\",\n",
    "    \"pressure\",\n",
    "    \"volume\",\n",
    "    \"nmols\",\n",
    "    \"mass_density\",\n",
    "]\n",
    "\n",
    "custom_args = {\n",
    "    \"run_name\": \"equil\",\n",
    "    \"charge_style\": \"none\",\n",
    "    \"rcut_min\": 2.0 * u.angstrom,\n",
    "    \"vdw_cutoff\": 14.0 * u.angstrom,\n",
    "    \"units\": \"sweeps\",\n",
    "    \"steps_per_sweep\": 450,\n",
    "    \"coord_freq\": 50,\n",
    "    \"prop_freq\": 10,\n",
    "    \"properties\": thermo_props,\n",
    "}\n",
    "\n",
    "\n",
    "mc.run(\n",
    "    system=system,\n",
    "    moveset=moveset,\n",
    "    run_type=\"equilibration\",\n",
    "    run_length=2400,\n",
    "    pressure=14.02 * u.bar,\n",
    "    temperature=372 * u.K,\n",
    "    **custom_args,\n",
    ")"
   ]
  },
  {
   "cell_type": "markdown",
   "id": "9f697f64",
   "metadata": {},
   "source": [
    "### Exercise 5b - Simulation with GROMACS"
   ]
  },
  {
   "cell_type": "code",
   "execution_count": null,
   "id": "d6f6ca03",
   "metadata": {},
   "outputs": [],
   "source": [
    "pentane_box.save(\"gmx_sim/init.gro\", overwrite=True)\n",
    "pentane_box.save(\"gmx_sim/init.top\", forcefield_name=\"trappe-ua\")"
   ]
  },
  {
   "cell_type": "code",
   "execution_count": null,
   "id": "027af175",
   "metadata": {},
   "outputs": [],
   "source": [
    "nvt_mdp = \"\"\"\n",
    "integrator          = md\n",
    "nsteps              = 100000\n",
    "dt                  = 0.001\n",
    "\n",
    "comm-mode           = Linear\n",
    "\n",
    "nstxout             = 10000\n",
    "nstvout             = 10000\n",
    "nstenergy           = 1000\n",
    "nstlog              = 1000\n",
    "\n",
    "cutoff-scheme       = Verlet\n",
    "ns_type             = grid\n",
    "nstlist             = 10\n",
    "pbc                 = xyz \n",
    "\n",
    "vdwtype         = Cut-off\n",
    "vdw-modifier    = None\n",
    "rvdw            = 1.4 \n",
    "\n",
    "coulombtype             = Cut-off\n",
    "coulomb-modifier        = None\n",
    "rcoulomb                = 1.4 \n",
    "\n",
    "tcoupl              = nose-hoover\n",
    "tc-grps             = System\n",
    "tau_t               = 1 \n",
    "ref_t               = 372.0\n",
    "\n",
    "pcoupl              = no\n",
    "\n",
    "DispCorr            = EnerPres\n",
    "\"\"\"\n",
    "with open(\"gmx_sim/nvt.mdp\", \"w\") as f:\n",
    "    f.write(nvt_mdp)"
   ]
  },
  {
   "cell_type": "code",
   "execution_count": null,
   "id": "ac113028",
   "metadata": {},
   "outputs": [],
   "source": [
    "%cd gmx_sim\n",
    "!gmx grompp -f nvt.mdp -o nvt.tpr -c init.gro -p init.top --maxwarn 1\n",
    "!gmx mdrun -v -deffnm nvt -s nvt.tpr -cpi nvt.cpt\n",
    "%cd .."
   ]
  },
  {
   "cell_type": "markdown",
   "id": "3af7290c",
   "metadata": {},
   "source": [
    "### Exercise 6"
   ]
  },
  {
   "cell_type": "code",
   "execution_count": null,
   "id": "2558de69",
   "metadata": {},
   "outputs": [],
   "source": [
    "import numpy as np\n",
    "import pylab as plt\n",
    "\n",
    "data = np.genfromtxt(\"equil.out.prp\", skip_header=3)\n",
    "\n",
    "plt.rcParams['font.family'] = \"DIN Alternate\"\n",
    "font = {'family' : 'DIN Alternate',\n",
    "        'weight' : 'normal',\n",
    "        'size'   : 12}\n",
    "\n",
    "fig, ax = plt.subplots(1, 1)\n",
    "\n",
    "ax.spines[\"bottom\"].set_linewidth(3)\n",
    "ax.spines[\"left\"].set_linewidth(3)\n",
    "ax.spines[\"right\"].set_linewidth(3)\n",
    "ax.spines[\"top\"].set_linewidth(3)\n",
    "\n",
    "ax.title.set_text('Control plot')\n",
    "ax.set_xlabel(r'MC sweeps')\n",
    "ax.set_ylabel('Density $(kg / m{^3})$')\n",
    "ax.yaxis.tick_left()\n",
    "ax.yaxis.set_label_position('left')\n",
    "ax.axhline(y=541, color='r', linestyle='-', label='~TraPPE-UA Density')\n",
    "\n",
    "ax.plot(data[:, 0], data[:,-1], \"-\", color='lightgray', label='Density')\n",
    "ax.legend(loc=\"best\")\n",
    "plt.show()"
   ]
  },
  {
   "cell_type": "code",
   "execution_count": null,
   "id": "44d3cbfd",
   "metadata": {},
   "outputs": [],
   "source": []
  }
 ],
 "metadata": {
  "kernelspec": {
   "display_name": "Python 3 (ipykernel)",
   "language": "python",
   "name": "python3"
  },
  "language_info": {
   "codemirror_mode": {
    "name": "ipython",
    "version": 3
   },
   "file_extension": ".py",
   "mimetype": "text/x-python",
   "name": "python",
   "nbconvert_exporter": "python",
   "pygments_lexer": "ipython3",
   "version": "3.9.9"
  }
 },
 "nbformat": 4,
 "nbformat_minor": 5
}
